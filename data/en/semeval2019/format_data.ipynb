{
 "cells": [
  {
   "cell_type": "code",
   "execution_count": 3,
   "metadata": {},
   "outputs": [
    {
     "name": "stdout",
     "output_type": "stream",
     "text": [
      "25817\n",
      "12605\n",
      "Size of dataset: 12906\n",
      "Percentage abusive: 0.42150937548427087\n",
      "Writing to file, semeval2019.csv\n"
     ]
    }
   ],
   "source": [
    "import pandas as pd\n",
    "!rm data.tsv\n",
    "!cat taskA/train_en.tsv >> data.tsv\n",
    "!cat taskA/dev_en.tsv >> data.tsv\n",
    "!cat taskA/test_en.tsv >> data.tsv\n",
    "!cat taskA/trial_en.tsv >> data.tsv\n",
    "!cat taskB/train_en.tsv >> data.tsv\n",
    "!cat taskB/dev_en.tsv >> data.tsv\n",
    "!cat taskB/test_en.tsv >> data.tsv\n",
    "!cat taskB/trial_en.tsv >> data.tsv\n",
    "df = pd.read_csv('data.tsv',delimiter='\\t')\n",
    "print(df.shape[0])\n",
    "print(df['text'].unique().shape[0])\n",
    "df.sort_values(\"text\", inplace = True) \n",
    "df.drop_duplicates(inplace = True) \n",
    "df.rename(columns={'id':'text_id','HS':'hate'},inplace=True)\n",
    "df.drop(['TR','AG'],axis=1,inplace=True)\n",
    "df['text_id'] = df.apply(lambda x: 'semeval2019_'+str(x.text_id),axis=1)\n",
    "total = df.shape[0]\n",
    "hate = df.groupby(['hate'])['text_id'].count()[1]\n",
    "print(\"Size of dataset:\", total)\n",
    "print(\"Percentage abusive:\", hate/total)\n",
    "print('Writing to file, semeval2019.csv')\n",
    "df.to_csv('semeval2019.csv',index=False)"
   ]
  }
 ],
 "metadata": {
  "kernelspec": {
   "display_name": "Python 3",
   "language": "python",
   "name": "python3"
  },
  "language_info": {
   "codemirror_mode": {
    "name": "ipython",
    "version": 3
   },
   "file_extension": ".py",
   "mimetype": "text/x-python",
   "name": "python",
   "nbconvert_exporter": "python",
   "pygments_lexer": "ipython3",
   "version": "3.6.9"
  }
 },
 "nbformat": 4,
 "nbformat_minor": 4
}
