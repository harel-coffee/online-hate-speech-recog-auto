{
 "cells": [
  {
   "cell_type": "code",
   "execution_count": 49,
   "metadata": {},
   "outputs": [
    {
     "name": "stdout",
     "output_type": "stream",
     "text": [
      "Size of dataset: 24783\n",
      "Percentage abusive: 0.05770084332001776\n",
      "Percentage offensive: 0.7743211072105879\n",
      "Writing to file, t_davidson.csv\n"
     ]
    }
   ],
   "source": [
    "import pandas as pd\n",
    "df = pd.read_csv('labeled_data.csv')\n",
    "df.rename(columns={\"class\": \"hate\",\"tweet\":\"text\"},inplace=True)\n",
    "df.drop(['count','hate_speech','offensive_language','neither'],axis=1,inplace=True)\n",
    "df.rename(columns={\"Unnamed: 0\":\"text_id\"},inplace=True)\n",
    "df['text_id'] = df.apply(lambda x: \"t_davidson_\"+str(x.text_id), axis = 1)\n",
    "\n",
    "#   0 - hate speech\n",
    "#   1 - offensive  language\n",
    "#   2 - neither\n",
    "def rearrange_class(x):\n",
    "    if x == 0:\n",
    "        x = '1'\n",
    "    elif x == 1:\n",
    "        x = '2'\n",
    "    elif x == 2:\n",
    "        x = '0'\n",
    "    else:\n",
    "        print('done')\n",
    "    return x\n",
    "df['hate'] = df.apply(lambda x: rearrange_class(x.hate), axis =1)\n",
    "\n",
    "# 0 - neither\n",
    "# 1 - hate speech\n",
    "# 2 - offensive\n",
    "df['hate'] = df['hate'].astype(int)\n",
    "total = df.shape[0]\n",
    "hate = df.groupby(['hate'])['text_id'].count()[1]\n",
    "offensive = df.groupby(['hate'])['text_id'].count()[2]\n",
    "print(\"Size of dataset:\", total)\n",
    "print(\"Percentage abusive:\", hate/total)\n",
    "print(\"Percentage offensive:\",offensive/total)\n",
    "print('Writing to file, t_davidson.csv')\n",
    "df.to_csv('t_davidson.csv',index=False)"
   ]
  },
  {
   "cell_type": "code",
   "execution_count": null,
   "metadata": {},
   "outputs": [],
   "source": []
  }
 ],
 "metadata": {
  "kernelspec": {
   "display_name": "Python 3",
   "language": "python",
   "name": "python3"
  },
  "language_info": {
   "codemirror_mode": {
    "name": "ipython",
    "version": 3
   },
   "file_extension": ".py",
   "mimetype": "text/x-python",
   "name": "python",
   "nbconvert_exporter": "python",
   "pygments_lexer": "ipython3",
   "version": "3.6.9"
  }
 },
 "nbformat": 4,
 "nbformat_minor": 4
}
