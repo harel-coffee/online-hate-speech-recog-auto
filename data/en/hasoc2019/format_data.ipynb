{
 "cells": [
  {
   "cell_type": "code",
   "execution_count": 1,
   "metadata": {},
   "outputs": [
    {
     "name": "stdout",
     "output_type": "stream",
     "text": [
      "Size of dataset: 7005\n",
      "Percentage offensive: 0.36388294075660244\n",
      "Writing to file, hasoc2019.csv\n"
     ]
    }
   ],
   "source": [
    "import pandas as pd\n",
    "df_train = pd.read_csv('english_dataset.tsv',delimiter='\\t')\n",
    "df_test = pd.read_csv('hasoc2019_en_test-2919.tsv',delimiter='\\t')\n",
    "df = pd.concat([df_train,df_test])\n",
    "df = df.sample(frac=1).reset_index(drop=True)\n",
    "df.rename(columns={\"task_1\": \"hate\"},inplace=True)\n",
    "df.drop(['task_2','task_3'],axis=1,inplace=True)\n",
    "df['hate'] = df.apply(lambda x: 0 if x.hate == 'NOT' else 1, axis = 1)\n",
    "total = df.shape[0]\n",
    "hate = df.groupby(['hate'])['text_id'].count()[1]\n",
    "# normal = df.groupby(['hate'])['text_id'].count()[0]\n",
    "print(\"Size of dataset:\", total)\n",
    "print(\"Percentage offensive:\", hate/total)\n",
    "print('Writing to file, hasoc2019.csv')\n",
    "df.to_csv('hasoc2019.csv',index=False)"
   ]
  }
 ],
 "metadata": {
  "kernelspec": {
   "display_name": "Python 3",
   "language": "python",
   "name": "python3"
  },
  "language_info": {
   "codemirror_mode": {
    "name": "ipython",
    "version": 3
   },
   "file_extension": ".py",
   "mimetype": "text/x-python",
   "name": "python",
   "nbconvert_exporter": "python",
   "pygments_lexer": "ipython3",
   "version": "3.6.9"
  }
 },
 "nbformat": 4,
 "nbformat_minor": 4
}
