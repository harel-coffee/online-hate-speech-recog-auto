{
 "cells": [
  {
   "cell_type": "code",
   "execution_count": 32,
   "metadata": {},
   "outputs": [
    {
     "name": "stdout",
     "output_type": "stream",
     "text": [
      "nhsm_datasets/religion.txt\n",
      "nhsm_datasets/ethnicity.txt\n",
      "nhsm_datasets/sexual_orientation.txt\n",
      "nhsm_datasets/gender.txt\n",
      "nhsm_datasets/nationality.txt\n",
      "Size of dataset: 41\n",
      "Percentage abusive: 1.0\n",
      "Writing to file, nhsm.csv\n"
     ]
    }
   ],
   "source": [
    "import pandas as pd\n",
    "import glob\n",
    "fn = glob.glob('nhsm_datasets/*.txt')\n",
    "df = pd.DataFrame(columns=('text_id', 'text', 'hate'))\n",
    "cnt = 0\n",
    "for file in fn:\n",
    "    print(file)\n",
    "    with open(file) as f:\n",
    "        r = f.readlines()\n",
    "        for i,ln in enumerate(r):            \n",
    "            df.loc[cnt] = ['nhsm_en_'+str(cnt),ln,1]\n",
    "            cnt +=1\n",
    "            \n",
    "total = df.shape[0]\n",
    "hate = df.groupby(['hate'])['text_id'].count()[1]\n",
    "# normal = df.groupby(['hate'])['text_id'].count()[0]\n",
    "print(\"Size of dataset:\", total)\n",
    "print(\"Percentage abusive:\", hate/total)\n",
    "print('Writing to file, nhsm.csv')\n",
    "df.to_csv('nhsm.csv',index=False)"
   ]
  },
  {
   "cell_type": "code",
   "execution_count": 94,
   "metadata": {},
   "outputs": [],
   "source": [
    "!rm twitter_ids.txt\n",
    "!rm twitter_spool.csv\n",
    "!rm tw_exp.txt"
   ]
  },
  {
   "cell_type": "code",
   "execution_count": 95,
   "metadata": {},
   "outputs": [],
   "source": [
    "from glob import glob\n",
    "files = glob('twitter_hashtag_based_datasets/*.csv')+glob('twitter_key_phrase_based_datasets/*.csv')\n",
    "fw = open('twitter_ids.txt','a')\n",
    "for file in files:\n",
    "    with open(file,'r') as f:\n",
    "        lines = f.readlines()\n",
    "        for line in lines:\n",
    "            if line != 'tweet_id\\n':\n",
    "                fw.write(line)\n",
    "fw.close()"
   ]
  },
  {
   "cell_type": "code",
   "execution_count": null,
   "metadata": {},
   "outputs": [
    {
     "name": "stderr",
     "output_type": "stream",
     "text": [
      "  1%|          | 321/28498 [22:22<28:59:15,  3.70s/it]"
     ]
    }
   ],
   "source": [
    "import tweepy \n",
    "from tqdm import tqdm \n",
    "import time\n",
    "CONSUMER_KEY=\"QK7E8XUMThSuRFJ7Eok27oaHL\"\n",
    "CONSUMER_SECRET=\"a4TxCSZbqjg79DGIwoNS8QQQk0kTCVyI3SK7qIcBAcCzmXVpFQ\"\n",
    "\n",
    "OAUTH_TOKEN=\"1287304055509913608-ma0CMDH8KOtEgeTUPhFsKUtzkvxVh2\"\n",
    "OAUTH_TOKEN_SECRET=\"eyMBnPk8oRvFBIvl3TbRxEhGzuGqAgEJ65ilWDwTpadF8\"\n",
    "\n",
    "auth = tweepy.OAuthHandler(CONSUMER_KEY, CONSUMER_SECRET)\n",
    "auth.set_access_token(OAUTH_TOKEN, OAUTH_TOKEN_SECRET)\n",
    "api = tweepy.API(auth)\n",
    "\n",
    "f = open('twitter_ids.txt','r')\n",
    "lines = list(set(f.readlines()))\n",
    "tw_exp_file = open('tw_exp.txt','a')\n",
    "for line in tqdm(lines):\n",
    "    try:\n",
    "        line = str(line).replace('\\n','')\n",
    "        tweet = api.get_status(str(line))\n",
    "        tweet_text = str(tweet.text).replace('\\n','').replace('\\r','')\n",
    "#         print(str(line)+', '+tweet_text+', 2')\n",
    "        d = {\"twiter_id\":str(line),\"tweet_text\":tweet_text,\"hate\":str(2)}\n",
    "        df = pd.DataFrame([d])\n",
    "        df.to_csv('twitter_spool.csv', mode='a', index=False, header=False)\n",
    "        time.sleep(3.5)\n",
    "    except tweepy.TweepError as e: \n",
    "        tw_exp_file.write(str(line)+', '+str(e.api_code)+', '+str(e)+'\\n')\n",
    "        time.sleep(3.5)\n",
    "        pass\n",
    "    "
   ]
  },
  {
   "cell_type": "code",
   "execution_count": 63,
   "metadata": {},
   "outputs": [],
   "source": [
    "time.sleep(3.5)"
   ]
  }
 ],
 "metadata": {
  "kernelspec": {
   "display_name": "Python 3",
   "language": "python",
   "name": "python3"
  },
  "language_info": {
   "codemirror_mode": {
    "name": "ipython",
    "version": 3
   },
   "file_extension": ".py",
   "mimetype": "text/x-python",
   "name": "python",
   "nbconvert_exporter": "python",
   "pygments_lexer": "ipython3",
   "version": "3.6.9"
  }
 },
 "nbformat": 4,
 "nbformat_minor": 4
}
