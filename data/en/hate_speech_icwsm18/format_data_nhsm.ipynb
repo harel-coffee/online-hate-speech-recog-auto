{
 "cells": [
  {
   "cell_type": "code",
   "execution_count": 19,
   "metadata": {},
   "outputs": [
    {
     "name": "stdout",
     "output_type": "stream",
     "text": [
      "nhsm_datasets/religion.txt\n",
      "nhsm_datasets/ethnicity.txt\n",
      "nhsm_datasets/sexual_orientation.txt\n",
      "nhsm_datasets/gender.txt\n",
      "nhsm_datasets/nationality.txt\n",
      "Size of dataset: 41\n",
      "Percentage abusive: 1.0\n",
      "Writing to file, nhsm.csv\n"
     ]
    }
   ],
   "source": [
    "import pandas as pd\n",
    "import glob\n",
    "fn = glob.glob('nhsm_datasets/*.txt')\n",
    "df = pd.DataFrame(columns=('text_id', 'text', 'hate'))\n",
    "cnt = 0\n",
    "for file in fn:\n",
    "    print(file)\n",
    "    with open(file) as f:\n",
    "        r = f.readlines()\n",
    "        for i,ln in enumerate(r):            \n",
    "            df.loc[cnt] = ['nhsm_en_'+str(cnt),ln,1]\n",
    "            cnt +=1\n",
    "            \n",
    "total = df.shape[0]\n",
    "hate = df.groupby(['hate'])['text_id'].count()[1]\n",
    "# normal = df.groupby(['hate'])['text_id'].count()[0]\n",
    "print(\"Size of dataset:\", total)\n",
    "print(\"Percentage abusive:\", hate/total)\n",
    "print('Writing to file, nhsm.csv')\n",
    "df.to_csv('nhsm.csv',index=False)"
   ]
  }
 ],
 "metadata": {
  "kernelspec": {
   "display_name": "Python 3",
   "language": "python",
   "name": "python3"
  },
  "language_info": {
   "codemirror_mode": {
    "name": "ipython",
    "version": 3
   },
   "file_extension": ".py",
   "mimetype": "text/x-python",
   "name": "python",
   "nbconvert_exporter": "python",
   "pygments_lexer": "ipython3",
   "version": "3.6.9"
  }
 },
 "nbformat": 4,
 "nbformat_minor": 4
}
