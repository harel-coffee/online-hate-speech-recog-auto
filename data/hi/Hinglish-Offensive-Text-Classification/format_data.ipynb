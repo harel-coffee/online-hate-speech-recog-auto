{
 "cells": [
  {
   "cell_type": "code",
   "execution_count": 19,
   "metadata": {},
   "outputs": [
    {
     "name": "stdout",
     "output_type": "stream",
     "text": [
      "Size of dataset: 3189\n",
      "Percentage abusive: 0.5534650360614612\n",
      "Writing to file, hi-code-mixed-pmathur.csv\n"
     ]
    }
   ],
   "source": [
    "import pandas as pd\n",
    "df = pd.read_csv('HOT_Dataset_modified.csv')\n",
    "df['text_id'] = df.index\n",
    "df['text_id'] = df.apply(lambda x: 'pmathur_'+str(x.text_id), axis=1)\n",
    "df.reindex(columns=['text_id','text','hate'])\n",
    "total = df.shape[0]\n",
    "hate = df.groupby(['hate'])['text_id'].count()[2]\n",
    "# normal = df.groupby(['hate'])['text_id'].count()[0]\n",
    "print(\"Size of dataset:\", total)\n",
    "print(\"Percentage abusive:\", hate/total)\n",
    "print('Writing to file, hi-code-mixed-pmathur.csv')\n",
    "df.to_csv('hi-code-mixed-pmathur.csv',index=False)"
   ]
  }
 ],
 "metadata": {
  "kernelspec": {
   "display_name": "Python 3",
   "language": "python",
   "name": "python3"
  },
  "language_info": {
   "codemirror_mode": {
    "name": "ipython",
    "version": 3
   },
   "file_extension": ".py",
   "mimetype": "text/x-python",
   "name": "python",
   "nbconvert_exporter": "python",
   "pygments_lexer": "ipython3",
   "version": "3.6.9"
  }
 },
 "nbformat": 4,
 "nbformat_minor": 4
}
