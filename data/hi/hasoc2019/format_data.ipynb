{
 "cells": [
  {
   "cell_type": "code",
   "execution_count": 15,
   "metadata": {},
   "outputs": [
    {
     "name": "stdout",
     "output_type": "stream",
     "text": [
      "Size of dataset: 9330\n",
      "Percentage abusive: 0.5292604501607717\n",
      "Writing to file, hi-hasoc2019.csv\n"
     ]
    }
   ],
   "source": [
    "import pandas as pd\n",
    "df1 = pd.read_csv('hindi_dataset.tsv',sep='\\t')\n",
    "df2 = pd.read_csv('hasoc2019_hi_test_gold_2919.tsv',sep='\\t')\n",
    "df = pd.concat([df1,df1],ignore_index=True)\n",
    "df = df.sample(frac=1).reset_index(drop=True)\n",
    "df.rename(columns={\"task_1\": \"hate\"},inplace=True)\n",
    "df.drop(['task_2','task_3'],axis=1,inplace=True)\n",
    "df['hate'] = df.apply(lambda x: 0 if x.hate == 'NOT' else 1, axis = 1)\n",
    "total = df.shape[0]\n",
    "hate = df.groupby(['hate'])['text_id'].count()[1]\n",
    "# normal = df.groupby(['hate'])['text_id'].count()[0]\n",
    "print(\"Size of dataset:\", total)\n",
    "print(\"Percentage abusive:\", hate/total)\n",
    "print('Writing to file, hi-hasoc2019.csv')\n",
    "df.to_csv('hi-hasoc2019.csv',index=False)"
   ]
  }
 ],
 "metadata": {
  "kernelspec": {
   "display_name": "Python 3",
   "language": "python",
   "name": "python3"
  },
  "language_info": {
   "codemirror_mode": {
    "name": "ipython",
    "version": 3
   },
   "file_extension": ".py",
   "mimetype": "text/x-python",
   "name": "python",
   "nbconvert_exporter": "python",
   "pygments_lexer": "ipython3",
   "version": "3.6.9"
  }
 },
 "nbformat": 4,
 "nbformat_minor": 4
}
