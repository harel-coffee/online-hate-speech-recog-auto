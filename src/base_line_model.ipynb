{
 "cells": [
  {
   "cell_type": "code",
   "execution_count": 1,
   "metadata": {},
   "outputs": [],
   "source": [
    "!rm ../data/dataset.csv\n",
    "!cat ../data/en/hasoc2019/hasoc2019.csv >> ../data/dataset.csv\n",
    "!cat ../data/en/hate_speech_icwsm18/nhsm.csv >> ../data/dataset.csv\n",
    "!cat ../data/en/hate-speech-and-offensive-language/t_davidson.csv >> ../data/dataset.csv\n",
    "!cat ../data/en/ousidhoum-etal-multilingual-hate-speech-2019/ousidhoum.csv >> ../data/dataset.csv\n",
    "!cat ../data/en/semeval2019/semeval2019.csv >> ../data/dataset.csv\n",
    "\n",
    "!rm ../data/dataset-hi.csv\n",
    "!rm ../data/dataset-hi-cdmx.csv\n",
    "!cat ../data/hi/hasoc2019/hi-hasoc2019.csv >> ../data/dataset-hi.csv\n",
    "!cat ../data/hi/Hinglish-Offensive-Text-Classification/hi-code-mixed-pmathur.csv >> ../data/dataset-hi-cdmx.csv"
   ]
  },
  {
   "cell_type": "code",
   "execution_count": 2,
   "metadata": {},
   "outputs": [],
   "source": [
    "# !pip install matplotlib\n",
    "# !pip install ekphrasis\n",
    "# !pip install seaborn"
   ]
  },
  {
   "cell_type": "code",
   "execution_count": 1,
   "metadata": {},
   "outputs": [
    {
     "name": "stdout",
     "output_type": "stream",
     "text": [
      "Emoji File not found..\n",
      "Downloading\n",
      "done!\n",
      "Reading Slangs ...\n",
      "Reading twitter - 1grams ...\n",
      "Reading twitter - 2grams ...\n",
      "Reading twitter - 1grams ...\n"
     ]
    }
   ],
   "source": [
    "import matplotlib.pyplot as plt\n",
    "import re\n",
    "import pandas as pd\n",
    "import feature_generation as fg"
   ]
  },
  {
   "cell_type": "markdown",
   "metadata": {},
   "source": [
    "## English Dataset"
   ]
  },
  {
   "cell_type": "code",
   "execution_count": 2,
   "metadata": {},
   "outputs": [
    {
     "name": "stdout",
     "output_type": "stream",
     "text": [
      "(50386, 3)\n",
      "             text_id                                               text  class\n",
      "count          50381                                              50381  50381\n",
      "unique         49524                                              50000      3\n",
      "top     hasoc_en_867  By wearing the #BalidaanBadge over his gloves ...      2\n",
      "freq               2                                                  5  22898\n"
     ]
    }
   ],
   "source": [
    "df_en = pd.read_csv('../data/dataset.csv')\n",
    "print(df_en.shape)\n",
    "df_en.drop(df_en[(df_en['text_id'] == 'text_id')].index,inplace=True)\n",
    "df_en.drop(df_en[(df_en['hate'] == 'HS')].index,inplace=True)\n",
    "df_en.rename(columns={'hate':'class'},inplace=True)\n",
    "print(df_en.describe())"
   ]
  },
  {
   "cell_type": "code",
   "execution_count": 3,
   "metadata": {},
   "outputs": [
    {
     "name": "stdout",
     "output_type": "stream",
     "text": [
      "Size of dataset: 50381\n",
      "Hateful (class) = 1: 10738 ( 21.313590440840795 %)\n",
      "Offensive (class) = 2: 22898 ( 45.44967348802128 %)\n",
      "\n",
      "****\n",
      "\n",
      "**Hateful examples (class) = 1\n",
      "[\"A gangster sets out to fulfill his father’s dream of becoming a doctor.    Doctor's in #WestBengal be like #munna_bhai_MBBS    #DoctorsFightBack #DoctorsStrike #DoctorsUnderOppression   @MamataOfficial https://t.co/lZQcStQ2Md\", 'That’s not white supremacy though is it. That means whites thinking AND ACTING as though they are superior to others. What these Jew/Muslim joint actions are concerned with is protecting stuff like Halal/Kosher, circumcision and the right to wear religious garb. 1/2', 'Sit his ass down!  Tape his fingers and duct-tape his mouth.  Then throw him in a cage with the immigrants.  Problem solved!  Such a vision.  America, Free of Trump.  Darn, I just woke up.  Dems will do nothing.  #FuckTrump #FuckGOP #FuckCivility #ImpeachmentInquiryNow https://t.co/gU8oBArfo8', 'Congress abusive language towards PM Modi in Parliament is unacceptable.. Punish the MP\\\\n#GandiNaaliAbuse', \"@realDonaldTrump Since @realDonaldTrump is the BIGGEST deadbeat fraud, what he calls a fraud is what the rest of humanity not kiSsing his rectum calls #TheTRUTH. And we ALL know Trump CAN'T HANDLE THE TRUTH! #FuckTrump #ComradeTrump #PutinsPuppet #CadetBoneSpurs #MakingAmericaGarbageAgain #MAGA\", \"#ShameOnICC  Even local cricket tournament have better management &amp; planning than your's .   Thankyou for spoiling the worldcup. https://t.co/tfYxvOreN7\", 'Congress should not forget that Modi is the Pm of India and he Definitely deserves respect. Congress should immediately apologize for this low standard comment.#Congress #GandiNaaliAbuse #GandiNaaliInsult #BJP', \"BECAUSE THE USA GOT INVOLVED IN EL SALVADOR NOT 'MUSLIM COUNTRIES'  \", '😂😂🤙🏽🤙🏽😰😰 Buy a #fucktrump #hat today. I took the price down &amp; #freeshipping CLICK on LINK in my bio. Or PRE-Order a #chingatrump hat ! 🤙🏽\\U0001f91f🏾👊🏽💪🏾 #peaceout #forthewin #imissobama #dumptrump #resist #impeach #etsy… https://t.co/UR1FktTpt9', '@BrianKarem @realDonaldTrump Be Quiet or the racist scarecrow with the orange face will get you!!  #fucktrump #FUCKTHEGOP #ImpeachTrumpNow https://t.co/RAyBWJczqR']\n",
      "\n",
      "**Offensive examples (class) = 2\n",
      "['!!!!! RT @mleew17: boy dats cold...tyga dwn bad for cuffin dat hoe in the 1st place!!', '!!!!!!! RT @UrKindOfBrand Dawg!!!! RT @80sbaby4life: You ever fuck a bitch and she start to cry? You be confused as shit', '!!!!!!!!! RT @C_G_Anderson: @viva_based she look like a tranny', '!!!!!!!!!!!!! RT @ShenikaRoberts: The shit you hear about me might be true or it might be faker than the bitch who told it to ya &#57361;', '!!!!!!!!!!!!!!!!!!\"@T_Madison_x: The shit just blows me..claim you so faithful and down for somebody but still fucking with hoes! &#128514;&#128514;&#128514;\"', '!!!!!!\"@__BrighterDays: I can not just sit up and HATE on another bitch .. I got too much shit going on!\"', \"!!!!&#8220;@selfiequeenbri: cause I'm tired of you big bitches coming for us skinny girls!!&#8221;\", '\" &amp; you might not get ya bitch back &amp; thats that \"', '\" @rhythmixx_ :hobbies include: fighting Mariam\"\\n\\nbitch', '\" Keeks is a bitch she curves everyone \" lol I walked into a conversation like this. Smh']\n"
     ]
    },
    {
     "data": {
      "text/plain": [
       "<AxesSubplot:xlabel='class'>"
      ]
     },
     "execution_count": 3,
     "metadata": {},
     "output_type": "execute_result"
    },
    {
     "data": {
      "image/png": "[encoded data removed]",
      "text/plain": [
       "<Figure size 432x288 with 1 Axes>"
      ]
     },
     "metadata": {
      "needs_background": "light"
     },
     "output_type": "display_data"
    }
   ],
   "source": [
    "total = df_en.shape[0]\n",
    "gp = df_en.groupby(['class'])['text_id'].count()\n",
    "hate = gp[1]\n",
    "offensive = gp[2]\n",
    "print(\"Size of dataset:\", total)\n",
    "print(\"Hateful (class) = 1:\", hate, \"(\",hate/total*100,\"%)\")\n",
    "print(\"Offensive (class) = 2:\",offensive, \"(\",offensive/total*100,\"%)\")\n",
    "print(\"\\n****\\n\")\n",
    "print('**Hateful examples (class) = 1')\n",
    "print(list(df_en[df_en['class']==\"1\"]['text'][0:10]))\n",
    "\n",
    "print('\\n**Offensive examples (class) = 2')\n",
    "print(list(df_en[df_en['class']==\"2\"]['text'][0:10]))\n",
    "gp.plot(kind='bar')\n"
   ]
  },
  {
   "cell_type": "markdown",
   "metadata": {},
   "source": [
    "### Pre process text"
   ]
  },
  {
   "cell_type": "code",
   "execution_count": 4,
   "metadata": {},
   "outputs": [
    {
     "name": "stdout",
     "output_type": "stream",
     "text": [
      "Reading twitter - 1grams ...\n",
      "Reading twitter - 2grams ...\n",
      "Reading twitter - 1grams ...\n"
     ]
    }
   ],
   "source": [
    "from ekphrasis.classes.preprocessor import TextPreProcessor\n",
    "from ekphrasis.classes.tokenizer import SocialTokenizer\n",
    "from ekphrasis.dicts.emoticons import emoticons\n",
    "from ekphrasis.dicts.noslang.slang import slang\n",
    "\n",
    "text_processor = TextPreProcessor(\n",
    "    # terms that will be normalized\n",
    "    normalize=['url', 'email', 'percent', 'money', 'phone', 'user',\n",
    "        'time', 'url', 'date', 'number'],\n",
    "    # terms that will be annotated\n",
    "    annotate={\"hashtag\", \"allcaps\", \"elongated\", \"repeated\",\n",
    "        'emphasis', 'censored'},\n",
    "    fix_html=True,  # fix HTML tokens\n",
    "    \n",
    "    # corpus from which the word statistics are going to be used \n",
    "    # for word segmentation \n",
    "    segmenter=\"twitter\", \n",
    "    \n",
    "    # corpus from which the word statistics are going to be used \n",
    "    # for spell correction\n",
    "    corrector=\"twitter\", \n",
    "    \n",
    "    unpack_hashtags=True,  # perform word segmentation on hashtags\n",
    "    unpack_contractions=True,  # Unpack contractions (can't -> can not)\n",
    "    spell_correct_elong=False,  # spell correction for elongated words\n",
    "    \n",
    "    # select a tokenizer. You can use SocialTokenizer, or pass your own\n",
    "    # the tokenizer, should take as input a string and return a list of tokens\n",
    "    tokenizer=SocialTokenizer(lowercase=True).tokenize,\n",
    "    \n",
    "    # list of dictionaries, for replacing tokens extracted from the text,\n",
    "    # with other expressions. You can pass more than one dictionaries.\n",
    "    dicts=[emoticons,slang]\n",
    ")\n"
   ]
  },
  {
   "cell_type": "code",
   "execution_count": 5,
   "metadata": {},
   "outputs": [],
   "source": [
    "pre = fg.features()\n",
    "df_en['ekphrasis_clean_text'] = df_en.apply(lambda x: \" \".join(text_processor.pre_process_doc(x.text)),axis=1)\n",
    "df_en['basic_clean_text'] = df_en.apply(lambda x: pre.preprocess(x.text), axis = 1)\n",
    "df_en.to_csv('../data/dataset_en.csv',index=False)"
   ]
  },
  {
   "cell_type": "code",
   "execution_count": 6,
   "metadata": {},
   "outputs": [
    {
     "name": "stdout",
     "output_type": "stream",
     "text": [
      "Why the #DoctorsFightBack is not just about violence unleashed on them ? Its time to address faltering justice systems, crippled health systems and broken dreams  https://t.co/S2akvvDDlY\n",
      "why the <hashtag> doctors fight back </hashtag> is not just about violence unleashed on them ? its time to address faltering justice systems , crippled health systems and broken dreams <url>\n"
     ]
    }
   ],
   "source": [
    "print(df_en['text'][100])\n",
    "print(df_en['ekphrasis_clean_text'][100])"
   ]
  },
  {
   "cell_type": "code",
   "execution_count": 7,
   "metadata": {},
   "outputs": [
    {
     "name": "stdout",
     "output_type": "stream",
     "text": [
      "Why the #DoctorsFightBack is not just about violence unleashed on them ? Its time to address faltering justice systems, crippled health systems and broken dreams  https://t.co/S2akvvDDlY\n",
      "why the doctors fight back not just about violence unleashed them ? its time address faltering justice systems , crippled health systems and broken dreams\n"
     ]
    }
   ],
   "source": [
    "print(df_en['text'][100])\n",
    "print(df_en['basic_clean_text'][100])"
   ]
  },
  {
   "cell_type": "markdown",
   "metadata": {},
   "source": [
    "## Hindi and Code mixed Hindi Dataset"
   ]
  },
  {
   "cell_type": "code",
   "execution_count": 69,
   "metadata": {},
   "outputs": [
    {
     "name": "stdout",
     "output_type": "stream",
     "text": [
      "(9330, 3)\n",
      "            class\n",
      "count  9330.00000\n",
      "mean      0.52926\n",
      "std       0.49917\n",
      "min       0.00000\n",
      "25%       0.00000\n",
      "50%       1.00000\n",
      "75%       1.00000\n",
      "max       1.00000\n"
     ]
    },
    {
     "name": "stderr",
     "output_type": "stream",
     "text": [
      "/homes/nv304/py3tf2/lib/python3.6/site-packages/pandas/core/computation/expressions.py:68: FutureWarning: elementwise comparison failed; returning scalar instead, but in the future will perform elementwise comparison\n",
      "  return op(a, b)\n"
     ]
    }
   ],
   "source": [
    "df_hi = pd.read_csv('../data/dataset-hi.csv')\n",
    "print(df_hi.shape)\n",
    "df_hi.drop(df_hi[(df_hi['text_id'] == 'text_id')].index,inplace=True)\n",
    "df_hi.drop(df_hi[(df_hi['hate'] == 'HS')].index,inplace=True)\n",
    "df_hi.rename(columns={'hate':'class'},inplace=True)\n",
    "print(df_hi.describe())"
   ]
  },
  {
   "cell_type": "code",
   "execution_count": 70,
   "metadata": {},
   "outputs": [
    {
     "name": "stdout",
     "output_type": "stream",
     "text": [
      "Size of dataset: 9330\n",
      "Hateful (class) = 1: 4938 ( 52.926045016077175 %)\n",
      "\n",
      "****\n",
      "\n",
      "**Hateful examples (class) = 1\n",
      "['ये लिटन की गाँड में लिप्टन की चाय डालता हूँ अभी विथ गर्म केतली ', 'लम्पट  झोलाछाप , तेरे जैसा 20-25 दिन राम लीला मैदान में गुजरकर  और मीडिया का लुंड  चाटकर  उनलोग नेता नहीं बने ! सारी  जिंदगी खपाई ! तू मादरचोद देहाती गवर जाहिल हरामी , उनपढ ,ठरकी माथरजात बैठ चुपचाप ', 'भोसडीके अच्छे से बोल रहा हूँ तो तुम्हारा मूड खराब हो रहा है ', '#मणिशंकर अय्यर साहब आपने क्या गलत कहा था एक #नीच को नीच ही तो कहा था जो बिलकुल सही था में सेल्यूट करता हु आपको', 'भैनचोद आत्महत्या की तैयारी कर रहा है ।', 'भेनचोद ये गुलाबी पैंट कौन पहनता है बे ', 'बन्द करो ये बेशर्मो वाला तमाशा कोई कहता है भगवा की वजह से हारी टीम इंडिया तो कोई कहता है पाकिस्तान की वजह से हरी।    ये जो बातें कर रहे है ये किसी अनपढ़ गवार से कम नही है इन्हें सिर्फ़ अपनी-अपनी बातें रखनी है विरोध के लिए।    हमारे देश की टीम अपने घटिया खेल से हरी है और कुछ नही।', 'कलुए सुधर जा ! मुझे कभी शक होता है तू कही कटे लुंड की पैदाइश तो नही है ! ', '@TheKhanSaab Happy Birthday Bhai, Stay Blessed.... *भोसडीके* ', 'घिनौने से\\u200c घिनौना काम यह जंगली सूअर ही कर सकते हैं चाहे वह नकली दूध का बेचना हो यह छोटी बच्ची का योन शोषण करना हो या किसी का कत्लेआम करना हो']\n"
     ]
    }
   ],
   "source": [
    "total = df_hi.shape[0]\n",
    "gp = df_hi.groupby(['class'])['text_id'].count()\n",
    "hate = gp[1]\n",
    "print(\"Size of dataset:\", total)\n",
    "print(\"Hateful (class) = 1:\", hate, \"(\",hate/total*100,\"%)\")\n",
    "print(\"\\n****\\n\")\n",
    "print('**Hateful examples (class) = 1')\n",
    "print(list(df_hi[df_hi['class']==1]['text'][0:10]))"
   ]
  },
  {
   "cell_type": "code",
   "execution_count": 71,
   "metadata": {},
   "outputs": [],
   "source": [
    "def emoji_clean(x):\n",
    "    from emoji import emoji\n",
    "    import re\n",
    "    g = re.search(r'\\\\x[a-z0-9]([^<]*)', x, re.IGNORECASE)\n",
    "    if g:\n",
    "        g = g.group()\n",
    "#         print(g)\n",
    "        el = list(emoji.keys())\n",
    "\n",
    "        for i in el:\n",
    "            if i in g:\n",
    "                x = x.replace(g,' '+emoji[i]).replace('<','').replace('>','')\n",
    "    return x\n",
    "\n",
    "df_hi['text'] = df_hi.apply(lambda x: emoji_clean(x.text), axis=1) "
   ]
  },
  {
   "cell_type": "code",
   "execution_count": 72,
   "metadata": {},
   "outputs": [],
   "source": [
    "df_hi['ekphrasis_clean_text'] = df_hi.apply(lambda x: \" \".join(text_processor.pre_process_doc(x.text)),axis=1)\n",
    "df_hi['basic_clean_text'] = df_hi.apply(lambda x: pre.preprocess(x.text), axis = 1)\n",
    "df_hi.to_csv('../data/dataset_hi.csv',index=False)"
   ]
  },
  {
   "cell_type": "code",
   "execution_count": 73,
   "metadata": {},
   "outputs": [
    {
     "name": "stdout",
     "output_type": "stream",
     "text": [
      "ऑफिसियल मीटिंग्स में अब नो बिस्किट  केवल हेल्थी स्नैक्स:लाई चना,भुना चना,खजूर,काजू,बादाम,अखरोट ही दिया जायेगा  #डॉहर्षवर्द्धन MOH    आपने चाय के लिए कुछ नही बताया   पीनी है, कि नही पीनी है \n",
      "ऑफ ि स ि यल म ी ट ि ं ग ् स म े ं अब न ो ब ि स ् क ि ट क े वल ह े ल ् थ ी स ् न ै क ् स : ल ा ई चन ा , भ ु न ा चन ा , खज ू र , क ा ज ू , ब ा द ा म , अखर ो ट ह ी द ि य ा ज ा य े ग ा <hashtag> ड </hashtag> ॉ हर ् षवर ् द ् धन <allcaps> Medal Of Honor </allcaps> आपन े च ा य क े ल ि ए क ु छ नह ी बत ा य ा प ी न ी ह ै , क ि नह ी प ी न ी ह ै\n"
     ]
    }
   ],
   "source": [
    "print(df_hi['text'][100])\n",
    "print(df_hi['ekphrasis_clean_text'][100])"
   ]
  },
  {
   "cell_type": "code",
   "execution_count": 74,
   "metadata": {},
   "outputs": [
    {
     "name": "stdout",
     "output_type": "stream",
     "text": [
      "ऑफिसियल मीटिंग्स में अब नो बिस्किट  केवल हेल्थी स्नैक्स:लाई चना,भुना चना,खजूर,काजू,बादाम,अखरोट ही दिया जायेगा  #डॉहर्षवर्द्धन MOH    आपने चाय के लिए कुछ नही बताया   पीनी है, कि नही पीनी है \n",
      ": , , , , , अखर षवर Medal Of Honor आपन ,\n"
     ]
    }
   ],
   "source": [
    "print(df_hi['text'][100])\n",
    "print(df_hi['basic_clean_text'][100])"
   ]
  },
  {
   "cell_type": "code",
   "execution_count": null,
   "metadata": {},
   "outputs": [],
   "source": []
  },
  {
   "cell_type": "code",
   "execution_count": 75,
   "metadata": {},
   "outputs": [
    {
     "name": "stdout",
     "output_type": "stream",
     "text": [
      "(3189, 3)\n",
      "             class\n",
      "count  3189.000000\n",
      "mean      1.201944\n",
      "std       0.929772\n",
      "min       0.000000\n",
      "25%       0.000000\n",
      "50%       2.000000\n",
      "75%       2.000000\n",
      "max       2.000000\n"
     ]
    },
    {
     "name": "stderr",
     "output_type": "stream",
     "text": [
      "/homes/nv304/py3tf2/lib/python3.6/site-packages/pandas/core/computation/expressions.py:68: FutureWarning: elementwise comparison failed; returning scalar instead, but in the future will perform elementwise comparison\n",
      "  return op(a, b)\n"
     ]
    }
   ],
   "source": [
    "df_hi = pd.read_csv('../data/dataset-hi-cdmx.csv')\n",
    "print(df_hi.shape)\n",
    "df_hi.drop(df_hi[(df_hi['text_id'] == 'text_id')].index,inplace=True)\n",
    "df_hi.drop(df_hi[(df_hi['hate'] == 'HS')].index,inplace=True)\n",
    "df_hi.rename(columns={'hate':'class'},inplace=True)\n",
    "print(df_hi.describe())"
   ]
  },
  {
   "cell_type": "code",
   "execution_count": 76,
   "metadata": {},
   "outputs": [
    {
     "name": "stdout",
     "output_type": "stream",
     "text": [
      "Size of dataset: 3189\n",
      "Hateful (class) = 1: 303 ( 9.501411100658514 %)\n",
      "\n",
      "****\n",
      "\n",
      "**Hateful examples (class) = 1\n",
      "['@InviSibleSold @mabkhan86 @dridadahn Main jutt Punjabi hoon aur paka N league. Madarchod Imran ki Punjab say nafrat clear hai.', 'RT @AnshKSpeaks: Screw the law of the land. If I find this chutiya Madarchod Mulla I will Lynch him, murder him, cut into millions of pieces and Ha\\\\xe2\\\\x80\\\\xa6', \"*Virat and Anushka's future kid*\\\\n\\\\nAnushka: Mamma bolo beta, mammaaaa\\\\n\\\\nKid: Mm.. Ma.. Maa.. Madarchod!\", '@dasraghubar @narendramodi @AmitShah @BJP4India @BJPLive @BJP4Jharkhand Madarchod brahmno se mafi mango', '@NANGI_POOJA Madarchod musalman aaiysha aur wo hai', '@M_walim @ICC @imVkohli @AnushkaSharma Teri ammi ko chodne wala insaan hai ye icc kya pure world isko badhai dekha bc hat mulle madarchod', '@girishalva @garuna73 I never donate to any madarchod hindu priests, they are chors.', 'Bhak Machod Mullo Ke Abbu  @bewak_sanki543 @milkygaay @Dilli_Ka_Maalik @ArvindKrejriwal @ashu3page @AamAadmiParty\\\\xe2\\\\x80\\\\xa6 https://t.co/K1pRnRhz0V', '@_R_aHu_L_ @Mk56Kaur bhadwe ki aulad ho tum sale madarchod ki wajah se ye zait failta hai hindu muslim ka bhen ke t\\\\xe2\\\\x80\\\\xa6 https://t.co/nbdEzBGmu1', '@NaamHiKafiHay Teri maa Randi Madarchod Saale Pakistani']\n"
     ]
    }
   ],
   "source": [
    "total = df_hi.shape[0]\n",
    "gp = df_hi.groupby(['class'])['text_id'].count()\n",
    "hate = gp[1]\n",
    "print(\"Size of dataset:\", total)\n",
    "print(\"Hateful (class) = 1:\", hate, \"(\",hate/total*100,\"%)\")\n",
    "print(\"\\n****\\n\")\n",
    "print('**Hateful examples (class) = 1')\n",
    "print(list(df_hi[df_hi['class']==1]['text'][0:10]))"
   ]
  },
  {
   "cell_type": "code",
   "execution_count": 77,
   "metadata": {},
   "outputs": [],
   "source": [
    "df_hi['text'] = df_hi.apply(lambda x: emoji_clean(x.text), axis=1) \n",
    "\n",
    "df_hi['ekphrasis_clean_text'] = df_hi.apply(lambda x: \" \".join(text_processor.pre_process_doc(x.text)),axis=1)\n",
    "df_hi['basic_clean_text'] = df_hi.apply(lambda x: pre.preprocess(x.text), axis = 1)\n",
    "df_hi.to_csv('../data/dataset_hi_cdmx.csv',index=False)"
   ]
  },
  {
   "cell_type": "code",
   "execution_count": 78,
   "metadata": {},
   "outputs": [
    {
     "data": {
      "text/plain": [
       "'user bahenchod . experienced lagte hold on bhai bhot face with tears joy'"
      ]
     },
     "execution_count": 78,
     "metadata": {},
     "output_type": "execute_result"
    }
   ],
   "source": [
    "df_hi['basic_clean_text'][100]"
   ]
  },
  {
   "cell_type": "code",
   "execution_count": 79,
   "metadata": {},
   "outputs": [
    {
     "name": "stdout",
     "output_type": "stream",
     "text": [
      "@AvijitEmmi Bahenchod .... experienced lagte ho bhai bhot face with tears of joy\n",
      "<user> bahenchod . <repeated> experienced lagte hold on bhai bhot face with tears of joy\n"
     ]
    }
   ],
   "source": [
    "print(df_hi['text'][100])\n",
    "print(df_hi['ekphrasis_clean_text'][100])"
   ]
  },
  {
   "cell_type": "markdown",
   "metadata": {},
   "source": [
    "## Building LR Baseline Model"
   ]
  },
  {
   "cell_type": "code",
   "execution_count": 27,
   "metadata": {},
   "outputs": [
    {
     "name": "stderr",
     "output_type": "stream",
     "text": [
      "/homes/nv304/py3tf2/lib/python3.6/re.py:212: FutureWarning: split() requires a non-empty pattern match.\n",
      "  return _compile(pattern, flags).split(string, maxsplit)\n",
      "/homes/nv304/py3tf2/lib/python3.6/site-packages/sklearn/feature_extraction/text.py:385: UserWarning: Your stop_words may be inconsistent with your preprocessing. Tokenizing the stop words generated tokens ['abov', 'ani', 'becaus', 'befor', 'could', 'denial', 'doe', 'dure', 'fire', 'friendli', 'ha', 'hi', 'might', 'must', 'normal', 'onc', 'onli', 'ourselv', 'repli', 'shall', 'themselv', 'thi', 'veri', 'wa', 'whi', 'would', 'yourselv'] not in stop_words.\n",
      "  'stop_words.' % sorted(inconsistent))\n",
      "/homes/nv304/py3tf2/lib/python3.6/re.py:212: FutureWarning: split() requires a non-empty pattern match.\n",
      "  return _compile(pattern, flags).split(string, maxsplit)\n"
     ]
    }
   ],
   "source": [
    "text = df_en.text\n",
    "feat = fg.features()\n",
    "M,fnames = feat.get_feature_array(text)"
   ]
  },
  {
   "cell_type": "code",
   "execution_count": 28,
   "metadata": {},
   "outputs": [],
   "source": [
    "X = pd.DataFrame(M)\n",
    "y = df_en['class'].astype(int)"
   ]
  },
  {
   "cell_type": "code",
   "execution_count": 29,
   "metadata": {},
   "outputs": [],
   "source": [
    "from sklearn.model_selection import train_test_split\n",
    "from sklearn.model_selection import StratifiedKFold, GridSearchCV\n",
    "from sklearn.pipeline import Pipeline\n",
    "from sklearn.linear_model import LogisticRegression\n",
    "from sklearn.feature_selection import SelectFromModel\n",
    "from sklearn.metrics import classification_report\n",
    "from sklearn.svm import LinearSVC\n",
    "X_train, X_test, y_train, y_test = train_test_split(X, y, random_state=42, test_size=0.2)\n",
    "pipe = Pipeline(\n",
    "        [('select', SelectFromModel(LogisticRegression(class_weight='balanced',\n",
    "                                                  penalty=\"l2\", C=0.01, max_iter=10000 ))),\n",
    "        ('model', LogisticRegression(class_weight='balanced',penalty='l2', max_iter=10000 ))])\n",
    "\n",
    "param_grid = [{}] # Optionally add parameters here"
   ]
  },
  {
   "cell_type": "code",
   "execution_count": 30,
   "metadata": {},
   "outputs": [
    {
     "name": "stderr",
     "output_type": "stream",
     "text": [
      "/homes/nv304/py3tf2/lib/python3.6/site-packages/sklearn/model_selection/_split.py:296: FutureWarning: Setting a random_state has no effect since shuffle is False. This will raise an error in 0.24. You should leave random_state to its default (None), or set shuffle=True.\n",
      "  FutureWarning\n"
     ]
    }
   ],
   "source": [
    "grid_search = GridSearchCV(pipe, \n",
    "                           param_grid,\n",
    "                           cv=StratifiedKFold(n_splits=5, \n",
    "                                              random_state=42).split(X_train, y_train), \n",
    "                           verbose=2,\n",
    "                           n_jobs=-1\n",
    "                          )"
   ]
  },
  {
   "cell_type": "code",
   "execution_count": null,
   "metadata": {},
   "outputs": [
    {
     "name": "stdout",
     "output_type": "stream",
     "text": [
      "Fitting 5 folds for each of 1 candidates, totalling 5 fits\n"
     ]
    },
    {
     "name": "stderr",
     "output_type": "stream",
     "text": [
      "[Parallel(n_jobs=-1)]: Using backend LokyBackend with 16 concurrent workers.\n"
     ]
    }
   ],
   "source": [
    "model = grid_search.fit(X_train, y_train)"
   ]
  },
  {
   "cell_type": "code",
   "execution_count": 34,
   "metadata": {},
   "outputs": [
    {
     "data": {
      "text/plain": [
       "GridSearchCV(cv=<generator object _BaseKFold.split at 0x7f5d2c3c5ca8>,\n",
       "             error_score=nan,\n",
       "             estimator=Pipeline(memory=None,\n",
       "                                steps=[('select',\n",
       "                                        SelectFromModel(estimator=LogisticRegression(C=0.01,\n",
       "                                                                                     class_weight='balanced',\n",
       "                                                                                     dual=False,\n",
       "                                                                                     fit_intercept=True,\n",
       "                                                                                     intercept_scaling=1,\n",
       "                                                                                     l1_ratio=None,\n",
       "                                                                                     max_iter=10000,\n",
       "                                                                                     multi_class='auto',\n",
       "                                                                                     n_jobs=None,\n",
       "                                                                                     penalty='l2',\n",
       "                                                                                     random_state=None,\n",
       "                                                                                     sol...\n",
       "                                                           class_weight='balanced',\n",
       "                                                           dual=False,\n",
       "                                                           fit_intercept=True,\n",
       "                                                           intercept_scaling=1,\n",
       "                                                           l1_ratio=None,\n",
       "                                                           max_iter=10000,\n",
       "                                                           multi_class='auto',\n",
       "                                                           n_jobs=None,\n",
       "                                                           penalty='l2',\n",
       "                                                           random_state=None,\n",
       "                                                           solver='lbfgs',\n",
       "                                                           tol=0.0001,\n",
       "                                                           verbose=0,\n",
       "                                                           warm_start=False))],\n",
       "                                verbose=False),\n",
       "             iid='deprecated', n_jobs=-1, param_grid=[{}],\n",
       "             pre_dispatch='2*n_jobs', refit=True, return_train_score=False,\n",
       "             scoring=None, verbose=2)"
      ]
     },
     "execution_count": 34,
     "metadata": {},
     "output_type": "execute_result"
    }
   ],
   "source": [
    "model\n"
   ]
  },
  {
   "cell_type": "code",
   "execution_count": 35,
   "metadata": {},
   "outputs": [],
   "source": [
    "y_preds = model.predict(X_test)"
   ]
  },
  {
   "cell_type": "code",
   "execution_count": 36,
   "metadata": {},
   "outputs": [],
   "source": [
    "report = classification_report( y_test, y_preds )"
   ]
  },
  {
   "cell_type": "code",
   "execution_count": 37,
   "metadata": {},
   "outputs": [
    {
     "name": "stdout",
     "output_type": "stream",
     "text": [
      "              precision    recall  f1-score   support\n",
      "\n",
      "           0       0.68      0.66      0.67      3346\n",
      "           1       0.43      0.48      0.46      2179\n",
      "           2       0.81      0.78      0.79      4552\n",
      "\n",
      "    accuracy                           0.68     10077\n",
      "   macro avg       0.64      0.64      0.64     10077\n",
      "weighted avg       0.69      0.68      0.68     10077\n",
      "\n"
     ]
    }
   ],
   "source": [
    "print(report)"
   ]
  },
  {
   "cell_type": "code",
   "execution_count": 38,
   "metadata": {},
   "outputs": [
    {
     "data": {
      "image/png": "[encoded data removed]",
      "text/plain": [
       "<Figure size 360x360 with 1 Axes>"
      ]
     },
     "metadata": {
      "needs_background": "light"
     },
     "output_type": "display_data"
    }
   ],
   "source": [
    "import numpy as np\n",
    "import seaborn\n",
    "from sklearn.metrics import confusion_matrix\n",
    "confusion_matrix = confusion_matrix(y_test,y_preds)\n",
    "matrix_proportions = np.zeros((3,3))\n",
    "for i in range(0,3):\n",
    "    matrix_proportions[i,:] = confusion_matrix[i,:]/float(confusion_matrix[i,:].sum())\n",
    "names=['Hate','Offensive','Neither']\n",
    "confusion_df = pd.DataFrame(matrix_proportions, index=names,columns=names)\n",
    "plt.figure(figsize=(5,5))\n",
    "seaborn.heatmap(confusion_df,annot=True,annot_kws={\"size\": 12},cmap='gist_gray_r',cbar=False, square=True,fmt='.2f')\n",
    "plt.ylabel(r'True categories',fontsize=14)\n",
    "plt.xlabel(r'Predicted categories',fontsize=14)\n",
    "plt.tick_params(labelsize=12)\n"
   ]
  },
  {
   "cell_type": "code",
   "execution_count": null,
   "metadata": {},
   "outputs": [],
   "source": []
  }
 ],
 "metadata": {
  "kernelspec": {
   "display_name": "Python 3",
   "language": "python",
   "name": "python3"
  },
  "language_info": {
   "codemirror_mode": {
    "name": "ipython",
    "version": 3
   },
   "file_extension": ".py",
   "mimetype": "text/x-python",
   "name": "python",
   "nbconvert_exporter": "python",
   "pygments_lexer": "ipython3",
   "version": "3.6.9"
  }
 },
 "nbformat": 4,
 "nbformat_minor": 4
}
