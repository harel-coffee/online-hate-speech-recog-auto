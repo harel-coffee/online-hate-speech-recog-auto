{
 "cells": [
  {
   "cell_type": "code",
   "execution_count": 19,
   "metadata": {},
   "outputs": [],
   "source": [
    "!rm ../data/dataset.csv\n",
    "!cat ../data/en/hasoc2019/hasoc2019.csv >> ../data/dataset.csv\n",
    "!cat ../data/en/hate_speech_icwsm18/nhsm.csv >> ../data/dataset.csv\n",
    "!cat ../data/en/hate-speech-and-offensive-language/t_davidson.csv >> ../data/dataset.csv\n",
    "!cat ../data/en/ousidhoum-etal-multilingual-hate-speech-2019/ousidhoum.csv >> ../data/dataset.csv\n",
    "!cat ../data/en/semeval2019/semeval2019.csv >> ../data/dataset.csv"
   ]
  },
  {
   "cell_type": "code",
   "execution_count": 84,
   "metadata": {},
   "outputs": [],
   "source": [
    "# !pip install matplotlib\n",
    "# !pip install ekphrasis"
   ]
  },
  {
   "cell_type": "code",
   "execution_count": 86,
   "metadata": {},
   "outputs": [],
   "source": [
    "import matplotlib.pyplot as plt\n",
    "import re\n",
    "import pandas as pd\n",
    "import feature_generation as fg"
   ]
  },
  {
   "cell_type": "code",
   "execution_count": 87,
   "metadata": {},
   "outputs": [
    {
     "name": "stdout",
     "output_type": "stream",
     "text": [
      "(50386, 3)\n",
      "             text_id          text  class\n",
      "count          50381         50381  50381\n",
      "unique         49524         50000      3\n",
      "top     hasoc_en_512  @user retard      2\n",
      "freq               2             5  22898\n"
     ]
    }
   ],
   "source": [
    "df_en = pd.read_csv('../data/dataset.csv')\n",
    "print(df_en.shape)\n",
    "df_en.drop(df_en[(df_en['text_id'] == 'text_id')].index,inplace=True)\n",
    "df_en.drop(df_en[(df_en['hate'] == 'HS')].index,inplace=True)\n",
    "df_en.rename(columns={'hate':'class'},inplace=True)\n",
    "print(df_en.describe())"
   ]
  },
  {
   "cell_type": "code",
   "execution_count": 88,
   "metadata": {},
   "outputs": [
    {
     "name": "stdout",
     "output_type": "stream",
     "text": [
      "Size of dataset: 50381\n",
      "Hateful (class) = 1: 10738 ( 21.313590440840795 %)\n",
      "Offensive (class) = 2: 22898 ( 45.44967348802128 %)\n",
      "\n",
      "****\n",
      "\n",
      "**Hateful examples (class) = 1\n",
      "[\"A gangster sets out to fulfill his father’s dream of becoming a doctor.    Doctor's in #WestBengal be like #munna_bhai_MBBS    #DoctorsFightBack #DoctorsStrike #DoctorsUnderOppression   @MamataOfficial https://t.co/lZQcStQ2Md\", 'That’s not white supremacy though is it. That means whites thinking AND ACTING as though they are superior to others. What these Jew/Muslim joint actions are concerned with is protecting stuff like Halal/Kosher, circumcision and the right to wear religious garb. 1/2', 'Sit his ass down!  Tape his fingers and duct-tape his mouth.  Then throw him in a cage with the immigrants.  Problem solved!  Such a vision.  America, Free of Trump.  Darn, I just woke up.  Dems will do nothing.  #FuckTrump #FuckGOP #FuckCivility #ImpeachmentInquiryNow https://t.co/gU8oBArfo8', 'Congress abusive language towards PM Modi in Parliament is unacceptable.. Punish the MP\\\\n#GandiNaaliAbuse', \"@realDonaldTrump Since @realDonaldTrump is the BIGGEST deadbeat fraud, what he calls a fraud is what the rest of humanity not kiSsing his rectum calls #TheTRUTH. And we ALL know Trump CAN'T HANDLE THE TRUTH! #FuckTrump #ComradeTrump #PutinsPuppet #CadetBoneSpurs #MakingAmericaGarbageAgain #MAGA\", \"#ShameOnICC  Even local cricket tournament have better management &amp; planning than your's .   Thankyou for spoiling the worldcup. https://t.co/tfYxvOreN7\", 'Congress should not forget that Modi is the Pm of India and he Definitely deserves respect. Congress should immediately apologize for this low standard comment.#Congress #GandiNaaliAbuse #GandiNaaliInsult #BJP', \"BECAUSE THE USA GOT INVOLVED IN EL SALVADOR NOT 'MUSLIM COUNTRIES'  \", '😂😂🤙🏽🤙🏽😰😰 Buy a #fucktrump #hat today. I took the price down &amp; #freeshipping CLICK on LINK in my bio. Or PRE-Order a #chingatrump hat ! 🤙🏽\\U0001f91f🏾👊🏽💪🏾 #peaceout #forthewin #imissobama #dumptrump #resist #impeach #etsy… https://t.co/UR1FktTpt9', '@BrianKarem @realDonaldTrump Be Quiet or the racist scarecrow with the orange face will get you!!  #fucktrump #FUCKTHEGOP #ImpeachTrumpNow https://t.co/RAyBWJczqR']\n",
      "\n",
      "**Offensive examples (class) = 2\n",
      "['!!!!! RT @mleew17: boy dats cold...tyga dwn bad for cuffin dat hoe in the 1st place!!', '!!!!!!! RT @UrKindOfBrand Dawg!!!! RT @80sbaby4life: You ever fuck a bitch and she start to cry? You be confused as shit', '!!!!!!!!! RT @C_G_Anderson: @viva_based she look like a tranny', '!!!!!!!!!!!!! RT @ShenikaRoberts: The shit you hear about me might be true or it might be faker than the bitch who told it to ya &#57361;', '!!!!!!!!!!!!!!!!!!\"@T_Madison_x: The shit just blows me..claim you so faithful and down for somebody but still fucking with hoes! &#128514;&#128514;&#128514;\"', '!!!!!!\"@__BrighterDays: I can not just sit up and HATE on another bitch .. I got too much shit going on!\"', \"!!!!&#8220;@selfiequeenbri: cause I'm tired of you big bitches coming for us skinny girls!!&#8221;\", '\" &amp; you might not get ya bitch back &amp; thats that \"', '\" @rhythmixx_ :hobbies include: fighting Mariam\"\\n\\nbitch', '\" Keeks is a bitch she curves everyone \" lol I walked into a conversation like this. Smh']\n"
     ]
    },
    {
     "data": {
      "text/plain": [
       "<AxesSubplot:xlabel='class'>"
      ]
     },
     "execution_count": 88,
     "metadata": {},
     "output_type": "execute_result"
    },
    {
     "data": {
      "image/png": "[encoded data removed]",
      "text/plain": [
       "<Figure size 432x288 with 1 Axes>"
      ]
     },
     "metadata": {
      "needs_background": "light"
     },
     "output_type": "display_data"
    }
   ],
   "source": [
    "total = df_en.shape[0]\n",
    "gp = df_en.groupby(['class'])['text_id'].count()\n",
    "hate = gp[1]\n",
    "offensive = gp[2]\n",
    "print(\"Size of dataset:\", total)\n",
    "print(\"Hateful (class) = 1:\", hate, \"(\",hate/total*100,\"%)\")\n",
    "print(\"Offensive (class) = 2:\",offensive, \"(\",offensive/total*100,\"%)\")\n",
    "print(\"\\n****\\n\")\n",
    "print('**Hateful examples (class) = 1')\n",
    "print(list(df_en[df_en['class']==\"1\"]['text'][0:10]))\n",
    "\n",
    "print('\\n**Offensive examples (class) = 2')\n",
    "print(list(df_en[df_en['class']==\"2\"]['text'][0:10]))\n",
    "gp.plot(kind='bar')\n"
   ]
  },
  {
   "cell_type": "markdown",
   "metadata": {},
   "source": [
    "### Pre process text"
   ]
  },
  {
   "cell_type": "code",
   "execution_count": 89,
   "metadata": {},
   "outputs": [
    {
     "name": "stdout",
     "output_type": "stream",
     "text": [
      "Reading twitter - 1grams ...\n",
      "Reading twitter - 2grams ...\n",
      "Reading twitter - 1grams ...\n"
     ]
    }
   ],
   "source": [
    "from ekphrasis.classes.preprocessor import TextPreProcessor\n",
    "from ekphrasis.classes.tokenizer import SocialTokenizer\n",
    "from ekphrasis.dicts.emoticons import emoticons\n",
    "\n",
    "text_processor = TextPreProcessor(\n",
    "    # terms that will be normalized\n",
    "    normalize=['url', 'email', 'percent', 'money', 'phone', 'user',\n",
    "        'time', 'url', 'date', 'number'],\n",
    "    # terms that will be annotated\n",
    "    annotate={\"hashtag\", \"allcaps\", \"elongated\", \"repeated\",\n",
    "        'emphasis', 'censored'},\n",
    "    fix_html=True,  # fix HTML tokens\n",
    "    \n",
    "    # corpus from which the word statistics are going to be used \n",
    "    # for word segmentation \n",
    "    segmenter=\"twitter\", \n",
    "    \n",
    "    # corpus from which the word statistics are going to be used \n",
    "    # for spell correction\n",
    "    corrector=\"twitter\", \n",
    "    \n",
    "    unpack_hashtags=True,  # perform word segmentation on hashtags\n",
    "    unpack_contractions=True,  # Unpack contractions (can't -> can not)\n",
    "    spell_correct_elong=False,  # spell correction for elongated words\n",
    "    \n",
    "    # select a tokenizer. You can use SocialTokenizer, or pass your own\n",
    "    # the tokenizer, should take as input a string and return a list of tokens\n",
    "    tokenizer=SocialTokenizer(lowercase=True).tokenize,\n",
    "    \n",
    "    # list of dictionaries, for replacing tokens extracted from the text,\n",
    "    # with other expressions. You can pass more than one dictionaries.\n",
    "    dicts=[emoticons]\n",
    ")\n"
   ]
  },
  {
   "cell_type": "code",
   "execution_count": 90,
   "metadata": {},
   "outputs": [],
   "source": [
    "pre = fg.features()\n",
    "df_en['ekphrasis_clean_text'] = df_en.apply(lambda x: \" \".join(text_processor.pre_process_doc(x.text)),axis=1)\n",
    "df_en['basic_clean_text'] = df_en.apply(lambda x: pre.preprocess(x.text), axis = 1)"
   ]
  },
  {
   "cell_type": "code",
   "execution_count": 91,
   "metadata": {},
   "outputs": [
    {
     "name": "stdout",
     "output_type": "stream",
     "text": [
      "Why the #DoctorsFightBack is not just about violence unleashed on them ? Its time to address faltering justice systems, crippled health systems and broken dreams  https://t.co/S2akvvDDlY\n",
      "why the <hashtag> doctors fight back </hashtag> is not just about violence unleashed on them ? its time to address faltering justice systems , crippled health systems and broken dreams <url>\n"
     ]
    }
   ],
   "source": [
    "print(df_en['text'][100])\n",
    "print(df_en['ekphrasis_clean_text'][100])"
   ]
  },
  {
   "cell_type": "code",
   "execution_count": 93,
   "metadata": {},
   "outputs": [
    {
     "name": "stdout",
     "output_type": "stream",
     "text": [
      "Why the #DoctorsFightBack is not just about violence unleashed on them ? Its time to address faltering justice systems, crippled health systems and broken dreams  https://t.co/S2akvvDDlY\n",
      "Why the #DoctorsFightBack is not just about violence unleashed on them ? Its time to address faltering justice systems, crippled health systems and broken dreams \n"
     ]
    }
   ],
   "source": [
    "print(df_en['text'][100])\n",
    "print(df_en['basic_clean_text'][100])"
   ]
  },
  {
   "cell_type": "code",
   "execution_count": 96,
   "metadata": {},
   "outputs": [
    {
     "name": "stderr",
     "output_type": "stream",
     "text": [
      "/homes/nv304/py3tf2/lib/python3.6/re.py:212: FutureWarning: split() requires a non-empty pattern match.\n",
      "  return _compile(pattern, flags).split(string, maxsplit)\n",
      "/homes/nv304/py3tf2/lib/python3.6/site-packages/sklearn/feature_extraction/text.py:385: UserWarning: Your stop_words may be inconsistent with your preprocessing. Tokenizing the stop words generated tokens ['abov', 'ani', 'becaus', 'befor', 'doe', 'dure', 'ha', 'hi', 'onc', 'onli', 'ourselv', 'themselv', 'thi', 'veri', 'wa', 'whi', 'yourselv'] not in stop_words.\n",
      "  'stop_words.' % sorted(inconsistent))\n",
      "/homes/nv304/py3tf2/lib/python3.6/re.py:212: FutureWarning: split() requires a non-empty pattern match.\n",
      "  return _compile(pattern, flags).split(string, maxsplit)\n"
     ]
    }
   ],
   "source": [
    "text = df_en.text\n",
    "feat = fg.features()\n",
    "M,fnames = feat.get_feature_array(text)"
   ]
  },
  {
   "cell_type": "code",
   "execution_count": 99,
   "metadata": {},
   "outputs": [],
   "source": [
    "X = pd.DataFrame(M)\n",
    "y = df_en['class'].astype(int)"
   ]
  },
  {
   "cell_type": "code",
   "execution_count": 111,
   "metadata": {},
   "outputs": [],
   "source": [
    "from sklearn.model_selection import train_test_split\n",
    "from sklearn.model_selection import StratifiedKFold, GridSearchCV\n",
    "from sklearn.pipeline import Pipeline\n",
    "from sklearn.linear_model import LogisticRegression\n",
    "from sklearn.feature_selection import SelectFromModel\n",
    "from sklearn.metrics import classification_report\n",
    "from sklearn.svm import LinearSVC\n",
    "X_train, X_test, y_train, y_test = train_test_split(X, y, random_state=42, test_size=0.2)\n",
    "pipe = Pipeline(\n",
    "        [('select', SelectFromModel(LogisticRegression(class_weight='balanced',\n",
    "                                                  penalty=\"l2\", C=0.01, max_iter=10000 ))),\n",
    "        ('model', LogisticRegression(class_weight='balanced',penalty='l2', max_iter=10000 ))])\n",
    "\n",
    "param_grid = [{}] # Optionally add parameters here"
   ]
  },
  {
   "cell_type": "code",
   "execution_count": 115,
   "metadata": {},
   "outputs": [
    {
     "name": "stderr",
     "output_type": "stream",
     "text": [
      "/homes/nv304/py3tf2/lib/python3.6/site-packages/sklearn/model_selection/_split.py:296: FutureWarning: Setting a random_state has no effect since shuffle is False. This will raise an error in 0.24. You should leave random_state to its default (None), or set shuffle=True.\n",
      "  FutureWarning\n"
     ]
    }
   ],
   "source": [
    "grid_search = GridSearchCV(pipe, \n",
    "                           param_grid,\n",
    "                           cv=StratifiedKFold(n_splits=5, \n",
    "                                              random_state=42).split(X_train, y_train), \n",
    "                           verbose=2,\n",
    "                           n_jobs=-1\n",
    "                          )"
   ]
  },
  {
   "cell_type": "code",
   "execution_count": null,
   "metadata": {},
   "outputs": [
    {
     "name": "stdout",
     "output_type": "stream",
     "text": [
      "Fitting 5 folds for each of 1 candidates, totalling 5 fits\n"
     ]
    },
    {
     "name": "stderr",
     "output_type": "stream",
     "text": [
      "[Parallel(n_jobs=-1)]: Using backend LokyBackend with 16 concurrent workers.\n"
     ]
    }
   ],
   "source": [
    "model = grid_search.fit(X_train, y_train)"
   ]
  },
  {
   "cell_type": "code",
   "execution_count": null,
   "metadata": {},
   "outputs": [],
   "source": []
  }
 ],
 "metadata": {
  "kernelspec": {
   "display_name": "Python 3",
   "language": "python",
   "name": "python3"
  },
  "language_info": {
   "codemirror_mode": {
    "name": "ipython",
    "version": 3
   },
   "file_extension": ".py",
   "mimetype": "text/x-python",
   "name": "python",
   "nbconvert_exporter": "python",
   "pygments_lexer": "ipython3",
   "version": "3.6.9"
  }
 },
 "nbformat": 4,
 "nbformat_minor": 4
}
