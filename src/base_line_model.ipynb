{
 "cells": [
  {
   "cell_type": "code",
   "execution_count": 1,
   "metadata": {},
   "outputs": [],
   "source": [
    "!rm ../data/dataset.csv\n",
    "!cat ../data/en/hasoc2019/hasoc2019.csv >> ../data/dataset.csv\n",
    "!cat ../data/en/hate_speech_icwsm18/nhsm.csv >> ../data/dataset.csv\n",
    "!cat ../data/en/hate-speech-and-offensive-language/t_davidson.csv >> ../data/dataset.csv\n",
    "!cat ../data/en/ousidhoum-etal-multilingual-hate-speech-2019/ousidhoum.csv >> ../data/dataset.csv\n",
    "!cat ../data/en/semeval2019/semeval2019.csv >> ../data/dataset.csv\n",
    "\n",
    "!rm ../data/dataset-hi.csv\n",
    "!rm ../data/dataset-hi-cdmx.csv\n",
    "!cat ../data/hi/hasoc2019/hi-hasoc2019.csv >> ../data/dataset-hi.csv\n",
    "!cat ../data/hi/Hinglish-Offensive-Text-Classification/hi-code-mixed-pmathur.csv >> ../data/dataset-hi-cdmx.csv"
   ]
  },
  {
   "cell_type": "code",
   "execution_count": 2,
   "metadata": {},
   "outputs": [],
   "source": [
    "# !pip install matplotlib\n",
    "# !pip install ekphrasis\n",
    "# !pip install seaborn\n",
    "# !pip install joblib"
   ]
  },
  {
   "cell_type": "code",
   "execution_count": null,
   "metadata": {},
   "outputs": [],
   "source": [
    "import matplotlib.pyplot as plt\n",
    "import re\n",
    "import pandas as pd\n",
    "import feature_generation as fg\n",
    "import base_line_LR as lr\n",
    "from utils.emoji import emoji_clean\n",
    "import warnings\n",
    "warnings.filterwarnings('ignore')\n",
    "import pickle"
   ]
  },
  {
   "cell_type": "markdown",
   "metadata": {},
   "source": [
    "## English Dataset"
   ]
  },
  {
   "cell_type": "code",
   "execution_count": 2,
   "metadata": {},
   "outputs": [
    {
     "name": "stdout",
     "output_type": "stream",
     "text": [
      "Reading twitter - 1grams ...\n",
      "Reading twitter - 2grams ...\n",
      "Reading twitter - 1grams ...\n",
      "(50379, 4)\n",
      "              class      text_len\n",
      "count  50379.000000  50379.000000\n",
      "mean       1.122134     16.847476\n",
      "std        0.878632     10.154718\n",
      "min        0.000000      1.000000\n",
      "25%        0.000000      9.000000\n",
      "50%        1.000000     15.000000\n",
      "75%        2.000000     22.000000\n",
      "max        2.000000     95.000000\n"
     ]
    }
   ],
   "source": [
    "pre = fg.features(lang='en')\n",
    "df_en = pd.read_csv('../data/dataset.csv')\n",
    "df_en = df_en.dropna()\n",
    "df_en.drop(df_en[(df_en['text_id'] == 'text_id')].index,inplace=True)\n",
    "df_en.drop(df_en[(df_en['hate'] == 'HS')].index,inplace=True)\n",
    "df_en.rename(columns={'hate':'class'},inplace=True)\n",
    "df_en[\"class\"] = df_en[\"class\"].astype(int)\n",
    "df_en['text_len'] = df_en.apply(lambda x: len(x.text.split()), axis=1)\n",
    "df_en = df_en[df_en['text_len']<200]\n",
    "print(df_en.shape)\n",
    "print(df_en.describe())"
   ]
  },
  {
   "cell_type": "code",
   "execution_count": 5,
   "metadata": {},
   "outputs": [
    {
     "name": "stdout",
     "output_type": "stream",
     "text": [
      "Size of dataset: 50379\n",
      "Hateful (class) = 1: 10736 ( 21.310466662696758 %)\n",
      "Offensive (class) = 2: 22898 ( 45.45147779828897 %)\n",
      "\n",
      "****\n",
      "\n",
      "**Hateful examples (class) = 1\n",
      "[\"A gangster sets out to fulfill his father’s dream of becoming a doctor.    Doctor's in #WestBengal be like #munna_bhai_MBBS    #DoctorsFightBack #DoctorsStrike #DoctorsUnderOppression   @MamataOfficial https://t.co/lZQcStQ2Md\"]\n",
      "\n",
      "**Offensive examples (class) = 2\n",
      "['!!!!! RT @mleew17: boy dats cold...tyga dwn bad for cuffin dat hoe in the 1st place!!']\n"
     ]
    },
    {
     "data": {
      "text/plain": [
       "<matplotlib.axes._subplots.AxesSubplot at 0x7f06af2f8fd0>"
      ]
     },
     "execution_count": 5,
     "metadata": {},
     "output_type": "execute_result"
    },
    {
     "data": {
      "image/png": "[encoded data removed]",
      "text/plain": [
       "<Figure size 432x288 with 1 Axes>"
      ]
     },
     "metadata": {
      "needs_background": "light"
     },
     "output_type": "display_data"
    }
   ],
   "source": [
    "total = df_en.shape[0]\n",
    "gp = df_en.groupby(['class'])['text_id'].count()\n",
    "hate = gp[1]\n",
    "offensive = gp[2]\n",
    "print(\"Size of dataset:\", total)\n",
    "print(\"Hateful (class) = 1:\", hate, \"(\",hate/total*100,\"%)\")\n",
    "print(\"Offensive (class) = 2:\",offensive, \"(\",offensive/total*100,\"%)\")\n",
    "print(\"\\n****\\n\")\n",
    "print('**Hateful examples (class) = 1')\n",
    "print(list(df_en[df_en['class']==1]['text'][0:1]))\n",
    "\n",
    "print('\\n**Offensive examples (class) = 2')\n",
    "print(list(df_en[df_en['class']==2]['text'][0:1]))\n",
    "gp.plot(kind='bar')\n"
   ]
  },
  {
   "cell_type": "markdown",
   "metadata": {},
   "source": [
    "### Pre process text"
   ]
  },
  {
   "cell_type": "code",
   "execution_count": 2,
   "metadata": {},
   "outputs": [
    {
     "name": "stdout",
     "output_type": "stream",
     "text": [
      "Reading twitter - 1grams ...\n",
      "Reading twitter - 2grams ...\n",
      "Reading twitter - 1grams ...\n"
     ]
    }
   ],
   "source": [
    "from ekphrasis.classes.preprocessor import TextPreProcessor\n",
    "from ekphrasis.classes.tokenizer import SocialTokenizer\n",
    "from ekphrasis.dicts.emoticons import emoticons\n",
    "from ekphrasis.dicts.noslang.slang import slang\n",
    "\n",
    "text_processor = TextPreProcessor(\n",
    "    # terms that will be normalized\n",
    "    normalize=['url', 'email', 'percent', 'money', 'phone', 'user',\n",
    "        'time', 'url', 'date', 'number'],\n",
    "    # terms that will be annotated\n",
    "    annotate={\"hashtag\", \"allcaps\", \"elongated\", \"repeated\",\n",
    "        'emphasis', 'censored'},\n",
    "    fix_html=True,  # fix HTML tokens\n",
    "    \n",
    "    # corpus from which the word statistics are going to be used \n",
    "    # for word segmentation \n",
    "    segmenter=\"twitter\", \n",
    "    \n",
    "    # corpus from which the word statistics are going to be used \n",
    "    # for spell correction\n",
    "    corrector=\"twitter\", \n",
    "    \n",
    "    unpack_hashtags=True,  # perform word segmentation on hashtags\n",
    "    unpack_contractions=True,  # Unpack contractions (can't -> can not)\n",
    "    spell_correct_elong=False,  # spell correction for elongated words\n",
    "    \n",
    "    # select a tokenizer. You can use SocialTokenizer, or pass your own\n",
    "    # the tokenizer, should take as input a string and return a list of tokens\n",
    "    tokenizer=SocialTokenizer(lowercase=True).tokenize,\n",
    "    \n",
    "    # list of dictionaries, for replacing tokens extracted from the text,\n",
    "    # with other expressions. You can pass more than one dictionaries.\n",
    "    dicts=[emoticons,slang]\n",
    ")\n"
   ]
  },
  {
   "cell_type": "code",
   "execution_count": 7,
   "metadata": {},
   "outputs": [],
   "source": [
    "df_en['ekphrasis_clean_text'] = df_en.apply(lambda x: \" \".join(text_processor.pre_process_doc(x.text)),axis=1)\n",
    "df_en['basic_clean_text'] = df_en.apply(lambda x: pre.preprocess(x.text), axis = 1)\n",
    "df_en.to_csv('../data/dataset_en.csv',index=False)"
   ]
  },
  {
   "cell_type": "code",
   "execution_count": 8,
   "metadata": {},
   "outputs": [
    {
     "name": "stdout",
     "output_type": "stream",
     "text": [
      "Why the #DoctorsFightBack is not just about violence unleashed on them ? Its time to address faltering justice systems, crippled health systems and broken dreams  https://t.co/S2akvvDDlY\n",
      "why the <hashtag> doctors fight back </hashtag> is not just about violence unleashed on them ? its time to address faltering justice systems , crippled health systems and broken dreams <url>\n"
     ]
    }
   ],
   "source": [
    "print(df_en['text'][100])\n",
    "print(df_en['ekphrasis_clean_text'][100])"
   ]
  },
  {
   "cell_type": "code",
   "execution_count": 9,
   "metadata": {},
   "outputs": [
    {
     "name": "stdout",
     "output_type": "stream",
     "text": [
      "Why the #DoctorsFightBack is not just about violence unleashed on them ? Its time to address faltering justice systems, crippled health systems and broken dreams  https://t.co/S2akvvDDlY\n",
      "why the doctors fight back not just about violence unleashed them ? its time address faltering justice systems , crippled health systems and broken dreams\n"
     ]
    }
   ],
   "source": [
    "print(df_en['text'][100])\n",
    "print(df_en['basic_clean_text'][100])"
   ]
  },
  {
   "cell_type": "markdown",
   "metadata": {},
   "source": [
    "## Hindi Dataset"
   ]
  },
  {
   "cell_type": "code",
   "execution_count": 6,
   "metadata": {},
   "outputs": [
    {
     "data": {
      "text/html": [],
      "text/plain": [
       "<IPython.core.display.HTML object>"
      ]
     },
     "metadata": {},
     "output_type": "display_data"
    },
    {
     "data": {
      "text/html": [],
      "text/plain": [
       "<IPython.core.display.HTML object>"
      ]
     },
     "metadata": {},
     "output_type": "display_data"
    },
    {
     "name": "stdout",
     "output_type": "stream",
     "text": [
      "Reading english - 1grams ...\n",
      "(9330, 3)\n",
      "            class\n",
      "count  9330.00000\n",
      "mean      0.52926\n",
      "std       0.49917\n",
      "min       0.00000\n",
      "25%       0.00000\n",
      "50%       1.00000\n",
      "75%       1.00000\n",
      "max       1.00000\n"
     ]
    }
   ],
   "source": [
    "pre = fg.features(lang='hi')\n",
    "df_hi = pd.read_csv('../data/dataset-hi.csv')\n",
    "print(df_hi.shape)\n",
    "df_hi.drop(df_hi[(df_hi['text_id'] == 'text_id')].index,inplace=True)\n",
    "df_hi.drop(df_hi[(df_hi['hate'] == 'HS')].index,inplace=True)\n",
    "df_hi.rename(columns={'hate':'class'},inplace=True)\n",
    "print(df_hi.describe())"
   ]
  },
  {
   "cell_type": "code",
   "execution_count": 3,
   "metadata": {},
   "outputs": [
    {
     "name": "stdout",
     "output_type": "stream",
     "text": [
      "Size of dataset: 9330\n",
      "Hateful (class) = 1: 4938 ( 52.926045016077175 %)\n",
      "\n",
      "****\n",
      "\n",
      "**Hateful examples (class) = 1\n",
      "['ये लिटन की गाँड में लिप्टन की चाय डालता हूँ अभी विथ गर्म केतली ']\n"
     ]
    }
   ],
   "source": [
    "total = df_hi.shape[0]\n",
    "gp = df_hi.groupby(['class'])['text_id'].count()\n",
    "hate = gp[1]\n",
    "print(\"Size of dataset:\", total)\n",
    "print(\"Hateful (class) = 1:\", hate, \"(\",hate/total*100,\"%)\")\n",
    "print(\"\\n****\\n\")\n",
    "print('**Hateful examples (class) = 1')\n",
    "print(list(df_hi[df_hi['class']==1]['text'][0:1]))"
   ]
  },
  {
   "cell_type": "code",
   "execution_count": 4,
   "metadata": {},
   "outputs": [],
   "source": [
    "df_hi['text'] = df_hi.apply(lambda x: emoji_clean(x.text), axis=1) "
   ]
  },
  {
   "cell_type": "code",
   "execution_count": null,
   "metadata": {},
   "outputs": [],
   "source": [
    "df_hi['ekphrasis_clean_text'] = df_hi.apply(lambda x: \" \".join(text_processor.pre_process_doc(x.text)),axis=1)\n",
    "df_hi['basic_clean_text'] = df_hi.apply(lambda x: pre.preprocess(x.text), axis = 1)\n",
    "df_hi.to_csv('../data/dataset_hi.csv',index=False)"
   ]
  },
  {
   "cell_type": "code",
   "execution_count": null,
   "metadata": {},
   "outputs": [],
   "source": [
    "print(df_hi['text'][100])\n",
    "print(df_hi['ekphrasis_clean_text'][100])"
   ]
  },
  {
   "cell_type": "code",
   "execution_count": null,
   "metadata": {},
   "outputs": [],
   "source": [
    "print(df_hi['text'][100])\n",
    "print(df_hi['basic_clean_text'][100])"
   ]
  },
  {
   "cell_type": "markdown",
   "metadata": {},
   "source": [
    "## Code mixed Hindi "
   ]
  },
  {
   "cell_type": "code",
   "execution_count": 3,
   "metadata": {},
   "outputs": [
    {
     "name": "stdout",
     "output_type": "stream",
     "text": [
      "Reading twitter - 1grams ...\n",
      "Reading twitter - 2grams ...\n",
      "Reading twitter - 1grams ...\n",
      "(3189, 3)\n",
      "             class\n",
      "count  3189.000000\n",
      "mean      1.201944\n",
      "std       0.929772\n",
      "min       0.000000\n",
      "25%       0.000000\n",
      "50%       2.000000\n",
      "75%       2.000000\n",
      "max       2.000000\n"
     ]
    }
   ],
   "source": [
    "pre = fg.features(lang='en')\n",
    "df_hi_cdmx = pd.read_csv('../data/dataset-hi-cdmx.csv')\n",
    "print(df_hi_cdmx.shape)\n",
    "df_hi_cdmx.drop(df_hi_cdmx[(df_hi_cdmx['text_id'] == 'text_id')].index,inplace=True)\n",
    "df_hi_cdmx.drop(df_hi_cdmx[(df_hi_cdmx['hate'] == 'HS')].index,inplace=True)\n",
    "df_hi_cdmx.rename(columns={'hate':'class'},inplace=True)\n",
    "print(df_hi_cdmx.describe())"
   ]
  },
  {
   "cell_type": "code",
   "execution_count": 6,
   "metadata": {},
   "outputs": [
    {
     "name": "stdout",
     "output_type": "stream",
     "text": [
      "Size of dataset: 3189\n",
      "Hateful (class) = 1: 303 ( 9.501411100658514 %)\n",
      "\n",
      "****\n",
      "\n",
      "**Hateful examples (class) = 1\n",
      "['@InviSibleSold @mabkhan86 @dridadahn Main jutt Punjabi hoon aur paka N league. Madarchod Imran ki Punjab say nafrat clear hai.', 'RT @AnshKSpeaks: Screw the law of the land. If I find this chutiya Madarchod Mulla I will Lynch him, murder him, cut into millions of pieces and Ha\\\\xe2\\\\x80\\\\xa6', \"*Virat and Anushka's future kid*\\\\n\\\\nAnushka: Mamma bolo beta, mammaaaa\\\\n\\\\nKid: Mm.. Ma.. Maa.. Madarchod!\", '@dasraghubar @narendramodi @AmitShah @BJP4India @BJPLive @BJP4Jharkhand Madarchod brahmno se mafi mango', '@NANGI_POOJA Madarchod musalman aaiysha aur wo hai', '@M_walim @ICC @imVkohli @AnushkaSharma Teri ammi ko chodne wala insaan hai ye icc kya pure world isko badhai dekha bc hat mulle madarchod', '@girishalva @garuna73 I never donate to any madarchod hindu priests, they are chors.', 'Bhak Machod Mullo Ke Abbu  @bewak_sanki543 @milkygaay @Dilli_Ka_Maalik @ArvindKrejriwal @ashu3page @AamAadmiParty\\\\xe2\\\\x80\\\\xa6 https://t.co/K1pRnRhz0V', '@_R_aHu_L_ @Mk56Kaur bhadwe ki aulad ho tum sale madarchod ki wajah se ye zait failta hai hindu muslim ka bhen ke t\\\\xe2\\\\x80\\\\xa6 https://t.co/nbdEzBGmu1', '@NaamHiKafiHay Teri maa Randi Madarchod Saale Pakistani']\n",
      "**Offensive examples (class) = 2\n",
      "['Banti hai empowered woman, feminism pe gyan pelti hai aur din bhar roti rehti hai. Pahle rona band kar madarchod!', 'RT @kim_jong_korea: @updatingwait @Acutereply Ab usko chhod mjse bat kr tera baap aa gya hai ab to ldki ko beech me q la ra hai Madarchod t\\\\xe2\\\\x80\\\\xa6', '@InviSibleSold @mabkhan86 @dridadahn Punjab in madarchodon ko Khila raha hai, nokrian day raha hai aur yeh imran ma\\\\xe2\\\\x80\\\\xa6 https://t.co/fxaRgyKZXF', 'RT @MrMonsterSaid: Agar koi bole ki ja ke chill maar to madarchod ki gand maar lene ka.', '@adn_merry To Bhosdike tere Baap ka kya ja raha hai? tu Apna Ghar dekh na Madarchod', '@updatingwait @Acutereply SUNNY LEONE BANA KE CHODEGE\\\\nTERI MAA KO\\\\nSAMJH ME AAYA \\\\nMADARCHOD NEEM KA PATTA KADVA HAI\\\\xe2\\\\x80\\\\xa6 https://t.co/tsrMfs26rp', '@akramtyagi @BSF_India @rajnathsingh @Uppolice @moradabadpolice @myogiadityanath Pata nahi aise sanghi kutte ko bha\\\\xe2\\\\x80\\\\xa6 https://t.co/n2PLeOgW0v', '@SHARIQSAM @imjadeja @RoflGandhi_ Bc madarchod South Africa England main @imjadeja Man of the match award le chuke\\\\xe2\\\\x80\\\\xa6 https://t.co/hGTCrbEDPB', '@INCIndia Madarchod congresi or Bjp dono ki sarkar bani baad me  wade bhul gye\" Rajasthan me hamri City tak singal\\\\xe2\\\\x80\\\\xa6 https://t.co/4LCITdwiVc', 'Madarchod socialify wale log  pouting face']\n",
      "**Normal examples (class) = 0\n",
      "['@saud5683 @Mutayyab420 @shivang598 @Ranask35 @milkygaay @Aapaawaambaa @thetanmay @INCIndia Haa jaise tum bhi abhi p\\\\xe2\\\\x80\\\\xa6 https://t.co/wZmXZPIMTD', 'A boy donated blood to his gf !\\\\n\\\\nTwo months later they broke up ?\\\\n\\\\nBoy- mujhe mera khoon lauta de !! \\\\n\\\\nGirl- (throw\\\\xe2\\\\x80\\\\xa6 https://t.co/0Ik5oBqSDb', '@mukkigirl @MulloKeAbbu @bewak_sanki543 @milkygaay @Dilli_Ka_Maalik @ArvindKrejriwal @ashu3page @AamAadmiParty @AmMi @laudeya @madarchod Ok', 'RT @Bhak_Machod: @mukkigirl @MulloKeAbbu @bewak_sanki543 @milkygaay @Dilli_Ka_Maalik @ArvindKrejriwal @ashu3page @AamAadmiParty @AmMi @laud\\\\xe2\\\\x80\\\\xa6', 'RT @dilwala_SRK: @ISrkfanOnly @SRKsRider @SRKswarrior1 @being_tiger_ HNY k time pe 15000 kamaya tha maine..is baar payment nahi de rahe hai\\\\xe2\\\\x80\\\\xa6', 'RT @is_enticing: chalo acha h tumhare dost tumhare birthday ka countdown kar rahe h.\\\\nbut iska mtlb yeh thodi h ki uska ss le k tum story da\\\\xe2\\\\x80\\\\xa6', 'Badir just announced their funding statistics for their emerging startups in Saudi Arabia\\\\nhttps://t.co/si2Cq9KVcx\\\\n#Startup #News #Tech', '@DaaruBaazMehta @ArvindKejriwal @ManojTiwariMP @BJP4India That fellow Tiwari must be getting part of the loot from\\\\xe2\\\\x80\\\\xa6 https://t.co/WLkkxdrihT', 'RT @HukkaKing1: @GouravvRock @sonalichauhan1 @EatTravelDie @hemantbatra0 @SociallyMayank @TheSoberRider @vishalkalia2 Alfaz hai mera kadva\\\\xe2\\\\x80\\\\xa6', '@gadgil_rajesh He does not have guts in his balls. He is loud mouth. Creater of stories, fake cds and what not. He\\\\xe2\\\\x80\\\\xa6 https://t.co/nnvRVLurp2']\n"
     ]
    }
   ],
   "source": [
    "total = df_hi_cdmx.shape[0]\n",
    "gp = df_hi_cdmx.groupby(['class'])['text_id'].count()\n",
    "hate = gp[1]\n",
    "print(\"Size of dataset:\", total)\n",
    "print(\"Hateful (class) = 1:\", hate, \"(\",hate/total*100,\"%)\")\n",
    "print(\"\\n****\\n\")\n",
    "print('**Hateful examples (class) = 1')\n",
    "print(list(df_hi_cdmx[df_hi_cdmx['class']==1]['text'][0:10]))\n",
    "print('**Offensive examples (class) = 2')\n",
    "print(list(df_hi_cdmx[df_hi_cdmx['class']==2]['text'][0:10]))\n",
    "print('**Normal examples (class) = 0')\n",
    "print(list(df_hi_cdmx[df_hi_cdmx['class']==0]['text'][0:10]))"
   ]
  },
  {
   "cell_type": "code",
   "execution_count": 5,
   "metadata": {},
   "outputs": [],
   "source": [
    "df_hi_cdmx['text'] = df_hi_cdmx.apply(lambda x: emoji_clean(x.text), axis=1) \n",
    "\n",
    "df_hi_cdmx['ekphrasis_clean_text'] = df_hi_cdmx.apply(lambda x: \" \".join(text_processor.pre_process_doc(x.text)),axis=1)\n",
    "df_hi_cdmx['basic_clean_text'] = df_hi_cdmx.apply(lambda x: pre.preprocess(x.text), axis = 1)\n",
    "df_hi_cdmx.to_csv('../data/dataset_hi_cdmx.csv',index=False)"
   ]
  },
  {
   "cell_type": "code",
   "execution_count": 7,
   "metadata": {},
   "outputs": [
    {
     "name": "stdout",
     "output_type": "stream",
     "text": [
      "@AvijitEmmi Bahenchod .... experienced lagte ho bhai bhot face with tears of joy\n"
     ]
    },
    {
     "data": {
      "text/plain": [
       "'user bahenchod  experienced lagte hold on bhai bhot face with tears joy'"
      ]
     },
     "execution_count": 7,
     "metadata": {},
     "output_type": "execute_result"
    }
   ],
   "source": [
    "print(df_hi_cdmx['text'][100])\n",
    "df_hi_cdmx['basic_clean_text'][100]"
   ]
  },
  {
   "cell_type": "code",
   "execution_count": 8,
   "metadata": {},
   "outputs": [
    {
     "name": "stdout",
     "output_type": "stream",
     "text": [
      "@AvijitEmmi Bahenchod .... experienced lagte ho bhai bhot face with tears of joy\n",
      "<user> bahenchod . <repeated> experienced lagte hold on bhai bhot face with tears of joy\n"
     ]
    }
   ],
   "source": [
    "print(df_hi_cdmx['text'][100])\n",
    "print(df_hi_cdmx['ekphrasis_clean_text'][100])"
   ]
  },
  {
   "cell_type": "code",
   "execution_count": 9,
   "metadata": {},
   "outputs": [
    {
     "name": "stdout",
     "output_type": "stream",
     "text": [
      "class                                                                   2\n",
      "text                    @AvijitEmmi Bahenchod .... experienced lagte h...\n",
      "text_id                                                       pmathur_100\n",
      "ekphrasis_clean_text    <user> bahenchod . <repeated> experienced lagt...\n",
      "basic_clean_text        user bahenchod  experienced lagte hold on bhai...\n",
      "Name: 100, dtype: object\n"
     ]
    }
   ],
   "source": [
    "print(df_hi_cdmx.loc[100,:])"
   ]
  },
  {
   "cell_type": "code",
   "execution_count": null,
   "metadata": {},
   "outputs": [],
   "source": []
  },
  {
   "cell_type": "markdown",
   "metadata": {},
   "source": [
    "## Building LR Baseline Model - EN"
   ]
  },
  {
   "cell_type": "code",
   "execution_count": 3,
   "metadata": {},
   "outputs": [
    {
     "name": "stdout",
     "output_type": "stream",
     "text": [
      "Reading twitter - 1grams ...\n",
      "Reading twitter - 2grams ...\n"
     ]
    },
    {
     "name": "stderr",
     "output_type": "stream",
     "text": [
      "  0%|          | 0/50379 [00:00<?, ?it/s]"
     ]
    },
    {
     "name": "stdout",
     "output_type": "stream",
     "text": [
      "Reading twitter - 1grams ...\n",
      "en\n"
     ]
    },
    {
     "name": "stderr",
     "output_type": "stream",
     "text": [
      "100%|██████████| 50379/50379 [00:35<00:00, 1428.15it/s]\n"
     ]
    },
    {
     "name": "stdout",
     "output_type": "stream",
     "text": [
      "Creating new TFIDF Vectorizer\n",
      "Creating new POS Vectorizer\n"
     ]
    }
   ],
   "source": [
    "text = df_en.text\n",
    "feat = fg.features(lang='en')\n",
    "M,fnames,tfidf_vect,pos_vect = feat.get_feature_array(text)\n",
    "pickle.dump(tfidf_vect, open('../model/en_tfidf_vect.plk', 'wb'))\n",
    "pickle.dump(pos_vect, open('../model/en_pos_vect.plk', 'wb'))"
   ]
  },
  {
   "cell_type": "code",
   "execution_count": 22,
   "metadata": {},
   "outputs": [],
   "source": [
    "X = pd.DataFrame(M)\n",
    "y = df_en['class'].astype(int)"
   ]
  },
  {
   "cell_type": "code",
   "execution_count": 23,
   "metadata": {},
   "outputs": [
    {
     "name": "stdout",
     "output_type": "stream",
     "text": [
      "Fitting 5 folds for each of 1 candidates, totalling 5 fits\n"
     ]
    },
    {
     "name": "stderr",
     "output_type": "stream",
     "text": [
      "[Parallel(n_jobs=-1)]: Using backend LokyBackend with 16 concurrent workers.\n",
      "[Parallel(n_jobs=-1)]: Done   5 out of   5 | elapsed: 120.6min finished\n"
     ]
    },
    {
     "name": "stdout",
     "output_type": "stream",
     "text": [
      "Writing Model to file\n",
      "Done!\n"
     ]
    }
   ],
   "source": [
    "logreg = lr.LR()\n",
    "model = logreg.train(X,y,max_iter=5000, test_size=0.2,param_grid=[{}], path='../model/en_logistic_reg.pkl')"
   ]
  },
  {
   "cell_type": "code",
   "execution_count": 24,
   "metadata": {},
   "outputs": [],
   "source": [
    "y_pred = logreg.predict(model)"
   ]
  },
  {
   "cell_type": "code",
   "execution_count": 25,
   "metadata": {},
   "outputs": [
    {
     "name": "stdout",
     "output_type": "stream",
     "text": [
      "Accuracy:  0.6875744342993251\n",
      "              precision    recall  f1-score   support\n",
      "\n",
      "           0       0.69      0.67      0.68      3349\n",
      "           1       0.45      0.49      0.47      2147\n",
      "           2       0.81      0.79      0.80      4580\n",
      "\n",
      "    accuracy                           0.69     10076\n",
      "   macro avg       0.65      0.65      0.65     10076\n",
      "weighted avg       0.69      0.69      0.69     10076\n",
      "\n"
     ]
    }
   ],
   "source": [
    "report = logreg.gen_report(y_pred=y_pred)\n",
    "print('Accuracy: ',report[0])\n",
    "print(report[1])"
   ]
  },
  {
   "cell_type": "code",
   "execution_count": 26,
   "metadata": {},
   "outputs": [
    {
     "data": {
      "image/png": "[encoded data removed]",
      "text/plain": [
       "<Figure size 360x360 with 1 Axes>"
      ]
     },
     "metadata": {
      "needs_background": "light"
     },
     "output_type": "display_data"
    }
   ],
   "source": [
    "logreg.gen_confusion_matrix(y_pred = y_pred)"
   ]
  },
  {
   "cell_type": "markdown",
   "metadata": {},
   "source": [
    "## Building LR Baseline Model - HI"
   ]
  },
  {
   "cell_type": "code",
   "execution_count": 8,
   "metadata": {},
   "outputs": [
    {
     "data": {
      "text/html": [],
      "text/plain": [
       "<IPython.core.display.HTML object>"
      ]
     },
     "metadata": {},
     "output_type": "display_data"
    },
    {
     "data": {
      "text/html": [],
      "text/plain": [
       "<IPython.core.display.HTML object>"
      ]
     },
     "metadata": {},
     "output_type": "display_data"
    },
    {
     "name": "stdout",
     "output_type": "stream",
     "text": [
      "Reading english - 1grams ...\n"
     ]
    },
    {
     "name": "stderr",
     "output_type": "stream",
     "text": [
      "  0%|          | 0/9330 [00:00<?, ?it/s]"
     ]
    },
    {
     "name": "stdout",
     "output_type": "stream",
     "text": [
      "hi\n"
     ]
    },
    {
     "name": "stderr",
     "output_type": "stream",
     "text": [
      "100%|██████████| 9330/9330 [52:30<00:00,  2.96it/s]  \n"
     ]
    },
    {
     "name": "stdout",
     "output_type": "stream",
     "text": [
      "Creating new TFIDF Vectorizer\n",
      "Creating new POS Vectorizer\n"
     ]
    }
   ],
   "source": [
    "text = df_hi.text\n",
    "feat = fg.features(lang='hi')\n",
    "M,fnames,tfidf_vect,pos_vect = feat.get_feature_array(text)\n",
    "# pickle.dump(tfidf_vect, open('../model/hi_tfidf_vect.plk', 'wb'))\n",
    "# pickle.dump(pos_vect, open('../model/hi_pos_vect.plk', 'wb'))"
   ]
  },
  {
   "cell_type": "code",
   "execution_count": 9,
   "metadata": {},
   "outputs": [],
   "source": [
    "X = pd.DataFrame(M)\n",
    "y = df_hi['class'].astype(int)"
   ]
  },
  {
   "cell_type": "code",
   "execution_count": 10,
   "metadata": {},
   "outputs": [
    {
     "name": "stdout",
     "output_type": "stream",
     "text": [
      "Fitting 5 folds for each of 1 candidates, totalling 5 fits\n"
     ]
    },
    {
     "name": "stderr",
     "output_type": "stream",
     "text": [
      "[Parallel(n_jobs=-1)]: Using backend LokyBackend with 16 concurrent workers.\n",
      "[Parallel(n_jobs=-1)]: Done   5 out of   5 | elapsed:  5.4min finished\n"
     ]
    },
    {
     "name": "stdout",
     "output_type": "stream",
     "text": [
      "Writing Model to file\n",
      "Done!\n"
     ]
    }
   ],
   "source": [
    "logreg = lr.LR()\n",
    "model = logreg.train(X,y,max_iter=5000, test_size=0.2,param_grid=[{}], path='../model/hi_logistic_reg.pkl')"
   ]
  },
  {
   "cell_type": "code",
   "execution_count": 11,
   "metadata": {},
   "outputs": [],
   "source": [
    "y_pred = logreg.predict(model)"
   ]
  },
  {
   "cell_type": "code",
   "execution_count": 12,
   "metadata": {},
   "outputs": [
    {
     "name": "stdout",
     "output_type": "stream",
     "text": [
      "Accuracy:  0.9565916398713826\n",
      "              precision    recall  f1-score   support\n",
      "\n",
      "           0       0.96      0.95      0.95       878\n",
      "           1       0.95      0.96      0.96       988\n",
      "\n",
      "    accuracy                           0.96      1866\n",
      "   macro avg       0.96      0.96      0.96      1866\n",
      "weighted avg       0.96      0.96      0.96      1866\n",
      "\n"
     ]
    }
   ],
   "source": [
    "report = logreg.gen_report(y_pred=y_pred)\n",
    "print('Accuracy: ',report[0])\n",
    "print(report[1])\n"
   ]
  },
  {
   "cell_type": "code",
   "execution_count": 13,
   "metadata": {},
   "outputs": [
    {
     "data": {
      "image/png": "[encoded data removed]",
      "text/plain": [
       "<Figure size 360x360 with 1 Axes>"
      ]
     },
     "metadata": {
      "needs_background": "light"
     },
     "output_type": "display_data"
    }
   ],
   "source": [
    "logreg.gen_confusion_matrix(y_pred = y_pred, classes = 2)"
   ]
  },
  {
   "cell_type": "markdown",
   "metadata": {},
   "source": [
    "## Building LR Baseline Model - HI - Code Mix"
   ]
  },
  {
   "cell_type": "code",
   "execution_count": 10,
   "metadata": {},
   "outputs": [
    {
     "name": "stdout",
     "output_type": "stream",
     "text": [
      "Reading twitter - 1grams ...\n",
      "Reading twitter - 2grams ...\n"
     ]
    },
    {
     "name": "stderr",
     "output_type": "stream",
     "text": [
      "  0%|          | 0/3189 [00:00<?, ?it/s]"
     ]
    },
    {
     "name": "stdout",
     "output_type": "stream",
     "text": [
      "Reading twitter - 1grams ...\n",
      "en\n"
     ]
    },
    {
     "name": "stderr",
     "output_type": "stream",
     "text": [
      "100%|██████████| 3189/3189 [00:02<00:00, 1561.71it/s]\n"
     ]
    },
    {
     "name": "stdout",
     "output_type": "stream",
     "text": [
      "Creating new TFIDF Vectorizer\n",
      "Creating new POS Vectorizer\n"
     ]
    }
   ],
   "source": [
    "text = df_hi_cdmx.text\n",
    "feat = fg.features(lang='en')\n",
    "M,fnames,tfidf_vect,pos_vect = feat.get_feature_array(text)\n",
    "pickle.dump(tfidf_vect, open('../model/hi_cdmx_tfidf_vect.plk', 'wb'))\n",
    "pickle.dump(pos_vect, open('../model/hi_cdmx_pos_vect.plk', 'wb'))"
   ]
  },
  {
   "cell_type": "code",
   "execution_count": 11,
   "metadata": {},
   "outputs": [],
   "source": [
    "X = pd.DataFrame(M)\n",
    "y = df_hi_cdmx['class'].astype(int)"
   ]
  },
  {
   "cell_type": "code",
   "execution_count": 12,
   "metadata": {},
   "outputs": [
    {
     "name": "stdout",
     "output_type": "stream",
     "text": [
      "Fitting 5 folds for each of 1 candidates, totalling 5 fits\n"
     ]
    },
    {
     "name": "stderr",
     "output_type": "stream",
     "text": [
      "[Parallel(n_jobs=-1)]: Using backend LokyBackend with 16 concurrent workers.\n",
      "[Parallel(n_jobs=-1)]: Done   5 out of   5 | elapsed:  2.9min finished\n"
     ]
    },
    {
     "name": "stdout",
     "output_type": "stream",
     "text": [
      "Writing Model to file\n",
      "Done!\n"
     ]
    }
   ],
   "source": [
    "logreg = lr.LR()\n",
    "model = logreg.train(X,y,max_iter=3000, test_size=0.2,param_grid=[{}], path='../model/hi_cdmx_logistic_reg.pkl')"
   ]
  },
  {
   "cell_type": "code",
   "execution_count": 13,
   "metadata": {},
   "outputs": [],
   "source": [
    "y_pred = logreg.predict(model)"
   ]
  },
  {
   "cell_type": "code",
   "execution_count": 14,
   "metadata": {},
   "outputs": [
    {
     "name": "stdout",
     "output_type": "stream",
     "text": [
      "Accuracy:  0.8557993730407524\n",
      "              precision    recall  f1-score   support\n",
      "\n",
      "           0       0.85      0.83      0.84       224\n",
      "           1       0.59      0.66      0.62        61\n",
      "           2       0.91      0.91      0.91       353\n",
      "\n",
      "    accuracy                           0.86       638\n",
      "   macro avg       0.78      0.80      0.79       638\n",
      "weighted avg       0.86      0.86      0.86       638\n",
      "\n"
     ]
    }
   ],
   "source": [
    "report = logreg.gen_report(y_pred=y_pred)\n",
    "print('Accuracy: ',report[0])\n",
    "print(report[1])"
   ]
  },
  {
   "cell_type": "code",
   "execution_count": 15,
   "metadata": {},
   "outputs": [
    {
     "data": {
      "image/png": "[encoded data removed]",
      "text/plain": [
       "<Figure size 360x360 with 1 Axes>"
      ]
     },
     "metadata": {
      "needs_background": "light"
     },
     "output_type": "display_data"
    }
   ],
   "source": [
    "logreg.gen_confusion_matrix(y_pred = y_pred, classes=3)"
   ]
  },
  {
   "cell_type": "markdown",
   "metadata": {},
   "source": [
    "## test Case"
   ]
  },
  {
   "cell_type": "code",
   "execution_count": 16,
   "metadata": {},
   "outputs": [
    {
     "name": "stdout",
     "output_type": "stream",
     "text": [
      "Reading twitter - 1grams ...\n",
      "Reading twitter - 2grams ...\n",
      "Reading twitter - 1grams ...\n"
     ]
    },
    {
     "name": "stderr",
     "output_type": "stream",
     "text": [
      "100%|██████████| 1/1 [00:00<00:00, 542.46it/s]"
     ]
    },
    {
     "name": "stdout",
     "output_type": "stream",
     "text": [
      "en\n",
      "Loading Model from file\n"
     ]
    },
    {
     "name": "stderr",
     "output_type": "stream",
     "text": [
      "\n"
     ]
    }
   ],
   "source": [
    "text = '@AvijitEmmi Bahenchod .... experienced lagte ho bhai bhot face with tears of joy'\n",
    "feat = fg.features(lang='en')\n",
    "tfidf_vect = pickle.load(open('../model/hi_cdmx_tfidf_vect.plk', 'rb'))\n",
    "pos_vect = pickle.load(open('../model/hi_cdmx_pos_vect.plk', 'rb'))\n",
    "M,fnames,_,_ = feat.get_feature_array([text],tfidf_vect,pos_vect)\n",
    "path='../model/hi_cdmx_logistic_reg.pkl'\n",
    "logreg = lr.LR()\n",
    "model = logreg.load_model(path)"
   ]
  },
  {
   "cell_type": "code",
   "execution_count": 17,
   "metadata": {},
   "outputs": [],
   "source": [
    "y_pred = logreg.predict(model,X_test=M)"
   ]
  },
  {
   "cell_type": "code",
   "execution_count": null,
   "metadata": {},
   "outputs": [],
   "source": [
    "y_pred"
   ]
  },
  {
   "cell_type": "code",
   "execution_count": null,
   "metadata": {},
   "outputs": [],
   "source": []
  }
 ],
 "metadata": {
  "kernelspec": {
   "display_name": "Python 3",
   "language": "python",
   "name": "python3"
  },
  "language_info": {
   "codemirror_mode": {
    "name": "ipython",
    "version": 3
   },
   "file_extension": ".py",
   "mimetype": "text/x-python",
   "name": "python",
   "nbconvert_exporter": "python",
   "pygments_lexer": "ipython3",
   "version": "3.6.9"
  }
 },
 "nbformat": 4,
 "nbformat_minor": 4
}
