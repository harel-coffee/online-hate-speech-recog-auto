{
  "nbformat": 4,
  "nbformat_minor": 0,
  "metadata": {
    "colab": {
      "name": "hi-Bert-Based Model",
      "provenance": [],
      "collapsed_sections": [],
      "toc_visible": true,
      "machine_shape": "hm"
    },
    "kernelspec": {
      "name": "python3",
      "display_name": "Python 3"
    }
  },
  "cells": [
    {
      "cell_type": "markdown",
      "metadata": {
        "id": "4ybUWI0rAm5n",
        "colab_type": "text"
      },
      "source": [
        "# Bert-Based Model - Hindi"
      ]
    },
    {
      "cell_type": "markdown",
      "metadata": {
        "id": "e1NQZQeTAqBm",
        "colab_type": "text"
      },
      "source": [
        "In we want to use BERT and leverage contextual word embeddings, following on from the last CNN LSTM model we had built. Instead of CNN utterance-level classifier we are building a BERT-based text classifier here. The domain difference from conversational data is one possible downside to using BERT. Explore some techniques to efficiently transfer the knowledge from conversational data and to improve model performance on Hate Speech Classification."
      ]
    },
    {
      "cell_type": "code",
      "metadata": {
        "id": "CIcW8YbL3isM",
        "colab_type": "code",
        "colab": {}
      },
      "source": [
        "!pip install bert-for-tf2==0.14.4 > /dev/null"
      ],
      "execution_count": 6,
      "outputs": []
    },
    {
      "cell_type": "code",
      "metadata": {
        "id": "VLPwBaua6jf2",
        "colab_type": "code",
        "colab": {}
      },
      "source": [
        "import os, glob, time\n",
        "from tqdm import tqdm\n",
        "import pandas as pd\n",
        "import numpy as np\n",
        "import tensorflow as tf\n",
        "from tensorflow.keras.models import Model \n",
        "from tensorflow.keras.layers import Dense\n",
        "from tensorflow.keras import backend as K\n",
        "from tensorflow.keras.utils import plot_model\n",
        "from tensorflow.keras.callbacks import ModelCheckpoint\n",
        "from tensorflow.keras.callbacks import EarlyStopping\n",
        "\n",
        "import bert\n",
        "from bert import BertModelLayer\n",
        "from bert.loader import StockBertConfig, map_stock_config_to_params, load_stock_weights\n",
        "from bert.tokenization.bert_tokenization import FullTokenizer\n",
        "\n",
        "import matplotlib.pyplot as plt\n",
        "from sklearn.metrics import confusion_matrix, classification_report\n",
        "import itertools, random\n",
        "from collections import Counter\n",
        "import pdb,os,sys"
      ],
      "execution_count": 7,
      "outputs": []
    },
    {
      "cell_type": "code",
      "metadata": {
        "id": "dHPJvzS03AOG",
        "colab_type": "code",
        "colab": {
          "base_uri": "https://localhost:8080/",
          "height": 36
        },
        "outputId": "8f8ebcd8-a087-4fd5-94f4-d4a944a2aa03"
      },
      "source": [
        "tf.__version__"
      ],
      "execution_count": null,
      "outputs": [
        {
          "output_type": "execute_result",
          "data": {
            "application/vnd.google.colaboratory.intrinsic+json": {
              "type": "string"
            },
            "text/plain": [
              "'2.3.0'"
            ]
          },
          "metadata": {
            "tags": []
          },
          "execution_count": 2
        }
      ]
    },
    {
      "cell_type": "markdown",
      "metadata": {
        "id": "CzkSXum8RzGM",
        "colab_type": "text"
      },
      "source": [
        "# Data\n",
        "\n",
        "Here we load 'dataset_hi.csv' and format the data into train, test, validation sets. "
      ]
    },
    {
      "cell_type": "code",
      "metadata": {
        "id": "l_Ahgy6FyHF3",
        "colab_type": "code",
        "colab": {
          "resources": {
            "http://localhost:8080/nbextensions/google.colab/files.js": {
              "data": "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",
              "ok": true,
              "headers": [
                [
                  "content-type",
                  "application/javascript"
                ]
              ],
              "status": 200,
              "status_text": "OK"
            }
          },
          "base_uri": "https://localhost:8080/",
          "height": 100
        },
        "outputId": "be66589f-4534-44d5-868e-4ca2f067ec62"
      },
      "source": [
        "from google.colab import files\n",
        "uploaded = files.upload()\n",
        "for fn in uploaded.keys():\n",
        "  print('User uploaded file \"{name}\" with length {length} bytes'.format(\n",
        "      name=fn, length=len(uploaded[fn])))"
      ],
      "execution_count": 2,
      "outputs": [
        {
          "output_type": "display_data",
          "data": {
            "text/html": [
              "\n",
              "     <input type=\"file\" id=\"files-f73adf69-1f91-4666-8196-a5056cd5d75d\" name=\"files[]\" multiple disabled\n",
              "        style=\"border:none\" />\n",
              "     <output id=\"result-f73adf69-1f91-4666-8196-a5056cd5d75d\">\n",
              "      Upload widget is only available when the cell has been executed in the\n",
              "      current browser session. Please rerun this cell to enable.\n",
              "      </output>\n",
              "      <script src=\"/nbextensions/google.colab/files.js\"></script> "
            ],
            "text/plain": [
              "<IPython.core.display.HTML object>"
            ]
          },
          "metadata": {
            "tags": []
          }
        },
        {
          "output_type": "stream",
          "text": [
            "Saving dataset_hi.csv to dataset_hi.csv\n",
            "User uploaded file \"dataset_hi.csv\" with length 10156793 bytes\n"
          ],
          "name": "stdout"
        }
      ]
    },
    {
      "cell_type": "code",
      "metadata": {
        "id": "6n6w6_0WWNr1",
        "colab_type": "code",
        "colab": {
          "base_uri": "https://localhost:8080/",
          "height": 381
        },
        "outputId": "b343da2d-32e6-40e0-e6b4-c92c822d5818"
      },
      "source": [
        "df = pd.read_csv('dataset_hi.csv')\n",
        "print(df.columns,'\\n',df.head(5))\n",
        "df.drop(['text_id','basic_clean_text','ekphrasis_clean_text'],inplace=True,axis=1)\n",
        "# df.rename(columns={'basic_clean_text':'text'},inplace=True)\n",
        "df['class'] = df['class'].astype(int)\n",
        "df = df[df['text'].notna()]\n",
        "df = df.sample(n=len(df), random_state=42)\n",
        "dummies = pd.get_dummies(df[\"class\"])\n",
        "res = pd.concat([df, dummies], axis=1)\n",
        "res['tag_arg_max'] = res.apply(lambda x: np.argmax(np.asarray(x[2:],dtype=np.float32)),axis=1)\n",
        "\n",
        "one_hot_encoding_dict = {}\n",
        "for row in res.values:\n",
        "    one_hot_encoding_dict[row[0]] = row[-1]\n",
        "one_hot_encoding_dict\n",
        "res = res.drop(columns=['class','tag_arg_max'])\n",
        "res.head()"
      ],
      "execution_count": 5,
      "outputs": [
        {
          "output_type": "stream",
          "text": [
            "Index(['text_id', 'text', 'class', 'ekphrasis_clean_text', 'basic_clean_text'], dtype='object') \n",
            "          text_id  ...                                   basic_clean_text\n",
            "0  hasoc_hi_3731  ...  ये लि की गाँ में लिप ्टन की चाय डालता हूँ अभी ...\n",
            "1   hasoc_hi_844  ...  प्राकृतिक र्फ भरे पहाड़ , ठंड भरी ओस से गीली स...\n",
            "2  hasoc_hi_4653  ...  कु भाग मंद कु बुद्ध ' अरे भाग ! मूर्ख , # नीच ...\n",
            "3   hasoc_hi_136  ...            सही एकदम इसलिये इंसान ियत को मरने मत दो\n",
            "4  hasoc_hi_6882  ...  लम् ोला , तेरे जैसा umb umb दिन राम लीला मैदान...\n",
            "\n",
            "[5 rows x 5 columns]\n"
          ],
          "name": "stdout"
        },
        {
          "output_type": "execute_result",
          "data": {
            "text/html": [
              "<div>\n",
              "<style scoped>\n",
              "    .dataframe tbody tr th:only-of-type {\n",
              "        vertical-align: middle;\n",
              "    }\n",
              "\n",
              "    .dataframe tbody tr th {\n",
              "        vertical-align: top;\n",
              "    }\n",
              "\n",
              "    .dataframe thead th {\n",
              "        text-align: right;\n",
              "    }\n",
              "</style>\n",
              "<table border=\"1\" class=\"dataframe\">\n",
              "  <thead>\n",
              "    <tr style=\"text-align: right;\">\n",
              "      <th></th>\n",
              "      <th>text</th>\n",
              "      <th>0</th>\n",
              "      <th>1</th>\n",
              "    </tr>\n",
              "  </thead>\n",
              "  <tbody>\n",
              "    <tr>\n",
              "      <th>8220</th>\n",
              "      <td>भारतीय जनता पार्टी से,   जब कुछ गिनी चुनी पनोत...</td>\n",
              "      <td>1</td>\n",
              "      <td>0</td>\n",
              "    </tr>\n",
              "    <tr>\n",
              "      <th>2519</th>\n",
              "      <td>18 साल का सैनिक शहीद हुआ तो वह बच्चा नहीं था औ...</td>\n",
              "      <td>0</td>\n",
              "      <td>1</td>\n",
              "    </tr>\n",
              "    <tr>\n",
              "      <th>3677</th>\n",
              "      <td>यूपी में केवल    125 आदमी ही तो मरे हैं शराब प...</td>\n",
              "      <td>1</td>\n",
              "      <td>0</td>\n",
              "    </tr>\n",
              "    <tr>\n",
              "      <th>4467</th>\n",
              "      <td>मुस्लिम मादरचोद हरामी कॉम है ।  पहले मारेगें फ...</td>\n",
              "      <td>0</td>\n",
              "      <td>1</td>\n",
              "    </tr>\n",
              "    <tr>\n",
              "      <th>9060</th>\n",
              "      <td>15 वर्ष तक कांग्रेस के कुशासन ने भ्रष्टाचार के...</td>\n",
              "      <td>0</td>\n",
              "      <td>1</td>\n",
              "    </tr>\n",
              "  </tbody>\n",
              "</table>\n",
              "</div>"
            ],
            "text/plain": [
              "                                                   text  0  1\n",
              "8220  भारतीय जनता पार्टी से,   जब कुछ गिनी चुनी पनोत...  1  0\n",
              "2519  18 साल का सैनिक शहीद हुआ तो वह बच्चा नहीं था औ...  0  1\n",
              "3677  यूपी में केवल    125 आदमी ही तो मरे हैं शराब प...  1  0\n",
              "4467  मुस्लिम मादरचोद हरामी कॉम है ।  पहले मारेगें फ...  0  1\n",
              "9060  15 वर्ष तक कांग्रेस के कुशासन ने भ्रष्टाचार के...  0  1"
            ]
          },
          "metadata": {
            "tags": []
          },
          "execution_count": 5
        }
      ]
    },
    {
      "cell_type": "code",
      "metadata": {
        "id": "tbolb1v7cEl1",
        "colab_type": "code",
        "colab": {
          "base_uri": "https://localhost:8080/",
          "height": 36
        },
        "outputId": "441aade1-4995-46ec-ea94-05ce9f6773fc"
      },
      "source": [
        "int(len(res)*0.80),int(len(res)*0.90)\n",
        "#40304, 45342"
      ],
      "execution_count": null,
      "outputs": [
        {
          "output_type": "execute_result",
          "data": {
            "text/plain": [
              "(7464, 8397)"
            ]
          },
          "metadata": {
            "tags": []
          },
          "execution_count": 4
        }
      ]
    },
    {
      "cell_type": "code",
      "metadata": {
        "id": "5RNKtsTSTPhh",
        "colab_type": "code",
        "colab": {}
      },
      "source": [
        "train = res[0:7464]\n",
        "val = res[7464:8397]\n",
        "test = res[8397:]\n",
        "train.to_csv(\"train.csv\",index=False)\n",
        "val.to_csv(\"val.csv\",index=False)\n",
        "test.to_csv(\"test.csv\",index=False)\n",
        "train = pd.read_csv(\"train.csv\")\n",
        "valid = pd.read_csv(\"val.csv\")\n",
        "test = pd.read_csv(\"test.csv\")"
      ],
      "execution_count": null,
      "outputs": []
    },
    {
      "cell_type": "code",
      "metadata": {
        "id": "Nw4hUCMgTdmE",
        "colab_type": "code",
        "colab": {}
      },
      "source": [
        "# train = train.append(valid).reset_index(drop=True)"
      ],
      "execution_count": null,
      "outputs": []
    },
    {
      "cell_type": "code",
      "metadata": {
        "id": "VsILJQbMgGlt",
        "colab_type": "code",
        "colab": {
          "base_uri": "https://localhost:8080/",
          "height": 36
        },
        "outputId": "23f7b739-34c6-4330-9ca5-a1890279aad6"
      },
      "source": [
        "train.shape,test.shape,val.shape"
      ],
      "execution_count": null,
      "outputs": [
        {
          "output_type": "execute_result",
          "data": {
            "text/plain": [
              "((7464, 3), (933, 3), (933, 3))"
            ]
          },
          "metadata": {
            "tags": []
          },
          "execution_count": 6
        }
      ]
    },
    {
      "cell_type": "code",
      "metadata": {
        "id": "KJhhad-AfeMp",
        "colab_type": "code",
        "colab": {
          "base_uri": "https://localhost:8080/",
          "height": 56
        },
        "outputId": "a7315ba1-47b2-4859-b921-be6290c4ac20"
      },
      "source": [
        "train.iloc[0]['text']"
      ],
      "execution_count": null,
      "outputs": [
        {
          "output_type": "execute_result",
          "data": {
            "application/vnd.google.colaboratory.intrinsic+json": {
              "type": "string"
            },
            "text/plain": [
              "'भारतीय जनता पार्टी से,   जब कुछ गिनी चुनी पनोतिया बाहर निकली थी -   बीजेपी की जित तो उसी दिन पक्की हो गयी थी !   रही सही कसर खूसट #नीच नेताओंने पूरी कर दी थी !  अब #जीजाजी_की_जमीन जोतने का #जुगाड़ होता है क्या देखो ?     #हुआ_तो_हुआ  '"
            ]
          },
          "metadata": {
            "tags": []
          },
          "execution_count": 7
        }
      ]
    },
    {
      "cell_type": "markdown",
      "metadata": {
        "id": "Nc23faMAR--V",
        "colab_type": "text"
      },
      "source": [
        "# Get Pre-trained BERT model "
      ]
    },
    {
      "cell_type": "markdown",
      "metadata": {
        "id": "xEcPk0ZTv3r5",
        "colab_type": "text"
      },
      "source": [
        "We would be using `multicased_L-12_H-768_A-12` version of BERT which has 12 layers and returns 768 hidden parameters."
      ]
    },
    {
      "cell_type": "code",
      "metadata": {
        "id": "-P2y2g3m8Ytp",
        "colab_type": "code",
        "colab": {
          "base_uri": "https://localhost:8080/",
          "height": 250
        },
        "outputId": "d87a77e6-4bd9-4e6d-97ed-2e3d6a981aab"
      },
      "source": [
        "!wget https://storage.googleapis.com/bert_models/2018_11_23/multi_cased_L-12_H-768_A-12.zip"
      ],
      "execution_count": null,
      "outputs": [
        {
          "output_type": "stream",
          "text": [
            "--2020-08-29 19:15:32--  https://storage.googleapis.com/bert_models/2018_11_23/multi_cased_L-12_H-768_A-12.zip\n",
            "Resolving storage.googleapis.com (storage.googleapis.com)... 108.177.112.128, 172.217.212.128, 172.217.214.128, ...\n",
            "Connecting to storage.googleapis.com (storage.googleapis.com)|108.177.112.128|:443... connected.\n",
            "HTTP request sent, awaiting response... 200 OK\n",
            "Length: 662903077 (632M) [application/zip]\n",
            "Saving to: ‘multi_cased_L-12_H-768_A-12.zip’\n",
            "\n",
            "multi_cased_L-12_H- 100%[===================>] 632.19M  81.4MB/s    in 8.5s    \n",
            "\n",
            "2020-08-29 19:15:41 (74.2 MB/s) - ‘multi_cased_L-12_H-768_A-12.zip’ saved [662903077/662903077]\n",
            "\n"
          ],
          "name": "stdout"
        }
      ]
    },
    {
      "cell_type": "code",
      "metadata": {
        "id": "ARivu75M8fqM",
        "colab_type": "code",
        "colab": {
          "base_uri": "https://localhost:8080/",
          "height": 153
        },
        "outputId": "744d908f-81d4-4b00-9cdd-24c6acb68a1c"
      },
      "source": [
        "!unzip multi_cased_L-12_H-768_A-12.zip"
      ],
      "execution_count": null,
      "outputs": [
        {
          "output_type": "stream",
          "text": [
            "Archive:  multi_cased_L-12_H-768_A-12.zip\n",
            "   creating: multi_cased_L-12_H-768_A-12/\n",
            "  inflating: multi_cased_L-12_H-768_A-12/bert_model.ckpt.meta  \n",
            "  inflating: multi_cased_L-12_H-768_A-12/bert_model.ckpt.data-00000-of-00001  \n",
            "  inflating: multi_cased_L-12_H-768_A-12/vocab.txt  \n",
            "  inflating: multi_cased_L-12_H-768_A-12/bert_model.ckpt.index  \n",
            "  inflating: multi_cased_L-12_H-768_A-12/bert_config.json  \n"
          ],
          "name": "stdout"
        }
      ]
    },
    {
      "cell_type": "code",
      "metadata": {
        "id": "4Cgl9mvs8hAl",
        "colab_type": "code",
        "colab": {}
      },
      "source": [
        "os.makedirs(\"model\")"
      ],
      "execution_count": null,
      "outputs": []
    },
    {
      "cell_type": "code",
      "metadata": {
        "id": "QoY4PY-w9FkN",
        "colab_type": "code",
        "colab": {}
      },
      "source": [
        "!mv multi_cased_L-12_H-768_A-12/ model"
      ],
      "execution_count": null,
      "outputs": []
    },
    {
      "cell_type": "code",
      "metadata": {
        "id": "TApTW_wLxoA9",
        "colab_type": "code",
        "colab": {}
      },
      "source": [
        "class ProcessData:\n",
        "    def __init__(self, train, test, tokenizer: FullTokenizer, classes, max_seq_len=192):\n",
        "        self.train = train\n",
        "        self.test = test\n",
        "        self.tokenizer = tokenizer\n",
        "        self.classes = classes\n",
        "        self.max_seq_len = max_seq_len\n",
        "        if isinstance(self.test, list):\n",
        "        \tself.X = self.list_to_examples(self.test)\n",
        "        else:\n",
        "            self.max_seq_len = 0\n",
        "            self.tokenizer = tokenizer\n",
        "\n",
        "            self.classes = classes    \n",
        "            ((self.train_x, self.train_y), (self.test_x, self.test_y), (self.val_x, self.val_y)) = map(self.convert_text_to_examples, [train, test, val])\n",
        "\n",
        "            self.max_seq_len = min(self.max_seq_len, max_seq_len)\n",
        "            print(\"Max Seq Len\", self.max_seq_len)\n",
        "            self.train_x, self.test_x, self.val_x = map(self.add_pad, [self.train_x, self.test_x, self.val_x])\n",
        "\n",
        "    def convert_text_to_examples(self, df):\n",
        "        \"\"\"\n",
        "        converts a dataframe of text and classes into usable tokens for BERT input\n",
        "        \"\"\"\n",
        "        x, y = [], []\n",
        "    \n",
        "        for _, row in tqdm(df.iterrows()):\n",
        "            text = row['text']\n",
        "            label = np.asarray(row[1:],dtype=np.float32)\n",
        "            tokens = self.tokenizer.tokenize(text)\n",
        "            tokens = [\"[CLS]\"] + tokens + [\"[SEP]\"]\n",
        "            token_ids = self.tokenizer.convert_tokens_to_ids(tokens)\n",
        "            self.max_seq_len = max(self.max_seq_len, len(token_ids))\n",
        "            x.append(token_ids)\n",
        "            y.append(label)\n",
        "\n",
        "        return np.array(x), np.array(y)\n",
        "\n",
        "    def add_pad(self, ids):\n",
        "        \"\"\"\n",
        "        Add padding to the sequence \n",
        "        \"\"\"\n",
        "        x = []\n",
        "        for input_ids in ids:\n",
        "            input_ids = list(input_ids[:min(len(input_ids), self.max_seq_len - 1)])\n",
        "            input_ids = input_ids + [0] * (self.max_seq_len - len(input_ids))\n",
        "            x.append(np.array(input_ids))\n",
        "        return np.array(x)\n",
        "\n",
        "    def list_to_examples(self, alist):\n",
        "        \"\"\"\n",
        "        Convert a list of text sentences to sequences with paddings.\n",
        "        \"\"\"\n",
        "        x, y = [], []\n",
        "    \n",
        "        for text in tqdm(alist):\n",
        "            tokens = self.tokenizer.tokenize(text)\n",
        "            tokens = [\"[CLS]\"] + tokens + [\"[SEP]\"]\n",
        "            token_ids = self.tokenizer.convert_tokens_to_ids(tokens)\n",
        "            x.append(token_ids)\n",
        "        return self.add_pad(x)\n"
      ],
      "execution_count": null,
      "outputs": []
    },
    {
      "cell_type": "code",
      "metadata": {
        "id": "LbvjbsEb9Ndv",
        "colab_type": "code",
        "colab": {}
      },
      "source": [
        "bert_model_name=\"multi_cased_L-12_H-768_A-12\"\n",
        "bert_ckpt_dir = os.path.join(\"model/\", bert_model_name)\n",
        "bert_ckpt_file = os.path.join(bert_ckpt_dir, \"bert_model.ckpt\")\n",
        "bert_config_file = os.path.join(bert_ckpt_dir, \"bert_config.json\")"
      ],
      "execution_count": null,
      "outputs": []
    },
    {
      "cell_type": "markdown",
      "metadata": {
        "id": "3os6qeC6SB-M",
        "colab_type": "text"
      },
      "source": [
        "## Preprocessing of Data"
      ]
    },
    {
      "cell_type": "markdown",
      "metadata": {
        "id": "a10yTlWWwfxX",
        "colab_type": "text"
      },
      "source": [
        "Preprocessing the Data as BERT would expect."
      ]
    },
    {
      "cell_type": "code",
      "metadata": {
        "id": "qQWpVG464BuO",
        "colab_type": "code",
        "colab": {}
      },
      "source": [
        "tokenizer = FullTokenizer(vocab_file=os.path.join(bert_ckpt_dir, \"vocab.txt\"))"
      ],
      "execution_count": null,
      "outputs": []
    },
    {
      "cell_type": "code",
      "metadata": {
        "colab_type": "code",
        "id": "4KGLY60CDD1S",
        "colab": {
          "base_uri": "https://localhost:8080/",
          "height": 114
        },
        "outputId": "6eb519e5-b630-45ad-bd0e-5f9506f457bf"
      },
      "source": [
        "classes = 3\n",
        "start_time = time.time()\n",
        "data = ProcessData(train, test, tokenizer, classes, max_seq_len=128)\n",
        "seconds = time.time() - start_time\n",
        "print('Time Taken:', time.strftime(\"%H:%M:%S\",time.gmtime(seconds)))"
      ],
      "execution_count": null,
      "outputs": [
        {
          "output_type": "stream",
          "text": [
            "7464it [00:06, 1168.31it/s]\n",
            "933it [00:00, 1186.56it/s]\n",
            "933it [00:00, 1155.02it/s]\n"
          ],
          "name": "stderr"
        },
        {
          "output_type": "stream",
          "text": [
            "Max Seq Len 128\n",
            "Time Taken: 00:00:08\n"
          ],
          "name": "stdout"
        }
      ]
    },
    {
      "cell_type": "code",
      "metadata": {
        "id": "LKdC3VNqwYsX",
        "colab_type": "code",
        "colab": {
          "base_uri": "https://localhost:8080/",
          "height": 36
        },
        "outputId": "e20be4c9-c2dd-40dd-99a8-a36f17ae6b3e"
      },
      "source": [
        "len(data.test_x[0])"
      ],
      "execution_count": null,
      "outputs": [
        {
          "output_type": "execute_result",
          "data": {
            "text/plain": [
              "128"
            ]
          },
          "metadata": {
            "tags": []
          },
          "execution_count": 13
        }
      ]
    },
    {
      "cell_type": "code",
      "metadata": {
        "id": "xnGGC53P9nC8",
        "colab_type": "code",
        "colab": {}
      },
      "source": [
        "from tensorflow.keras.layers import Lambda, Input, LSTM, RepeatVector, Dense, Dropout, InputLayer, Bidirectional, TimeDistributed, Activation, Embedding, Reshape, concatenate, Conv2D, BatchNormalization, MaxPool2D, Flatten\n",
        "\n",
        "HIDDEN_SIZE = 2\n",
        "drop = 0.2\n",
        "# https://github.com/kpe/bert-for-tf2\n",
        "def create_model(max_seq_len, bert_ckpt_file):\n",
        "    \"\"\"\n",
        "    Use the pre-trained BERT model over LSTM\n",
        "    \"\"\"\n",
        "    with tf.io.gfile.GFile(bert_config_file, \"r\") as reader:\n",
        "        bc = StockBertConfig.from_json_string(reader.read())\n",
        "        bert_params = map_stock_config_to_params(bc)\n",
        "        bert_params.adapter_size = None\n",
        "        bert = BertModelLayer.from_params(bert_params, name=\"bert\")\n",
        "        \n",
        "    input_ids = Input(shape=(max_seq_len, ), dtype='int32', name=\"input_ids\")\n",
        "    # BERT out\n",
        "    bert_output = bert(input_ids)\n",
        "    # to get the output dmin of form (none,128,768) --> (none,768) \n",
        "    lmd_out = Lambda(lambda seq: seq[:, 0, :])(bert_output)\n",
        "    dense_1 = Dense(units=768, activation=\"tanh\")(lmd_out)\n",
        "    dropout_1 = Dropout(0.5)(dense_1)\n",
        "\n",
        "\n",
        "    # LSTM expect (batch_size, timesteps, features) or (num_samples, timesteps, channels) \n",
        "    # using BERT output (none,128,768) to distribute over time(128) for LSTM\n",
        "    timexx = TimeDistributed(Dense(max_seq_len))(bert_output)\n",
        "    # Bidirectional 1\n",
        "    b1 = Bidirectional(LSTM(HIDDEN_SIZE, return_sequences=True))(timexx)\n",
        "    # Bidirectional 2\n",
        "    b2 = Bidirectional(LSTM(HIDDEN_SIZE))(b1)\n",
        "    # Dense layer (dense_2)\n",
        "    dense_2 = Dense(HIDDEN_SIZE)(b2)\n",
        "    # dropout_2\n",
        "    dropout_2 = Dropout(drop)(dense_2)\n",
        "\n",
        "\n",
        "    # concatenate 2 final layers\n",
        "    y = concatenate([dropout_1, dropout_2],axis = -1)\n",
        "    # output\n",
        "    out = Dense(HIDDEN_SIZE)(y)\n",
        "    out = Activation('sigmoid')(out)\n",
        "\n",
        "\n",
        "    model = Model(inputs=input_ids, outputs=out)\n",
        "    model.build(input_shape=(None, max_seq_len))\n",
        "\n",
        "    load_stock_weights(bert, bert_ckpt_file)\n",
        "        \n",
        "    return model"
      ],
      "execution_count": null,
      "outputs": []
    },
    {
      "cell_type": "code",
      "metadata": {
        "id": "1AFsUefcA323",
        "colab_type": "code",
        "colab": {
          "base_uri": "https://localhost:8080/",
          "height": 947
        },
        "outputId": "0e533c76-4166-4058-eff6-addb2faea74f"
      },
      "source": [
        "model = create_model(data.max_seq_len, bert_ckpt_file)\n",
        "model.summary()"
      ],
      "execution_count": null,
      "outputs": [
        {
          "output_type": "stream",
          "text": [
            "Done loading 196 BERT weights from: model/multi_cased_L-12_H-768_A-12/bert_model.ckpt into <bert.model.BertModelLayer object at 0x7fedb0e1f2e8> (prefix:bert). Count of weights not found in the checkpoint was: [0]. Count of weights with mismatched shape: [0]\n",
            "Unused weights from checkpoint: \n",
            "\tbert/embeddings/token_type_embeddings\n",
            "\tbert/pooler/dense/bias\n",
            "\tbert/pooler/dense/kernel\n",
            "\tcls/predictions/output_bias\n",
            "\tcls/predictions/transform/LayerNorm/beta\n",
            "\tcls/predictions/transform/LayerNorm/gamma\n",
            "\tcls/predictions/transform/dense/bias\n",
            "\tcls/predictions/transform/dense/kernel\n",
            "\tcls/seq_relationship/output_bias\n",
            "\tcls/seq_relationship/output_weights\n",
            "Model: \"functional_1\"\n",
            "__________________________________________________________________________________________________\n",
            "Layer (type)                    Output Shape         Param #     Connected to                     \n",
            "==================================================================================================\n",
            "input_ids (InputLayer)          [(None, 128)]        0                                            \n",
            "__________________________________________________________________________________________________\n",
            "bert (BertModelLayer)           (None, 128, 768)     177261312   input_ids[0][0]                  \n",
            "__________________________________________________________________________________________________\n",
            "time_distributed (TimeDistribut (None, 128, 128)     98432       bert[0][0]                       \n",
            "__________________________________________________________________________________________________\n",
            "bidirectional (Bidirectional)   (None, 128, 4)       2096        time_distributed[0][0]           \n",
            "__________________________________________________________________________________________________\n",
            "lambda (Lambda)                 (None, 768)          0           bert[0][0]                       \n",
            "__________________________________________________________________________________________________\n",
            "bidirectional_1 (Bidirectional) (None, 4)            112         bidirectional[0][0]              \n",
            "__________________________________________________________________________________________________\n",
            "dense (Dense)                   (None, 768)          590592      lambda[0][0]                     \n",
            "__________________________________________________________________________________________________\n",
            "dense_2 (Dense)                 (None, 2)            10          bidirectional_1[0][0]            \n",
            "__________________________________________________________________________________________________\n",
            "dropout (Dropout)               (None, 768)          0           dense[0][0]                      \n",
            "__________________________________________________________________________________________________\n",
            "dropout_1 (Dropout)             (None, 2)            0           dense_2[0][0]                    \n",
            "__________________________________________________________________________________________________\n",
            "concatenate (Concatenate)       (None, 770)          0           dropout[0][0]                    \n",
            "                                                                 dropout_1[0][0]                  \n",
            "__________________________________________________________________________________________________\n",
            "dense_3 (Dense)                 (None, 2)            1542        concatenate[0][0]                \n",
            "__________________________________________________________________________________________________\n",
            "activation (Activation)         (None, 2)            0           dense_3[0][0]                    \n",
            "==================================================================================================\n",
            "Total params: 177,954,096\n",
            "Trainable params: 177,954,096\n",
            "Non-trainable params: 0\n",
            "__________________________________________________________________________________________________\n"
          ],
          "name": "stdout"
        }
      ]
    },
    {
      "cell_type": "code",
      "metadata": {
        "id": "6RmNul8vQkpz",
        "colab_type": "code",
        "colab": {
          "base_uri": "https://localhost:8080/",
          "height": 953
        },
        "outputId": "907b648b-6ed3-440a-a6a1-934ee38d2516"
      },
      "source": [
        "plot_model(model, to_file='model.png')"
      ],
      "execution_count": null,
      "outputs": [
        {
          "output_type": "execute_result",
          "data": {
            "image/png": "[encoded data removed]",
            "text/plain": [
              "<IPython.core.display.Image object>"
            ]
          },
          "metadata": {
            "tags": []
          },
          "execution_count": 16
        }
      ]
    },
    {
      "cell_type": "markdown",
      "metadata": {
        "id": "S-qapylH0uaj",
        "colab_type": "text"
      },
      "source": [
        "From the above figure, we can understand that, the contextual information is being processed by BERT model and is being passed onto by the BiLSTM layers via timedistributed as LSTM only expect (batch_size, timesteps, features)  or (num_samples, timesteps, channels). The LSTM layers carry out the classification task and results are passed though sigmoid activation layer though which each class is decided."
      ]
    },
    {
      "cell_type": "markdown",
      "metadata": {
        "id": "67GbMH3WRvZg",
        "colab_type": "text"
      },
      "source": [
        "## Training"
      ]
    },
    {
      "cell_type": "code",
      "metadata": {
        "id": "gY8p6pDEHzmR",
        "colab_type": "code",
        "colab": {}
      },
      "source": [
        "def train_test_input_fn(test_record, batch_size=256):\n",
        "    \"\"\"\n",
        "    Convert the input sequences to tensor slices, each of batch_size size \n",
        "    \"\"\"\n",
        "    if test_record is not None:\n",
        "        test_record_tnsr = tf.data.Dataset.from_tensor_slices((test_record,np.eye(3)[[0]*len(data.X)]))\n",
        "        test_record_tnsr = test_record_tnsr.batch(batch_size)\n",
        "        return test_record_tnsr\n",
        "    else:\n",
        "        # covert data into tensor datasets\n",
        "        dataset_train = tf.data.Dataset.from_tensor_slices((data.train_x,data.train_y))\n",
        "        dataset_test = tf.data.Dataset.from_tensor_slices((data.test_x,data.test_y))\n",
        "        dataset_val = tf.data.Dataset.from_tensor_slices((data.val_x,data.val_y))\n",
        "        # Shuffle, repeat, and batch the examples.\n",
        "        dataset_train = dataset_train.cache()\n",
        "        dataset_train = dataset_train.shuffle(1000, reshuffle_each_iteration=True)\n",
        "        dataset_train = dataset_train.repeat()\n",
        "        dataset_train = dataset_train.batch(batch_size)\n",
        "        # dataset_test = dataset_test.cache()\n",
        "        # dataset_test = dataset_test.shuffle(1000, reshuffle_each_iteration=True)\n",
        "        # dataset_test = dataset_test.repeat()\n",
        "        dataset_test = dataset_test.batch(batch_size)\n",
        "        dataset_val = dataset_val.cache()\n",
        "        dataset_val = dataset_val.shuffle(1000, reshuffle_each_iteration=True)\n",
        "        dataset_val = dataset_val.repeat()\n",
        "        dataset_val = dataset_val.batch(batch_size)\n",
        "        # Return the dataset.\n",
        "        return dataset_train,dataset_test,dataset_val\n"
      ],
      "execution_count": null,
      "outputs": []
    },
    {
      "cell_type": "code",
      "metadata": {
        "id": "-Qxbah2qH9Z4",
        "colab_type": "code",
        "colab": {
          "base_uri": "https://localhost:8080/",
          "height": 36
        },
        "outputId": "c6527b2d-24a1-4da4-fb42-0d13d18ed383"
      },
      "source": [
        "# To check if TPU is avaiable\n",
        "try:\n",
        "    device_name = os.environ['COLAB_TPU_ADDR']\n",
        "    TPU_ADDRESS = 'grpc://' + device_name\n",
        "    print('Found TPU at: {}'.format(TPU_ADDRESS))\n",
        "except KeyError:\n",
        "    print('TPU not found')"
      ],
      "execution_count": null,
      "outputs": [
        {
          "output_type": "stream",
          "text": [
            "Found TPU at: grpc://10.110.43.218:8470\n"
          ],
          "name": "stdout"
        }
      ]
    },
    {
      "cell_type": "code",
      "metadata": {
        "id": "DzR2thzkNh-C",
        "colab_type": "code",
        "colab": {
          "base_uri": "https://localhost:8080/",
          "height": 850
        },
        "outputId": "b4895673-a592-437d-fe9e-76febc69e4ab"
      },
      "source": [
        "# Configure and connect to TPU.\n",
        "resolver = tf.distribute.cluster_resolver.TPUClusterResolver(tpu='grpc://' + os.environ['COLAB_TPU_ADDR'])\n",
        "tf.config.experimental_connect_to_cluster(resolver)\n",
        "# TPU initialization\n",
        "tf.tpu.experimental.initialize_tpu_system(resolver)\n",
        "print(\"All devices: \", tf.config.list_logical_devices('TPU'))\n",
        "\n",
        "strategy = tf.distribute.experimental.TPUStrategy(resolver)\n"
      ],
      "execution_count": null,
      "outputs": [
        {
          "output_type": "stream",
          "text": [
            "INFO:tensorflow:Initializing the TPU system: grpc://10.110.43.218:8470\n"
          ],
          "name": "stdout"
        },
        {
          "output_type": "stream",
          "text": [
            "INFO:tensorflow:Initializing the TPU system: grpc://10.110.43.218:8470\n"
          ],
          "name": "stderr"
        },
        {
          "output_type": "stream",
          "text": [
            "INFO:tensorflow:Clearing out eager caches\n"
          ],
          "name": "stdout"
        },
        {
          "output_type": "stream",
          "text": [
            "INFO:tensorflow:Clearing out eager caches\n"
          ],
          "name": "stderr"
        },
        {
          "output_type": "stream",
          "text": [
            "INFO:tensorflow:Finished initializing TPU system.\n"
          ],
          "name": "stdout"
        },
        {
          "output_type": "stream",
          "text": [
            "INFO:tensorflow:Finished initializing TPU system.\n",
            "WARNING:absl:`tf.distribute.experimental.TPUStrategy` is deprecated, please use  the non experimental symbol `tf.distribute.TPUStrategy` instead.\n"
          ],
          "name": "stderr"
        },
        {
          "output_type": "stream",
          "text": [
            "All devices:  [LogicalDevice(name='/job:worker/replica:0/task:0/device:TPU:7', device_type='TPU'), LogicalDevice(name='/job:worker/replica:0/task:0/device:TPU:6', device_type='TPU'), LogicalDevice(name='/job:worker/replica:0/task:0/device:TPU:5', device_type='TPU'), LogicalDevice(name='/job:worker/replica:0/task:0/device:TPU:4', device_type='TPU'), LogicalDevice(name='/job:worker/replica:0/task:0/device:TPU:0', device_type='TPU'), LogicalDevice(name='/job:worker/replica:0/task:0/device:TPU:1', device_type='TPU'), LogicalDevice(name='/job:worker/replica:0/task:0/device:TPU:2', device_type='TPU'), LogicalDevice(name='/job:worker/replica:0/task:0/device:TPU:3', device_type='TPU')]\n",
            "INFO:tensorflow:Found TPU system:\n"
          ],
          "name": "stdout"
        },
        {
          "output_type": "stream",
          "text": [
            "INFO:tensorflow:Found TPU system:\n"
          ],
          "name": "stderr"
        },
        {
          "output_type": "stream",
          "text": [
            "INFO:tensorflow:*** Num TPU Cores: 8\n"
          ],
          "name": "stdout"
        },
        {
          "output_type": "stream",
          "text": [
            "INFO:tensorflow:*** Num TPU Cores: 8\n"
          ],
          "name": "stderr"
        },
        {
          "output_type": "stream",
          "text": [
            "INFO:tensorflow:*** Num TPU Workers: 1\n"
          ],
          "name": "stdout"
        },
        {
          "output_type": "stream",
          "text": [
            "INFO:tensorflow:*** Num TPU Workers: 1\n"
          ],
          "name": "stderr"
        },
        {
          "output_type": "stream",
          "text": [
            "INFO:tensorflow:*** Num TPU Cores Per Worker: 8\n"
          ],
          "name": "stdout"
        },
        {
          "output_type": "stream",
          "text": [
            "INFO:tensorflow:*** Num TPU Cores Per Worker: 8\n"
          ],
          "name": "stderr"
        },
        {
          "output_type": "stream",
          "text": [
            "INFO:tensorflow:*** Available Device: _DeviceAttributes(/job:localhost/replica:0/task:0/device:CPU:0, CPU, 0, 0)\n"
          ],
          "name": "stdout"
        },
        {
          "output_type": "stream",
          "text": [
            "INFO:tensorflow:*** Available Device: _DeviceAttributes(/job:localhost/replica:0/task:0/device:CPU:0, CPU, 0, 0)\n"
          ],
          "name": "stderr"
        },
        {
          "output_type": "stream",
          "text": [
            "INFO:tensorflow:*** Available Device: _DeviceAttributes(/job:localhost/replica:0/task:0/device:XLA_CPU:0, XLA_CPU, 0, 0)\n"
          ],
          "name": "stdout"
        },
        {
          "output_type": "stream",
          "text": [
            "INFO:tensorflow:*** Available Device: _DeviceAttributes(/job:localhost/replica:0/task:0/device:XLA_CPU:0, XLA_CPU, 0, 0)\n"
          ],
          "name": "stderr"
        },
        {
          "output_type": "stream",
          "text": [
            "INFO:tensorflow:*** Available Device: _DeviceAttributes(/job:worker/replica:0/task:0/device:CPU:0, CPU, 0, 0)\n"
          ],
          "name": "stdout"
        },
        {
          "output_type": "stream",
          "text": [
            "INFO:tensorflow:*** Available Device: _DeviceAttributes(/job:worker/replica:0/task:0/device:CPU:0, CPU, 0, 0)\n"
          ],
          "name": "stderr"
        },
        {
          "output_type": "stream",
          "text": [
            "INFO:tensorflow:*** Available Device: _DeviceAttributes(/job:worker/replica:0/task:0/device:TPU:0, TPU, 0, 0)\n"
          ],
          "name": "stdout"
        },
        {
          "output_type": "stream",
          "text": [
            "INFO:tensorflow:*** Available Device: _DeviceAttributes(/job:worker/replica:0/task:0/device:TPU:0, TPU, 0, 0)\n"
          ],
          "name": "stderr"
        },
        {
          "output_type": "stream",
          "text": [
            "INFO:tensorflow:*** Available Device: _DeviceAttributes(/job:worker/replica:0/task:0/device:TPU:1, TPU, 0, 0)\n"
          ],
          "name": "stdout"
        },
        {
          "output_type": "stream",
          "text": [
            "INFO:tensorflow:*** Available Device: _DeviceAttributes(/job:worker/replica:0/task:0/device:TPU:1, TPU, 0, 0)\n"
          ],
          "name": "stderr"
        },
        {
          "output_type": "stream",
          "text": [
            "INFO:tensorflow:*** Available Device: _DeviceAttributes(/job:worker/replica:0/task:0/device:TPU:2, TPU, 0, 0)\n"
          ],
          "name": "stdout"
        },
        {
          "output_type": "stream",
          "text": [
            "INFO:tensorflow:*** Available Device: _DeviceAttributes(/job:worker/replica:0/task:0/device:TPU:2, TPU, 0, 0)\n"
          ],
          "name": "stderr"
        },
        {
          "output_type": "stream",
          "text": [
            "INFO:tensorflow:*** Available Device: _DeviceAttributes(/job:worker/replica:0/task:0/device:TPU:3, TPU, 0, 0)\n"
          ],
          "name": "stdout"
        },
        {
          "output_type": "stream",
          "text": [
            "INFO:tensorflow:*** Available Device: _DeviceAttributes(/job:worker/replica:0/task:0/device:TPU:3, TPU, 0, 0)\n"
          ],
          "name": "stderr"
        },
        {
          "output_type": "stream",
          "text": [
            "INFO:tensorflow:*** Available Device: _DeviceAttributes(/job:worker/replica:0/task:0/device:TPU:4, TPU, 0, 0)\n"
          ],
          "name": "stdout"
        },
        {
          "output_type": "stream",
          "text": [
            "INFO:tensorflow:*** Available Device: _DeviceAttributes(/job:worker/replica:0/task:0/device:TPU:4, TPU, 0, 0)\n"
          ],
          "name": "stderr"
        },
        {
          "output_type": "stream",
          "text": [
            "INFO:tensorflow:*** Available Device: _DeviceAttributes(/job:worker/replica:0/task:0/device:TPU:5, TPU, 0, 0)\n"
          ],
          "name": "stdout"
        },
        {
          "output_type": "stream",
          "text": [
            "INFO:tensorflow:*** Available Device: _DeviceAttributes(/job:worker/replica:0/task:0/device:TPU:5, TPU, 0, 0)\n"
          ],
          "name": "stderr"
        },
        {
          "output_type": "stream",
          "text": [
            "INFO:tensorflow:*** Available Device: _DeviceAttributes(/job:worker/replica:0/task:0/device:TPU:6, TPU, 0, 0)\n"
          ],
          "name": "stdout"
        },
        {
          "output_type": "stream",
          "text": [
            "INFO:tensorflow:*** Available Device: _DeviceAttributes(/job:worker/replica:0/task:0/device:TPU:6, TPU, 0, 0)\n"
          ],
          "name": "stderr"
        },
        {
          "output_type": "stream",
          "text": [
            "INFO:tensorflow:*** Available Device: _DeviceAttributes(/job:worker/replica:0/task:0/device:TPU:7, TPU, 0, 0)\n"
          ],
          "name": "stdout"
        },
        {
          "output_type": "stream",
          "text": [
            "INFO:tensorflow:*** Available Device: _DeviceAttributes(/job:worker/replica:0/task:0/device:TPU:7, TPU, 0, 0)\n"
          ],
          "name": "stderr"
        },
        {
          "output_type": "stream",
          "text": [
            "INFO:tensorflow:*** Available Device: _DeviceAttributes(/job:worker/replica:0/task:0/device:TPU_SYSTEM:0, TPU_SYSTEM, 0, 0)\n"
          ],
          "name": "stdout"
        },
        {
          "output_type": "stream",
          "text": [
            "INFO:tensorflow:*** Available Device: _DeviceAttributes(/job:worker/replica:0/task:0/device:TPU_SYSTEM:0, TPU_SYSTEM, 0, 0)\n"
          ],
          "name": "stderr"
        },
        {
          "output_type": "stream",
          "text": [
            "INFO:tensorflow:*** Available Device: _DeviceAttributes(/job:worker/replica:0/task:0/device:XLA_CPU:0, XLA_CPU, 0, 0)\n"
          ],
          "name": "stdout"
        },
        {
          "output_type": "stream",
          "text": [
            "INFO:tensorflow:*** Available Device: _DeviceAttributes(/job:worker/replica:0/task:0/device:XLA_CPU:0, XLA_CPU, 0, 0)\n"
          ],
          "name": "stderr"
        }
      ]
    },
    {
      "cell_type": "code",
      "metadata": {
        "id": "7js_k2UUIGEd",
        "colab_type": "code",
        "colab": {
          "base_uri": "https://localhost:8080/",
          "height": 1000
        },
        "outputId": "7a4eb1a9-f368-48f6-e5e4-a1cd0d6af7b3"
      },
      "source": [
        "start_time = time.time()\n",
        "with strategy.scope():\n",
        "  model = create_model(data.max_seq_len, bert_ckpt_file)\n",
        "  model.compile(loss='categorical_crossentropy',optimizer='sgd',metrics=['accuracy'], )\n",
        "# setting batch size to 9 as it perfecty divides test data length\n",
        "train_dataset, test_dataset, val_dataset = train_test_input_fn(None, 9)\n",
        "checkpoint = ModelCheckpoint('bert-hi-weights.best.hdf5', monitor='val_accuracy', verbose=1, save_best_only=True, mode='max')\n",
        "#             checkpoint = ModelCheckpoint(weights_path,monitor='val_loss',mode='min',save_best_only=True,verbose=1)\n",
        "earlystop = EarlyStopping(monitor = 'val_loss',min_delta = 0,patience = 3, verbose = 1,restore_best_weights = True)\n",
        "callbacks_list = [checkpoint,earlystop]\n",
        "model.fit(train_dataset,\n",
        "          epochs=15,\n",
        "          steps_per_epoch = int(len(train)/9), #len(train)/9\n",
        "          validation_data=val_dataset,\n",
        "          validation_steps=int(len(val)/9), # #len(val)/9\n",
        "          callbacks=[callbacks_list]\n",
        "          )\n",
        "seconds = time.time() - start_time\n",
        "print('Time Taken:', time.strftime(\"%H:%M:%S\",time.gmtime(seconds)))"
      ],
      "execution_count": null,
      "outputs": [
        {
          "output_type": "stream",
          "text": [
            "Done loading 196 BERT weights from: model/multi_cased_L-12_H-768_A-12/bert_model.ckpt into <bert.model.BertModelLayer object at 0x7fed6f418eb8> (prefix:bert). Count of weights not found in the checkpoint was: [0]. Count of weights with mismatched shape: [0]\n",
            "Unused weights from checkpoint: \n",
            "\tbert/embeddings/token_type_embeddings\n",
            "\tbert/pooler/dense/bias\n",
            "\tbert/pooler/dense/kernel\n",
            "\tcls/predictions/output_bias\n",
            "\tcls/predictions/transform/LayerNorm/beta\n",
            "\tcls/predictions/transform/LayerNorm/gamma\n",
            "\tcls/predictions/transform/dense/bias\n",
            "\tcls/predictions/transform/dense/kernel\n",
            "\tcls/seq_relationship/output_bias\n",
            "\tcls/seq_relationship/output_weights\n",
            "Epoch 1/15\n",
            "WARNING:tensorflow:From /usr/local/lib/python3.6/dist-packages/tensorflow/python/data/ops/multi_device_iterator_ops.py:601: get_next_as_optional (from tensorflow.python.data.ops.iterator_ops) is deprecated and will be removed in a future version.\n",
            "Instructions for updating:\n",
            "Use `tf.data.Iterator.get_next_as_optional()` instead.\n"
          ],
          "name": "stdout"
        },
        {
          "output_type": "stream",
          "text": [
            "WARNING:tensorflow:From /usr/local/lib/python3.6/dist-packages/tensorflow/python/data/ops/multi_device_iterator_ops.py:601: get_next_as_optional (from tensorflow.python.data.ops.iterator_ops) is deprecated and will be removed in a future version.\n",
            "Instructions for updating:\n",
            "Use `tf.data.Iterator.get_next_as_optional()` instead.\n"
          ],
          "name": "stderr"
        },
        {
          "output_type": "stream",
          "text": [
            "  2/829 [..............................] - ETA: 29s - loss: 0.9302 - accuracy: 0.2778WARNING:tensorflow:Callbacks method `on_train_batch_end` is slow compared to the batch time (batch time: 0.0038s vs `on_train_batch_end` time: 0.0634s). Check your callbacks.\n"
          ],
          "name": "stdout"
        },
        {
          "output_type": "stream",
          "text": [
            "WARNING:tensorflow:Callbacks method `on_train_batch_end` is slow compared to the batch time (batch time: 0.0038s vs `on_train_batch_end` time: 0.0634s). Check your callbacks.\n"
          ],
          "name": "stderr"
        },
        {
          "output_type": "stream",
          "text": [
            "829/829 [==============================] - ETA: 0s - loss: 0.6355 - accuracy: 0.6330WARNING:tensorflow:Callbacks method `on_test_batch_end` is slow compared to the batch time (batch time: 0.0037s vs `on_test_batch_end` time: 0.0222s). Check your callbacks.\n"
          ],
          "name": "stdout"
        },
        {
          "output_type": "stream",
          "text": [
            "WARNING:tensorflow:Callbacks method `on_test_batch_end` is slow compared to the batch time (batch time: 0.0037s vs `on_test_batch_end` time: 0.0222s). Check your callbacks.\n"
          ],
          "name": "stderr"
        },
        {
          "output_type": "stream",
          "text": [
            "\n",
            "Epoch 00001: val_accuracy improved from -inf to 0.77670, saving model to bert-hi-weights.best.hdf5\n",
            "829/829 [==============================] - 72s 86ms/step - loss: 0.6355 - accuracy: 0.6330 - val_loss: 0.4742 - val_accuracy: 0.7767\n",
            "Epoch 2/15\n",
            "829/829 [==============================] - ETA: 0s - loss: 0.5171 - accuracy: 0.7392\n",
            "Epoch 00002: val_accuracy improved from 0.77670 to 0.82093, saving model to bert-hi-weights.best.hdf5\n",
            "829/829 [==============================] - 63s 76ms/step - loss: 0.5171 - accuracy: 0.7392 - val_loss: 0.4124 - val_accuracy: 0.8209\n",
            "Epoch 3/15\n",
            "829/829 [==============================] - ETA: 0s - loss: 0.4247 - accuracy: 0.8112\n",
            "Epoch 00003: val_accuracy improved from 0.82093 to 0.83172, saving model to bert-hi-weights.best.hdf5\n",
            "829/829 [==============================] - 63s 76ms/step - loss: 0.4247 - accuracy: 0.8112 - val_loss: 0.4088 - val_accuracy: 0.8317\n",
            "Epoch 4/15\n",
            "829/829 [==============================] - ETA: 0s - loss: 0.3730 - accuracy: 0.8271\n",
            "Epoch 00004: val_accuracy did not improve from 0.83172\n",
            "829/829 [==============================] - 59s 71ms/step - loss: 0.3730 - accuracy: 0.8271 - val_loss: 0.4261 - val_accuracy: 0.7972\n",
            "Epoch 5/15\n",
            "829/829 [==============================] - ETA: 0s - loss: 0.3454 - accuracy: 0.8389\n",
            "Epoch 00005: val_accuracy improved from 0.83172 to 0.85221, saving model to bert-hi-weights.best.hdf5\n",
            "829/829 [==============================] - 63s 76ms/step - loss: 0.3454 - accuracy: 0.8389 - val_loss: 0.3438 - val_accuracy: 0.8522\n",
            "Epoch 6/15\n",
            "829/829 [==============================] - ETA: 0s - loss: 0.3019 - accuracy: 0.8619\n",
            "Epoch 00006: val_accuracy improved from 0.85221 to 0.85653, saving model to bert-hi-weights.best.hdf5\n",
            "829/829 [==============================] - 61s 73ms/step - loss: 0.3019 - accuracy: 0.8619 - val_loss: 0.3469 - val_accuracy: 0.8565\n",
            "Epoch 7/15\n",
            "829/829 [==============================] - ETA: 0s - loss: 0.2751 - accuracy: 0.8807\n",
            "Epoch 00007: val_accuracy did not improve from 0.85653\n",
            "829/829 [==============================] - 58s 70ms/step - loss: 0.2751 - accuracy: 0.8807 - val_loss: 0.3642 - val_accuracy: 0.8533\n",
            "Epoch 8/15\n",
            "829/829 [==============================] - ETA: 0s - loss: 0.2219 - accuracy: 0.9043\n",
            "Epoch 00008: val_accuracy improved from 0.85653 to 0.90291, saving model to bert-hi-weights.best.hdf5\n",
            "829/829 [==============================] - 63s 76ms/step - loss: 0.2219 - accuracy: 0.9043 - val_loss: 0.2860 - val_accuracy: 0.9029\n",
            "Epoch 9/15\n",
            "829/829 [==============================] - ETA: 0s - loss: 0.1924 - accuracy: 0.9223\n",
            "Epoch 00009: val_accuracy did not improve from 0.90291\n",
            "829/829 [==============================] - 61s 73ms/step - loss: 0.1924 - accuracy: 0.9223 - val_loss: 0.2569 - val_accuracy: 0.9029\n",
            "Epoch 10/15\n",
            "829/829 [==============================] - ETA: 0s - loss: 0.1879 - accuracy: 0.9244\n",
            "Epoch 00010: val_accuracy did not improve from 0.90291\n",
            "829/829 [==============================] - 58s 70ms/step - loss: 0.1879 - accuracy: 0.9244 - val_loss: 0.3317 - val_accuracy: 0.8630\n",
            "Epoch 11/15\n",
            "829/829 [==============================] - ETA: 0s - loss: 0.1644 - accuracy: 0.9354\n",
            "Epoch 00011: val_accuracy improved from 0.90291 to 0.91154, saving model to bert-hi-weights.best.hdf5\n",
            "829/829 [==============================] - 62s 74ms/step - loss: 0.1644 - accuracy: 0.9354 - val_loss: 0.2710 - val_accuracy: 0.9115\n",
            "Epoch 12/15\n",
            "829/829 [==============================] - ETA: 0s - loss: 0.1275 - accuracy: 0.9536\n",
            "Epoch 00012: val_accuracy improved from 0.91154 to 0.92988, saving model to bert-hi-weights.best.hdf5\n",
            "829/829 [==============================] - 63s 76ms/step - loss: 0.1275 - accuracy: 0.9536 - val_loss: 0.2180 - val_accuracy: 0.9299\n",
            "Epoch 13/15\n",
            "829/829 [==============================] - ETA: 0s - loss: 0.0973 - accuracy: 0.9658\n",
            "Epoch 00013: val_accuracy improved from 0.92988 to 0.93420, saving model to bert-hi-weights.best.hdf5\n",
            "829/829 [==============================] - 61s 74ms/step - loss: 0.0973 - accuracy: 0.9658 - val_loss: 0.2182 - val_accuracy: 0.9342\n",
            "Epoch 14/15\n",
            "829/829 [==============================] - ETA: 0s - loss: 0.0816 - accuracy: 0.9709\n",
            "Epoch 00014: val_accuracy improved from 0.93420 to 0.94714, saving model to bert-hi-weights.best.hdf5\n",
            "829/829 [==============================] - 63s 76ms/step - loss: 0.0816 - accuracy: 0.9709 - val_loss: 0.1988 - val_accuracy: 0.9471\n",
            "Epoch 15/15\n",
            "829/829 [==============================] - ETA: 0s - loss: 0.0667 - accuracy: 0.9757\n",
            "Epoch 00015: val_accuracy improved from 0.94714 to 0.95038, saving model to bert-hi-weights.best.hdf5\n",
            "829/829 [==============================] - 61s 74ms/step - loss: 0.0667 - accuracy: 0.9757 - val_loss: 0.2009 - val_accuracy: 0.9504\n",
            "Time Taken: 00:17:17\n"
          ],
          "name": "stdout"
        }
      ]
    },
    {
      "cell_type": "code",
      "metadata": {
        "id": "WzXYlqoM4gTN",
        "colab_type": "code",
        "colab": {
          "base_uri": "https://localhost:8080/",
          "height": 95
        },
        "outputId": "bdead14d-82ba-42d0-c86a-ee32b48c8559"
      },
      "source": [
        "score = model.evaluate(test_dataset,steps=int(len(test)/9)) #len(test)/9"
      ],
      "execution_count": null,
      "outputs": [
        {
          "output_type": "stream",
          "text": [
            "\r  1/103 [..............................] - ETA: 2s - loss: 0.0055 - accuracy: 1.0000WARNING:tensorflow:Callbacks method `on_test_batch_end` is slow compared to the batch time (batch time: 0.0042s vs `on_test_batch_end` time: 0.0245s). Check your callbacks.\n"
          ],
          "name": "stdout"
        },
        {
          "output_type": "stream",
          "text": [
            "WARNING:tensorflow:Callbacks method `on_test_batch_end` is slow compared to the batch time (batch time: 0.0042s vs `on_test_batch_end` time: 0.0245s). Check your callbacks.\n"
          ],
          "name": "stderr"
        },
        {
          "output_type": "stream",
          "text": [
            "103/103 [==============================] - 3s 28ms/step - loss: 0.2194 - accuracy: 0.9450\n"
          ],
          "name": "stdout"
        }
      ]
    },
    {
      "cell_type": "code",
      "metadata": {
        "id": "DqSwUJn_4ikL",
        "colab_type": "code",
        "colab": {
          "base_uri": "https://localhost:8080/",
          "height": 36
        },
        "outputId": "69ba1be9-2f18-471e-fb8e-9888f2dfc565"
      },
      "source": [
        "print(\"Overall Accuracy:\", score[1]*100)"
      ],
      "execution_count": null,
      "outputs": [
        {
          "output_type": "stream",
          "text": [
            "Overall Accuracy: 95.49837803840637\n"
          ],
          "name": "stdout"
        }
      ]
    },
    {
      "cell_type": "markdown",
      "metadata": {
        "id": "6_HSYX-k4vz1",
        "colab_type": "text"
      },
      "source": [
        "The overall accuracy is 95.5%"
      ]
    },
    {
      "cell_type": "markdown",
      "metadata": {
        "id": "E54_n8Ce4k8k",
        "colab_type": "text"
      },
      "source": [
        "## Evaluation"
      ]
    },
    {
      "cell_type": "code",
      "metadata": {
        "id": "BVMiaTLa4y4x",
        "colab_type": "code",
        "colab": {}
      },
      "source": [
        "# Generate predictions for the test data\n",
        "y_pred = model.predict(test_dataset) # 55902/121"
      ],
      "execution_count": null,
      "outputs": []
    },
    {
      "cell_type": "code",
      "metadata": {
        "id": "1rYTpfZS4PRg",
        "colab_type": "code",
        "colab": {}
      },
      "source": [
        "y_test = [np.asarray(row[1:],dtype=np.float32) for row in test.values]\n",
        "y_pred = np.argmax(y_pred, axis=1)\n",
        "y_test = np.argmax(y_test, axis=1)"
      ],
      "execution_count": null,
      "outputs": []
    },
    {
      "cell_type": "code",
      "metadata": {
        "id": "4Ay5nW3iYHR7",
        "colab_type": "code",
        "colab": {
          "base_uri": "https://localhost:8080/",
          "height": 36
        },
        "outputId": "1dbbaefa-5889-4e1c-9695-e4a00cb7e58c"
      },
      "source": [
        "len(y_test),len(y_pred)"
      ],
      "execution_count": null,
      "outputs": [
        {
          "output_type": "execute_result",
          "data": {
            "text/plain": [
              "(933, 933)"
            ]
          },
          "metadata": {
            "tags": []
          },
          "execution_count": 25
        }
      ]
    },
    {
      "cell_type": "code",
      "metadata": {
        "id": "9v40RrHZ5tMv",
        "colab_type": "code",
        "colab": {
          "base_uri": "https://localhost:8080/",
          "height": 76
        },
        "outputId": "7aa32865-6174-4c98-97c5-b2cffd7f4cea"
      },
      "source": [
        "import matplotlib.pyplot as plt\n",
        "import seaborn\n",
        "from sklearn.metrics import accuracy_score\n",
        "from sklearn.metrics import classification_report\n",
        "\n",
        "def gen_confusion_matrix(y_test = None, y_pred = None, classes = 3):\n",
        "    if y_test is None:\n",
        "        y_test = self.y_test\n",
        "    confusion_mat = confusion_matrix(y_test, y_pred)\n",
        "    \n",
        "    if classes ==3:\n",
        "        matrix_proportions = np.zeros((3,3))\n",
        "        for i in range(0,3):\n",
        "            matrix_proportions[i,:] = confusion_mat[i,:]/float(confusion_mat[i,:].sum())\n",
        "        names=['Hate','Offensive','Neither']\n",
        "        confusion_df = pd.DataFrame(matrix_proportions, index=names,columns=names)\n",
        "        plt.figure(figsize=(5,5))\n",
        "        seaborn.heatmap(confusion_df,annot=True,annot_kws={\"size\": 12},cmap='gist_gray_r',cbar=False, square=True,fmt='.2f')\n",
        "        plt.ylabel(r'True categories',fontsize=14)\n",
        "        plt.xlabel(r'Predicted categories',fontsize=14)\n",
        "        plt.tick_params(labelsize=12)\n",
        "    if classes == 2:\n",
        "        matrix_proportions = np.zeros((2,2))\n",
        "        for i in range(0,2):\n",
        "            matrix_proportions[i,:] = confusion_mat[i,:]/float(confusion_mat[i,:].sum())\n",
        "        names=['Hate','Neither']\n",
        "        confusion_df = pd.DataFrame(matrix_proportions, index=names,columns=names)\n",
        "        plt.figure(figsize=(5,5))\n",
        "        seaborn.heatmap(confusion_df,annot=True,annot_kws={\"size\": 12},cmap='gist_gray_r',cbar=False, square=True,fmt='.2f')\n",
        "        plt.ylabel(r'True categories',fontsize=14)\n",
        "        plt.xlabel(r'Predicted categories',fontsize=14)\n",
        "        plt.tick_params(labelsize=12)\n",
        "\n",
        "def gen_report(y_test = None, y_pred = None):\n",
        "    acc = accuracy_score(y_test, y_pred)\n",
        "    return acc, classification_report(y_test, y_pred)"
      ],
      "execution_count": null,
      "outputs": [
        {
          "output_type": "stream",
          "text": [
            "/usr/local/lib/python3.6/dist-packages/statsmodels/tools/_testing.py:19: FutureWarning: pandas.util.testing is deprecated. Use the functions in the public API at pandas.testing instead.\n",
            "  import pandas.util.testing as tm\n"
          ],
          "name": "stderr"
        }
      ]
    },
    {
      "cell_type": "code",
      "metadata": {
        "id": "wPfaCJjc54TI",
        "colab_type": "code",
        "colab": {
          "base_uri": "https://localhost:8080/",
          "height": 341
        },
        "outputId": "12c81422-e71b-4dcd-94f8-11842fd8ae9b"
      },
      "source": [
        "gen_confusion_matrix(y_test,y_pred,classes=2)"
      ],
      "execution_count": null,
      "outputs": [
        {
          "output_type": "display_data",
          "data": {
            "image/png": "[encoded data removed]",
            "text/plain": [
              "<Figure size 360x360 with 1 Axes>"
            ]
          },
          "metadata": {
            "tags": [],
            "needs_background": "light"
          }
        }
      ]
    },
    {
      "cell_type": "code",
      "metadata": {
        "id": "9QmfbIg-6L0j",
        "colab_type": "code",
        "colab": {
          "base_uri": "https://localhost:8080/",
          "height": 211
        },
        "outputId": "637eb699-0def-4141-b97a-799d2e5fe70e"
      },
      "source": [
        "print('Accuracy: ',gen_report(y_test,y_pred)[0])\n",
        "print(gen_report(y_test,y_pred)[1])"
      ],
      "execution_count": null,
      "outputs": [
        {
          "output_type": "stream",
          "text": [
            "Accuracy:  0.9453376205787781\n",
            "              precision    recall  f1-score   support\n",
            "\n",
            "           0       0.93      0.96      0.94       453\n",
            "           1       0.96      0.93      0.95       480\n",
            "\n",
            "    accuracy                           0.95       933\n",
            "   macro avg       0.95      0.95      0.95       933\n",
            "weighted avg       0.95      0.95      0.95       933\n",
            "\n"
          ],
          "name": "stdout"
        }
      ]
    },
    {
      "cell_type": "markdown",
      "metadata": {
        "id": "h-ZCDxbUBHE4",
        "colab_type": "text"
      },
      "source": [
        "### Test Case"
      ]
    },
    {
      "cell_type": "code",
      "metadata": {
        "id": "S1ReOYQG-x5j",
        "colab_type": "code",
        "colab": {
          "base_uri": "https://localhost:8080/",
          "height": 94
        },
        "outputId": "69cef298-389d-47d4-8126-cdd81c1c8e58"
      },
      "source": [
        "classes = 3\n",
        "from tensorflow.keras.models import load_model\n",
        "start_time = time.time()\n",
        "text = [\"A gangster sets out to fulfill his father’s dream of becoming a doctor.\"]\n",
        "data = ProcessData(train = None, test=text, tokenizer=  tokenizer, classes= classes, max_seq_len=128)\n",
        "print(type(data.X))\n",
        "\n",
        "tensor_test_instance = train_test_input_fn(data.X, batch_size=121)\n",
        "# new_model = load_model('bert-en-weights.best.hdf5')\n",
        "results = model.predict(tensor_test_instance)\n",
        "print(results)\n",
        "seconds = time.time() - start_time\n",
        "print('Time Taken:', time.strftime(\"%H:%M:%S\",time.gmtime(seconds)))"
      ],
      "execution_count": null,
      "outputs": [
        {
          "output_type": "stream",
          "text": [
            "100%|██████████| 1/1 [00:00<00:00, 1837.19it/s]\n"
          ],
          "name": "stderr"
        },
        {
          "output_type": "stream",
          "text": [
            "<class 'numpy.ndarray'>\n",
            "[[9.9193037e-01 3.4325037e-04]]\n",
            "Time Taken: 00:00:09\n"
          ],
          "name": "stdout"
        }
      ]
    }
  ]
}