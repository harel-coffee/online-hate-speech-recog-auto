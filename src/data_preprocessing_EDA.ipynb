{
 "cells": [
  {
   "cell_type": "code",
   "execution_count": 19,
   "metadata": {},
   "outputs": [],
   "source": [
    "!rm ../data/dataset.csv\n",
    "!cat ../data/en/hasoc2019/hasoc2019.csv >> ../data/dataset.csv\n",
    "!cat ../data/en/hate_speech_icwsm18/nhsm.csv >> ../data/dataset.csv\n",
    "!cat ../data/en/hate-speech-and-offensive-language/t_davidson.csv >> ../data/dataset.csv\n",
    "!cat ../data/en/ousidhoum-etal-multilingual-hate-speech-2019/ousidhoum.csv >> ../data/dataset.csv\n",
    "!cat ../data/en/semeval2019/semeval2019.csv >> ../data/dataset.csv"
   ]
  },
  {
   "cell_type": "code",
   "execution_count": 78,
   "metadata": {},
   "outputs": [
    {
     "name": "stdout",
     "output_type": "stream",
     "text": [
      "WARNING: pip is being invoked by an old script wrapper. This will fail in a future version of pip.\n",
      "Please see https://github.com/pypa/pip/issues/5599 for advice on fixing the underlying issue.\n",
      "To avoid this problem you can invoke Python with '-m pip' instead of running pip directly.\n",
      "Collecting ekphrasis\n",
      "  Downloading ekphrasis-0.5.1.tar.gz (80 kB)\n",
      "\u001b[K     |████████████████████████████████| 80 kB 5.4 MB/s  eta 0:00:01\n",
      "\u001b[?25hRequirement already satisfied: termcolor in /homes/nv304/py3tf2/lib/python3.6/site-packages (from ekphrasis) (1.1.0)\n",
      "Requirement already satisfied: tqdm in /homes/nv304/py3tf2/lib/python3.6/site-packages (from ekphrasis) (4.45.0)\n",
      "Collecting colorama\n",
      "  Downloading colorama-0.4.3-py2.py3-none-any.whl (15 kB)\n",
      "Collecting ujson\n",
      "  Downloading ujson-3.0.0-cp36-cp36m-manylinux1_x86_64.whl (176 kB)\n",
      "\u001b[K     |████████████████████████████████| 176 kB 13.1 MB/s eta 0:00:01\n",
      "\u001b[?25hRequirement already satisfied: matplotlib in /homes/nv304/py3tf2/lib/python3.6/site-packages (from ekphrasis) (3.3.0)\n",
      "Requirement already satisfied: nltk in /homes/nv304/py3tf2/lib/python3.6/site-packages (from ekphrasis) (3.5)\n",
      "Collecting ftfy\n",
      "  Downloading ftfy-5.8.tar.gz (64 kB)\n",
      "\u001b[K     |████████████████████████████████| 64 kB 3.0 MB/s  eta 0:00:01\n",
      "\u001b[?25hRequirement already satisfied: numpy in /homes/nv304/py3tf2/lib/python3.6/site-packages (from ekphrasis) (1.18.3)\n",
      "Requirement already satisfied: pillow>=6.2.0 in /homes/nv304/py3tf2/lib/python3.6/site-packages (from matplotlib->ekphrasis) (7.2.0)\n",
      "Requirement already satisfied: python-dateutil>=2.1 in /homes/nv304/py3tf2/lib/python3.6/site-packages (from matplotlib->ekphrasis) (2.8.1)\n",
      "Requirement already satisfied: kiwisolver>=1.0.1 in /homes/nv304/py3tf2/lib/python3.6/site-packages (from matplotlib->ekphrasis) (1.2.0)\n",
      "Requirement already satisfied: pyparsing!=2.0.4,!=2.1.2,!=2.1.6,>=2.0.3 in /homes/nv304/py3tf2/lib/python3.6/site-packages (from matplotlib->ekphrasis) (2.4.7)\n",
      "Requirement already satisfied: cycler>=0.10 in /homes/nv304/py3tf2/lib/python3.6/site-packages (from matplotlib->ekphrasis) (0.10.0)\n",
      "Requirement already satisfied: click in /homes/nv304/py3tf2/lib/python3.6/site-packages (from nltk->ekphrasis) (7.1.1)\n",
      "Requirement already satisfied: joblib in /homes/nv304/py3tf2/lib/python3.6/site-packages (from nltk->ekphrasis) (0.14.1)\n",
      "Requirement already satisfied: regex in /homes/nv304/py3tf2/lib/python3.6/site-packages (from nltk->ekphrasis) (2020.4.4)\n",
      "Requirement already satisfied: wcwidth in /homes/nv304/py3tf2/lib/python3.6/site-packages (from ftfy->ekphrasis) (0.1.9)\n",
      "Requirement already satisfied: six>=1.5 in /homes/nv304/py3tf2/lib/python3.6/site-packages (from python-dateutil>=2.1->matplotlib->ekphrasis) (1.14.0)\n",
      "Building wheels for collected packages: ekphrasis, ftfy\n",
      "  Building wheel for ekphrasis (setup.py) ... \u001b[?25ldone\n",
      "\u001b[?25h  Created wheel for ekphrasis: filename=ekphrasis-0.5.1-py3-none-any.whl size=82843 sha256=511ea3b39e36e25ef92d41a463c6086b4cfc0d64a7f58fc0ddc8c15f77071f85\n",
      "  Stored in directory: /homes/nv304/.cache/pip/wheels/4d/80/3d/a326a4bc40633d1e10bce871e28e5e3ff4b4d0ea37cd0a0543\n",
      "  Building wheel for ftfy (setup.py) ... \u001b[?25ldone\n",
      "\u001b[?25h  Created wheel for ftfy: filename=ftfy-5.8-py3-none-any.whl size=45612 sha256=86b2da1a2ef5fba2ff2e480d86696b2a2f379898f513e858794a983d016f6cee\n",
      "  Stored in directory: /homes/nv304/.cache/pip/wheels/0f/35/f5/eb0a6ada2f64da8852637df14e12c7eb94f26c42546865d83d\n",
      "Successfully built ekphrasis ftfy\n",
      "Installing collected packages: colorama, ujson, ftfy, ekphrasis\n",
      "Successfully installed colorama-0.4.3 ekphrasis-0.5.1 ftfy-5.8 ujson-3.0.0\n",
      "\u001b[33mWARNING: You are using pip version 20.0.2; however, version 20.2 is available.\n",
      "You should consider upgrading via the '/homes/nv304/py3tf2/bin/python3 -m pip install --upgrade pip' command.\u001b[0m\n"
     ]
    }
   ],
   "source": [
    "# !pip install matplotlib\n",
    "!pip install ekphrasis"
   ]
  },
  {
   "cell_type": "code",
   "execution_count": 71,
   "metadata": {},
   "outputs": [],
   "source": [
    "import matplotlib.pyplot as plt\n",
    "import re\n",
    "import pandas as pd"
   ]
  },
  {
   "cell_type": "code",
   "execution_count": 63,
   "metadata": {},
   "outputs": [
    {
     "name": "stdout",
     "output_type": "stream",
     "text": [
      "(50386, 3)\n",
      "             text_id          text  class\n",
      "count          50381         50381  50381\n",
      "unique         49524         50000      3\n",
      "top     hasoc_en_512  @user retard      2\n",
      "freq               2             5  22898\n"
     ]
    }
   ],
   "source": [
    "df_en = pd.read_csv('../data/dataset.csv')\n",
    "print(df_en.shape)\n",
    "df_en.drop(df_en[(df_en['text_id'] == 'text_id')].index,inplace=True)\n",
    "df_en.drop(df_en[(df_en['hate'] == 'HS')].index,inplace=True)\n",
    "df_en.rename(columns={'hate':'class'},inplace=True)\n",
    "print(df_en.describe())"
   ]
  },
  {
   "cell_type": "code",
   "execution_count": 66,
   "metadata": {},
   "outputs": [
    {
     "name": "stdout",
     "output_type": "stream",
     "text": [
      "Size of dataset: 50381\n",
      "Hateful (class) = 1: 10738 ( 21.313590440840795 %)\n",
      "Offensive (class) = 2: 22898 ( 45.44967348802128 %)\n",
      "\n",
      "****\n",
      "\n",
      "**Hateful examples (class) = 1\n",
      "[\"A gangster sets out to fulfill his father’s dream of becoming a doctor.    Doctor's in #WestBengal be like #munna_bhai_MBBS    #DoctorsFightBack #DoctorsStrike #DoctorsUnderOppression   @MamataOfficial https://t.co/lZQcStQ2Md\", 'That’s not white supremacy though is it. That means whites thinking AND ACTING as though they are superior to others. What these Jew/Muslim joint actions are concerned with is protecting stuff like Halal/Kosher, circumcision and the right to wear religious garb. 1/2', 'Sit his ass down!  Tape his fingers and duct-tape his mouth.  Then throw him in a cage with the immigrants.  Problem solved!  Such a vision.  America, Free of Trump.  Darn, I just woke up.  Dems will do nothing.  #FuckTrump #FuckGOP #FuckCivility #ImpeachmentInquiryNow https://t.co/gU8oBArfo8', 'Congress abusive language towards PM Modi in Parliament is unacceptable.. Punish the MP\\\\n#GandiNaaliAbuse', \"@realDonaldTrump Since @realDonaldTrump is the BIGGEST deadbeat fraud, what he calls a fraud is what the rest of humanity not kiSsing his rectum calls #TheTRUTH. And we ALL know Trump CAN'T HANDLE THE TRUTH! #FuckTrump #ComradeTrump #PutinsPuppet #CadetBoneSpurs #MakingAmericaGarbageAgain #MAGA\", \"#ShameOnICC  Even local cricket tournament have better management &amp; planning than your's .   Thankyou for spoiling the worldcup. https://t.co/tfYxvOreN7\", 'Congress should not forget that Modi is the Pm of India and he Definitely deserves respect. Congress should immediately apologize for this low standard comment.#Congress #GandiNaaliAbuse #GandiNaaliInsult #BJP', \"BECAUSE THE USA GOT INVOLVED IN EL SALVADOR NOT 'MUSLIM COUNTRIES'  \", '😂😂🤙🏽🤙🏽😰😰 Buy a #fucktrump #hat today. I took the price down &amp; #freeshipping CLICK on LINK in my bio. Or PRE-Order a #chingatrump hat ! 🤙🏽\\U0001f91f🏾👊🏽💪🏾 #peaceout #forthewin #imissobama #dumptrump #resist #impeach #etsy… https://t.co/UR1FktTpt9', '@BrianKarem @realDonaldTrump Be Quiet or the racist scarecrow with the orange face will get you!!  #fucktrump #FUCKTHEGOP #ImpeachTrumpNow https://t.co/RAyBWJczqR']\n",
      "\n",
      "**Offensive examples (class) = 2\n",
      "['!!!!! RT @mleew17: boy dats cold...tyga dwn bad for cuffin dat hoe in the 1st place!!', '!!!!!!! RT @UrKindOfBrand Dawg!!!! RT @80sbaby4life: You ever fuck a bitch and she start to cry? You be confused as shit', '!!!!!!!!! RT @C_G_Anderson: @viva_based she look like a tranny', '!!!!!!!!!!!!! RT @ShenikaRoberts: The shit you hear about me might be true or it might be faker than the bitch who told it to ya &#57361;', '!!!!!!!!!!!!!!!!!!\"@T_Madison_x: The shit just blows me..claim you so faithful and down for somebody but still fucking with hoes! &#128514;&#128514;&#128514;\"', '!!!!!!\"@__BrighterDays: I can not just sit up and HATE on another bitch .. I got too much shit going on!\"', \"!!!!&#8220;@selfiequeenbri: cause I'm tired of you big bitches coming for us skinny girls!!&#8221;\", '\" &amp; you might not get ya bitch back &amp; thats that \"', '\" @rhythmixx_ :hobbies include: fighting Mariam\"\\n\\nbitch', '\" Keeks is a bitch she curves everyone \" lol I walked into a conversation like this. Smh']\n"
     ]
    },
    {
     "data": {
      "text/plain": [
       "<AxesSubplot:xlabel='class'>"
      ]
     },
     "execution_count": 66,
     "metadata": {},
     "output_type": "execute_result"
    },
    {
     "data": {
      "image/png": "[encoded data removed]",
      "text/plain": [
       "<Figure size 432x288 with 1 Axes>"
      ]
     },
     "metadata": {
      "needs_background": "light"
     },
     "output_type": "display_data"
    }
   ],
   "source": [
    "total = df_en.shape[0]\n",
    "gp = df_en.groupby(['class'])['text_id'].count()\n",
    "hate = gp[1]\n",
    "offensive = gp[2]\n",
    "print(\"Size of dataset:\", total)\n",
    "print(\"Hateful (class) = 1:\", hate, \"(\",hate/total*100,\"%)\")\n",
    "print(\"Offensive (class) = 2:\",offensive, \"(\",offensive/total*100,\"%)\")\n",
    "print(\"\\n****\\n\")\n",
    "print('**Hateful examples (class) = 1')\n",
    "print(list(df_en[df_en['class']==\"1\"]['text'][0:10]))\n",
    "\n",
    "print('\\n**Offensive examples (class) = 2')\n",
    "print(list(df_en[df_en['class']==\"2\"]['text'][0:10]))\n",
    "gp.plot(kind='bar')\n"
   ]
  },
  {
   "cell_type": "markdown",
   "metadata": {},
   "source": [
    "### Pre process text"
   ]
  },
  {
   "cell_type": "code",
   "execution_count": 80,
   "metadata": {},
   "outputs": [
    {
     "name": "stdout",
     "output_type": "stream",
     "text": [
      "Word statistics files not found!\n",
      "Downloading... done!\n",
      "Unpacking... done!\n",
      "Reading twitter - 1grams ...\n",
      "generating cache file for faster loading...\n",
      "reading ngrams /homes/nv304/.ekphrasis/stats/twitter/counts_1grams.txt\n",
      "Reading twitter - 2grams ...\n",
      "generating cache file for faster loading...\n",
      "reading ngrams /homes/nv304/.ekphrasis/stats/twitter/counts_2grams.txt\n",
      "Reading twitter - 1grams ...\n"
     ]
    }
   ],
   "source": [
    "from ekphrasis.classes.preprocessor import TextPreProcessor\n",
    "from ekphrasis.classes.tokenizer import SocialTokenizer\n",
    "from ekphrasis.dicts.emoticons import emoticons\n",
    "\n",
    "text_processor = TextPreProcessor(\n",
    "    # terms that will be normalized\n",
    "    normalize=['url', 'email', 'percent', 'money', 'phone', 'user',\n",
    "        'time', 'url', 'date', 'number'],\n",
    "    # terms that will be annotated\n",
    "    annotate={\"hashtag\", \"allcaps\", \"elongated\", \"repeated\",\n",
    "        'emphasis', 'censored'},\n",
    "    fix_html=True,  # fix HTML tokens\n",
    "    \n",
    "    # corpus from which the word statistics are going to be used \n",
    "    # for word segmentation \n",
    "    segmenter=\"twitter\", \n",
    "    \n",
    "    # corpus from which the word statistics are going to be used \n",
    "    # for spell correction\n",
    "    corrector=\"twitter\", \n",
    "    \n",
    "    unpack_hashtags=True,  # perform word segmentation on hashtags\n",
    "    unpack_contractions=True,  # Unpack contractions (can't -> can not)\n",
    "    spell_correct_elong=False,  # spell correction for elongated words\n",
    "    \n",
    "    # select a tokenizer. You can use SocialTokenizer, or pass your own\n",
    "    # the tokenizer, should take as input a string and return a list of tokens\n",
    "    tokenizer=SocialTokenizer(lowercase=True).tokenize,\n",
    "    \n",
    "    # list of dictionaries, for replacing tokens extracted from the text,\n",
    "    # with other expressions. You can pass more than one dictionaries.\n",
    "    dicts=[emoticons]\n",
    ")\n"
   ]
  },
  {
   "cell_type": "code",
   "execution_count": 81,
   "metadata": {},
   "outputs": [],
   "source": [
    "df_en['clean_text'] = df_en.apply(lambda x: \" \".join(text_processor.pre_process_doc(x.text)),axis=1)"
   ]
  },
  {
   "cell_type": "code",
   "execution_count": 77,
   "metadata": {},
   "outputs": [
    {
     "name": "stdout",
     "output_type": "stream",
     "text": [
      "Why the #DoctorsFightBack is not just about violence unleashed on them ? Its time to address faltering justice systems, crippled health systems and broken dreams  https://t.co/S2akvvDDlY\n",
      "Why the #DoctorsFightBack is not just about violence unleashed on them ? Its time to address faltering justice systems, crippled health systems and broken dreams \n"
     ]
    }
   ],
   "source": [
    "print(df_en['text'][100])\n",
    "print(df_en['clean_text'][100])"
   ]
  },
  {
   "cell_type": "code",
   "execution_count": 83,
   "metadata": {},
   "outputs": [
    {
     "name": "stdout",
     "output_type": "stream",
     "text": [
      "Some people, by way of association (and assassination), die quicker than they should.  Whereas we foretold a mighty dragging, her dragging ended in her death.  Yes, she will die -- never be the same again.  #dirtyniggr #markbathompson #blight #demon #murderer #thief #nataliewatts\n",
      "some people , by way of association ( and assassination ) , die quicker than they should . whereas we foretold a mighty dragging , her dragging ended in her death . yes , she will die - - never be the same again . <hashtag> dirty niggr </hashtag> <hashtag> mark ba thompson </hashtag> <hashtag> blight </hashtag> <hashtag> demon </hashtag> <hashtag> murderer </hashtag> <hashtag> thief </hashtag> <hashtag> natalie watts </hashtag>\n"
     ]
    }
   ],
   "source": [
    "print(df_en['text'][1000])\n",
    "print(df_en['clean_text'][1000])"
   ]
  },
  {
   "cell_type": "code",
   "execution_count": null,
   "metadata": {},
   "outputs": [],
   "source": []
  }
 ],
 "metadata": {
  "kernelspec": {
   "display_name": "Python 3",
   "language": "python",
   "name": "python3"
  },
  "language_info": {
   "codemirror_mode": {
    "name": "ipython",
    "version": 3
   },
   "file_extension": ".py",
   "mimetype": "text/x-python",
   "name": "python",
   "nbconvert_exporter": "python",
   "pygments_lexer": "ipython3",
   "version": "3.6.9"
  }
 },
 "nbformat": 4,
 "nbformat_minor": 4
}
