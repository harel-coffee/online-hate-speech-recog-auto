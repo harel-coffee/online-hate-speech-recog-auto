{
 "cells": [
  {
   "cell_type": "code",
   "execution_count": 1,
   "metadata": {},
   "outputs": [
    {
     "name": "stdout",
     "output_type": "stream",
     "text": [
      "Reading Emoticons ...\n",
      "Reading Slangs ...\n"
     ]
    }
   ],
   "source": [
    "import warnings\n",
    "warnings.filterwarnings('ignore')\n",
    "import pandas as pd\n",
    "import numpy as np\n",
    "from base_line_DNN import CNN_LSTM as network\n",
    "from base_line_DNN import ProcessData\n",
    "from base_line_LR import LR\n",
    "from datetime import datetime\n",
    "\n",
    "def get_timestamp():\n",
    "    dateTimeObj = datetime.now()\n",
    "    timestampStr = dateTimeObj.strftime(\"%d-%b-%Y_%H_%M_%S\")\n",
    "    return timestampStr"
   ]
  },
  {
   "cell_type": "code",
   "execution_count": 2,
   "metadata": {},
   "outputs": [],
   "source": [
    "df_en = pd.read_csv('../data/dataset_en.csv')\n",
    "df_en[\"class\"] = df_en[\"class\"].astype(int)\n",
    "df_en = df_en.dropna() # drop any rotokenizer_testws with nans\n",
    "df_en.drop(df_en.loc[df_en['text_id'] == 'text_id'].index,inplace=True)\n",
    "df_en.drop(df_en.loc[df_en['class'] == 'HS'].index,inplace=True)\n",
    "df_en['text_len'] = df_en.apply(lambda x: len(x.text.split()), axis=1)\n",
    "df_en = df_en[df_en['text_len']<200]"
   ]
  },
  {
   "cell_type": "code",
   "execution_count": 3,
   "metadata": {},
   "outputs": [],
   "source": [
    "parameters={'lang':'en',\n",
    "       'seed':30,\n",
    "       'epochs':50, \n",
    "       'batch_size':30, \n",
    "       'optimiser':'sgd', \n",
    "       'lr_rate':0.001, \n",
    "       'drop_out':0.2, \n",
    "       'hidden_size':64,\n",
    "        'val_split':0.2\n",
    "      }"
   ]
  },
  {
   "cell_type": "code",
   "execution_count": 4,
   "metadata": {},
   "outputs": [
    {
     "name": "stdout",
     "output_type": "stream",
     "text": [
      "Reading twitter - 1grams ...\n",
      "Reading twitter - 2grams ...\n"
     ]
    },
    {
     "name": "stderr",
     "output_type": "stream",
     "text": [
      "  0%|          | 0/50369 [00:00<?, ?it/s]"
     ]
    },
    {
     "name": "stdout",
     "output_type": "stream",
     "text": [
      "Reading twitter - 1grams ...\n"
     ]
    },
    {
     "name": "stderr",
     "output_type": "stream",
     "text": [
      "100%|██████████| 50369/50369 [00:35<00:00, 1416.93it/s]\n"
     ]
    }
   ],
   "source": [
    "data = ProcessData(df_en, lang=parameters['lang'])"
   ]
  },
  {
   "cell_type": "code",
   "execution_count": 5,
   "metadata": {},
   "outputs": [
    {
     "name": "stdout",
     "output_type": "stream",
     "text": [
      "89 23191 [2 1 0]\n"
     ]
    }
   ],
   "source": [
    "print(data.max_seq_len, data.vocab_size, data.classes)"
   ]
  },
  {
   "cell_type": "code",
   "execution_count": 6,
   "metadata": {},
   "outputs": [
    {
     "name": "stdout",
     "output_type": "stream",
     "text": [
      "WARNING:tensorflow:From /homes/nv304/virtpy3/lib/python3.6/site-packages/tensorflow/python/ops/resource_variable_ops.py:435: colocate_with (from tensorflow.python.framework.ops) is deprecated and will be removed in a future version.\n",
      "Instructions for updating:\n",
      "Colocations handled automatically by placer.\n",
      "WARNING:tensorflow:From /homes/nv304/virtpy3/lib/python3.6/site-packages/tensorflow/python/keras/layers/core.py:143: calling dropout (from tensorflow.python.ops.nn_ops) with keep_prob is deprecated and will be removed in a future version.\n",
      "Instructions for updating:\n",
      "Please use `rate` instead of `keep_prob`. Rate should be set to `rate = 1 - keep_prob`.\n",
      "__________________________________________________________________________________________________\n",
      "Layer (type)                    Output Shape         Param #     Connected to                     \n",
      "==================================================================================================\n",
      "input_1 (InputLayer)            (None, 89)           0                                            \n",
      "__________________________________________________________________________________________________\n",
      "embedding (Embedding)           (None, 89, 100)      2319100     input_1[0][0]                    \n",
      "__________________________________________________________________________________________________\n",
      "reshape (Reshape)               (None, 89, 100, 1)   0           embedding[0][0]                  \n",
      "__________________________________________________________________________________________________\n",
      "conv2d (Conv2D)                 (None, 87, 1, 64)    19264       reshape[0][0]                    \n",
      "__________________________________________________________________________________________________\n",
      "conv2d_1 (Conv2D)               (None, 86, 1, 64)    25664       reshape[0][0]                    \n",
      "__________________________________________________________________________________________________\n",
      "conv2d_2 (Conv2D)               (None, 85, 1, 64)    32064       reshape[0][0]                    \n",
      "__________________________________________________________________________________________________\n",
      "batch_normalization_v1 (BatchNo (None, 87, 1, 64)    256         conv2d[0][0]                     \n",
      "__________________________________________________________________________________________________\n",
      "batch_normalization_v1_1 (Batch (None, 86, 1, 64)    256         conv2d_1[0][0]                   \n",
      "__________________________________________________________________________________________________\n",
      "batch_normalization_v1_2 (Batch (None, 85, 1, 64)    256         conv2d_2[0][0]                   \n",
      "__________________________________________________________________________________________________\n",
      "max_pooling2d (MaxPooling2D)    (None, 1, 1, 64)     0           batch_normalization_v1[0][0]     \n",
      "__________________________________________________________________________________________________\n",
      "max_pooling2d_1 (MaxPooling2D)  (None, 1, 1, 64)     0           batch_normalization_v1_1[0][0]   \n",
      "__________________________________________________________________________________________________\n",
      "max_pooling2d_2 (MaxPooling2D)  (None, 1, 1, 64)     0           batch_normalization_v1_2[0][0]   \n",
      "__________________________________________________________________________________________________\n",
      "concatenate (Concatenate)       (None, 1, 1, 192)    0           max_pooling2d[0][0]              \n",
      "                                                                 max_pooling2d_1[0][0]            \n",
      "                                                                 max_pooling2d_2[0][0]            \n",
      "__________________________________________________________________________________________________\n",
      "time_distributed (TimeDistribut (None, 1, 1, 64)     12352       concatenate[0][0]                \n",
      "__________________________________________________________________________________________________\n",
      "reshape_1 (Reshape)             (None, 1, 64)        0           time_distributed[0][0]           \n",
      "__________________________________________________________________________________________________\n",
      "bidirectional (Bidirectional)   (None, 1, 128)       66048       reshape_1[0][0]                  \n",
      "__________________________________________________________________________________________________\n",
      "flatten (Flatten)               (None, 192)          0           concatenate[0][0]                \n",
      "__________________________________________________________________________________________________\n",
      "bidirectional_1 (Bidirectional) (None, 128)          98816       bidirectional[0][0]              \n",
      "__________________________________________________________________________________________________\n",
      "dense (Dense)                   (None, 64)           12352       flatten[0][0]                    \n",
      "__________________________________________________________________________________________________\n",
      "dense_2 (Dense)                 (None, 64)           8256        bidirectional_1[0][0]            \n",
      "__________________________________________________________________________________________________\n",
      "dropout (Dropout)               (None, 64)           0           dense[0][0]                      \n",
      "__________________________________________________________________________________________________\n",
      "dropout_1 (Dropout)             (None, 64)           0           dense_2[0][0]                    \n",
      "__________________________________________________________________________________________________\n",
      "concatenate_1 (Concatenate)     (None, 128)          0           dropout[0][0]                    \n",
      "                                                                 dropout_1[0][0]                  \n",
      "__________________________________________________________________________________________________\n",
      "dense_3 (Dense)                 (None, 3)            387         concatenate_1[0][0]              \n",
      "__________________________________________________________________________________________________\n",
      "activation (Activation)         (None, 3)            0           dense_3[0][0]                    \n",
      "==================================================================================================\n",
      "Total params: 2,595,071\n",
      "Trainable params: 2,594,687\n",
      "Non-trainable params: 384\n",
      "__________________________________________________________________________________________________\n",
      "None\n"
     ]
    }
   ],
   "source": [
    "net = network(param=parameters)\n",
    "model = net.get_model_2(classes=len(data.classes), \n",
    "                        vocabulary_size=data.vocab_size, \n",
    "                        input_length=data.max_seq_len, \n",
    "                        param=parameters)"
   ]
  },
  {
   "cell_type": "code",
   "execution_count": 6,
   "metadata": {
    "scrolled": true
   },
   "outputs": [
    {
     "name": "stdout",
     "output_type": "stream",
     "text": [
      "Train on 32236 samples, validate on 8059 samples\n",
      "WARNING:tensorflow:From /homes/nv304/virtpy3/lib/python3.6/site-packages/tensorflow/python/ops/math_ops.py:3066: to_int32 (from tensorflow.python.ops.math_ops) is deprecated and will be removed in a future version.\n",
      "Instructions for updating:\n",
      "Use tf.cast instead.\n",
      "Epoch 1/50\n",
      "32190/32236 [============================>.] - ETA: 0s - loss: 1.0337 - acc: 0.4768\n",
      "Epoch 00001: val_acc improved from -inf to 0.54225, saving model to ../model/27-Aug-2020_13_15_25_en_weights.best.hdf5\n",
      "32236/32236 [==============================] - 53s 2ms/sample - loss: 1.0337 - acc: 0.4768 - val_loss: 0.9723 - val_acc: 0.5423\n",
      "Epoch 2/50\n",
      "32190/32236 [============================>.] - ETA: 0s - loss: 0.9512 - acc: 0.5546\n",
      "Epoch 00002: val_acc improved from 0.54225 to 0.57141, saving model to ../model/27-Aug-2020_13_15_25_en_weights.best.hdf5\n",
      "32236/32236 [==============================] - 45s 1ms/sample - loss: 0.9511 - acc: 0.5546 - val_loss: 0.9183 - val_acc: 0.5714\n",
      "Epoch 3/50\n",
      "32160/32236 [============================>.] - ETA: 0s - loss: 0.9036 - acc: 0.5923\n",
      "Epoch 00003: val_acc improved from 0.57141 to 0.61261, saving model to ../model/27-Aug-2020_13_15_25_en_weights.best.hdf5\n",
      "32236/32236 [==============================] - 45s 1ms/sample - loss: 0.9035 - acc: 0.5925 - val_loss: 0.8875 - val_acc: 0.6126\n",
      "Epoch 4/50\n",
      "32190/32236 [============================>.] - ETA: 0s - loss: 0.8670 - acc: 0.6262\n",
      "Epoch 00004: val_acc improved from 0.61261 to 0.63296, saving model to ../model/27-Aug-2020_13_15_25_en_weights.best.hdf5\n",
      "32236/32236 [==============================] - 45s 1ms/sample - loss: 0.8669 - acc: 0.6263 - val_loss: 0.8588 - val_acc: 0.6330\n",
      "Epoch 5/50\n",
      "32220/32236 [============================>.] - ETA: 0s - loss: 0.8340 - acc: 0.6505\n",
      "Epoch 00005: val_acc improved from 0.63296 to 0.64065, saving model to ../model/27-Aug-2020_13_15_25_en_weights.best.hdf5\n",
      "32236/32236 [==============================] - 48s 1ms/sample - loss: 0.8340 - acc: 0.6504 - val_loss: 0.8338 - val_acc: 0.6407\n",
      "Epoch 6/50\n",
      "32220/32236 [============================>.] - ETA: 0s - loss: 0.8047 - acc: 0.6697\n",
      "Epoch 00006: val_acc improved from 0.64065 to 0.66485, saving model to ../model/27-Aug-2020_13_15_25_en_weights.best.hdf5\n",
      "32236/32236 [==============================] - 47s 1ms/sample - loss: 0.8048 - acc: 0.6698 - val_loss: 0.8193 - val_acc: 0.6648\n",
      "Epoch 7/50\n",
      "32220/32236 [============================>.] - ETA: 0s - loss: 0.7817 - acc: 0.6845\n",
      "Epoch 00007: val_acc improved from 0.66485 to 0.67105, saving model to ../model/27-Aug-2020_13_15_25_en_weights.best.hdf5\n",
      "32236/32236 [==============================] - 46s 1ms/sample - loss: 0.7818 - acc: 0.6845 - val_loss: 0.8027 - val_acc: 0.6711\n",
      "Epoch 8/50\n",
      "32190/32236 [============================>.] - ETA: 0s - loss: 0.7589 - acc: 0.6971\n",
      "Epoch 00008: val_acc did not improve from 0.67105\n",
      "32236/32236 [==============================] - 45s 1ms/sample - loss: 0.7588 - acc: 0.6973 - val_loss: 0.7870 - val_acc: 0.6683\n",
      "Epoch 9/50\n",
      "32190/32236 [============================>.] - ETA: 0s - loss: 0.7370 - acc: 0.7081\n",
      "Epoch 00009: val_acc improved from 0.67105 to 0.67564, saving model to ../model/27-Aug-2020_13_15_25_en_weights.best.hdf5\n",
      "32236/32236 [==============================] - 46s 1ms/sample - loss: 0.7370 - acc: 0.7081 - val_loss: 0.7776 - val_acc: 0.6756\n",
      "Epoch 10/50\n",
      "32220/32236 [============================>.] - ETA: 0s - loss: 0.7203 - acc: 0.7178\n",
      "Epoch 00010: val_acc improved from 0.67564 to 0.68321, saving model to ../model/27-Aug-2020_13_15_25_en_weights.best.hdf5\n",
      "32236/32236 [==============================] - 45s 1ms/sample - loss: 0.7202 - acc: 0.7179 - val_loss: 0.7679 - val_acc: 0.6832\n",
      "Epoch 11/50\n",
      "32190/32236 [============================>.] - ETA: 0s - loss: 0.6994 - acc: 0.7278\n",
      "Epoch 00011: val_acc improved from 0.68321 to 0.69016, saving model to ../model/27-Aug-2020_13_15_25_en_weights.best.hdf5\n",
      "32236/32236 [==============================] - 47s 1ms/sample - loss: 0.6995 - acc: 0.7278 - val_loss: 0.7590 - val_acc: 0.6902\n",
      "Epoch 12/50\n",
      "32190/32236 [============================>.] - ETA: 0s - loss: 0.6812 - acc: 0.7344\n",
      "Epoch 00012: val_acc improved from 0.69016 to 0.69562, saving model to ../model/27-Aug-2020_13_15_25_en_weights.best.hdf5\n",
      "32236/32236 [==============================] - 46s 1ms/sample - loss: 0.6810 - acc: 0.7345 - val_loss: 0.7515 - val_acc: 0.6956\n",
      "Epoch 13/50\n",
      "32190/32236 [============================>.] - ETA: 0s - loss: 0.6648 - acc: 0.7440\n",
      "Epoch 00013: val_acc improved from 0.69562 to 0.69959, saving model to ../model/27-Aug-2020_13_15_25_en_weights.best.hdf5\n",
      "32236/32236 [==============================] - 44s 1ms/sample - loss: 0.6648 - acc: 0.7440 - val_loss: 0.7467 - val_acc: 0.6996\n",
      "Epoch 14/50\n",
      "32220/32236 [============================>.] - ETA: 0s - loss: 0.6455 - acc: 0.7516\n",
      "Epoch 00014: val_acc improved from 0.69959 to 0.70158, saving model to ../model/27-Aug-2020_13_15_25_en_weights.best.hdf5\n",
      "32236/32236 [==============================] - 47s 1ms/sample - loss: 0.6456 - acc: 0.7515 - val_loss: 0.7446 - val_acc: 0.7016\n",
      "Epoch 15/50\n",
      "32220/32236 [============================>.] - ETA: 0s - loss: 0.6275 - acc: 0.7629\n",
      "Epoch 00015: val_acc improved from 0.70158 to 0.70182, saving model to ../model/27-Aug-2020_13_15_25_en_weights.best.hdf5\n",
      "32236/32236 [==============================] - 47s 1ms/sample - loss: 0.6275 - acc: 0.7629 - val_loss: 0.7426 - val_acc: 0.7018\n",
      "Epoch 16/50\n",
      "32220/32236 [============================>.] - ETA: 0s - loss: 0.6104 - acc: 0.7698\n",
      "Epoch 00016: val_acc did not improve from 0.70182\n",
      "32236/32236 [==============================] - 45s 1ms/sample - loss: 0.6105 - acc: 0.7698 - val_loss: 0.7349 - val_acc: 0.6969\n",
      "Epoch 17/50\n",
      "32220/32236 [============================>.] - ETA: 0s - loss: 0.5942 - acc: 0.7755\n",
      "Epoch 00017: val_acc did not improve from 0.70182\n",
      "32236/32236 [==============================] - 44s 1ms/sample - loss: 0.5942 - acc: 0.7754 - val_loss: 0.7342 - val_acc: 0.7002\n",
      "Epoch 18/50\n",
      "32190/32236 [============================>.] - ETA: 0s - loss: 0.5769 - acc: 0.7845\n",
      "Epoch 00018: val_acc did not improve from 0.70182\n",
      "32236/32236 [==============================] - 45s 1ms/sample - loss: 0.5770 - acc: 0.7845 - val_loss: 0.7323 - val_acc: 0.7012\n",
      "Epoch 19/50\n",
      "32190/32236 [============================>.] - ETA: 0s - loss: 0.5577 - acc: 0.7927\n",
      "Epoch 00019: val_acc improved from 0.70182 to 0.71448, saving model to ../model/27-Aug-2020_13_15_25_en_weights.best.hdf5\n",
      "32236/32236 [==============================] - 43s 1ms/sample - loss: 0.5577 - acc: 0.7928 - val_loss: 0.7405 - val_acc: 0.7145\n",
      "Epoch 20/50\n",
      "32220/32236 [============================>.] - ETA: 0s - loss: 0.5405 - acc: 0.7989\n",
      "Epoch 00020: val_acc did not improve from 0.71448\n",
      "32236/32236 [==============================] - 41s 1ms/sample - loss: 0.5406 - acc: 0.7989 - val_loss: 0.7388 - val_acc: 0.7007\n",
      "Epoch 21/50\n",
      "32190/32236 [============================>.] - ETA: 0s - loss: 0.5203 - acc: 0.8101\n",
      "Epoch 00021: val_acc did not improve from 0.71448\n",
      "32236/32236 [==============================] - 44s 1ms/sample - loss: 0.5206 - acc: 0.8101 - val_loss: 0.7594 - val_acc: 0.7120\n",
      "Epoch 22/50\n",
      "32220/32236 [============================>.] - ETA: 0s - loss: 0.5026 - acc: 0.8173\n",
      "Epoch 00022: val_acc improved from 0.71448 to 0.71622, saving model to ../model/27-Aug-2020_13_15_25_en_weights.best.hdf5\n",
      "32236/32236 [==============================] - 43s 1ms/sample - loss: 0.5026 - acc: 0.8173 - val_loss: 0.7593 - val_acc: 0.7162\n",
      "Epoch 23/50\n",
      "32190/32236 [============================>.] - ETA: 0s - loss: 0.4878 - acc: 0.8255\n",
      "Epoch 00023: val_acc did not improve from 0.71622\n",
      "Restoring model weights from the end of the best epoch.\n",
      "32236/32236 [==============================] - 44s 1ms/sample - loss: 0.4877 - acc: 0.8256 - val_loss: 0.7523 - val_acc: 0.6871\n",
      "Epoch 00023: early stopping\n"
     ]
    }
   ],
   "source": [
    "tmp = get_timestamp()\n",
    "model_path = '../model/'+tmp+'_en_weights.best.hdf5'\n",
    "hist = net.train(data.X_train, data.y_train, model, model_path, data.class_weight)"
   ]
  },
  {
   "cell_type": "code",
   "execution_count": 8,
   "metadata": {},
   "outputs": [
    {
     "data": {
      "image/png": "[encoded data removed]",
      "text/plain": [
       "<Figure size 432x288 with 1 Axes>"
      ]
     },
     "metadata": {
      "needs_background": "light"
     },
     "output_type": "display_data"
    },
    {
     "data": {
      "image/png": "[encoded data removed]",
      "text/plain": [
       "<Figure size 432x288 with 1 Axes>"
      ]
     },
     "metadata": {
      "needs_background": "light"
     },
     "output_type": "display_data"
    }
   ],
   "source": [
    "# hist.history.keys()\n",
    "net.plot_taining_graphs(hist)"
   ]
  },
  {
   "cell_type": "code",
   "execution_count": 9,
   "metadata": {},
   "outputs": [
    {
     "name": "stdout",
     "output_type": "stream",
     "text": [
      "10074/10074 [==============================] - 2s 158us/sample - loss: 0.8956 - acc: 0.6296\n",
      "Overall Accuracy: 0.78964064\n",
      "Overall Loss: 0.3956158276006109\n"
     ]
    }
   ],
   "source": [
    "test_loss, test_acc = net.test(model,data.X_test, data.y_test)\n",
    "\n",
    "print(\"Overall Accuracy:\", test_acc)\n",
    "print(\"Overall Loss:\", test_loss)"
   ]
  },
  {
   "cell_type": "code",
   "execution_count": 8,
   "metadata": {},
   "outputs": [],
   "source": [
    "y_pred = model.predict(data.X_test)"
   ]
  },
  {
   "cell_type": "code",
   "execution_count": 6,
   "metadata": {},
   "outputs": [
    {
     "data": {
      "image/png": "[encoded data removed]",
      "text/plain": [
       "<Figure size 360x360 with 1 Axes>"
      ]
     },
     "metadata": {
      "needs_background": "light"
     },
     "output_type": "display_data"
    }
   ],
   "source": [
    "y_pred = np.argmax(y_pred, axis=1)\n",
    "y_test = np.argmax(data.y_test, axis=1)\n",
    "cls_obj = LR()\n",
    "cls_obj.gen_confusion_matrix(y_test = y_test, y_pred = y_pred, classes = 3)"
   ]
  },
  {
   "cell_type": "code",
   "execution_count": 13,
   "metadata": {},
   "outputs": [
    {
     "name": "stdout",
     "output_type": "stream",
     "text": [
      "              precision    recall  f1-score   support\n",
      "\n",
      "           0       0.76      0.82      0.74      3386\n",
      "           1       0.63      0.69      0.63      2157\n",
      "           2       0.78      0.71      0.72      4531\n",
      "\n",
      "    accuracy                           0.77     10074\n",
      "   macro avg       0.78      0.76      0.76     10074\n",
      "weighted avg       0.76      0.77      0.76     10074\n",
      "\n"
     ]
    }
   ],
   "source": [
    "print(cls_obj.gen_report(y_test, y_pred)[1])"
   ]
  },
  {
   "cell_type": "code",
   "execution_count": 16,
   "metadata": {},
   "outputs": [],
   "source": [
    "parameters['epochs']=len(hist.history['acc'])\n",
    "parameters['test_acc']=test_acc\n",
    "parameters['test_loss']=test_loss\n",
    "parameters['timestamp']=tmp\n",
    "df = pd.DataFrame([parameters])\n",
    "df.to_csv('result.csv', mode='a', index=False)"
   ]
  },
  {
   "cell_type": "markdown",
   "metadata": {},
   "source": [
    "## HI"
   ]
  },
  {
   "cell_type": "code",
   "execution_count": 14,
   "metadata": {},
   "outputs": [],
   "source": [
    "df_hi = pd.read_csv('../data/dataset_hi.csv')\n",
    "df_hi[\"class\"] = df_hi[\"class\"].astype(int)\n",
    "df_hi = df_hi.dropna() # drop any rotokenizer_testws with nans\n",
    "df_hi.drop(df_hi.loc[df_hi['text_id'] == 'text_id'].index,inplace=True)\n",
    "df_hi.drop(df_hi.loc[df_hi['class'] == 'HS'].index,inplace=True)\n",
    "df_hi['text_len'] = df_hi.apply(lambda x: len(x.text.split()), axis=1)\n",
    "df_hi = df_hi[df_hi['text_len']<200]"
   ]
  },
  {
   "cell_type": "code",
   "execution_count": 15,
   "metadata": {},
   "outputs": [
    {
     "name": "stdout",
     "output_type": "stream",
     "text": [
      "> /homes/nv304/online-hate-speech-recog/src/base_line_DNN.py(249)clean_doc()\n",
      "-> feat = fg.features(lang=self.lang)\n"
     ]
    },
    {
     "name": "stdin",
     "output_type": "stream",
     "text": [
      "(Pdb)  continue\n"
     ]
    },
    {
     "data": {
      "text/html": [],
      "text/plain": [
       "<IPython.core.display.HTML object>"
      ]
     },
     "metadata": {},
     "output_type": "display_data"
    },
    {
     "data": {
      "text/html": [],
      "text/plain": [
       "<IPython.core.display.HTML object>"
      ]
     },
     "metadata": {},
     "output_type": "display_data"
    },
    {
     "name": "stdout",
     "output_type": "stream",
     "text": [
      "Reading english - 1grams ...\n"
     ]
    },
    {
     "name": "stderr",
     "output_type": "stream",
     "text": [
      "100%|██████████| 9330/9330 [24:21<00:00,  6.38it/s]\n"
     ]
    }
   ],
   "source": [
    "data = ProcessData(df_hi, lang='hi')"
   ]
  },
  {
   "cell_type": "code",
   "execution_count": 16,
   "metadata": {},
   "outputs": [
    {
     "data": {
      "text/plain": [
       "(104, 6090, array([0, 1]))"
      ]
     },
     "execution_count": 16,
     "metadata": {},
     "output_type": "execute_result"
    }
   ],
   "source": [
    "data.max_seq_len, data.vocab_size, data.classes"
   ]
  },
  {
   "cell_type": "code",
   "execution_count": 17,
   "metadata": {},
   "outputs": [],
   "source": [
    "parameters={'lang':'hi',\n",
    "       'seed':30,\n",
    "       'epochs':20, \n",
    "       'batch_size':30, \n",
    "       'optimiser':'sgd', \n",
    "       'lr_rate':0.001, \n",
    "       'drop_out':0.1, \n",
    "       'hidden_size':32,\n",
    "            'val_split':0.2\n",
    "      }"
   ]
  },
  {
   "cell_type": "code",
   "execution_count": 18,
   "metadata": {},
   "outputs": [
    {
     "name": "stdout",
     "output_type": "stream",
     "text": [
      "__________________________________________________________________________________________________\n",
      "Layer (type)                    Output Shape         Param #     Connected to                     \n",
      "==================================================================================================\n",
      "input_2 (InputLayer)            (None, 104)          0                                            \n",
      "__________________________________________________________________________________________________\n",
      "embedding_1 (Embedding)         (None, 104, 100)     609000      input_2[0][0]                    \n",
      "__________________________________________________________________________________________________\n",
      "reshape_2 (Reshape)             (None, 104, 100, 1)  0           embedding_1[0][0]                \n",
      "__________________________________________________________________________________________________\n",
      "conv2d_3 (Conv2D)               (None, 102, 1, 64)   19264       reshape_2[0][0]                  \n",
      "__________________________________________________________________________________________________\n",
      "conv2d_4 (Conv2D)               (None, 101, 1, 64)   25664       reshape_2[0][0]                  \n",
      "__________________________________________________________________________________________________\n",
      "conv2d_5 (Conv2D)               (None, 100, 1, 64)   32064       reshape_2[0][0]                  \n",
      "__________________________________________________________________________________________________\n",
      "batch_normalization_v1_3 (Batch (None, 102, 1, 64)   256         conv2d_3[0][0]                   \n",
      "__________________________________________________________________________________________________\n",
      "batch_normalization_v1_4 (Batch (None, 101, 1, 64)   256         conv2d_4[0][0]                   \n",
      "__________________________________________________________________________________________________\n",
      "batch_normalization_v1_5 (Batch (None, 100, 1, 64)   256         conv2d_5[0][0]                   \n",
      "__________________________________________________________________________________________________\n",
      "max_pooling2d_3 (MaxPooling2D)  (None, 1, 1, 64)     0           batch_normalization_v1_3[0][0]   \n",
      "__________________________________________________________________________________________________\n",
      "max_pooling2d_4 (MaxPooling2D)  (None, 1, 1, 64)     0           batch_normalization_v1_4[0][0]   \n",
      "__________________________________________________________________________________________________\n",
      "max_pooling2d_5 (MaxPooling2D)  (None, 1, 1, 64)     0           batch_normalization_v1_5[0][0]   \n",
      "__________________________________________________________________________________________________\n",
      "concatenate_2 (Concatenate)     (None, 1, 1, 192)    0           max_pooling2d_3[0][0]            \n",
      "                                                                 max_pooling2d_4[0][0]            \n",
      "                                                                 max_pooling2d_5[0][0]            \n",
      "__________________________________________________________________________________________________\n",
      "time_distributed_1 (TimeDistrib (None, 1, 1, 32)     6176        concatenate_2[0][0]              \n",
      "__________________________________________________________________________________________________\n",
      "reshape_3 (Reshape)             (None, 1, 32)        0           time_distributed_1[0][0]         \n",
      "__________________________________________________________________________________________________\n",
      "bidirectional_2 (Bidirectional) (None, 1, 64)        16640       reshape_3[0][0]                  \n",
      "__________________________________________________________________________________________________\n",
      "flatten_1 (Flatten)             (None, 192)          0           concatenate_2[0][0]              \n",
      "__________________________________________________________________________________________________\n",
      "bidirectional_3 (Bidirectional) (None, 64)           24832       bidirectional_2[0][0]            \n",
      "__________________________________________________________________________________________________\n",
      "dense_4 (Dense)                 (None, 32)           6176        flatten_1[0][0]                  \n",
      "__________________________________________________________________________________________________\n",
      "dense_6 (Dense)                 (None, 32)           2080        bidirectional_3[0][0]            \n",
      "__________________________________________________________________________________________________\n",
      "dropout_2 (Dropout)             (None, 32)           0           dense_4[0][0]                    \n",
      "__________________________________________________________________________________________________\n",
      "dropout_3 (Dropout)             (None, 32)           0           dense_6[0][0]                    \n",
      "__________________________________________________________________________________________________\n",
      "concatenate_3 (Concatenate)     (None, 64)           0           dropout_2[0][0]                  \n",
      "                                                                 dropout_3[0][0]                  \n",
      "__________________________________________________________________________________________________\n",
      "dense_7 (Dense)                 (None, 2)            130         concatenate_3[0][0]              \n",
      "__________________________________________________________________________________________________\n",
      "activation_1 (Activation)       (None, 2)            0           dense_7[0][0]                    \n",
      "==================================================================================================\n",
      "Total params: 742,794\n",
      "Trainable params: 742,410\n",
      "Non-trainable params: 384\n",
      "__________________________________________________________________________________________________\n",
      "None\n"
     ]
    }
   ],
   "source": [
    "net = network(param=parameters)\n",
    "model = net.get_model_2(classes=len(data.classes), \n",
    "                        vocabulary_size=data.vocab_size, \n",
    "                        input_length=data.max_seq_len,\n",
    "                        param=parameters)"
   ]
  },
  {
   "cell_type": "code",
   "execution_count": 19,
   "metadata": {
    "scrolled": true
   },
   "outputs": [
    {
     "name": "stdout",
     "output_type": "stream",
     "text": [
      "Train on 5971 samples, validate on 1493 samples\n",
      "Epoch 1/20\n",
      "5910/5971 [============================>.] - ETA: 0s - loss: 0.7192 - acc: 0.5142\n",
      "Epoch 00001: val_acc improved from -inf to 0.56865, saving model to ../model/27-Aug-2020_14_13_34_hi_weights.best.hdf5\n",
      "5971/5971 [==============================] - 14s 2ms/sample - loss: 0.7192 - acc: 0.5136 - val_loss: 0.6917 - val_acc: 0.5687\n",
      "Epoch 2/20\n",
      "5940/5971 [============================>.] - ETA: 0s - loss: 0.6865 - acc: 0.5606\n",
      "Epoch 00002: val_acc did not improve from 0.56865\n",
      "5971/5971 [==============================] - 8s 1ms/sample - loss: 0.6864 - acc: 0.5602 - val_loss: 0.6887 - val_acc: 0.5653\n",
      "Epoch 3/20\n",
      "5970/5971 [============================>.] - ETA: 0s - loss: 0.6690 - acc: 0.5938\n",
      "Epoch 00003: val_acc did not improve from 0.56865\n",
      "5971/5971 [==============================] - 8s 1ms/sample - loss: 0.6691 - acc: 0.5937 - val_loss: 0.6819 - val_acc: 0.5586\n",
      "Epoch 4/20\n",
      "5970/5971 [============================>.] - ETA: 0s - loss: 0.6601 - acc: 0.6109\n",
      "Epoch 00004: val_acc improved from 0.56865 to 0.63764, saving model to ../model/27-Aug-2020_14_13_34_hi_weights.best.hdf5\n",
      "5971/5971 [==============================] - 8s 1ms/sample - loss: 0.6601 - acc: 0.6110 - val_loss: 0.6589 - val_acc: 0.6376\n",
      "Epoch 5/20\n",
      "5940/5971 [============================>.] - ETA: 0s - loss: 0.6467 - acc: 0.6347\n",
      "Epoch 00005: val_acc did not improve from 0.63764\n",
      "5971/5971 [==============================] - 8s 1ms/sample - loss: 0.6466 - acc: 0.6349 - val_loss: 0.6480 - val_acc: 0.6350\n",
      "Epoch 6/20\n",
      "5970/5971 [============================>.] - ETA: 0s - loss: 0.6280 - acc: 0.6640\n",
      "Epoch 00006: val_acc improved from 0.63764 to 0.67046, saving model to ../model/27-Aug-2020_14_13_34_hi_weights.best.hdf5\n",
      "5971/5971 [==============================] - 8s 1ms/sample - loss: 0.6280 - acc: 0.6640 - val_loss: 0.6296 - val_acc: 0.6705\n",
      "Epoch 7/20\n",
      "5940/5971 [============================>.] - ETA: 0s - loss: 0.6094 - acc: 0.6894\n",
      "Epoch 00007: val_acc improved from 0.67046 to 0.67381, saving model to ../model/27-Aug-2020_14_13_34_hi_weights.best.hdf5\n",
      "5971/5971 [==============================] - 8s 1ms/sample - loss: 0.6094 - acc: 0.6893 - val_loss: 0.6162 - val_acc: 0.6738\n",
      "Epoch 8/20\n",
      "5940/5971 [============================>.] - ETA: 0s - loss: 0.5879 - acc: 0.7089\n",
      "Epoch 00008: val_acc improved from 0.67381 to 0.68721, saving model to ../model/27-Aug-2020_14_13_34_hi_weights.best.hdf5\n",
      "5971/5971 [==============================] - 8s 1ms/sample - loss: 0.5875 - acc: 0.7098 - val_loss: 0.6015 - val_acc: 0.6872\n",
      "Epoch 9/20\n",
      "5970/5971 [============================>.] - ETA: 0s - loss: 0.5660 - acc: 0.7268\n",
      "Epoch 00009: val_acc improved from 0.68721 to 0.69457, saving model to ../model/27-Aug-2020_14_13_34_hi_weights.best.hdf5\n",
      "5971/5971 [==============================] - 8s 1ms/sample - loss: 0.5660 - acc: 0.7267 - val_loss: 0.5905 - val_acc: 0.6946\n",
      "Epoch 10/20\n",
      "5910/5971 [============================>.] - ETA: 0s - loss: 0.5455 - acc: 0.7426\n",
      "Epoch 00010: val_acc did not improve from 0.69457\n",
      "5971/5971 [==============================] - 8s 1ms/sample - loss: 0.5461 - acc: 0.7418 - val_loss: 0.5945 - val_acc: 0.6785\n",
      "Epoch 11/20\n",
      "5970/5971 [============================>.] - ETA: 0s - loss: 0.5209 - acc: 0.7658\n",
      "Epoch 00011: val_acc improved from 0.69457 to 0.73543, saving model to ../model/27-Aug-2020_14_13_34_hi_weights.best.hdf5\n",
      "5971/5971 [==============================] - 8s 1ms/sample - loss: 0.5210 - acc: 0.7657 - val_loss: 0.5496 - val_acc: 0.7354\n",
      "Epoch 12/20\n",
      "5970/5971 [============================>.] - ETA: 0s - loss: 0.4996 - acc: 0.7851\n",
      "Epoch 00012: val_acc did not improve from 0.73543\n",
      "5971/5971 [==============================] - 8s 1ms/sample - loss: 0.4997 - acc: 0.7850 - val_loss: 0.5657 - val_acc: 0.7013\n",
      "Epoch 13/20\n",
      "5940/5971 [============================>.] - ETA: 0s - loss: 0.4741 - acc: 0.8052\n",
      "Epoch 00013: val_acc improved from 0.73543 to 0.73610, saving model to ../model/27-Aug-2020_14_13_34_hi_weights.best.hdf5\n",
      "5971/5971 [==============================] - 8s 1ms/sample - loss: 0.4744 - acc: 0.8052 - val_loss: 0.5302 - val_acc: 0.7361\n",
      "Epoch 14/20\n",
      "5970/5971 [============================>.] - ETA: 0s - loss: 0.4524 - acc: 0.8147\n",
      "Epoch 00014: val_acc improved from 0.73610 to 0.74481, saving model to ../model/27-Aug-2020_14_13_34_hi_weights.best.hdf5\n",
      "5971/5971 [==============================] - 8s 1ms/sample - loss: 0.4524 - acc: 0.8146 - val_loss: 0.5230 - val_acc: 0.7448\n",
      "Epoch 15/20\n",
      "5970/5971 [============================>.] - ETA: 0s - loss: 0.4257 - acc: 0.8278\n",
      "Epoch 00015: val_acc improved from 0.74481 to 0.78567, saving model to ../model/27-Aug-2020_14_13_34_hi_weights.best.hdf5\n",
      "5971/5971 [==============================] - 8s 1ms/sample - loss: 0.4258 - acc: 0.8277 - val_loss: 0.4800 - val_acc: 0.7857\n",
      "Epoch 16/20\n",
      "5970/5971 [============================>.] - ETA: 0s - loss: 0.4026 - acc: 0.8446\n",
      "Epoch 00016: val_acc did not improve from 0.78567\n",
      "5971/5971 [==============================] - 8s 1ms/sample - loss: 0.4027 - acc: 0.8444 - val_loss: 0.5388 - val_acc: 0.7066\n",
      "Epoch 17/20\n",
      "5940/5971 [============================>.] - ETA: 0s - loss: 0.3836 - acc: 0.8524\n",
      "Epoch 00017: val_acc did not improve from 0.78567\n",
      "5971/5971 [==============================] - 8s 1ms/sample - loss: 0.3833 - acc: 0.8525 - val_loss: 0.5066 - val_acc: 0.7368\n",
      "Epoch 18/20\n",
      "5970/5971 [============================>.] - ETA: 0s - loss: 0.3557 - acc: 0.8700\n",
      "Epoch 00018: val_acc improved from 0.78567 to 0.80576, saving model to ../model/27-Aug-2020_14_13_34_hi_weights.best.hdf5\n",
      "5971/5971 [==============================] - 8s 1ms/sample - loss: 0.3556 - acc: 0.8700 - val_loss: 0.4301 - val_acc: 0.8058\n",
      "Epoch 19/20\n",
      "5970/5971 [============================>.] - ETA: 0s - loss: 0.3393 - acc: 0.8734\n",
      "Epoch 00019: val_acc did not improve from 0.80576\n",
      "5971/5971 [==============================] - 8s 1ms/sample - loss: 0.3394 - acc: 0.8734 - val_loss: 0.4647 - val_acc: 0.7870\n",
      "Epoch 20/20\n",
      "5940/5971 [============================>.] - ETA: 0s - loss: 0.3138 - acc: 0.8894\n",
      "Epoch 00020: val_acc improved from 0.80576 to 0.82786, saving model to ../model/27-Aug-2020_14_13_34_hi_weights.best.hdf5\n",
      "5971/5971 [==============================] - 8s 1ms/sample - loss: 0.3140 - acc: 0.8895 - val_loss: 0.3993 - val_acc: 0.8279\n"
     ]
    }
   ],
   "source": [
    "tmp=get_timestamp()\n",
    "model_path = '../model/'+tmp+'_hi_weights.best.hdf5'\n",
    "hist = net.train(data.X_train, data.y_train, model, model_path, data.class_weight)"
   ]
  },
  {
   "cell_type": "code",
   "execution_count": 96,
   "metadata": {},
   "outputs": [
    {
     "data": {
      "image/png": "[encoded data removed]",
      "text/plain": [
       "<Figure size 432x288 with 1 Axes>"
      ]
     },
     "metadata": {
      "needs_background": "light"
     },
     "output_type": "display_data"
    },
    {
     "data": {
      "image/png": "[encoded data removed]",
      "text/plain": [
       "<Figure size 432x288 with 1 Axes>"
      ]
     },
     "metadata": {
      "needs_background": "light"
     },
     "output_type": "display_data"
    }
   ],
   "source": [
    "net.plot_taining_graphs(hist)"
   ]
  },
  {
   "cell_type": "code",
   "execution_count": 97,
   "metadata": {},
   "outputs": [
    {
     "name": "stdout",
     "output_type": "stream",
     "text": [
      "1866/1866 [==============================] - 2s 944us/sample - loss: 0.6862 - acc: 0.5975\n",
      "Overall Accuracy: 0.85753484\n",
      "Overall Loss: 0.4262238354238284\n"
     ]
    }
   ],
   "source": [
    "test_loss, test_acc = net.test(model,data.X_test, data.y_test)\n",
    "\n",
    "print(\"Overall Accuracy:\", test_acc)\n",
    "print(\"Overall Loss:\", test_loss)"
   ]
  },
  {
   "cell_type": "code",
   "execution_count": 20,
   "metadata": {},
   "outputs": [],
   "source": [
    "y_pred = model.predict(data.X_test)"
   ]
  },
  {
   "cell_type": "code",
   "execution_count": 10,
   "metadata": {},
   "outputs": [
    {
     "data": {
      "image/png": "[encoded data removed]",
      "text/plain": [
       "<Figure size 360x360 with 1 Axes>"
      ]
     },
     "metadata": {
      "needs_background": "light"
     },
     "output_type": "display_data"
    }
   ],
   "source": [
    "y_pred = np.argmax(y_pred, axis=1)\n",
    "y_test = np.argmax(data.y_test, axis=1)\n",
    "cls_obj = LR()\n",
    "cls_obj.gen_confusion_matrix(y_test = y_test, y_pred = y_pred, classes = 2)"
   ]
  },
  {
   "cell_type": "code",
   "execution_count": 21,
   "metadata": {},
   "outputs": [
    {
     "name": "stdout",
     "output_type": "stream",
     "text": [
      "              precision    recall  f1-score   support\n",
      "\n",
      "           0       0.84      0.80      0.86       893\n",
      "           1       0.88      0.90      0.86       973\n",
      "\n",
      "    accuracy                           0.86      1866\n",
      "   macro avg       0.87      0.85      0.86      1866\n",
      "weighted avg       0.86      0.87      0.86      1866\n",
      "\n"
     ]
    }
   ],
   "source": [
    "print(cls_obj.gen_report(y_test, y_pred)[1])"
   ]
  },
  {
   "cell_type": "code",
   "execution_count": 17,
   "metadata": {},
   "outputs": [],
   "source": [
    "parameters['epochs']=len(hist.history['acc'])\n",
    "parameters['test_acc']=test_acc\n",
    "parameters['test_loss']=test_loss\n",
    "parameters['timestamp']=tmp\n",
    "df = pd.DataFrame([parameters])\n",
    "df.to_csv('result.csv', mode='a', index=False, header=False)"
   ]
  },
  {
   "cell_type": "markdown",
   "metadata": {},
   "source": [
    "## Hi-Code Mix"
   ]
  },
  {
   "cell_type": "code",
   "execution_count": 22,
   "metadata": {},
   "outputs": [
    {
     "name": "stdout",
     "output_type": "stream",
     "text": [
      "Index(['class', 'text_id', 'ekphrasis_clean_text', 'text'], dtype='object')\n"
     ]
    }
   ],
   "source": [
    "df_hi_cdmx = pd.read_csv('../data/dataset_hi_cdmx.csv')\n",
    "df_hi_cdmx[\"class\"] = df_hi_cdmx[\"class\"].astype(int)\n",
    "df_hi_cdmx = df_hi_cdmx.dropna() # drop any rotokenizer_testws with nans\n",
    "df_hi_cdmx = df_hi_cdmx.drop(['text'],axis=1)\n",
    "df_hi_cdmx = df_hi_cdmx.rename(columns={'basic_clean_text':'text'})\n",
    "print(df_hi_cdmx.columns)\n",
    "df_hi_cdmx.drop(df_hi_cdmx.loc[df_hi_cdmx['text_id'] == 'text_id'].index,inplace=True)\n",
    "df_hi_cdmx.drop(df_hi_cdmx.loc[df_hi_cdmx['class'] == 'HS'].index,inplace=True)\n",
    "df_hi_cdmx['text_len'] = df_hi_cdmx.apply(lambda x: len(x.text.split()), axis=1)\n",
    "df_hi_cdmx = df_hi_cdmx[df_hi_cdmx['text_len']<200]"
   ]
  },
  {
   "cell_type": "code",
   "execution_count": 23,
   "metadata": {},
   "outputs": [
    {
     "name": "stdout",
     "output_type": "stream",
     "text": [
      "> /homes/nv304/online-hate-speech-recog/src/base_line_DNN.py(249)clean_doc()\n",
      "-> feat = fg.features(lang=self.lang)\n"
     ]
    },
    {
     "name": "stdin",
     "output_type": "stream",
     "text": [
      "(Pdb)  continue\n"
     ]
    },
    {
     "name": "stdout",
     "output_type": "stream",
     "text": [
      "Reading twitter - 1grams ...\n",
      "Reading twitter - 2grams ...\n"
     ]
    },
    {
     "name": "stderr",
     "output_type": "stream",
     "text": [
      "  0%|          | 0/3161 [00:00<?, ?it/s]"
     ]
    },
    {
     "name": "stdout",
     "output_type": "stream",
     "text": [
      "Reading twitter - 1grams ...\n"
     ]
    },
    {
     "name": "stderr",
     "output_type": "stream",
     "text": [
      "100%|██████████| 3161/3161 [00:01<00:00, 1944.28it/s]\n"
     ]
    }
   ],
   "source": [
    "data = ProcessData(df_hi_cdmx, lang='en')"
   ]
  },
  {
   "cell_type": "code",
   "execution_count": 24,
   "metadata": {},
   "outputs": [
    {
     "data": {
      "text/plain": [
       "(105, 6018, array([2, 0, 1]))"
      ]
     },
     "execution_count": 24,
     "metadata": {},
     "output_type": "execute_result"
    }
   ],
   "source": [
    "data.max_seq_len, data.vocab_size, data.classes"
   ]
  },
  {
   "cell_type": "code",
   "execution_count": 25,
   "metadata": {},
   "outputs": [],
   "source": [
    "parameters={'lang':'en',\n",
    "       'seed':30,\n",
    "       'epochs':50, \n",
    "       'batch_size':30, \n",
    "       'optimiser':'sgd', \n",
    "       'lr_rate':0.01, \n",
    "       'drop_out':0.2, \n",
    "       'hidden_size':64,\n",
    "            'val_split':0.2\n",
    "      }"
   ]
  },
  {
   "cell_type": "code",
   "execution_count": 26,
   "metadata": {},
   "outputs": [
    {
     "name": "stdout",
     "output_type": "stream",
     "text": [
      "__________________________________________________________________________________________________\n",
      "Layer (type)                    Output Shape         Param #     Connected to                     \n",
      "==================================================================================================\n",
      "input_3 (InputLayer)            (None, 105)          0                                            \n",
      "__________________________________________________________________________________________________\n",
      "embedding_2 (Embedding)         (None, 105, 100)     601800      input_3[0][0]                    \n",
      "__________________________________________________________________________________________________\n",
      "reshape_4 (Reshape)             (None, 105, 100, 1)  0           embedding_2[0][0]                \n",
      "__________________________________________________________________________________________________\n",
      "conv2d_6 (Conv2D)               (None, 103, 1, 64)   19264       reshape_4[0][0]                  \n",
      "__________________________________________________________________________________________________\n",
      "conv2d_7 (Conv2D)               (None, 102, 1, 64)   25664       reshape_4[0][0]                  \n",
      "__________________________________________________________________________________________________\n",
      "conv2d_8 (Conv2D)               (None, 101, 1, 64)   32064       reshape_4[0][0]                  \n",
      "__________________________________________________________________________________________________\n",
      "batch_normalization_v1_6 (Batch (None, 103, 1, 64)   256         conv2d_6[0][0]                   \n",
      "__________________________________________________________________________________________________\n",
      "batch_normalization_v1_7 (Batch (None, 102, 1, 64)   256         conv2d_7[0][0]                   \n",
      "__________________________________________________________________________________________________\n",
      "batch_normalization_v1_8 (Batch (None, 101, 1, 64)   256         conv2d_8[0][0]                   \n",
      "__________________________________________________________________________________________________\n",
      "max_pooling2d_6 (MaxPooling2D)  (None, 1, 1, 64)     0           batch_normalization_v1_6[0][0]   \n",
      "__________________________________________________________________________________________________\n",
      "max_pooling2d_7 (MaxPooling2D)  (None, 1, 1, 64)     0           batch_normalization_v1_7[0][0]   \n",
      "__________________________________________________________________________________________________\n",
      "max_pooling2d_8 (MaxPooling2D)  (None, 1, 1, 64)     0           batch_normalization_v1_8[0][0]   \n",
      "__________________________________________________________________________________________________\n",
      "concatenate_4 (Concatenate)     (None, 1, 1, 192)    0           max_pooling2d_6[0][0]            \n",
      "                                                                 max_pooling2d_7[0][0]            \n",
      "                                                                 max_pooling2d_8[0][0]            \n",
      "__________________________________________________________________________________________________\n",
      "time_distributed_2 (TimeDistrib (None, 1, 1, 64)     12352       concatenate_4[0][0]              \n",
      "__________________________________________________________________________________________________\n",
      "reshape_5 (Reshape)             (None, 1, 64)        0           time_distributed_2[0][0]         \n",
      "__________________________________________________________________________________________________\n",
      "bidirectional_4 (Bidirectional) (None, 1, 128)       66048       reshape_5[0][0]                  \n",
      "__________________________________________________________________________________________________\n",
      "flatten_2 (Flatten)             (None, 192)          0           concatenate_4[0][0]              \n",
      "__________________________________________________________________________________________________\n",
      "bidirectional_5 (Bidirectional) (None, 128)          98816       bidirectional_4[0][0]            \n",
      "__________________________________________________________________________________________________\n",
      "dense_8 (Dense)                 (None, 64)           12352       flatten_2[0][0]                  \n",
      "__________________________________________________________________________________________________\n",
      "dense_10 (Dense)                (None, 64)           8256        bidirectional_5[0][0]            \n",
      "__________________________________________________________________________________________________\n",
      "dropout_4 (Dropout)             (None, 64)           0           dense_8[0][0]                    \n",
      "__________________________________________________________________________________________________\n",
      "dropout_5 (Dropout)             (None, 64)           0           dense_10[0][0]                   \n",
      "__________________________________________________________________________________________________\n",
      "concatenate_5 (Concatenate)     (None, 128)          0           dropout_4[0][0]                  \n",
      "                                                                 dropout_5[0][0]                  \n",
      "__________________________________________________________________________________________________\n",
      "dense_11 (Dense)                (None, 3)            387         concatenate_5[0][0]              \n",
      "__________________________________________________________________________________________________\n",
      "activation_2 (Activation)       (None, 3)            0           dense_11[0][0]                   \n",
      "==================================================================================================\n",
      "Total params: 877,771\n",
      "Trainable params: 877,387\n",
      "Non-trainable params: 384\n",
      "__________________________________________________________________________________________________\n",
      "None\n"
     ]
    }
   ],
   "source": [
    "net = network(param=parameters)\n",
    "model = net.get_model_2(classes=len(data.classes),\n",
    "                        vocabulary_size=data.vocab_size,\n",
    "                        input_length=data.max_seq_len,\n",
    "                        param=parameters)"
   ]
  },
  {
   "cell_type": "code",
   "execution_count": 27,
   "metadata": {
    "scrolled": true
   },
   "outputs": [
    {
     "name": "stdout",
     "output_type": "stream",
     "text": [
      "Train on 2022 samples, validate on 506 samples\n",
      "Epoch 1/50\n",
      "1980/2022 [============================>.] - ETA: 0s - loss: 1.0872 - acc: 0.4197\n",
      "Epoch 00001: val_acc improved from -inf to 0.55929, saving model to ../model/27-Aug-2020_14_20_19hi_cdmx_weights.best.hdf5\n",
      "2022/2022 [==============================] - 10s 5ms/sample - loss: 1.0858 - acc: 0.4209 - val_loss: 1.0917 - val_acc: 0.5593\n",
      "Epoch 2/50\n",
      "2010/2022 [============================>.] - ETA: 0s - loss: 0.9720 - acc: 0.5537\n",
      "Epoch 00002: val_acc improved from 0.55929 to 0.64229, saving model to ../model/27-Aug-2020_14_20_19hi_cdmx_weights.best.hdf5\n",
      "2022/2022 [==============================] - 3s 1ms/sample - loss: 0.9718 - acc: 0.5539 - val_loss: 1.0836 - val_acc: 0.6423\n",
      "Epoch 3/50\n",
      "2010/2022 [============================>.] - ETA: 0s - loss: 0.8664 - acc: 0.6224\n",
      "Epoch 00003: val_acc did not improve from 0.64229\n",
      "2022/2022 [==============================] - 3s 1ms/sample - loss: 0.8662 - acc: 0.6217 - val_loss: 1.0704 - val_acc: 0.6423\n",
      "Epoch 4/50\n",
      "2010/2022 [============================>.] - ETA: 0s - loss: 0.7565 - acc: 0.6587\n",
      "Epoch 00004: val_acc improved from 0.64229 to 0.70751, saving model to ../model/27-Aug-2020_14_20_19hi_cdmx_weights.best.hdf5\n",
      "2022/2022 [==============================] - 3s 1ms/sample - loss: 0.7557 - acc: 0.6583 - val_loss: 1.0445 - val_acc: 0.7075\n",
      "Epoch 5/50\n",
      "2010/2022 [============================>.] - ETA: 0s - loss: 0.6366 - acc: 0.7373\n",
      "Epoch 00005: val_acc did not improve from 0.70751\n",
      "2022/2022 [==============================] - 3s 1ms/sample - loss: 0.6382 - acc: 0.7374 - val_loss: 1.0132 - val_acc: 0.6304\n",
      "Epoch 6/50\n",
      "2010/2022 [============================>.] - ETA: 0s - loss: 0.4984 - acc: 0.7900\n",
      "Epoch 00006: val_acc improved from 0.70751 to 0.74111, saving model to ../model/27-Aug-2020_14_20_19hi_cdmx_weights.best.hdf5\n",
      "2022/2022 [==============================] - 3s 1ms/sample - loss: 0.4990 - acc: 0.7903 - val_loss: 0.9459 - val_acc: 0.7411\n",
      "Epoch 7/50\n",
      "1950/2022 [===========================>..] - ETA: 0s - loss: 0.3843 - acc: 0.8451\n",
      "Epoch 00007: val_acc did not improve from 0.74111\n",
      "2022/2022 [==============================] - 3s 1ms/sample - loss: 0.3843 - acc: 0.8467 - val_loss: 0.8533 - val_acc: 0.6858\n",
      "Epoch 8/50\n",
      "2010/2022 [============================>.] - ETA: 0s - loss: 0.3107 - acc: 0.8851\n",
      "Epoch 00008: val_acc did not improve from 0.74111\n",
      "2022/2022 [==============================] - 3s 1ms/sample - loss: 0.3116 - acc: 0.8848 - val_loss: 1.0060 - val_acc: 0.5830\n",
      "Epoch 9/50\n",
      "1980/2022 [============================>.] - ETA: 0s - loss: 0.2893 - acc: 0.8793\n",
      "Epoch 00009: val_acc improved from 0.74111 to 0.78656, saving model to ../model/27-Aug-2020_14_20_19hi_cdmx_weights.best.hdf5\n",
      "2022/2022 [==============================] - 3s 1ms/sample - loss: 0.2890 - acc: 0.8808 - val_loss: 0.7273 - val_acc: 0.7866\n",
      "Epoch 10/50\n",
      "1980/2022 [============================>.] - ETA: 0s - loss: 0.2006 - acc: 0.9263\n",
      "Epoch 00010: val_acc did not improve from 0.78656\n",
      "2022/2022 [==============================] - 3s 1ms/sample - loss: 0.2002 - acc: 0.9263 - val_loss: 0.7010 - val_acc: 0.7787\n",
      "Epoch 11/50\n",
      "2010/2022 [============================>.] - ETA: 0s - loss: 0.1301 - acc: 0.9632\n",
      "Epoch 00011: val_acc improved from 0.78656 to 0.79644, saving model to ../model/27-Aug-2020_14_20_19hi_cdmx_weights.best.hdf5\n",
      "2022/2022 [==============================] - 3s 1ms/sample - loss: 0.1299 - acc: 0.9634 - val_loss: 0.7551 - val_acc: 0.7964\n",
      "Epoch 12/50\n",
      "2010/2022 [============================>.] - ETA: 0s - loss: 0.1160 - acc: 0.9622\n",
      "Epoch 00012: val_acc did not improve from 0.79644\n",
      "2022/2022 [==============================] - 3s 1ms/sample - loss: 0.1166 - acc: 0.9614 - val_loss: 0.8973 - val_acc: 0.7747\n",
      "Epoch 13/50\n",
      "1980/2022 [============================>.] - ETA: 0s - loss: 0.0831 - acc: 0.9823\n",
      "Epoch 00013: val_acc improved from 0.79644 to 0.80435, saving model to ../model/27-Aug-2020_14_20_19hi_cdmx_weights.best.hdf5\n",
      "2022/2022 [==============================] - 3s 1ms/sample - loss: 0.0828 - acc: 0.9822 - val_loss: 0.8476 - val_acc: 0.8043\n",
      "Epoch 14/50\n",
      "2010/2022 [============================>.] - ETA: 0s - loss: 0.0792 - acc: 0.9801\n",
      "Epoch 00014: val_acc did not improve from 0.80435\n",
      "2022/2022 [==============================] - 3s 1ms/sample - loss: 0.0791 - acc: 0.9802 - val_loss: 1.2383 - val_acc: 0.7470\n",
      "Epoch 15/50\n",
      "1980/2022 [============================>.] - ETA: 0s - loss: 0.0586 - acc: 0.9854\n",
      "Epoch 00015: val_acc did not improve from 0.80435\n",
      "Restoring model weights from the end of the best epoch.\n",
      "2022/2022 [==============================] - 3s 2ms/sample - loss: 0.0584 - acc: 0.9857 - val_loss: 1.0151 - val_acc: 0.7984\n",
      "Epoch 00015: early stopping\n"
     ]
    }
   ],
   "source": [
    "tmp=get_timestamp()\n",
    "model_path = '../model/'+tmp+'hi_cdmx_weights.best.hdf5'\n",
    "hist = net.train(data.X_train, data.y_train, model, model_path, data.class_weight)"
   ]
  },
  {
   "cell_type": "code",
   "execution_count": 28,
   "metadata": {},
   "outputs": [
    {
     "data": {
      "image/png": "[encoded data removed]",
      "text/plain": [
       "<Figure size 432x288 with 1 Axes>"
      ]
     },
     "metadata": {
      "needs_background": "light"
     },
     "output_type": "display_data"
    },
    {
     "data": {
      "image/png": "[encoded data removed]",
      "text/plain": [
       "<Figure size 432x288 with 1 Axes>"
      ]
     },
     "metadata": {
      "needs_background": "light"
     },
     "output_type": "display_data"
    }
   ],
   "source": [
    "net.plot_taining_graphs(hist)"
   ]
  },
  {
   "cell_type": "code",
   "execution_count": 22,
   "metadata": {},
   "outputs": [
    {
     "name": "stdout",
     "output_type": "stream",
     "text": [
      "633/633 [==============================] - 0s 220us/sample - loss: 1.0032 - acc: 0.5624\n",
      "Overall Accuracy: 0.86240124\n",
      "Overall Loss: 0.3031736399890123\n"
     ]
    }
   ],
   "source": [
    "test_loss, test_acc = net.test(model,data.X_test, data.y_test)\n",
    "\n",
    "print(\"Overall Accuracy:\", test_acc)\n",
    "print(\"Overall Loss:\", test_loss)"
   ]
  },
  {
   "cell_type": "code",
   "execution_count": 30,
   "metadata": {},
   "outputs": [],
   "source": [
    "y_pred = model.predict(data.X_test)"
   ]
  },
  {
   "cell_type": "code",
   "execution_count": 18,
   "metadata": {},
   "outputs": [
    {
     "data": {
      "image/png": "[encoded data removed]",
      "text/plain": [
       "<Figure size 360x360 with 1 Axes>"
      ]
     },
     "metadata": {
      "needs_background": "light"
     },
     "output_type": "display_data"
    }
   ],
   "source": [
    "y_pred = np.argmax(y_pred, axis=1)\n",
    "y_test = np.argmax(data.y_test, axis=1)\n",
    "cls_obj = LR()\n",
    "cls_obj.gen_confusion_matrix(y_test = y_test, y_pred = y_pred, classes = 3)"
   ]
  },
  {
   "cell_type": "code",
   "execution_count": 31,
   "metadata": {},
   "outputs": [
    {
     "name": "stdout",
     "output_type": "stream",
     "text": [
      "              precision    recall  f1-score   support\n",
      "\n",
      "           0       0.85      0.82      0.83       231\n",
      "           1       0.62      0.69      0.62        60\n",
      "           2       0.73      0.71      0.70       342\n",
      "\n",
      "    accuracy                           0.79       633\n",
      "   macro avg       0.83      0.85      0.83       633\n",
      "weighted avg       0.85      0.82      0.85       633\n",
      "\n"
     ]
    }
   ],
   "source": [
    "y_pred = np.argmax(y_pred, axis=1)\n",
    "y_test = np.argmax(data.y_test, axis=1)\n",
    "cls_obj = LR()\n",
    "print(cls_obj.gen_report(y_test, y_pred)[1])"
   ]
  },
  {
   "cell_type": "code",
   "execution_count": 19,
   "metadata": {},
   "outputs": [],
   "source": [
    "parameters['epochs']=len(hist.history['acc'])\n",
    "parameters['test_acc']=test_acc\n",
    "parameters['test_loss']=test_loss\n",
    "parameters['timestamp']=tmp\n",
    "df = pd.DataFrame([parameters])\n",
    "df.to_csv('result.csv', mode='a', index=False)"
   ]
  },
  {
   "cell_type": "markdown",
   "metadata": {},
   "source": [
    "## test Case"
   ]
  },
  {
   "cell_type": "code",
   "execution_count": 5,
   "metadata": {},
   "outputs": [
    {
     "name": "stdout",
     "output_type": "stream",
     "text": [
      "Reading twitter - 1grams ...\n",
      "Reading twitter - 2grams ...\n"
     ]
    },
    {
     "name": "stderr",
     "output_type": "stream",
     "text": [
      "100%|██████████| 1/1 [00:00<00:00, 1060.24it/s]"
     ]
    },
    {
     "name": "stdout",
     "output_type": "stream",
     "text": [
      "Reading twitter - 1grams ...\n"
     ]
    },
    {
     "name": "stderr",
     "output_type": "stream",
     "text": [
      "\n"
     ]
    }
   ],
   "source": [
    "text = ['@AvijitEmmi Bahenchod .... experienced lagte ho bhai bhot face with tears of joy']\n",
    "test_data = ProcessData(df=text, lang='en', max_seq_len=48)\n"
   ]
  },
  {
   "cell_type": "code",
   "execution_count": 6,
   "metadata": {},
   "outputs": [],
   "source": [
    "net = network(param=parameters)\n",
    "out = net.predict(model_path='../model/23-Aug-2020_18_08_51_hi_cdmx_weights.best.hdf5',x=test_data.X)"
   ]
  },
  {
   "cell_type": "code",
   "execution_count": 9,
   "metadata": {},
   "outputs": [
    {
     "data": {
      "text/plain": [
       "array([2])"
      ]
     },
     "execution_count": 9,
     "metadata": {},
     "output_type": "execute_result"
    }
   ],
   "source": [
    "np.argmax(out, axis=1)"
   ]
  },
  {
   "cell_type": "code",
   "execution_count": null,
   "metadata": {},
   "outputs": [],
   "source": []
  }
 ],
 "metadata": {
  "kernelspec": {
   "display_name": "Python 3",
   "language": "python",
   "name": "python3"
  },
  "language_info": {
   "codemirror_mode": {
    "name": "ipython",
    "version": 3
   },
   "file_extension": ".py",
   "mimetype": "text/x-python",
   "name": "python",
   "nbconvert_exporter": "python",
   "pygments_lexer": "ipython3",
   "version": "3.6.9"
  }
 },
 "nbformat": 4,
 "nbformat_minor": 4
}
