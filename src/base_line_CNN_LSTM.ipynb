{
 "cells": [
  {
   "cell_type": "code",
   "execution_count": 5,
   "metadata": {},
   "outputs": [
    {
     "name": "stdout",
     "output_type": "stream",
     "text": [
      "Reading Emoticons ...\n",
      "Reading Slangs ...\n"
     ]
    }
   ],
   "source": [
    "import warnings\n",
    "warnings.filterwarnings('ignore')\n",
    "import pandas as pd\n",
    "import numpy as np\n",
    "from base_line_DNN import CNN_LSTM as network\n",
    "from base_line_DNN import ProcessData\n",
    "from base_line_LR import LR\n",
    "from datetime import datetime\n",
    "\n",
    "def get_timestamp():\n",
    "    dateTimeObj = datetime.now()\n",
    "    timestampStr = dateTimeObj.strftime(\"%d-%b-%Y_%H_%M_%S\")\n",
    "    return timestampStr"
   ]
  },
  {
   "cell_type": "code",
   "execution_count": 2,
   "metadata": {},
   "outputs": [],
   "source": [
    "df_en = pd.read_csv('../data/dataset_en.csv')\n",
    "df_en[\"class\"] = df_en[\"class\"].astype(int)\n",
    "df_en = df_en.dropna() # drop any rotokenizer_testws with nans\n",
    "df_en.drop(df_en.loc[df_en['text_id'] == 'text_id'].index,inplace=True)\n",
    "df_en.drop(df_en.loc[df_en['class'] == 'HS'].index,inplace=True)\n",
    "df_en['text_len'] = df_en.apply(lambda x: len(x.text.split()), axis=1)\n",
    "df_en = df_en[df_en['text_len']<200]"
   ]
  },
  {
   "cell_type": "code",
   "execution_count": null,
   "metadata": {},
   "outputs": [],
   "source": [
    "data = ProcessData(df_en, lang=parameters['lang'])"
   ]
  },
  {
   "cell_type": "code",
   "execution_count": null,
   "metadata": {},
   "outputs": [],
   "source": [
    "print(data.max_seq_len, data.vocab_size, data.classes)"
   ]
  },
  {
   "cell_type": "code",
   "execution_count": 3,
   "metadata": {},
   "outputs": [],
   "source": [
    "parameters={'lang':'en',\n",
    "       'seed':30,\n",
    "       'epochs':50, \n",
    "       'batch_size':30, \n",
    "       'optimiser':'sgd', \n",
    "       'lr_rate':0.001, \n",
    "       'drop_out':0.2, \n",
    "       'hidden_size':64,\n",
    "        'val_split':0.2\n",
    "      }"
   ]
  },
  {
   "cell_type": "code",
   "execution_count": null,
   "metadata": {},
   "outputs": [],
   "source": [
    "net = network(param=parameters)\n",
    "model = net.get_model_2(classes=len(data.classes), \n",
    "                        vocabulary_size=data.vocab_size, \n",
    "                        input_length=data.max_seq_len, \n",
    "                        param=parameters)"
   ]
  },
  {
   "cell_type": "code",
   "execution_count": 7,
   "metadata": {
    "scrolled": true
   },
   "outputs": [
    {
     "name": "stdout",
     "output_type": "stream",
     "text": [
      "Train on 36265 samples, validate on 4030 samples\n",
      "WARNING:tensorflow:From /homes/nv304/virtpy3/lib/python3.6/site-packages/tensorflow/python/ops/math_ops.py:3066: to_int32 (from tensorflow.python.ops.math_ops) is deprecated and will be removed in a future version.\n",
      "Instructions for updating:\n",
      "Use tf.cast instead.\n",
      "Epoch 1/50\n",
      "36120/36265 [============================>.] - ETA: 0s - loss: 1.0234 - acc: 0.4903\n",
      "Epoch 00001: val_acc improved from -inf to 0.57246, saving model to ../model/en_weights.best.hdf5\n",
      "36265/36265 [==============================] - 21s 584us/sample - loss: 1.0230 - acc: 0.4906 - val_loss: 0.9356 - val_acc: 0.5725\n",
      "Epoch 2/50\n",
      "36240/36265 [============================>.] - ETA: 0s - loss: 0.8861 - acc: 0.5935\n",
      "Epoch 00002: val_acc improved from 0.57246 to 0.63449, saving model to ../model/en_weights.best.hdf5\n",
      "36265/36265 [==============================] - 16s 445us/sample - loss: 0.8860 - acc: 0.5935 - val_loss: 0.8270 - val_acc: 0.6345\n",
      "Epoch 3/50\n",
      "36150/36265 [============================>.] - ETA: 0s - loss: 0.8186 - acc: 0.6362\n",
      "Epoch 00003: val_acc improved from 0.63449 to 0.65285, saving model to ../model/en_weights.best.hdf5\n",
      "36265/36265 [==============================] - 17s 461us/sample - loss: 0.8187 - acc: 0.6361 - val_loss: 0.7817 - val_acc: 0.6529\n",
      "Epoch 4/50\n",
      "36210/36265 [============================>.] - ETA: 0s - loss: 0.7819 - acc: 0.6552\n",
      "Epoch 00004: val_acc improved from 0.65285 to 0.67221, saving model to ../model/en_weights.best.hdf5\n",
      "36265/36265 [==============================] - 17s 460us/sample - loss: 0.7819 - acc: 0.6552 - val_loss: 0.7503 - val_acc: 0.6722\n",
      "Epoch 5/50\n",
      "36180/36265 [============================>.] - ETA: 0s - loss: 0.7539 - acc: 0.6725\n",
      "Epoch 00005: val_acc improved from 0.67221 to 0.68610, saving model to ../model/en_weights.best.hdf5\n",
      "36265/36265 [==============================] - 17s 469us/sample - loss: 0.7536 - acc: 0.6727 - val_loss: 0.7260 - val_acc: 0.6861\n",
      "Epoch 6/50\n",
      "36240/36265 [============================>.] - ETA: 0s - loss: 0.7313 - acc: 0.6835\n",
      "Epoch 00006: val_acc improved from 0.68610 to 0.69504, saving model to ../model/en_weights.best.hdf5\n",
      "36265/36265 [==============================] - 16s 454us/sample - loss: 0.7315 - acc: 0.6835 - val_loss: 0.7076 - val_acc: 0.6950\n",
      "Epoch 7/50\n",
      "36240/36265 [============================>.] - ETA: 0s - loss: 0.7124 - acc: 0.6946\n",
      "Epoch 00007: val_acc improved from 0.69504 to 0.69851, saving model to ../model/en_weights.best.hdf5\n",
      "36265/36265 [==============================] - 17s 464us/sample - loss: 0.7124 - acc: 0.6945 - val_loss: 0.6961 - val_acc: 0.6985\n",
      "Epoch 8/50\n",
      "36210/36265 [============================>.] - ETA: 0s - loss: 0.6954 - acc: 0.7031\n",
      "Epoch 00008: val_acc improved from 0.69851 to 0.70496, saving model to ../model/en_weights.best.hdf5\n",
      "36265/36265 [==============================] - 17s 471us/sample - loss: 0.6954 - acc: 0.7031 - val_loss: 0.6819 - val_acc: 0.7050\n",
      "Epoch 9/50\n",
      "36150/36265 [============================>.] - ETA: 0s - loss: 0.6789 - acc: 0.7137\n",
      "Epoch 00009: val_acc improved from 0.70496 to 0.71117, saving model to ../model/en_weights.best.hdf5\n",
      "36265/36265 [==============================] - 17s 467us/sample - loss: 0.6786 - acc: 0.7137 - val_loss: 0.6712 - val_acc: 0.7112\n",
      "Epoch 10/50\n",
      "36150/36265 [============================>.] - ETA: 0s - loss: 0.6637 - acc: 0.7189\n",
      "Epoch 00010: val_acc improved from 0.71117 to 0.72258, saving model to ../model/en_weights.best.hdf5\n",
      "36265/36265 [==============================] - 17s 469us/sample - loss: 0.6639 - acc: 0.7188 - val_loss: 0.6604 - val_acc: 0.7226\n",
      "Epoch 11/50\n",
      "36180/36265 [============================>.] - ETA: 0s - loss: 0.6488 - acc: 0.7277\n",
      "Epoch 00011: val_acc improved from 0.72258 to 0.72481, saving model to ../model/en_weights.best.hdf5\n",
      "36265/36265 [==============================] - 17s 472us/sample - loss: 0.6491 - acc: 0.7276 - val_loss: 0.6546 - val_acc: 0.7248\n",
      "Epoch 12/50\n",
      "36210/36265 [============================>.] - ETA: 0s - loss: 0.6367 - acc: 0.7336\n",
      "Epoch 00012: val_acc improved from 0.72481 to 0.72556, saving model to ../model/en_weights.best.hdf5\n",
      "36265/36265 [==============================] - 17s 465us/sample - loss: 0.6368 - acc: 0.7336 - val_loss: 0.6450 - val_acc: 0.7256\n",
      "Epoch 13/50\n",
      "36180/36265 [============================>.] - ETA: 0s - loss: 0.6220 - acc: 0.7416\n",
      "Epoch 00013: val_acc improved from 0.72556 to 0.72978, saving model to ../model/en_weights.best.hdf5\n",
      "36265/36265 [==============================] - 17s 463us/sample - loss: 0.6223 - acc: 0.7416 - val_loss: 0.6388 - val_acc: 0.7298\n",
      "Epoch 14/50\n",
      "36210/36265 [============================>.] - ETA: 0s - loss: 0.6107 - acc: 0.7458\n",
      "Epoch 00014: val_acc did not improve from 0.72978\n",
      "36265/36265 [==============================] - 16s 455us/sample - loss: 0.6106 - acc: 0.7458 - val_loss: 0.6357 - val_acc: 0.7261\n",
      "Epoch 15/50\n",
      "36180/36265 [============================>.] - ETA: 0s - loss: 0.5971 - acc: 0.7506\n",
      "Epoch 00015: val_acc improved from 0.72978 to 0.73846, saving model to ../model/en_weights.best.hdf5\n",
      "36265/36265 [==============================] - 17s 462us/sample - loss: 0.5972 - acc: 0.7506 - val_loss: 0.6287 - val_acc: 0.7385\n",
      "Epoch 16/50\n",
      "36210/36265 [============================>.] - ETA: 0s - loss: 0.5872 - acc: 0.7573\n",
      "Epoch 00016: val_acc did not improve from 0.73846\n",
      "36265/36265 [==============================] - 17s 459us/sample - loss: 0.5870 - acc: 0.7575 - val_loss: 0.6233 - val_acc: 0.7360\n",
      "Epoch 17/50\n",
      "36210/36265 [============================>.] - ETA: 0s - loss: 0.5781 - acc: 0.7619\n",
      "Epoch 00017: val_acc did not improve from 0.73846\n",
      "36265/36265 [==============================] - 16s 439us/sample - loss: 0.5782 - acc: 0.7619 - val_loss: 0.6189 - val_acc: 0.7380\n",
      "Epoch 18/50\n",
      "36240/36265 [============================>.] - ETA: 0s - loss: 0.5633 - acc: 0.7656\n",
      "Epoch 00018: val_acc improved from 0.73846 to 0.74020, saving model to ../model/en_weights.best.hdf5\n",
      "36265/36265 [==============================] - 17s 465us/sample - loss: 0.5633 - acc: 0.7656 - val_loss: 0.6150 - val_acc: 0.7402\n",
      "Epoch 19/50\n",
      "36240/36265 [============================>.] - ETA: 0s - loss: 0.5510 - acc: 0.7710\n",
      "Epoch 00019: val_acc did not improve from 0.74020\n",
      "36265/36265 [==============================] - 16s 443us/sample - loss: 0.5509 - acc: 0.7711 - val_loss: 0.6127 - val_acc: 0.7380\n",
      "Epoch 20/50\n",
      "36120/36265 [============================>.] - ETA: 0s - loss: 0.5387 - acc: 0.7779\n",
      "Epoch 00020: val_acc improved from 0.74020 to 0.74516, saving model to ../model/en_weights.best.hdf5\n",
      "36265/36265 [==============================] - 17s 464us/sample - loss: 0.5387 - acc: 0.7780 - val_loss: 0.6137 - val_acc: 0.7452\n",
      "Epoch 21/50\n",
      "36210/36265 [============================>.] - ETA: 0s - loss: 0.5277 - acc: 0.7842\n",
      "Epoch 00021: val_acc improved from 0.74516 to 0.74690, saving model to ../model/en_weights.best.hdf5\n",
      "36265/36265 [==============================] - 17s 458us/sample - loss: 0.5276 - acc: 0.7842 - val_loss: 0.6103 - val_acc: 0.7469\n",
      "Epoch 22/50\n",
      "36210/36265 [============================>.] - ETA: 0s - loss: 0.5137 - acc: 0.7897\n",
      "Epoch 00022: val_acc did not improve from 0.74690\n",
      "36265/36265 [==============================] - 16s 438us/sample - loss: 0.5139 - acc: 0.7895 - val_loss: 0.6070 - val_acc: 0.7469\n",
      "Epoch 23/50\n",
      "36120/36265 [============================>.] - ETA: 0s - loss: 0.5018 - acc: 0.7953\n",
      "Epoch 00023: val_acc did not improve from 0.74690\n",
      "36265/36265 [==============================] - 16s 434us/sample - loss: 0.5018 - acc: 0.7954 - val_loss: 0.6057 - val_acc: 0.7452\n",
      "Epoch 24/50\n",
      "36180/36265 [============================>.] - ETA: 0s - loss: 0.4902 - acc: 0.8013\n",
      "Epoch 00024: val_acc did not improve from 0.74690\n",
      "36265/36265 [==============================] - 16s 440us/sample - loss: 0.4903 - acc: 0.8013 - val_loss: 0.6083 - val_acc: 0.7424\n",
      "Epoch 25/50\n",
      "36150/36265 [============================>.] - ETA: 0s - loss: 0.4771 - acc: 0.8073\n",
      "Epoch 00025: val_acc did not improve from 0.74690\n",
      "36265/36265 [==============================] - 16s 440us/sample - loss: 0.4772 - acc: 0.8072 - val_loss: 0.6090 - val_acc: 0.7434\n",
      "Epoch 26/50\n",
      "36180/36265 [============================>.] - ETA: 0s - loss: 0.4650 - acc: 0.8132\n",
      "Epoch 00026: val_acc did not improve from 0.74690\n",
      "36265/36265 [==============================] - 16s 441us/sample - loss: 0.4649 - acc: 0.8132 - val_loss: 0.6114 - val_acc: 0.7462\n",
      "Epoch 27/50\n",
      "36210/36265 [============================>.] - ETA: 0s - loss: 0.4516 - acc: 0.8197\n",
      "Epoch 00027: val_acc improved from 0.74690 to 0.74839, saving model to ../model/en_weights.best.hdf5\n",
      "36265/36265 [==============================] - 17s 458us/sample - loss: 0.4516 - acc: 0.8197 - val_loss: 0.6149 - val_acc: 0.7484\n",
      "Epoch 28/50\n",
      "36180/36265 [============================>.] - ETA: 0s - loss: 0.4395 - acc: 0.8251\n",
      "Epoch 00028: val_acc did not improve from 0.74839\n",
      "Restoring model weights from the end of the best epoch.\n",
      "36265/36265 [==============================] - 16s 454us/sample - loss: 0.4395 - acc: 0.8250 - val_loss: 0.6131 - val_acc: 0.7439\n",
      "Epoch 00028: early stopping\n"
     ]
    }
   ],
   "source": [
    "tmp = get_timestamp()\n",
    "model_path = '../model/'+tmp+'_en_weights.best.hdf5'\n",
    "hist = net.train(data.X_train, data.y_train, model, model_path, data.class_weight)"
   ]
  },
  {
   "cell_type": "code",
   "execution_count": 8,
   "metadata": {},
   "outputs": [
    {
     "data": {
      "image/png": "[encoded data removed]",
      "text/plain": [
       "<Figure size 432x288 with 1 Axes>"
      ]
     },
     "metadata": {
      "needs_background": "light"
     },
     "output_type": "display_data"
    },
    {
     "data": {
      "image/png": "[encoded data removed]",
      "text/plain": [
       "<Figure size 432x288 with 1 Axes>"
      ]
     },
     "metadata": {
      "needs_background": "light"
     },
     "output_type": "display_data"
    }
   ],
   "source": [
    "# hist.history.keys()\n",
    "net.plot_taining_graphs(hist)"
   ]
  },
  {
   "cell_type": "code",
   "execution_count": 9,
   "metadata": {},
   "outputs": [
    {
     "name": "stdout",
     "output_type": "stream",
     "text": [
      "10074/10074 [==============================] - 2s 158us/sample - loss: 0.8956 - acc: 0.6296\n",
      "Overall Accuracy: 0.62964064\n",
      "Overall Loss: 0.8956158276006109\n"
     ]
    }
   ],
   "source": [
    "test_loss, test_acc = net.test(model,data.X_test, data.y_test)\n",
    "\n",
    "print(\"Overall Accuracy:\", test_acc)\n",
    "print(\"Overall Loss:\", test_loss)"
   ]
  },
  {
   "cell_type": "code",
   "execution_count": 10,
   "metadata": {},
   "outputs": [],
   "source": [
    "y_pred = model.predict(data.X_test)"
   ]
  },
  {
   "cell_type": "code",
   "execution_count": 11,
   "metadata": {},
   "outputs": [
    {
     "data": {
      "image/png": "[encoded data removed]",
      "text/plain": [
       "<Figure size 360x360 with 1 Axes>"
      ]
     },
     "metadata": {
      "needs_background": "light"
     },
     "output_type": "display_data"
    }
   ],
   "source": [
    "y_pred = np.argmax(y_pred, axis=1)\n",
    "y_test = np.argmax(data.y_test, axis=1)\n",
    "cls_obj = LR()\n",
    "cls_obj.gen_confusion_matrix(y_test = y_test, y_pred = y_pred, classes = 3)"
   ]
  },
  {
   "cell_type": "code",
   "execution_count": 13,
   "metadata": {},
   "outputs": [
    {
     "data": {
      "text/html": [
       "<div>\n",
       "<style scoped>\n",
       "    .dataframe tbody tr th:only-of-type {\n",
       "        vertical-align: middle;\n",
       "    }\n",
       "\n",
       "    .dataframe tbody tr th {\n",
       "        vertical-align: top;\n",
       "    }\n",
       "\n",
       "    .dataframe thead th {\n",
       "        text-align: right;\n",
       "    }\n",
       "</style>\n",
       "<table border=\"1\" class=\"dataframe\">\n",
       "  <thead>\n",
       "    <tr style=\"text-align: right;\">\n",
       "      <th></th>\n",
       "      <th>lang</th>\n",
       "      <th>seed</th>\n",
       "      <th>epochs</th>\n",
       "      <th>batch_size</th>\n",
       "      <th>optimiser</th>\n",
       "      <th>lr_rate</th>\n",
       "      <th>drop_out</th>\n",
       "      <th>hidden_size</th>\n",
       "      <th>test_acc</th>\n",
       "      <th>test_loss</th>\n",
       "      <th>timestamp</th>\n",
       "    </tr>\n",
       "  </thead>\n",
       "  <tbody>\n",
       "    <tr>\n",
       "      <th>0</th>\n",
       "      <td>en</td>\n",
       "      <td>30</td>\n",
       "      <td>28</td>\n",
       "      <td>30</td>\n",
       "      <td>sgd</td>\n",
       "      <td>0.001</td>\n",
       "      <td>0.2</td>\n",
       "      <td>64</td>\n",
       "      <td>0.629641</td>\n",
       "      <td>0.895616</td>\n",
       "      <td>23-08-2020_17_41_40</td>\n",
       "    </tr>\n",
       "  </tbody>\n",
       "</table>\n",
       "</div>"
      ],
      "text/plain": [
       "  lang  seed  epochs  batch_size optimiser  lr_rate  drop_out  hidden_size  \\\n",
       "0   en    30      28          30       sgd    0.001       0.2           64   \n",
       "\n",
       "   test_acc  test_loss            timestamp  \n",
       "0  0.629641   0.895616  23-08-2020_17_41_40  "
      ]
     },
     "execution_count": 13,
     "metadata": {},
     "output_type": "execute_result"
    }
   ],
   "source": [
    "parameters['epochs']=len(hist.history['acc'])\n",
    "parameters['test_acc']=test_acc\n",
    "parameters['test_loss']=test_loss\n",
    "parameters['timestamp']=tmp\n",
    "df = pd.DataFrame([parameters])\n",
    "df"
   ]
  },
  {
   "cell_type": "code",
   "execution_count": 14,
   "metadata": {},
   "outputs": [],
   "source": [
    "df.to_csv('result.csv', mode='a', index=False)"
   ]
  },
  {
   "cell_type": "markdown",
   "metadata": {},
   "source": [
    "## HI"
   ]
  },
  {
   "cell_type": "code",
   "execution_count": 2,
   "metadata": {},
   "outputs": [],
   "source": [
    "df_hi = pd.read_csv('../data/dataset_hi.csv')\n",
    "df_hi[\"class\"] = df_hi[\"class\"].astype(int)\n",
    "df_hi = df_hi.dropna() # drop any rotokenizer_testws with nans\n",
    "df_hi.drop(df_hi.loc[df_hi['text_id'] == 'text_id'].index,inplace=True)\n",
    "df_hi.drop(df_hi.loc[df_hi['class'] == 'HS'].index,inplace=True)\n",
    "df_hi['text_len'] = df_hi.apply(lambda x: len(x.text.split()), axis=1)\n",
    "df_hi = df_hi[df_hi['text_len']<200]"
   ]
  },
  {
   "cell_type": "code",
   "execution_count": 3,
   "metadata": {},
   "outputs": [
    {
     "name": "stdout",
     "output_type": "stream",
     "text": [
      "> /homes/nv304/online-hate-speech-recog/src/base_line_DNN.py(249)clean_doc()\n",
      "-> feat = fg.features(lang=self.lang)\n"
     ]
    },
    {
     "name": "stdin",
     "output_type": "stream",
     "text": [
      "(Pdb)  continue\n"
     ]
    },
    {
     "data": {
      "text/html": [],
      "text/plain": [
       "<IPython.core.display.HTML object>"
      ]
     },
     "metadata": {},
     "output_type": "display_data"
    },
    {
     "data": {
      "text/html": [],
      "text/plain": [
       "<IPython.core.display.HTML object>"
      ]
     },
     "metadata": {},
     "output_type": "display_data"
    },
    {
     "name": "stdout",
     "output_type": "stream",
     "text": [
      "Reading english - 1grams ...\n"
     ]
    },
    {
     "name": "stderr",
     "output_type": "stream",
     "text": [
      "100%|██████████| 9330/9330 [29:50<00:00,  5.21it/s]  \n"
     ]
    }
   ],
   "source": [
    "data = ProcessData(df_hi, lang='hi')"
   ]
  },
  {
   "cell_type": "code",
   "execution_count": 4,
   "metadata": {},
   "outputs": [
    {
     "data": {
      "text/plain": [
       "(104, 6082, array([0, 1]))"
      ]
     },
     "execution_count": 4,
     "metadata": {},
     "output_type": "execute_result"
    }
   ],
   "source": [
    "data.max_seq_len, data.vocab_size, data.classes"
   ]
  },
  {
   "cell_type": "code",
   "execution_count": 6,
   "metadata": {},
   "outputs": [
    {
     "data": {
      "text/plain": [
       "(104, 6082, array([0, 1]))"
      ]
     },
     "execution_count": 6,
     "metadata": {},
     "output_type": "execute_result"
    }
   ],
   "source": [
    "import pickle\n",
    "# pickle.dump(data,open('data.pkl','wb'))\n",
    "data = pickle.load(open('data.pkl', 'rb') )\n",
    "data.max_seq_len, data.vocab_size, data.classes"
   ]
  },
  {
   "cell_type": "code",
   "execution_count": 93,
   "metadata": {},
   "outputs": [],
   "source": [
    "parameters={'lang':'hi',\n",
    "       'seed':30,\n",
    "       'epochs':20, \n",
    "       'batch_size':30, \n",
    "       'optimiser':'sgd', \n",
    "       'lr_rate':0.001, \n",
    "       'drop_out':0.1, \n",
    "       'hidden_size':32,\n",
    "            'val_split':0.2\n",
    "      }"
   ]
  },
  {
   "cell_type": "code",
   "execution_count": 94,
   "metadata": {},
   "outputs": [
    {
     "name": "stdout",
     "output_type": "stream",
     "text": [
      "__________________________________________________________________________________________________\n",
      "Layer (type)                    Output Shape         Param #     Connected to                     \n",
      "==================================================================================================\n",
      "input_10 (InputLayer)           (None, 104)          0                                            \n",
      "__________________________________________________________________________________________________\n",
      "embedding_9 (Embedding)         (None, 104, 100)     608200      input_10[0][0]                   \n",
      "__________________________________________________________________________________________________\n",
      "reshape_18 (Reshape)            (None, 104, 100, 1)  0           embedding_9[0][0]                \n",
      "__________________________________________________________________________________________________\n",
      "conv2d_27 (Conv2D)              (None, 102, 1, 64)   19264       reshape_18[0][0]                 \n",
      "__________________________________________________________________________________________________\n",
      "conv2d_28 (Conv2D)              (None, 101, 1, 64)   25664       reshape_18[0][0]                 \n",
      "__________________________________________________________________________________________________\n",
      "conv2d_29 (Conv2D)              (None, 100, 1, 64)   32064       reshape_18[0][0]                 \n",
      "__________________________________________________________________________________________________\n",
      "batch_normalization_v1_27 (Batc (None, 102, 1, 64)   256         conv2d_27[0][0]                  \n",
      "__________________________________________________________________________________________________\n",
      "batch_normalization_v1_28 (Batc (None, 101, 1, 64)   256         conv2d_28[0][0]                  \n",
      "__________________________________________________________________________________________________\n",
      "batch_normalization_v1_29 (Batc (None, 100, 1, 64)   256         conv2d_29[0][0]                  \n",
      "__________________________________________________________________________________________________\n",
      "max_pooling2d_27 (MaxPooling2D) (None, 1, 1, 64)     0           batch_normalization_v1_27[0][0]  \n",
      "__________________________________________________________________________________________________\n",
      "max_pooling2d_28 (MaxPooling2D) (None, 1, 1, 64)     0           batch_normalization_v1_28[0][0]  \n",
      "__________________________________________________________________________________________________\n",
      "max_pooling2d_29 (MaxPooling2D) (None, 1, 1, 64)     0           batch_normalization_v1_29[0][0]  \n",
      "__________________________________________________________________________________________________\n",
      "concatenate_18 (Concatenate)    (None, 1, 1, 192)    0           max_pooling2d_27[0][0]           \n",
      "                                                                 max_pooling2d_28[0][0]           \n",
      "                                                                 max_pooling2d_29[0][0]           \n",
      "__________________________________________________________________________________________________\n",
      "time_distributed_9 (TimeDistrib (None, 1, 1, 32)     6176        concatenate_18[0][0]             \n",
      "__________________________________________________________________________________________________\n",
      "reshape_19 (Reshape)            (None, 1, 32)        0           time_distributed_9[0][0]         \n",
      "__________________________________________________________________________________________________\n",
      "bidirectional_18 (Bidirectional (None, 1, 64)        16640       reshape_19[0][0]                 \n",
      "__________________________________________________________________________________________________\n",
      "flatten_9 (Flatten)             (None, 192)          0           concatenate_18[0][0]             \n",
      "__________________________________________________________________________________________________\n",
      "bidirectional_19 (Bidirectional (None, 64)           24832       bidirectional_18[0][0]           \n",
      "__________________________________________________________________________________________________\n",
      "dense_36 (Dense)                (None, 32)           6176        flatten_9[0][0]                  \n",
      "__________________________________________________________________________________________________\n",
      "dense_38 (Dense)                (None, 32)           2080        bidirectional_19[0][0]           \n",
      "__________________________________________________________________________________________________\n",
      "dropout_18 (Dropout)            (None, 32)           0           dense_36[0][0]                   \n",
      "__________________________________________________________________________________________________\n",
      "dropout_19 (Dropout)            (None, 32)           0           dense_38[0][0]                   \n",
      "__________________________________________________________________________________________________\n",
      "concatenate_19 (Concatenate)    (None, 64)           0           dropout_18[0][0]                 \n",
      "                                                                 dropout_19[0][0]                 \n",
      "__________________________________________________________________________________________________\n",
      "dense_39 (Dense)                (None, 2)            130         concatenate_19[0][0]             \n",
      "__________________________________________________________________________________________________\n",
      "activation_9 (Activation)       (None, 2)            0           dense_39[0][0]                   \n",
      "==================================================================================================\n",
      "Total params: 741,994\n",
      "Trainable params: 741,610\n",
      "Non-trainable params: 384\n",
      "__________________________________________________________________________________________________\n",
      "None\n"
     ]
    }
   ],
   "source": [
    "net = network(param=parameters)\n",
    "model = net.get_model_2(classes=len(data.classes), \n",
    "                        vocabulary_size=data.vocab_size, \n",
    "                        input_length=data.max_seq_len,\n",
    "                        param=parameters)"
   ]
  },
  {
   "cell_type": "code",
   "execution_count": 95,
   "metadata": {
    "scrolled": true
   },
   "outputs": [
    {
     "name": "stdout",
     "output_type": "stream",
     "text": [
      "Train on 5971 samples, validate on 1493 samples\n",
      "Epoch 1/20\n",
      "5910/5971 [============================>.] - ETA: 0s - loss: 0.6995 - acc: 0.5320\n",
      "Epoch 00001: val_acc improved from -inf to 0.48426, saving model to ../model/25-Aug-2020_18_25_09_hi_weights.best.hdf5\n",
      "5971/5971 [==============================] - 22s 4ms/sample - loss: 0.6993 - acc: 0.5326 - val_loss: 0.6930 - val_acc: 0.4843\n",
      "Epoch 2/20\n",
      "5940/5971 [============================>.] - ETA: 0s - loss: 0.6877 - acc: 0.5537\n",
      "Epoch 00002: val_acc improved from 0.48426 to 0.52244, saving model to ../model/25-Aug-2020_18_25_09_hi_weights.best.hdf5\n",
      "5971/5971 [==============================] - 4s 586us/sample - loss: 0.6876 - acc: 0.5545 - val_loss: 0.6912 - val_acc: 0.5224\n",
      "Epoch 3/20\n",
      "5970/5971 [============================>.] - ETA: 0s - loss: 0.6819 - acc: 0.5812\n",
      "Epoch 00003: val_acc improved from 0.52244 to 0.54856, saving model to ../model/25-Aug-2020_18_25_09_hi_weights.best.hdf5\n",
      "5971/5971 [==============================] - 4s 592us/sample - loss: 0.6819 - acc: 0.5811 - val_loss: 0.6849 - val_acc: 0.5486\n",
      "Epoch 4/20\n",
      "5970/5971 [============================>.] - ETA: 0s - loss: 0.6739 - acc: 0.6034\n",
      "Epoch 00004: val_acc improved from 0.54856 to 0.60147, saving model to ../model/25-Aug-2020_18_25_09_hi_weights.best.hdf5\n",
      "5971/5971 [==============================] - 4s 601us/sample - loss: 0.6739 - acc: 0.6034 - val_loss: 0.6731 - val_acc: 0.6015\n",
      "Epoch 5/20\n",
      "5880/5971 [============================>.] - ETA: 0s - loss: 0.6639 - acc: 0.6282\n",
      "Epoch 00005: val_acc improved from 0.60147 to 0.62760, saving model to ../model/25-Aug-2020_18_25_09_hi_weights.best.hdf5\n",
      "5971/5971 [==============================] - 3s 572us/sample - loss: 0.6637 - acc: 0.6289 - val_loss: 0.6625 - val_acc: 0.6276\n",
      "Epoch 6/20\n",
      "5910/5971 [============================>.] - ETA: 0s - loss: 0.6531 - acc: 0.6415\n",
      "Epoch 00006: val_acc improved from 0.62760 to 0.63965, saving model to ../model/25-Aug-2020_18_25_09_hi_weights.best.hdf5\n",
      "5971/5971 [==============================] - 4s 592us/sample - loss: 0.6531 - acc: 0.6416 - val_loss: 0.6540 - val_acc: 0.6397\n",
      "Epoch 7/20\n",
      "5850/5971 [============================>.] - ETA: 0s - loss: 0.6415 - acc: 0.6600\n",
      "Epoch 00007: val_acc improved from 0.63965 to 0.65104, saving model to ../model/25-Aug-2020_18_25_09_hi_weights.best.hdf5\n",
      "5971/5971 [==============================] - 4s 596us/sample - loss: 0.6411 - acc: 0.6599 - val_loss: 0.6446 - val_acc: 0.6510\n",
      "Epoch 8/20\n",
      "5910/5971 [============================>.] - ETA: 0s - loss: 0.6275 - acc: 0.6836\n",
      "Epoch 00008: val_acc did not improve from 0.65104\n",
      "5971/5971 [==============================] - 3s 558us/sample - loss: 0.6274 - acc: 0.6833 - val_loss: 0.6390 - val_acc: 0.6430\n",
      "Epoch 9/20\n",
      "5940/5971 [============================>.] - ETA: 0s - loss: 0.6117 - acc: 0.7035\n",
      "Epoch 00009: val_acc improved from 0.65104 to 0.68721, saving model to ../model/25-Aug-2020_18_25_09_hi_weights.best.hdf5\n",
      "5971/5971 [==============================] - 3s 572us/sample - loss: 0.6118 - acc: 0.7031 - val_loss: 0.6205 - val_acc: 0.6872\n",
      "Epoch 10/20\n",
      "5940/5971 [============================>.] - ETA: 0s - loss: 0.5952 - acc: 0.7202\n",
      "Epoch 00010: val_acc improved from 0.68721 to 0.69257, saving model to ../model/25-Aug-2020_18_25_09_hi_weights.best.hdf5\n",
      "5971/5971 [==============================] - 4s 657us/sample - loss: 0.5953 - acc: 0.7201 - val_loss: 0.6071 - val_acc: 0.6926\n",
      "Epoch 11/20\n",
      "5940/5971 [============================>.] - ETA: 0s - loss: 0.5792 - acc: 0.7330\n",
      "Epoch 00011: val_acc improved from 0.69257 to 0.70328, saving model to ../model/25-Aug-2020_18_25_09_hi_weights.best.hdf5\n",
      "5971/5971 [==============================] - 3s 572us/sample - loss: 0.5792 - acc: 0.7330 - val_loss: 0.5956 - val_acc: 0.7033\n",
      "Epoch 12/20\n",
      "5940/5971 [============================>.] - ETA: 0s - loss: 0.5589 - acc: 0.7497\n",
      "Epoch 00012: val_acc improved from 0.70328 to 0.72338, saving model to ../model/25-Aug-2020_18_25_09_hi_weights.best.hdf5\n",
      "5971/5971 [==============================] - 4s 595us/sample - loss: 0.5590 - acc: 0.7496 - val_loss: 0.5795 - val_acc: 0.7234\n",
      "Epoch 13/20\n",
      "5910/5971 [============================>.] - ETA: 0s - loss: 0.5409 - acc: 0.7604\n",
      "Epoch 00013: val_acc did not improve from 0.72338\n",
      "5971/5971 [==============================] - 3s 582us/sample - loss: 0.5408 - acc: 0.7607 - val_loss: 0.5682 - val_acc: 0.7227\n",
      "Epoch 14/20\n",
      "5910/5971 [============================>.] - ETA: 0s - loss: 0.5209 - acc: 0.7758\n",
      "Epoch 00014: val_acc improved from 0.72338 to 0.73945, saving model to ../model/25-Aug-2020_18_25_09_hi_weights.best.hdf5\n",
      "5971/5971 [==============================] - 4s 599us/sample - loss: 0.5213 - acc: 0.7751 - val_loss: 0.5588 - val_acc: 0.7395\n",
      "Epoch 15/20\n",
      "5880/5971 [============================>.] - ETA: 0s - loss: 0.4987 - acc: 0.7956\n",
      "Epoch 00015: val_acc did not improve from 0.73945\n",
      "5971/5971 [==============================] - 3s 585us/sample - loss: 0.4984 - acc: 0.7953 - val_loss: 0.5519 - val_acc: 0.7220\n",
      "Epoch 16/20\n",
      "5940/5971 [============================>.] - ETA: 0s - loss: 0.4814 - acc: 0.8017\n",
      "Epoch 00016: val_acc did not improve from 0.73945\n",
      "5971/5971 [==============================] - 3s 565us/sample - loss: 0.4815 - acc: 0.8020 - val_loss: 0.5499 - val_acc: 0.7120\n",
      "Epoch 17/20\n",
      "5970/5971 [============================>.] - ETA: 0s - loss: 0.4541 - acc: 0.8246\n",
      "Epoch 00017: val_acc improved from 0.73945 to 0.78634, saving model to ../model/25-Aug-2020_18_25_09_hi_weights.best.hdf5\n",
      "5971/5971 [==============================] - 3s 581us/sample - loss: 0.4541 - acc: 0.8247 - val_loss: 0.5052 - val_acc: 0.7863\n",
      "Epoch 18/20\n",
      "5880/5971 [============================>.] - ETA: 0s - loss: 0.4382 - acc: 0.8269\n",
      "Epoch 00018: val_acc improved from 0.78634 to 0.78701, saving model to ../model/25-Aug-2020_18_25_09_hi_weights.best.hdf5\n",
      "5971/5971 [==============================] - 3s 582us/sample - loss: 0.4365 - acc: 0.8283 - val_loss: 0.4909 - val_acc: 0.7870\n",
      "Epoch 19/20\n",
      "5940/5971 [============================>.] - ETA: 0s - loss: 0.4138 - acc: 0.8438\n",
      "Epoch 00019: val_acc did not improve from 0.78701\n",
      "5971/5971 [==============================] - 3s 555us/sample - loss: 0.4139 - acc: 0.8434 - val_loss: 0.4829 - val_acc: 0.7823\n",
      "Epoch 20/20\n",
      "5970/5971 [============================>.] - ETA: 0s - loss: 0.3937 - acc: 0.8539\n",
      "Epoch 00020: val_acc improved from 0.78701 to 0.79906, saving model to ../model/25-Aug-2020_18_25_09_hi_weights.best.hdf5\n",
      "5971/5971 [==============================] - 3s 580us/sample - loss: 0.3937 - acc: 0.8540 - val_loss: 0.4623 - val_acc: 0.7991\n"
     ]
    }
   ],
   "source": [
    "tmp=get_timestamp()\n",
    "model_path = '../model/'+tmp+'_hi_weights.best.hdf5'\n",
    "hist = net.train(data.X_train, data.y_train, model, model_path, data.class_weight)"
   ]
  },
  {
   "cell_type": "code",
   "execution_count": 96,
   "metadata": {},
   "outputs": [
    {
     "data": {
      "image/png": "[encoded data removed]",
      "text/plain": [
       "<Figure size 432x288 with 1 Axes>"
      ]
     },
     "metadata": {
      "needs_background": "light"
     },
     "output_type": "display_data"
    },
    {
     "data": {
      "image/png": "[encoded data removed]",
      "text/plain": [
       "<Figure size 432x288 with 1 Axes>"
      ]
     },
     "metadata": {
      "needs_background": "light"
     },
     "output_type": "display_data"
    }
   ],
   "source": [
    "net.plot_taining_graphs(hist)"
   ]
  },
  {
   "cell_type": "code",
   "execution_count": 97,
   "metadata": {},
   "outputs": [
    {
     "name": "stdout",
     "output_type": "stream",
     "text": [
      "1866/1866 [==============================] - 2s 944us/sample - loss: 0.6862 - acc: 0.5975\n",
      "Overall Accuracy: 0.75753484\n",
      "Overall Loss: 0.4262238354238284\n"
     ]
    }
   ],
   "source": [
    "test_loss, test_acc = net.test(model,data.X_test, data.y_test)\n",
    "\n",
    "print(\"Overall Accuracy:\", test_acc)\n",
    "print(\"Overall Loss:\", test_loss)"
   ]
  },
  {
   "cell_type": "code",
   "execution_count": 89,
   "metadata": {},
   "outputs": [],
   "source": [
    "y_pred = model.predict(data.X_test)"
   ]
  },
  {
   "cell_type": "code",
   "execution_count": 10,
   "metadata": {},
   "outputs": [
    {
     "data": {
      "image/png": "[encoded data removed]",
      "text/plain": [
       "<Figure size 360x360 with 1 Axes>"
      ]
     },
     "metadata": {
      "needs_background": "light"
     },
     "output_type": "display_data"
    }
   ],
   "source": [
    "y_pred = np.argmax(y_pred, axis=1)\n",
    "y_test = np.argmax(data.y_test, axis=1)\n",
    "cls_obj = LR()\n",
    "cls_obj.gen_confusion_matrix(y_test = y_test, y_pred = y_pred, classes = 2)"
   ]
  },
  {
   "cell_type": "code",
   "execution_count": 91,
   "metadata": {},
   "outputs": [
    {
     "data": {
      "text/html": [
       "<div>\n",
       "<style scoped>\n",
       "    .dataframe tbody tr th:only-of-type {\n",
       "        vertical-align: middle;\n",
       "    }\n",
       "\n",
       "    .dataframe tbody tr th {\n",
       "        vertical-align: top;\n",
       "    }\n",
       "\n",
       "    .dataframe thead th {\n",
       "        text-align: right;\n",
       "    }\n",
       "</style>\n",
       "<table border=\"1\" class=\"dataframe\">\n",
       "  <thead>\n",
       "    <tr style=\"text-align: right;\">\n",
       "      <th></th>\n",
       "      <th>lang</th>\n",
       "      <th>seed</th>\n",
       "      <th>epochs</th>\n",
       "      <th>batch_size</th>\n",
       "      <th>optimiser</th>\n",
       "      <th>lr_rate</th>\n",
       "      <th>drop_out</th>\n",
       "      <th>hidden_size</th>\n",
       "      <th>val_split</th>\n",
       "      <th>test_acc</th>\n",
       "      <th>test_loss</th>\n",
       "      <th>timestamp</th>\n",
       "    </tr>\n",
       "  </thead>\n",
       "  <tbody>\n",
       "    <tr>\n",
       "      <th>0</th>\n",
       "      <td>hi</td>\n",
       "      <td>30</td>\n",
       "      <td>20</td>\n",
       "      <td>30</td>\n",
       "      <td>sgd</td>\n",
       "      <td>0.001</td>\n",
       "      <td>0.0</td>\n",
       "      <td>16</td>\n",
       "      <td>0.2</td>\n",
       "      <td>0.541801</td>\n",
       "      <td>0.868186</td>\n",
       "      <td>25-Aug-2020_15_53_45</td>\n",
       "    </tr>\n",
       "  </tbody>\n",
       "</table>\n",
       "</div>"
      ],
      "text/plain": [
       "  lang  seed  epochs  batch_size optimiser  lr_rate  drop_out  hidden_size  \\\n",
       "0   hi    30      20          30       sgd    0.001       0.0           16   \n",
       "\n",
       "   val_split  test_acc  test_loss             timestamp  \n",
       "0        0.2  0.541801   0.868186  25-Aug-2020_15_53_45  "
      ]
     },
     "execution_count": 91,
     "metadata": {},
     "output_type": "execute_result"
    }
   ],
   "source": [
    "parameters['epochs']=len(hist.history['acc'])\n",
    "parameters['test_acc']=test_acc\n",
    "parameters['test_loss']=test_loss\n",
    "parameters['timestamp']=tmp\n",
    "df = pd.DataFrame([parameters])\n",
    "df"
   ]
  },
  {
   "cell_type": "code",
   "execution_count": 92,
   "metadata": {},
   "outputs": [],
   "source": [
    "df.to_csv('result.csv', mode='a', index=False, header=False)"
   ]
  },
  {
   "cell_type": "markdown",
   "metadata": {},
   "source": [
    "## Hi-Code Mix"
   ]
  },
  {
   "cell_type": "code",
   "execution_count": 14,
   "metadata": {},
   "outputs": [
    {
     "name": "stdout",
     "output_type": "stream",
     "text": [
      "Index(['class', 'text_id', 'ekphrasis_clean_text', 'text'], dtype='object')\n"
     ]
    }
   ],
   "source": [
    "df_hi_cdmx = pd.read_csv('../data/dataset_hi_cdmx.csv')\n",
    "df_hi_cdmx[\"class\"] = df_hi_cdmx[\"class\"].astype(int)\n",
    "df_hi_cdmx = df_hi_cdmx.dropna() # drop any rotokenizer_testws with nans\n",
    "df_hi_cdmx = df_hi_cdmx.drop(['text'],axis=1)\n",
    "df_hi_cdmx = df_hi_cdmx.rename(columns={'basic_clean_text':'text'})\n",
    "print(df_hi_cdmx.columns)\n",
    "df_hi_cdmx.drop(df_hi_cdmx.loc[df_hi_cdmx['text_id'] == 'text_id'].index,inplace=True)\n",
    "df_hi_cdmx.drop(df_hi_cdmx.loc[df_hi_cdmx['class'] == 'HS'].index,inplace=True)\n",
    "df_hi_cdmx['text_len'] = df_hi_cdmx.apply(lambda x: len(x.text.split()), axis=1)\n",
    "df_hi_cdmx = df_hi_cdmx[df_hi_cdmx['text_len']<200]"
   ]
  },
  {
   "cell_type": "code",
   "execution_count": 16,
   "metadata": {},
   "outputs": [
    {
     "name": "stderr",
     "output_type": "stream",
     "text": [
      "100%|██████████| 3161/3161 [00:01<00:00, 1751.93it/s]\n"
     ]
    }
   ],
   "source": [
    "data = ProcessData(df_hi_cdmx, lang='en')"
   ]
  },
  {
   "cell_type": "code",
   "execution_count": 6,
   "metadata": {},
   "outputs": [
    {
     "data": {
      "text/plain": [
       "(104, 6084, array([0, 1]))"
      ]
     },
     "execution_count": 6,
     "metadata": {},
     "output_type": "execute_result"
    }
   ],
   "source": [
    "data.max_seq_len, data.vocab_size, data.classes"
   ]
  },
  {
   "cell_type": "code",
   "execution_count": 14,
   "metadata": {},
   "outputs": [],
   "source": [
    "parameters={'lang':'en',\n",
    "       'seed':30,\n",
    "       'epochs':50, \n",
    "       'batch_size':30, \n",
    "       'optimiser':'sgd', \n",
    "       'lr_rate':0.01, \n",
    "       'drop_out':0.2, \n",
    "       'hidden_size':64,\n",
    "            'val_split':0.2\n",
    "      }"
   ]
  },
  {
   "cell_type": "code",
   "execution_count": 2,
   "metadata": {},
   "outputs": [
    {
     "ename": "NameError",
     "evalue": "name 'parameters' is not defined",
     "output_type": "error",
     "traceback": [
      "\u001b[0;31m---------------------------------------------------------------------------\u001b[0m",
      "\u001b[0;31mNameError\u001b[0m                                 Traceback (most recent call last)",
      "\u001b[0;32m<ipython-input-2-333c714f0dc9>\u001b[0m in \u001b[0;36m<module>\u001b[0;34m\u001b[0m\n\u001b[0;32m----> 1\u001b[0;31m \u001b[0mnet\u001b[0m \u001b[0;34m=\u001b[0m \u001b[0mnetwork\u001b[0m\u001b[0;34m(\u001b[0m\u001b[0mparam\u001b[0m\u001b[0;34m=\u001b[0m\u001b[0mparameters\u001b[0m\u001b[0;34m)\u001b[0m\u001b[0;34m\u001b[0m\u001b[0;34m\u001b[0m\u001b[0m\n\u001b[0m\u001b[1;32m      2\u001b[0m \u001b[0mmodel\u001b[0m \u001b[0;34m=\u001b[0m \u001b[0mnet\u001b[0m\u001b[0;34m.\u001b[0m\u001b[0mget_model_2\u001b[0m\u001b[0;34m(\u001b[0m\u001b[0mclasses\u001b[0m\u001b[0;34m=\u001b[0m\u001b[0mlen\u001b[0m\u001b[0;34m(\u001b[0m\u001b[0mdata\u001b[0m\u001b[0;34m.\u001b[0m\u001b[0mclasses\u001b[0m\u001b[0;34m)\u001b[0m\u001b[0;34m,\u001b[0m \u001b[0mvocabulary_size\u001b[0m\u001b[0;34m=\u001b[0m\u001b[0mdata\u001b[0m\u001b[0;34m.\u001b[0m\u001b[0mvocab_size\u001b[0m\u001b[0;34m,\u001b[0m \u001b[0minput_length\u001b[0m\u001b[0;34m=\u001b[0m\u001b[0mdata\u001b[0m\u001b[0;34m.\u001b[0m\u001b[0mmax_seq_len\u001b[0m\u001b[0;34m,\u001b[0m\u001b[0mparam\u001b[0m\u001b[0;34m=\u001b[0m\u001b[0mparameters\u001b[0m\u001b[0;34m)\u001b[0m\u001b[0;34m\u001b[0m\u001b[0;34m\u001b[0m\u001b[0m\n",
      "\u001b[0;31mNameError\u001b[0m: name 'parameters' is not defined"
     ]
    }
   ],
   "source": [
    "net = network(param=parameters)\n",
    "model = net.get_model_2(classes=len(data.classes),\n",
    "                        vocabulary_size=data.vocab_size,\n",
    "                        input_length=data.max_seq_len,\n",
    "                        param=parameters)"
   ]
  },
  {
   "cell_type": "code",
   "execution_count": 16,
   "metadata": {
    "scrolled": true
   },
   "outputs": [
    {
     "name": "stdout",
     "output_type": "stream",
     "text": [
      "Train on 5971 samples, validate on 1493 samples\n",
      "Epoch 1/50\n",
      "5940/5971 [============================>.] - ETA: 0s - loss: 0.6347 - acc: 0.6249\n",
      "Epoch 00001: val_acc improved from -inf to 0.56129, saving model to ../model/24-Aug-2020_00_23_00hi_cdmx_weights.best.hdf5\n",
      "5971/5971 [==============================] - 8s 1ms/sample - loss: 0.6344 - acc: 0.6255 - val_loss: 0.6818 - val_acc: 0.5613\n",
      "Epoch 2/50\n",
      "5880/5971 [============================>.] - ETA: 0s - loss: 0.4902 - acc: 0.7556\n",
      "Epoch 00002: val_acc did not improve from 0.56129\n",
      "5971/5971 [==============================] - 3s 506us/sample - loss: 0.4887 - acc: 0.7568 - val_loss: 0.6608 - val_acc: 0.5211\n",
      "Epoch 3/50\n",
      "5910/5971 [============================>.] - ETA: 0s - loss: 0.4096 - acc: 0.8171\n",
      "Epoch 00003: val_acc improved from 0.56129 to 0.84729, saving model to ../model/24-Aug-2020_00_23_00hi_cdmx_weights.best.hdf5\n",
      "5971/5971 [==============================] - 3s 542us/sample - loss: 0.4105 - acc: 0.8168 - val_loss: 0.4351 - val_acc: 0.8473\n",
      "Epoch 4/50\n",
      "5910/5971 [============================>.] - ETA: 0s - loss: 0.3037 - acc: 0.8738\n",
      "Epoch 00004: val_acc improved from 0.84729 to 0.87542, saving model to ../model/24-Aug-2020_00_23_00hi_cdmx_weights.best.hdf5\n",
      "5971/5971 [==============================] - 3s 548us/sample - loss: 0.3029 - acc: 0.8742 - val_loss: 0.3300 - val_acc: 0.8754\n",
      "Epoch 5/50\n",
      "5880/5971 [============================>.] - ETA: 0s - loss: 0.2417 - acc: 0.9036\n",
      "Epoch 00005: val_acc did not improve from 0.87542\n",
      "5971/5971 [==============================] - 3s 501us/sample - loss: 0.2431 - acc: 0.9024 - val_loss: 0.3386 - val_acc: 0.8607\n",
      "Epoch 6/50\n",
      "5940/5971 [============================>.] - ETA: 0s - loss: 0.1676 - acc: 0.9369\n",
      "Epoch 00006: val_acc did not improve from 0.87542\n",
      "5971/5971 [==============================] - 3s 476us/sample - loss: 0.1681 - acc: 0.9367 - val_loss: 1.7410 - val_acc: 0.5412\n",
      "Epoch 7/50\n",
      "5910/5971 [============================>.] - ETA: 0s - loss: 0.1541 - acc: 0.9492\n",
      "Epoch 00007: val_acc improved from 0.87542 to 0.90556, saving model to ../model/24-Aug-2020_00_23_00hi_cdmx_weights.best.hdf5\n",
      "5971/5971 [==============================] - 3s 537us/sample - loss: 0.1531 - acc: 0.9498 - val_loss: 0.2670 - val_acc: 0.9056\n",
      "Epoch 8/50\n",
      "5940/5971 [============================>.] - ETA: 0s - loss: 0.0872 - acc: 0.9737\n",
      "Epoch 00008: val_acc improved from 0.90556 to 0.92632, saving model to ../model/24-Aug-2020_00_23_00hi_cdmx_weights.best.hdf5\n",
      "5971/5971 [==============================] - 3s 550us/sample - loss: 0.0872 - acc: 0.9737 - val_loss: 0.2089 - val_acc: 0.9263\n",
      "Epoch 9/50\n",
      "5130/5971 [========================>.....] - ETA: 0s - loss: 0.0499 - acc: 0.9873"
     ]
    },
    {
     "ename": "KeyboardInterrupt",
     "evalue": "",
     "output_type": "error",
     "traceback": [
      "\u001b[0;31m---------------------------------------------------------------------------\u001b[0m",
      "\u001b[0;31mKeyboardInterrupt\u001b[0m                         Traceback (most recent call last)",
      "\u001b[0;32m<ipython-input-16-81e59d651b86>\u001b[0m in \u001b[0;36m<module>\u001b[0;34m\u001b[0m\n\u001b[1;32m      1\u001b[0m \u001b[0mtmp\u001b[0m\u001b[0;34m=\u001b[0m\u001b[0mget_timestamp\u001b[0m\u001b[0;34m(\u001b[0m\u001b[0;34m)\u001b[0m\u001b[0;34m\u001b[0m\u001b[0;34m\u001b[0m\u001b[0m\n\u001b[1;32m      2\u001b[0m \u001b[0mmodel_path\u001b[0m \u001b[0;34m=\u001b[0m \u001b[0;34m'../model/'\u001b[0m\u001b[0;34m+\u001b[0m\u001b[0mtmp\u001b[0m\u001b[0;34m+\u001b[0m\u001b[0;34m'hi_cdmx_weights.best.hdf5'\u001b[0m\u001b[0;34m\u001b[0m\u001b[0;34m\u001b[0m\u001b[0m\n\u001b[0;32m----> 3\u001b[0;31m \u001b[0mhist\u001b[0m \u001b[0;34m=\u001b[0m \u001b[0mnet\u001b[0m\u001b[0;34m.\u001b[0m\u001b[0mtrain\u001b[0m\u001b[0;34m(\u001b[0m\u001b[0mdata\u001b[0m\u001b[0;34m.\u001b[0m\u001b[0mX_train\u001b[0m\u001b[0;34m,\u001b[0m \u001b[0mdata\u001b[0m\u001b[0;34m.\u001b[0m\u001b[0my_train\u001b[0m\u001b[0;34m,\u001b[0m \u001b[0mmodel\u001b[0m\u001b[0;34m,\u001b[0m \u001b[0mmodel_path\u001b[0m\u001b[0;34m)\u001b[0m\u001b[0;34m\u001b[0m\u001b[0;34m\u001b[0m\u001b[0m\n\u001b[0m",
      "\u001b[0;32m~/online-hate-speech-recog/src/base_line_DNN.py\u001b[0m in \u001b[0;36mtrain\u001b[0;34m(self, X, y, model, weights_path)\u001b[0m\n\u001b[1;32m    153\u001b[0m         \u001b[0mcallbacks_list\u001b[0m \u001b[0;34m=\u001b[0m \u001b[0;34m[\u001b[0m\u001b[0mcheckpoint\u001b[0m\u001b[0;34m,\u001b[0m\u001b[0mearlystop\u001b[0m\u001b[0;34m]\u001b[0m\u001b[0;34m\u001b[0m\u001b[0;34m\u001b[0m\u001b[0m\n\u001b[1;32m    154\u001b[0m \u001b[0;34m\u001b[0m\u001b[0m\n\u001b[0;32m--> 155\u001b[0;31m         \u001b[0;32mreturn\u001b[0m \u001b[0mmodel\u001b[0m\u001b[0;34m.\u001b[0m\u001b[0mfit\u001b[0m\u001b[0;34m(\u001b[0m\u001b[0mX\u001b[0m\u001b[0;34m,\u001b[0m \u001b[0my\u001b[0m\u001b[0;34m,\u001b[0m \u001b[0mvalidation_split\u001b[0m\u001b[0;34m=\u001b[0m\u001b[0mself\u001b[0m\u001b[0;34m.\u001b[0m\u001b[0mval_split\u001b[0m\u001b[0;34m,\u001b[0m \u001b[0mepochs\u001b[0m\u001b[0;34m=\u001b[0m\u001b[0mself\u001b[0m\u001b[0;34m.\u001b[0m\u001b[0mepochs\u001b[0m\u001b[0;34m,\u001b[0m \u001b[0mbatch_size\u001b[0m\u001b[0;34m=\u001b[0m\u001b[0mself\u001b[0m\u001b[0;34m.\u001b[0m\u001b[0mbatch_size\u001b[0m\u001b[0;34m,\u001b[0m \u001b[0mverbose\u001b[0m\u001b[0;34m=\u001b[0m\u001b[0;36m1\u001b[0m\u001b[0;34m,\u001b[0m \u001b[0mcallbacks\u001b[0m\u001b[0;34m=\u001b[0m\u001b[0mcallbacks_list\u001b[0m\u001b[0;34m)\u001b[0m\u001b[0;34m\u001b[0m\u001b[0;34m\u001b[0m\u001b[0m\n\u001b[0m\u001b[1;32m    156\u001b[0m \u001b[0;34m\u001b[0m\u001b[0m\n\u001b[1;32m    157\u001b[0m     \u001b[0;32mdef\u001b[0m \u001b[0mtest\u001b[0m\u001b[0;34m(\u001b[0m\u001b[0mself\u001b[0m\u001b[0;34m,\u001b[0m\u001b[0mmodel\u001b[0m\u001b[0;34m,\u001b[0m\u001b[0mX_test\u001b[0m\u001b[0;34m,\u001b[0m \u001b[0mY_test\u001b[0m\u001b[0;34m)\u001b[0m\u001b[0;34m:\u001b[0m\u001b[0;34m\u001b[0m\u001b[0;34m\u001b[0m\u001b[0m\n",
      "\u001b[0;32m~/virtpy3/lib/python3.6/site-packages/tensorflow/python/keras/engine/training.py\u001b[0m in \u001b[0;36mfit\u001b[0;34m(self, x, y, batch_size, epochs, verbose, callbacks, validation_split, validation_data, shuffle, class_weight, sample_weight, initial_epoch, steps_per_epoch, validation_steps, max_queue_size, workers, use_multiprocessing, **kwargs)\u001b[0m\n\u001b[1;32m    878\u001b[0m           \u001b[0minitial_epoch\u001b[0m\u001b[0;34m=\u001b[0m\u001b[0minitial_epoch\u001b[0m\u001b[0;34m,\u001b[0m\u001b[0;34m\u001b[0m\u001b[0;34m\u001b[0m\u001b[0m\n\u001b[1;32m    879\u001b[0m           \u001b[0msteps_per_epoch\u001b[0m\u001b[0;34m=\u001b[0m\u001b[0msteps_per_epoch\u001b[0m\u001b[0;34m,\u001b[0m\u001b[0;34m\u001b[0m\u001b[0;34m\u001b[0m\u001b[0m\n\u001b[0;32m--> 880\u001b[0;31m           validation_steps=validation_steps)\n\u001b[0m\u001b[1;32m    881\u001b[0m \u001b[0;34m\u001b[0m\u001b[0m\n\u001b[1;32m    882\u001b[0m   def evaluate(self,\n",
      "\u001b[0;32m~/virtpy3/lib/python3.6/site-packages/tensorflow/python/keras/engine/training_arrays.py\u001b[0m in \u001b[0;36mmodel_iteration\u001b[0;34m(model, inputs, targets, sample_weights, batch_size, epochs, verbose, callbacks, val_inputs, val_targets, val_sample_weights, shuffle, initial_epoch, steps_per_epoch, validation_steps, mode, validation_in_fit, **kwargs)\u001b[0m\n\u001b[1;32m    327\u001b[0m \u001b[0;34m\u001b[0m\u001b[0m\n\u001b[1;32m    328\u001b[0m         \u001b[0;31m# Get outputs.\u001b[0m\u001b[0;34m\u001b[0m\u001b[0;34m\u001b[0m\u001b[0;34m\u001b[0m\u001b[0m\n\u001b[0;32m--> 329\u001b[0;31m         \u001b[0mbatch_outs\u001b[0m \u001b[0;34m=\u001b[0m \u001b[0mf\u001b[0m\u001b[0;34m(\u001b[0m\u001b[0mins_batch\u001b[0m\u001b[0;34m)\u001b[0m\u001b[0;34m\u001b[0m\u001b[0;34m\u001b[0m\u001b[0m\n\u001b[0m\u001b[1;32m    330\u001b[0m         \u001b[0;32mif\u001b[0m \u001b[0;32mnot\u001b[0m \u001b[0misinstance\u001b[0m\u001b[0;34m(\u001b[0m\u001b[0mbatch_outs\u001b[0m\u001b[0;34m,\u001b[0m \u001b[0mlist\u001b[0m\u001b[0;34m)\u001b[0m\u001b[0;34m:\u001b[0m\u001b[0;34m\u001b[0m\u001b[0;34m\u001b[0m\u001b[0m\n\u001b[1;32m    331\u001b[0m           \u001b[0mbatch_outs\u001b[0m \u001b[0;34m=\u001b[0m \u001b[0;34m[\u001b[0m\u001b[0mbatch_outs\u001b[0m\u001b[0;34m]\u001b[0m\u001b[0;34m\u001b[0m\u001b[0;34m\u001b[0m\u001b[0m\n",
      "\u001b[0;32m~/virtpy3/lib/python3.6/site-packages/tensorflow/python/keras/backend.py\u001b[0m in \u001b[0;36m__call__\u001b[0;34m(self, inputs)\u001b[0m\n\u001b[1;32m   3074\u001b[0m \u001b[0;34m\u001b[0m\u001b[0m\n\u001b[1;32m   3075\u001b[0m     fetched = self._callable_fn(*array_vals,\n\u001b[0;32m-> 3076\u001b[0;31m                                 run_metadata=self.run_metadata)\n\u001b[0m\u001b[1;32m   3077\u001b[0m     \u001b[0mself\u001b[0m\u001b[0;34m.\u001b[0m\u001b[0m_call_fetch_callbacks\u001b[0m\u001b[0;34m(\u001b[0m\u001b[0mfetched\u001b[0m\u001b[0;34m[\u001b[0m\u001b[0;34m-\u001b[0m\u001b[0mlen\u001b[0m\u001b[0;34m(\u001b[0m\u001b[0mself\u001b[0m\u001b[0;34m.\u001b[0m\u001b[0m_fetches\u001b[0m\u001b[0;34m)\u001b[0m\u001b[0;34m:\u001b[0m\u001b[0;34m]\u001b[0m\u001b[0;34m)\u001b[0m\u001b[0;34m\u001b[0m\u001b[0;34m\u001b[0m\u001b[0m\n\u001b[1;32m   3078\u001b[0m     return nest.pack_sequence_as(self._outputs_structure,\n",
      "\u001b[0;32m~/virtpy3/lib/python3.6/site-packages/tensorflow/python/client/session.py\u001b[0m in \u001b[0;36m__call__\u001b[0;34m(self, *args, **kwargs)\u001b[0m\n\u001b[1;32m   1437\u001b[0m           ret = tf_session.TF_SessionRunCallable(\n\u001b[1;32m   1438\u001b[0m               \u001b[0mself\u001b[0m\u001b[0;34m.\u001b[0m\u001b[0m_session\u001b[0m\u001b[0;34m.\u001b[0m\u001b[0m_session\u001b[0m\u001b[0;34m,\u001b[0m \u001b[0mself\u001b[0m\u001b[0;34m.\u001b[0m\u001b[0m_handle\u001b[0m\u001b[0;34m,\u001b[0m \u001b[0margs\u001b[0m\u001b[0;34m,\u001b[0m \u001b[0mstatus\u001b[0m\u001b[0;34m,\u001b[0m\u001b[0;34m\u001b[0m\u001b[0;34m\u001b[0m\u001b[0m\n\u001b[0;32m-> 1439\u001b[0;31m               run_metadata_ptr)\n\u001b[0m\u001b[1;32m   1440\u001b[0m         \u001b[0;32mif\u001b[0m \u001b[0mrun_metadata\u001b[0m\u001b[0;34m:\u001b[0m\u001b[0;34m\u001b[0m\u001b[0;34m\u001b[0m\u001b[0m\n\u001b[1;32m   1441\u001b[0m           \u001b[0mproto_data\u001b[0m \u001b[0;34m=\u001b[0m \u001b[0mtf_session\u001b[0m\u001b[0;34m.\u001b[0m\u001b[0mTF_GetBuffer\u001b[0m\u001b[0;34m(\u001b[0m\u001b[0mrun_metadata_ptr\u001b[0m\u001b[0;34m)\u001b[0m\u001b[0;34m\u001b[0m\u001b[0;34m\u001b[0m\u001b[0m\n",
      "\u001b[0;31mKeyboardInterrupt\u001b[0m: "
     ]
    }
   ],
   "source": [
    "tmp=get_timestamp()\n",
    "model_path = '../model/'+tmp+'hi_cdmx_weights.best.hdf5'\n",
    "hist = net.train(data.X_train, data.y_train, model, model_path, data.class_weight)"
   ]
  },
  {
   "cell_type": "code",
   "execution_count": 21,
   "metadata": {},
   "outputs": [
    {
     "data": {
      "image/png": "[encoded data removed]",
      "text/plain": [
       "<Figure size 432x288 with 1 Axes>"
      ]
     },
     "metadata": {
      "needs_background": "light"
     },
     "output_type": "display_data"
    },
    {
     "data": {
      "image/png": "[encoded data removed]",
      "text/plain": [
       "<Figure size 432x288 with 1 Axes>"
      ]
     },
     "metadata": {
      "needs_background": "light"
     },
     "output_type": "display_data"
    }
   ],
   "source": [
    "net.plot_taining_graphs(hist)"
   ]
  },
  {
   "cell_type": "code",
   "execution_count": 22,
   "metadata": {},
   "outputs": [
    {
     "name": "stdout",
     "output_type": "stream",
     "text": [
      "633/633 [==============================] - 0s 220us/sample - loss: 1.0032 - acc: 0.5624\n",
      "Overall Accuracy: 0.56240124\n",
      "Overall Loss: 1.0031736399890123\n"
     ]
    }
   ],
   "source": [
    "test_loss, test_acc = net.test(model,data.X_test, data.y_test)\n",
    "\n",
    "print(\"Overall Accuracy:\", test_acc)\n",
    "print(\"Overall Loss:\", test_loss)"
   ]
  },
  {
   "cell_type": "code",
   "execution_count": 23,
   "metadata": {},
   "outputs": [],
   "source": [
    "y_pred = model.predict(data.X_test)"
   ]
  },
  {
   "cell_type": "code",
   "execution_count": 24,
   "metadata": {},
   "outputs": [
    {
     "data": {
      "image/png": "[encoded data removed]",
      "text/plain": [
       "<Figure size 360x360 with 1 Axes>"
      ]
     },
     "metadata": {
      "needs_background": "light"
     },
     "output_type": "display_data"
    }
   ],
   "source": [
    "y_pred = np.argmax(y_pred, axis=1)\n",
    "y_test = np.argmax(data.y_test, axis=1)\n",
    "cls_obj = LR()\n",
    "cls_obj.gen_confusion_matrix(y_test = y_test, y_pred = y_pred, classes = 3)"
   ]
  },
  {
   "cell_type": "code",
   "execution_count": 25,
   "metadata": {},
   "outputs": [
    {
     "data": {
      "text/html": [
       "<div>\n",
       "<style scoped>\n",
       "    .dataframe tbody tr th:only-of-type {\n",
       "        vertical-align: middle;\n",
       "    }\n",
       "\n",
       "    .dataframe tbody tr th {\n",
       "        vertical-align: top;\n",
       "    }\n",
       "\n",
       "    .dataframe thead th {\n",
       "        text-align: right;\n",
       "    }\n",
       "</style>\n",
       "<table border=\"1\" class=\"dataframe\">\n",
       "  <thead>\n",
       "    <tr style=\"text-align: right;\">\n",
       "      <th></th>\n",
       "      <th>lang</th>\n",
       "      <th>seed</th>\n",
       "      <th>epochs</th>\n",
       "      <th>batch_size</th>\n",
       "      <th>optimiser</th>\n",
       "      <th>lr_rate</th>\n",
       "      <th>drop_out</th>\n",
       "      <th>hidden_size</th>\n",
       "      <th>test_acc</th>\n",
       "      <th>test_loss</th>\n",
       "      <th>timestamp</th>\n",
       "    </tr>\n",
       "  </thead>\n",
       "  <tbody>\n",
       "    <tr>\n",
       "      <th>0</th>\n",
       "      <td>en</td>\n",
       "      <td>30</td>\n",
       "      <td>50</td>\n",
       "      <td>30</td>\n",
       "      <td>sgd</td>\n",
       "      <td>0.001</td>\n",
       "      <td>0.2</td>\n",
       "      <td>64</td>\n",
       "      <td>0.562401</td>\n",
       "      <td>1.003174</td>\n",
       "      <td>23-Aug-2020_18_08_51</td>\n",
       "    </tr>\n",
       "  </tbody>\n",
       "</table>\n",
       "</div>"
      ],
      "text/plain": [
       "  lang  seed  epochs  batch_size optimiser  lr_rate  drop_out  hidden_size  \\\n",
       "0   en    30      50          30       sgd    0.001       0.2           64   \n",
       "\n",
       "   test_acc  test_loss             timestamp  \n",
       "0  0.562401   1.003174  23-Aug-2020_18_08_51  "
      ]
     },
     "execution_count": 25,
     "metadata": {},
     "output_type": "execute_result"
    }
   ],
   "source": [
    "parameters['epochs']=len(hist.history['acc'])\n",
    "parameters['test_acc']=test_acc\n",
    "parameters['test_loss']=test_loss\n",
    "parameters['timestamp']=tmp\n",
    "df = pd.DataFrame([parameters])\n",
    "df"
   ]
  },
  {
   "cell_type": "code",
   "execution_count": 26,
   "metadata": {},
   "outputs": [],
   "source": [
    "df.to_csv('result.csv', mode='a', index=False)"
   ]
  },
  {
   "cell_type": "markdown",
   "metadata": {},
   "source": [
    "## test Case"
   ]
  },
  {
   "cell_type": "code",
   "execution_count": null,
   "metadata": {},
   "outputs": [],
   "source": [
    "text = ['@AvijitEmmi Bahenchod .... experienced lagte ho bhai bhot face with tears of joy']\n",
    "test_data = ProcessData(df=text, lang='en', max_seq_len=48)\n"
   ]
  },
  {
   "cell_type": "code",
   "execution_count": null,
   "metadata": {},
   "outputs": [],
   "source": [
    "net = network()\n",
    "out = net.predict(model_path='../model/hi_cdmx_weights.best.hdf5',x=test_data.X)"
   ]
  },
  {
   "cell_type": "code",
   "execution_count": null,
   "metadata": {},
   "outputs": [],
   "source": [
    "out[0][0]"
   ]
  },
  {
   "cell_type": "code",
   "execution_count": null,
   "metadata": {},
   "outputs": [],
   "source": []
  }
 ],
 "metadata": {
  "kernelspec": {
   "display_name": "Python 3",
   "language": "python",
   "name": "python3"
  },
  "language_info": {
   "codemirror_mode": {
    "name": "ipython",
    "version": 3
   },
   "file_extension": ".py",
   "mimetype": "text/x-python",
   "name": "python",
   "nbconvert_exporter": "python",
   "pygments_lexer": "ipython3",
   "version": "3.6.9"
  }
 },
 "nbformat": 4,
 "nbformat_minor": 4
}
