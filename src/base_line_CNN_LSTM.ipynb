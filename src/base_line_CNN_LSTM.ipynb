{
 "cells": [
  {
   "cell_type": "markdown",
   "metadata": {},
   "source": [
    "## CNN LSTM Model"
   ]
  },
  {
   "cell_type": "code",
   "execution_count": 1,
   "metadata": {},
   "outputs": [
    {
     "name": "stdout",
     "output_type": "stream",
     "text": [
      "Reading Emoticons ...\n",
      "Reading Slangs ...\n"
     ]
    }
   ],
   "source": [
    "import warnings\n",
    "warnings.filterwarnings('ignore')\n",
    "import time\n",
    "import pandas as pd\n",
    "import numpy as np\n",
    "from base_line_DNN import CNN_LSTM as network\n",
    "from base_line_DNN import ProcessData\n",
    "from base_line_LR import LR\n",
    "from datetime import datetime\n",
    "from tensorflow.keras.utils import plot_model\n",
    "\n",
    "def get_timestamp():\n",
    "    dateTimeObj = datetime.now()\n",
    "    timestampStr = dateTimeObj.strftime(\"%d-%b-%Y_%H_%M_%S\")\n",
    "    return timestampStr"
   ]
  },
  {
   "cell_type": "markdown",
   "metadata": {},
   "source": [
    "### Load English Data\n",
    "\n",
    "Load and format the data in the way ProcessData class is expecting the input. "
   ]
  },
  {
   "cell_type": "code",
   "execution_count": 2,
   "metadata": {},
   "outputs": [],
   "source": [
    "df_en = pd.read_csv('../data/dataset_en.csv')\n",
    "df_en = df_en.dropna() # drop any rows with nans\n",
    "df_en.drop(df_en.loc[df_en['text_id'] == 'text_id'].index,inplace=True)\n",
    "# df_en.drop(df_en.loc[df_en['class'] == 'HS'].index,inplace=True)\n",
    "df_en[\"class\"] = df_en[\"class\"].astype(int)\n",
    "df_en['text_len'] = df_en.apply(lambda x: len(x.text.split()), axis=1)\n",
    "df_en = df_en[df_en['text_len']<200]"
   ]
  },
  {
   "cell_type": "code",
   "execution_count": 3,
   "metadata": {},
   "outputs": [
    {
     "data": {
      "text/plain": [
       "array([1, 0, 2])"
      ]
     },
     "execution_count": 3,
     "metadata": {},
     "output_type": "execute_result"
    }
   ],
   "source": [
    "df_en['class'].unique()"
   ]
  },
  {
   "cell_type": "code",
   "execution_count": 4,
   "metadata": {},
   "outputs": [],
   "source": [
    "## Set the paramters for the model training\n",
    "parameters={'lang':'en',\n",
    "       'seed':30,\n",
    "       'epochs':50, \n",
    "       'batch_size':30, \n",
    "       'optimiser':'sgd', \n",
    "       'lr_rate':0.001, \n",
    "       'drop_out':0.2, \n",
    "       'hidden_size':64,\n",
    "        'val_split':0.2\n",
    "      }"
   ]
  },
  {
   "cell_type": "markdown",
   "metadata": {},
   "source": [
    "### Convert Text Into Sequences"
   ]
  },
  {
   "cell_type": "code",
   "execution_count": 5,
   "metadata": {},
   "outputs": [
    {
     "name": "stdout",
     "output_type": "stream",
     "text": [
      "Reading twitter - 1grams ...\n",
      "Reading twitter - 2grams ...\n"
     ]
    },
    {
     "name": "stderr",
     "output_type": "stream",
     "text": [
      "  0%|          | 100/50369 [00:00<00:50, 997.02it/s]"
     ]
    },
    {
     "name": "stdout",
     "output_type": "stream",
     "text": [
      "Reading twitter - 1grams ...\n"
     ]
    },
    {
     "name": "stderr",
     "output_type": "stream",
     "text": [
      "100%|██████████| 50369/50369 [00:34<00:00, 1449.00it/s]\n"
     ]
    },
    {
     "name": "stdout",
     "output_type": "stream",
     "text": [
      "Time Taken: 00:00:41\n"
     ]
    }
   ],
   "source": [
    "# convert text into seq\n",
    "start_time = time.time()\n",
    "data = ProcessData(df_en, lang=parameters['lang'])\n",
    "seconds = time.time() - start_time\n",
    "print('Time Taken:', time.strftime(\"%H:%M:%S\",time.gmtime(seconds)))"
   ]
  },
  {
   "cell_type": "code",
   "execution_count": 6,
   "metadata": {},
   "outputs": [
    {
     "name": "stdout",
     "output_type": "stream",
     "text": [
      "138 23051 [2 1 0]\n"
     ]
    }
   ],
   "source": [
    "print(data.max_seq_len, data.vocab_size, data.classes)"
   ]
  },
  {
   "cell_type": "markdown",
   "metadata": {},
   "source": [
    "### Build CNN LSTM Network"
   ]
  },
  {
   "cell_type": "code",
   "execution_count": 7,
   "metadata": {},
   "outputs": [
    {
     "name": "stdout",
     "output_type": "stream",
     "text": [
      "WARNING:tensorflow:From /homes/nv304/project/py3tf2/lib/python3.6/site-packages/tensorflow/python/ops/resource_variable_ops.py:435: colocate_with (from tensorflow.python.framework.ops) is deprecated and will be removed in a future version.\n",
      "Instructions for updating:\n",
      "Colocations handled automatically by placer.\n",
      "WARNING:tensorflow:From /homes/nv304/project/py3tf2/lib/python3.6/site-packages/tensorflow/python/keras/layers/core.py:143: calling dropout (from tensorflow.python.ops.nn_ops) with keep_prob is deprecated and will be removed in a future version.\n",
      "Instructions for updating:\n",
      "Please use `rate` instead of `keep_prob`. Rate should be set to `rate = 1 - keep_prob`.\n",
      "__________________________________________________________________________________________________\n",
      "Layer (type)                    Output Shape         Param #     Connected to                     \n",
      "==================================================================================================\n",
      "input_1 (InputLayer)            (None, 138)          0                                            \n",
      "__________________________________________________________________________________________________\n",
      "embedding (Embedding)           (None, 138, 100)     2305100     input_1[0][0]                    \n",
      "__________________________________________________________________________________________________\n",
      "reshape (Reshape)               (None, 138, 100, 1)  0           embedding[0][0]                  \n",
      "__________________________________________________________________________________________________\n",
      "conv2d (Conv2D)                 (None, 136, 1, 64)   19264       reshape[0][0]                    \n",
      "__________________________________________________________________________________________________\n",
      "conv2d_1 (Conv2D)               (None, 135, 1, 64)   25664       reshape[0][0]                    \n",
      "__________________________________________________________________________________________________\n",
      "conv2d_2 (Conv2D)               (None, 134, 1, 64)   32064       reshape[0][0]                    \n",
      "__________________________________________________________________________________________________\n",
      "batch_normalization_v1 (BatchNo (None, 136, 1, 64)   256         conv2d[0][0]                     \n",
      "__________________________________________________________________________________________________\n",
      "batch_normalization_v1_1 (Batch (None, 135, 1, 64)   256         conv2d_1[0][0]                   \n",
      "__________________________________________________________________________________________________\n",
      "batch_normalization_v1_2 (Batch (None, 134, 1, 64)   256         conv2d_2[0][0]                   \n",
      "__________________________________________________________________________________________________\n",
      "max_pooling2d (MaxPooling2D)    (None, 1, 1, 64)     0           batch_normalization_v1[0][0]     \n",
      "__________________________________________________________________________________________________\n",
      "max_pooling2d_1 (MaxPooling2D)  (None, 1, 1, 64)     0           batch_normalization_v1_1[0][0]   \n",
      "__________________________________________________________________________________________________\n",
      "max_pooling2d_2 (MaxPooling2D)  (None, 1, 1, 64)     0           batch_normalization_v1_2[0][0]   \n",
      "__________________________________________________________________________________________________\n",
      "concatenate (Concatenate)       (None, 1, 1, 192)    0           max_pooling2d[0][0]              \n",
      "                                                                 max_pooling2d_1[0][0]            \n",
      "                                                                 max_pooling2d_2[0][0]            \n",
      "__________________________________________________________________________________________________\n",
      "time_distributed (TimeDistribut (None, 1, 1, 64)     12352       concatenate[0][0]                \n",
      "__________________________________________________________________________________________________\n",
      "reshape_1 (Reshape)             (None, 1, 64)        0           time_distributed[0][0]           \n",
      "__________________________________________________________________________________________________\n",
      "bidirectional (Bidirectional)   (None, 1, 128)       66048       reshape_1[0][0]                  \n",
      "__________________________________________________________________________________________________\n",
      "flatten (Flatten)               (None, 192)          0           concatenate[0][0]                \n",
      "__________________________________________________________________________________________________\n",
      "bidirectional_1 (Bidirectional) (None, 128)          98816       bidirectional[0][0]              \n",
      "__________________________________________________________________________________________________\n",
      "dense (Dense)                   (None, 64)           12352       flatten[0][0]                    \n",
      "__________________________________________________________________________________________________\n",
      "dense_2 (Dense)                 (None, 64)           8256        bidirectional_1[0][0]            \n",
      "__________________________________________________________________________________________________\n",
      "dropout (Dropout)               (None, 64)           0           dense[0][0]                      \n",
      "__________________________________________________________________________________________________\n",
      "dropout_1 (Dropout)             (None, 64)           0           dense_2[0][0]                    \n",
      "__________________________________________________________________________________________________\n",
      "concatenate_1 (Concatenate)     (None, 128)          0           dropout[0][0]                    \n",
      "                                                                 dropout_1[0][0]                  \n",
      "__________________________________________________________________________________________________\n",
      "dense_3 (Dense)                 (None, 3)            387         concatenate_1[0][0]              \n",
      "__________________________________________________________________________________________________\n",
      "activation (Activation)         (None, 3)            0           dense_3[0][0]                    \n",
      "==================================================================================================\n",
      "Total params: 2,581,071\n",
      "Trainable params: 2,580,687\n",
      "Non-trainable params: 384\n",
      "__________________________________________________________________________________________________\n",
      "None\n"
     ]
    }
   ],
   "source": [
    "net = network(param=parameters)\n",
    "model = net.get_model_2(classes=len(data.classes), \n",
    "                        vocabulary_size=data.vocab_size, \n",
    "                        input_length=data.max_seq_len, \n",
    "                        param=parameters)"
   ]
  },
  {
   "cell_type": "code",
   "execution_count": 10,
   "metadata": {},
   "outputs": [],
   "source": [
    "plot_model(model, to_file='model.png')"
   ]
  },
  {
   "cell_type": "code",
   "execution_count": 8,
   "metadata": {
    "scrolled": true
   },
   "outputs": [
    {
     "name": "stdout",
     "output_type": "stream",
     "text": [
      "Train on 32236 samples, validate on 8059 samples\n",
      "WARNING:tensorflow:From /homes/nv304/project/py3tf2/lib/python3.6/site-packages/tensorflow/python/ops/math_ops.py:3066: to_int32 (from tensorflow.python.ops.math_ops) is deprecated and will be removed in a future version.\n",
      "Instructions for updating:\n",
      "Use tf.cast instead.\n",
      "Epoch 1/50\n",
      "32160/32236 [============================>.] - ETA: 0s - loss: 1.0444 - acc: 0.4546\n",
      "Epoch 00001: val_acc improved from -inf to 0.50850, saving model to ../model/02-Sep-2020_01_43_23_en_weights.best.hdf5\n",
      "32236/32236 [==============================] - 22s 698us/sample - loss: 1.0446 - acc: 0.4543 - val_loss: 0.9913 - val_acc: 0.5085\n",
      "Epoch 2/50\n",
      "32130/32236 [============================>.] - ETA: 0s - loss: 0.9627 - acc: 0.5489\n",
      "Epoch 00002: val_acc improved from 0.50850 to 0.58580, saving model to ../model/02-Sep-2020_01_43_23_en_weights.best.hdf5\n",
      "32236/32236 [==============================] - 18s 563us/sample - loss: 0.9625 - acc: 0.5493 - val_loss: 0.9290 - val_acc: 0.5858\n",
      "Epoch 3/50\n",
      "32190/32236 [============================>.] - ETA: 0s - loss: 0.9082 - acc: 0.5924\n",
      "Epoch 00003: val_acc improved from 0.58580 to 0.60169, saving model to ../model/02-Sep-2020_01_43_23_en_weights.best.hdf5\n",
      "32236/32236 [==============================] - 18s 550us/sample - loss: 0.9083 - acc: 0.5923 - val_loss: 0.8927 - val_acc: 0.6017\n",
      "Epoch 4/50\n",
      "32160/32236 [============================>.] - ETA: 0s - loss: 0.8679 - acc: 0.6279\n",
      "Epoch 00004: val_acc improved from 0.60169 to 0.64921, saving model to ../model/02-Sep-2020_01_43_23_en_weights.best.hdf5\n",
      "32236/32236 [==============================] - 18s 548us/sample - loss: 0.8680 - acc: 0.6279 - val_loss: 0.8623 - val_acc: 0.6492\n",
      "Epoch 5/50\n",
      "32190/32236 [============================>.] - ETA: 0s - loss: 0.8390 - acc: 0.6482\n",
      "Epoch 00005: val_acc improved from 0.64921 to 0.65864, saving model to ../model/02-Sep-2020_01_43_23_en_weights.best.hdf5\n",
      "32236/32236 [==============================] - 18s 547us/sample - loss: 0.8389 - acc: 0.6482 - val_loss: 0.8376 - val_acc: 0.6586\n",
      "Epoch 6/50\n",
      "32130/32236 [============================>.] - ETA: 0s - loss: 0.8148 - acc: 0.6639\n",
      "Epoch 00006: val_acc improved from 0.65864 to 0.67155, saving model to ../model/02-Sep-2020_01_43_23_en_weights.best.hdf5\n",
      "32236/32236 [==============================] - 18s 548us/sample - loss: 0.8144 - acc: 0.6641 - val_loss: 0.8187 - val_acc: 0.6715\n",
      "Epoch 7/50\n",
      "32190/32236 [============================>.] - ETA: 0s - loss: 0.7898 - acc: 0.6791\n",
      "Epoch 00007: val_acc improved from 0.67155 to 0.67378, saving model to ../model/02-Sep-2020_01_43_23_en_weights.best.hdf5\n",
      "32236/32236 [==============================] - 17s 537us/sample - loss: 0.7900 - acc: 0.6790 - val_loss: 0.8055 - val_acc: 0.6738\n",
      "Epoch 8/50\n",
      "32220/32236 [============================>.] - ETA: 0s - loss: 0.7673 - acc: 0.6915\n",
      "Epoch 00008: val_acc improved from 0.67378 to 0.68396, saving model to ../model/02-Sep-2020_01_43_23_en_weights.best.hdf5\n",
      "32236/32236 [==============================] - 17s 537us/sample - loss: 0.7672 - acc: 0.6915 - val_loss: 0.7929 - val_acc: 0.6840\n",
      "Epoch 9/50\n",
      "32160/32236 [============================>.] - ETA: 0s - loss: 0.7484 - acc: 0.7011\n",
      "Epoch 00009: val_acc improved from 0.68396 to 0.68842, saving model to ../model/02-Sep-2020_01_43_23_en_weights.best.hdf5\n",
      "32236/32236 [==============================] - 17s 540us/sample - loss: 0.7482 - acc: 0.7013 - val_loss: 0.7824 - val_acc: 0.6884\n",
      "Epoch 10/50\n",
      "32130/32236 [============================>.] - ETA: 0s - loss: 0.7297 - acc: 0.7142\n",
      "Epoch 00010: val_acc improved from 0.68842 to 0.69723, saving model to ../model/02-Sep-2020_01_43_23_en_weights.best.hdf5\n",
      "32236/32236 [==============================] - 17s 535us/sample - loss: 0.7293 - acc: 0.7143 - val_loss: 0.7723 - val_acc: 0.6972\n",
      "Epoch 11/50\n",
      "32160/32236 [============================>.] - ETA: 0s - loss: 0.7128 - acc: 0.7202\n",
      "Epoch 00011: val_acc did not improve from 0.69723\n",
      "32236/32236 [==============================] - 17s 526us/sample - loss: 0.7128 - acc: 0.7201 - val_loss: 0.7643 - val_acc: 0.6970\n",
      "Epoch 12/50\n",
      "32190/32236 [============================>.] - ETA: 0s - loss: 0.6952 - acc: 0.7277\n",
      "Epoch 00012: val_acc did not improve from 0.69723\n",
      "32236/32236 [==============================] - 17s 526us/sample - loss: 0.6954 - acc: 0.7277 - val_loss: 0.7588 - val_acc: 0.6893\n",
      "Epoch 13/50\n",
      "32160/32236 [============================>.] - ETA: 0s - loss: 0.6776 - acc: 0.7391\n",
      "Epoch 00013: val_acc improved from 0.69723 to 0.70815, saving model to ../model/02-Sep-2020_01_43_23_en_weights.best.hdf5\n",
      "32236/32236 [==============================] - 17s 533us/sample - loss: 0.6774 - acc: 0.7392 - val_loss: 0.7532 - val_acc: 0.7082\n",
      "Epoch 14/50\n",
      "32130/32236 [============================>.] - ETA: 0s - loss: 0.6622 - acc: 0.7453\n",
      "Epoch 00014: val_acc improved from 0.70815 to 0.71336, saving model to ../model/02-Sep-2020_01_43_23_en_weights.best.hdf5\n",
      "32236/32236 [==============================] - 18s 546us/sample - loss: 0.6622 - acc: 0.7452 - val_loss: 0.7491 - val_acc: 0.7134\n",
      "Epoch 15/50\n",
      "32190/32236 [============================>.] - ETA: 0s - loss: 0.6458 - acc: 0.7521\n",
      "Epoch 00015: val_acc did not improve from 0.71336\n",
      "32236/32236 [==============================] - 17s 531us/sample - loss: 0.6458 - acc: 0.7521 - val_loss: 0.7464 - val_acc: 0.7108\n",
      "Epoch 16/50\n",
      "32130/32236 [============================>.] - ETA: 0s - loss: 0.6281 - acc: 0.7611\n",
      "Epoch 00016: val_acc did not improve from 0.71336\n",
      "32236/32236 [==============================] - 17s 532us/sample - loss: 0.6283 - acc: 0.7609 - val_loss: 0.7346 - val_acc: 0.7057\n",
      "Epoch 17/50\n",
      "32220/32236 [============================>.] - ETA: 0s - loss: 0.6126 - acc: 0.7672\n",
      "Epoch 00017: val_acc did not improve from 0.71336\n",
      "32236/32236 [==============================] - 17s 530us/sample - loss: 0.6126 - acc: 0.7671 - val_loss: 0.7344 - val_acc: 0.6957\n",
      "Epoch 18/50\n",
      "32130/32236 [============================>.] - ETA: 0s - loss: 0.5947 - acc: 0.7765\n",
      "Epoch 00018: val_acc improved from 0.71336 to 0.7398, saving model to ../model/02-Sep-2020_01_43_23_en_weights.best.hdf5\n",
      "32236/32236 [==============================] - 17s 534us/sample - loss: 0.5949 - acc: 0.7763 - val_loss: 0.7315 - val_acc: 0.7398\n",
      "Epoch 19/50\n",
      "32220/32236 [============================>.] - ETA: 0s - loss: 0.5767 - acc: 0.7840\n",
      "Epoch 00019: val_acc did not improve from 0.7398\n",
      "32236/32236 [==============================] - 17s 533us/sample - loss: 0.5768 - acc: 0.7840 - val_loss: 0.7318 - val_acc: 0.7398\n",
      "Epoch 20/50\n",
      "32160/32236 [============================>.] - ETA: 0s - loss: 0.5626 - acc: 0.7904\n",
      "Epoch 00020: val_acc did not improve from 0.7398\n",
      "32236/32236 [==============================] - 17s 528us/sample - loss: 0.5626 - acc: 0.7905 - val_loss: 0.7302 - val_acc: 0.7315\n",
      "Epoch 21/50\n",
      "32220/32236 [============================>.] - ETA: 0s - loss: 0.5456 - acc: 0.7953\n",
      "Epoch 00021: val_acc did not improve from 0.7398\n",
      "32236/32236 [==============================] - 17s 529us/sample - loss: 0.5455 - acc: 0.7953 - val_loss: 0.7338 - val_acc: 0.7332\n",
      "Epoch 22/50\n",
      "32160/32236 [============================>.] - ETA: 0s - loss: 0.5276 - acc: 0.8067\n",
      "Epoch 00022: val_acc improved from 0.7398 to 0.7569, saving model to ../model/02-Sep-2020_01_43_23_en_weights.best.hdf5\n",
      "32236/32236 [==============================] - 17s 531us/sample - loss: 0.5277 - acc: 0.8066 - val_loss: 0.7286 - val_acc: 0.7569\n",
      "Epoch 23/50\n",
      "32160/32236 [============================>.] - ETA: 0s - loss: 0.5122 - acc: 0.8127\n",
      "Epoch 00023: val_acc did not improve from 0.7569\n",
      "32236/32236 [==============================] - 17s 534us/sample - loss: 0.5123 - acc: 0.8127 - val_loss: 0.7308 - val_acc: 0.7595\n",
      "Epoch 24/50\n",
      "32220/32236 [============================>.] - ETA: 0s - loss: 0.4957 - acc: 0.8188\n",
      "Epoch 00024: val_acc improved from 0.7569 to 0.7876, saving model to ../model/02-Sep-2020_01_43_23_en_weights.best.hdf5\n",
      "32236/32236 [==============================] - 17s 539us/sample - loss: 0.4959 - acc: 0.8187 - val_loss: 0.7410 - val_acc: 0.7876\n",
      "Epoch 25/50\n",
      "32130/32236 [============================>.] - ETA: 0s - loss: 0.4756 - acc: 0.8287\n",
      "Epoch 00025: val_acc did not improve from 0.7876\n",
      "32236/32236 [==============================] - 17s 532us/sample - loss: 0.4760 - acc: 0.8284 - val_loss: 0.7440 - val_acc: 0.7831\n",
      "Epoch 26/50\n",
      "32160/32236 [============================>.] - ETA: 0s - loss: 0.4576 - acc: 0.8356\n",
      "Epoch 00026: val_acc did not improve from 0.7876\n",
      "32236/32236 [==============================] - 17s 533us/sample - loss: 0.4576 - acc: 0.8355 - val_loss: 0.7422 - val_acc: 0.7816\n",
      "Epoch 27/50\n",
      "32220/32236 [============================>.] - ETA: 0s - loss: 0.4395 - acc: 0.8455\n",
      "Epoch 00027: val_acc improved from 0.7893 to 0.7876, saving model to ../model/02-Sep-2020_01_43_23_en_weights.best.hdf5\n",
      "Restoring model weights from the end of the best epoch.\n",
      "32236/32236 [==============================] - 18s 543us/sample - loss: 0.4395 - acc: 0.8455 - val_loss: 0.7681 - val_acc: 0.7893\n",
      "Epoch 00027:----intrupt---- stopping\n",
      "Time Taken: 00:07:58\n"
     ]
    }
   ],
   "source": [
    "tmp = get_timestamp()\n",
    "start_time = time.time()\n",
    "model_path = '../model/'+tmp+'_en_weights.best.hdf5'\n",
    "hist = net.train(data.X_train, data.y_train, model, model_path, data.class_weight)\n",
    "seconds = time.time() - start_time\n",
    "print('Time Taken:', time.strftime(\"%H:%M:%S\",time.gmtime(seconds)))"
   ]
  },
  {
   "cell_type": "code",
   "execution_count": 8,
   "metadata": {},
   "outputs": [
    {
     "data": {
      "image/png": "[encoded data removed]",
      "text/plain": [
       "<Figure size 432x288 with 1 Axes>"
      ]
     },
     "metadata": {
      "needs_background": "light"
     },
     "output_type": "display_data"
    },
    {
     "data": {
      "image/png": "[encoded data removed]",
      "text/plain": [
       "<Figure size 432x288 with 1 Axes>"
      ]
     },
     "metadata": {
      "needs_background": "light"
     },
     "output_type": "display_data"
    }
   ],
   "source": [
    "# hist.history.keys()\n",
    "net.plot_taining_graphs(hist)"
   ]
  },
  {
   "cell_type": "code",
   "execution_count": 9,
   "metadata": {},
   "outputs": [
    {
     "name": "stdout",
     "output_type": "stream",
     "text": [
      "10074/10074 [==============================] - 2s 158us/sample - loss: 0.8956 - acc: 0.7896\n",
      "Overall Accuracy: 0.78964064\n",
      "Overall Loss: 0.3956158276006109\n"
     ]
    }
   ],
   "source": [
    "test_loss, test_acc = net.test(model,data.X_test, data.y_test)\n",
    "\n",
    "print(\"Overall Accuracy:\", test_acc)\n",
    "print(\"Overall Loss:\", test_loss)"
   ]
  },
  {
   "cell_type": "code",
   "execution_count": 8,
   "metadata": {},
   "outputs": [],
   "source": [
    "y_pred = model.predict(data.X_test)"
   ]
  },
  {
   "cell_type": "code",
   "execution_count": 6,
   "metadata": {},
   "outputs": [
    {
     "data": {
      "image/png": "[encoded data removed]",
      "text/plain": [
       "<Figure size 360x360 with 1 Axes>"
      ]
     },
     "metadata": {
      "needs_background": "light"
     },
     "output_type": "display_data"
    }
   ],
   "source": [
    "y_pred = np.argmax(y_pred, axis=1)\n",
    "y_test = np.argmax(data.y_test, axis=1)\n",
    "cls_obj = LR()\n",
    "cls_obj.gen_confusion_matrix(y_test = y_test, y_pred = y_pred, classes = 3)"
   ]
  },
  {
   "cell_type": "markdown",
   "metadata": {},
   "source": [
    "From above confusion matrix, we see that the model clearly identifies, Neither class but has issues with offensive and hate class"
   ]
  },
  {
   "cell_type": "code",
   "execution_count": 13,
   "metadata": {},
   "outputs": [
    {
     "name": "stdout",
     "output_type": "stream",
     "text": [
      "              precision    recall  f1-score   support\n",
      "\n",
      "           0       0.76      0.82      0.74      3386\n",
      "           1       0.63      0.69      0.63      2157\n",
      "           2       0.78      0.71      0.72      4531\n",
      "\n",
      "    accuracy                           0.77     10074\n",
      "   macro avg       0.78      0.76      0.76     10074\n",
      "weighted avg       0.76      0.77      0.76     10074\n",
      "\n"
     ]
    }
   ],
   "source": [
    "print(cls_obj.gen_report(y_test, y_pred)[1])"
   ]
  },
  {
   "cell_type": "code",
   "execution_count": 16,
   "metadata": {},
   "outputs": [],
   "source": [
    "parameters['epochs']=len(hist.history['acc'])\n",
    "parameters['test_acc']=test_acc\n",
    "parameters['test_loss']=test_loss\n",
    "parameters['timestamp']=tmp\n",
    "df = pd.DataFrame([parameters])\n",
    "df.to_csv('result.csv', mode='a', index=False)"
   ]
  },
  {
   "cell_type": "markdown",
   "metadata": {},
   "source": [
    "### Load Hindi Dataset"
   ]
  },
  {
   "cell_type": "code",
   "execution_count": 8,
   "metadata": {},
   "outputs": [],
   "source": [
    "df_hi = pd.read_csv('../data/dataset_hi.csv')\n",
    "df_hi[\"class\"] = df_hi[\"class\"].astype(int)\n",
    "df_hi = df_hi.dropna() # drop any rotokenizer_testws with nans\n",
    "df_hi.drop(df_hi.loc[df_hi['text_id'] == 'text_id'].index,inplace=True)\n",
    "df_hi.drop(df_hi.loc[df_hi['class'] == 'HS'].index,inplace=True)\n",
    "df_hi['text_len'] = df_hi.apply(lambda x: len(x.text.split()), axis=1)\n",
    "df_hi = df_hi[df_hi['text_len']<200]"
   ]
  },
  {
   "cell_type": "markdown",
   "metadata": {},
   "source": [
    "### Convert Text Into Sequences"
   ]
  },
  {
   "cell_type": "code",
   "execution_count": 9,
   "metadata": {},
   "outputs": [
    {
     "data": {
      "text/html": [],
      "text/plain": [
       "<IPython.core.display.HTML object>"
      ]
     },
     "metadata": {},
     "output_type": "display_data"
    },
    {
     "data": {
      "text/html": [],
      "text/plain": [
       "<IPython.core.display.HTML object>"
      ]
     },
     "metadata": {},
     "output_type": "display_data"
    },
    {
     "name": "stdout",
     "output_type": "stream",
     "text": [
      "Reading english - 1grams ...\n"
     ]
    },
    {
     "name": "stderr",
     "output_type": "stream",
     "text": [
      "100%|██████████| 9330/9330 [24:11<00:00,  6.43it/s]\n"
     ]
    },
    {
     "name": "stdout",
     "output_type": "stream",
     "text": [
      "Time Taken: 00:24:13\n"
     ]
    }
   ],
   "source": [
    "start_time = time.time()\n",
    "data = ProcessData(df_hi, lang='hi')\n",
    "seconds = time.time() - start_time\n",
    "print('Time Taken:', time.strftime(\"%H:%M:%S\",time.gmtime(seconds)))"
   ]
  },
  {
   "cell_type": "code",
   "execution_count": 10,
   "metadata": {},
   "outputs": [
    {
     "data": {
      "text/plain": [
       "(104, 6075, array([0, 1]))"
      ]
     },
     "execution_count": 10,
     "metadata": {},
     "output_type": "execute_result"
    }
   ],
   "source": [
    "data.max_seq_len, data.vocab_size, data.classes"
   ]
  },
  {
   "cell_type": "code",
   "execution_count": 11,
   "metadata": {},
   "outputs": [],
   "source": [
    "# set model parameters\n",
    "parameters={'lang':'hi',\n",
    "       'seed':30,\n",
    "       'epochs':20, \n",
    "       'batch_size':30, \n",
    "       'optimiser':'sgd', \n",
    "       'lr_rate':0.001, \n",
    "       'drop_out':0.1, \n",
    "       'hidden_size':32,\n",
    "            'val_split':0.2\n",
    "      }"
   ]
  },
  {
   "cell_type": "markdown",
   "metadata": {},
   "source": [
    "### Build CNN LSTM model"
   ]
  },
  {
   "cell_type": "code",
   "execution_count": 12,
   "metadata": {},
   "outputs": [
    {
     "name": "stdout",
     "output_type": "stream",
     "text": [
      "__________________________________________________________________________________________________\n",
      "Layer (type)                    Output Shape         Param #     Connected to                     \n",
      "==================================================================================================\n",
      "input_2 (InputLayer)            (None, 104)          0                                            \n",
      "__________________________________________________________________________________________________\n",
      "embedding_1 (Embedding)         (None, 104, 100)     607500      input_2[0][0]                    \n",
      "__________________________________________________________________________________________________\n",
      "reshape_2 (Reshape)             (None, 104, 100, 1)  0           embedding_1[0][0]                \n",
      "__________________________________________________________________________________________________\n",
      "conv2d_3 (Conv2D)               (None, 102, 1, 64)   19264       reshape_2[0][0]                  \n",
      "__________________________________________________________________________________________________\n",
      "conv2d_4 (Conv2D)               (None, 101, 1, 64)   25664       reshape_2[0][0]                  \n",
      "__________________________________________________________________________________________________\n",
      "conv2d_5 (Conv2D)               (None, 100, 1, 64)   32064       reshape_2[0][0]                  \n",
      "__________________________________________________________________________________________________\n",
      "batch_normalization_v1_3 (Batch (None, 102, 1, 64)   256         conv2d_3[0][0]                   \n",
      "__________________________________________________________________________________________________\n",
      "batch_normalization_v1_4 (Batch (None, 101, 1, 64)   256         conv2d_4[0][0]                   \n",
      "__________________________________________________________________________________________________\n",
      "batch_normalization_v1_5 (Batch (None, 100, 1, 64)   256         conv2d_5[0][0]                   \n",
      "__________________________________________________________________________________________________\n",
      "max_pooling2d_3 (MaxPooling2D)  (None, 1, 1, 64)     0           batch_normalization_v1_3[0][0]   \n",
      "__________________________________________________________________________________________________\n",
      "max_pooling2d_4 (MaxPooling2D)  (None, 1, 1, 64)     0           batch_normalization_v1_4[0][0]   \n",
      "__________________________________________________________________________________________________\n",
      "max_pooling2d_5 (MaxPooling2D)  (None, 1, 1, 64)     0           batch_normalization_v1_5[0][0]   \n",
      "__________________________________________________________________________________________________\n",
      "concatenate_2 (Concatenate)     (None, 1, 1, 192)    0           max_pooling2d_3[0][0]            \n",
      "                                                                 max_pooling2d_4[0][0]            \n",
      "                                                                 max_pooling2d_5[0][0]            \n",
      "__________________________________________________________________________________________________\n",
      "time_distributed_1 (TimeDistrib (None, 1, 1, 32)     6176        concatenate_2[0][0]              \n",
      "__________________________________________________________________________________________________\n",
      "reshape_3 (Reshape)             (None, 1, 32)        0           time_distributed_1[0][0]         \n",
      "__________________________________________________________________________________________________\n",
      "bidirectional_2 (Bidirectional) (None, 1, 64)        16640       reshape_3[0][0]                  \n",
      "__________________________________________________________________________________________________\n",
      "flatten_1 (Flatten)             (None, 192)          0           concatenate_2[0][0]              \n",
      "__________________________________________________________________________________________________\n",
      "bidirectional_3 (Bidirectional) (None, 64)           24832       bidirectional_2[0][0]            \n",
      "__________________________________________________________________________________________________\n",
      "dense_4 (Dense)                 (None, 32)           6176        flatten_1[0][0]                  \n",
      "__________________________________________________________________________________________________\n",
      "dense_6 (Dense)                 (None, 32)           2080        bidirectional_3[0][0]            \n",
      "__________________________________________________________________________________________________\n",
      "dropout_2 (Dropout)             (None, 32)           0           dense_4[0][0]                    \n",
      "__________________________________________________________________________________________________\n",
      "dropout_3 (Dropout)             (None, 32)           0           dense_6[0][0]                    \n",
      "__________________________________________________________________________________________________\n",
      "concatenate_3 (Concatenate)     (None, 64)           0           dropout_2[0][0]                  \n",
      "                                                                 dropout_3[0][0]                  \n",
      "__________________________________________________________________________________________________\n",
      "dense_7 (Dense)                 (None, 2)            130         concatenate_3[0][0]              \n",
      "__________________________________________________________________________________________________\n",
      "activation_1 (Activation)       (None, 2)            0           dense_7[0][0]                    \n",
      "==================================================================================================\n",
      "Total params: 741,294\n",
      "Trainable params: 740,910\n",
      "Non-trainable params: 384\n",
      "__________________________________________________________________________________________________\n",
      "None\n"
     ]
    }
   ],
   "source": [
    "net = network(param=parameters)\n",
    "model = net.get_model_2(classes=len(data.classes), \n",
    "                        vocabulary_size=data.vocab_size, \n",
    "                        input_length=data.max_seq_len,\n",
    "                        param=parameters)"
   ]
  },
  {
   "cell_type": "code",
   "execution_count": 13,
   "metadata": {
    "scrolled": true
   },
   "outputs": [
    {
     "name": "stdout",
     "output_type": "stream",
     "text": [
      "Train on 5971 samples, validate on 1493 samples\n",
      "Epoch 1/20\n",
      "5910/5971 [============================>.] - ETA: 0s - loss: 0.7049 - acc: 0.5191\n",
      "Epoch 00001: val_acc improved from -inf to 0.55325, saving model to ../model/28-Aug-2020_20_03_22_hi_weights.best.hdf5\n",
      "5971/5971 [==============================] - 8s 1ms/sample - loss: 0.7045 - acc: 0.5193 - val_loss: 0.6923 - val_acc: 0.5532\n",
      "Epoch 2/20\n",
      "5970/5971 [============================>.] - ETA: 0s - loss: 0.6847 - acc: 0.5476\n",
      "Epoch 00002: val_acc improved from 0.55325 to 0.57803, saving model to ../model/28-Aug-2020_20_03_22_hi_weights.best.hdf5\n",
      "5971/5971 [==============================] - 3s 482us/sample - loss: 0.6847 - acc: 0.5476 - val_loss: 0.6895 - val_acc: 0.5780\n",
      "Epoch 3/20\n",
      "5970/5971 [============================>.] - ETA: 0s - loss: 0.6772 - acc: 0.5695\n",
      "Epoch 00003: val_acc improved from 0.57803 to 0.59946, saving model to ../model/28-Aug-2020_20_03_22_hi_weights.best.hdf5\n",
      "5971/5971 [==============================] - 3s 528us/sample - loss: 0.6772 - acc: 0.5694 - val_loss: 0.6821 - val_acc: 0.5995\n",
      "Epoch 4/20\n",
      "5880/5971 [============================>.] - ETA: 0s - loss: 0.6655 - acc: 0.6105\n",
      "Epoch 00004: val_acc improved from 0.59946 to 0.61018, saving model to ../model/28-Aug-2020_20_03_22_hi_weights.best.hdf5\n",
      "5971/5971 [==============================] - 3s 495us/sample - loss: 0.6651 - acc: 0.6118 - val_loss: 0.6709 - val_acc: 0.6102\n",
      "Epoch 5/20\n",
      "5940/5971 [============================>.] - ETA: 0s - loss: 0.6542 - acc: 0.6335\n",
      "Epoch 00005: val_acc improved from 0.61018 to 0.63295, saving model to ../model/28-Aug-2020_20_03_22_hi_weights.best.hdf5\n",
      "5971/5971 [==============================] - 3s 489us/sample - loss: 0.6541 - acc: 0.6334 - val_loss: 0.6596 - val_acc: 0.6330\n",
      "Epoch 6/20\n",
      "5880/5971 [============================>.] - ETA: 0s - loss: 0.6360 - acc: 0.6685\n",
      "Epoch 00006: val_acc improved from 0.63295 to 0.63496, saving model to ../model/28-Aug-2020_20_03_22_hi_weights.best.hdf5\n",
      "5971/5971 [==============================] - 3s 502us/sample - loss: 0.6359 - acc: 0.6676 - val_loss: 0.6518 - val_acc: 0.6350\n",
      "Epoch 7/20\n",
      "5940/5971 [============================>.] - ETA: 0s - loss: 0.6217 - acc: 0.6744\n",
      "Epoch 00007: val_acc improved from 0.63496 to 0.66376, saving model to ../model/28-Aug-2020_20_03_22_hi_weights.best.hdf5\n",
      "5971/5971 [==============================] - 3s 506us/sample - loss: 0.6216 - acc: 0.6744 - val_loss: 0.6354 - val_acc: 0.6638\n",
      "Epoch 8/20\n",
      "5850/5971 [============================>.] - ETA: 0s - loss: 0.5973 - acc: 0.6991\n",
      "Epoch 00008: val_acc did not improve from 0.66376\n",
      "5971/5971 [==============================] - 3s 459us/sample - loss: 0.5972 - acc: 0.6999 - val_loss: 0.6415 - val_acc: 0.6443\n",
      "Epoch 9/20\n",
      "5970/5971 [============================>.] - ETA: 0s - loss: 0.5794 - acc: 0.7213\n",
      "Epoch 00009: val_acc improved from 0.66376 to 0.66510, saving model to ../model/28-Aug-2020_20_03_22_hi_weights.best.hdf5\n",
      "5971/5971 [==============================] - 3s 485us/sample - loss: 0.5794 - acc: 0.7213 - val_loss: 0.6106 - val_acc: 0.6651\n",
      "Epoch 10/20\n",
      "5940/5971 [============================>.] - ETA: 0s - loss: 0.5502 - acc: 0.7424\n",
      "Epoch 00010: val_acc improved from 0.66510 to 0.70261, saving model to ../model/28-Aug-2020_20_03_22_hi_weights.best.hdf5\n",
      "5971/5971 [==============================] - 3s 498us/sample - loss: 0.5504 - acc: 0.7426 - val_loss: 0.5834 - val_acc: 0.7026\n",
      "Epoch 11/20\n",
      "5970/5971 [============================>.] - ETA: 0s - loss: 0.5197 - acc: 0.7682\n",
      "Epoch 00011: val_acc improved from 0.70261 to 0.72605, saving model to ../model/28-Aug-2020_20_03_22_hi_weights.best.hdf5\n",
      "5971/5971 [==============================] - 3s 501us/sample - loss: 0.5197 - acc: 0.7682 - val_loss: 0.5600 - val_acc: 0.7261\n",
      "Epoch 12/20\n",
      "5940/5971 [============================>.] - ETA: 0s - loss: 0.5036 - acc: 0.7756\n",
      "Epoch 00012: val_acc did not improve from 0.72605\n",
      "5971/5971 [==============================] - 3s 490us/sample - loss: 0.5034 - acc: 0.7757 - val_loss: 0.5711 - val_acc: 0.7127\n",
      "Epoch 13/20\n",
      "5880/5971 [============================>.] - ETA: 0s - loss: 0.4739 - acc: 0.7995\n",
      "Epoch 00013: val_acc improved from 0.72605 to 0.74481, saving model to ../model/28-Aug-2020_20_03_22_hi_weights.best.hdf5\n",
      "5971/5971 [==============================] - 3s 503us/sample - loss: 0.4737 - acc: 0.7994 - val_loss: 0.5352 - val_acc: 0.7448\n",
      "Epoch 14/20\n",
      "5910/5971 [============================>.] - ETA: 0s - loss: 0.4512 - acc: 0.8168\n",
      "Epoch 00014: val_acc improved from 0.74481 to 0.74615, saving model to ../model/28-Aug-2020_20_03_22_hi_weights.best.hdf5\n",
      "5971/5971 [==============================] - 3s 488us/sample - loss: 0.4507 - acc: 0.8178 - val_loss: 0.5220 - val_acc: 0.7461\n",
      "Epoch 15/20\n",
      "5910/5971 [============================>.] - ETA: 0s - loss: 0.4235 - acc: 0.8325\n",
      "Epoch 00015: val_acc improved from 0.74615 to 0.77093, saving model to ../model/28-Aug-2020_20_03_22_hi_weights.best.hdf5\n",
      "5971/5971 [==============================] - 3s 503us/sample - loss: 0.4240 - acc: 0.8315 - val_loss: 0.5013 - val_acc: 0.7709\n",
      "Epoch 16/20\n",
      "5970/5971 [============================>.] - ETA: 0s - loss: 0.4016 - acc: 0.8427\n",
      "Epoch 00016: val_acc improved from 0.77093 to 0.77629, saving model to ../model/28-Aug-2020_20_03_22_hi_weights.best.hdf5\n",
      "5971/5971 [==============================] - 3s 491us/sample - loss: 0.4016 - acc: 0.8427 - val_loss: 0.4754 - val_acc: 0.7763\n",
      "Epoch 17/20\n",
      "5880/5971 [============================>.] - ETA: 0s - loss: 0.3812 - acc: 0.8537\n",
      "Epoch 00017: val_acc improved from 0.77629 to 0.79705, saving model to ../model/28-Aug-2020_20_03_22_hi_weights.best.hdf5\n",
      "5971/5971 [==============================] - 3s 502us/sample - loss: 0.3809 - acc: 0.8540 - val_loss: 0.4564 - val_acc: 0.7971\n",
      "Epoch 18/20\n",
      "5940/5971 [============================>.] - ETA: 0s - loss: 0.3590 - acc: 0.8710\n",
      "Epoch 00018: val_acc improved from 0.79705 to 0.80710, saving model to ../model/28-Aug-2020_20_03_22_hi_weights.best.hdf5\n",
      "5971/5971 [==============================] - 3s 503us/sample - loss: 0.3588 - acc: 0.8715 - val_loss: 0.4421 - val_acc: 0.8071\n",
      "Epoch 19/20\n",
      "5850/5971 [============================>.] - ETA: 0s - loss: 0.3347 - acc: 0.8855\n",
      "Epoch 00019: val_acc did not improve from 0.80710\n",
      "5971/5971 [==============================] - 3s 488us/sample - loss: 0.3346 - acc: 0.8851 - val_loss: 0.4448 - val_acc: 0.7957\n",
      "Epoch 20/20\n",
      "5970/5971 [============================>.] - ETA: 0s - loss: 0.3173 - acc: 0.8913\n",
      "Epoch 00020: val_acc did not improve from 0.80710\n",
      "5971/5971 [==============================] - 3s 478us/sample - loss: 0.3173 - acc: 0.8913 - val_loss: 0.4407 - val_acc: 0.8038\n",
      "Time Taken: 00:01:08\n"
     ]
    }
   ],
   "source": [
    "tmp=get_timestamp()\n",
    "start_time = time.time()\n",
    "model_path = '../model/'+tmp+'_hi_weights.best.hdf5'\n",
    "hist = net.train(data.X_train, data.y_train, model, model_path, data.class_weight)\n",
    "seconds = time.time() - start_time\n",
    "print('Time Taken:', time.strftime(\"%H:%M:%S\",time.gmtime(seconds)))"
   ]
  },
  {
   "cell_type": "code",
   "execution_count": 96,
   "metadata": {},
   "outputs": [
    {
     "data": {
      "image/png": "[encoded data removed]",
      "text/plain": [
       "<Figure size 432x288 with 1 Axes>"
      ]
     },
     "metadata": {
      "needs_background": "light"
     },
     "output_type": "display_data"
    },
    {
     "data": {
      "image/png": "[encoded data removed]",
      "text/plain": [
       "<Figure size 432x288 with 1 Axes>"
      ]
     },
     "metadata": {
      "needs_background": "light"
     },
     "output_type": "display_data"
    }
   ],
   "source": [
    "net.plot_taining_graphs(hist)"
   ]
  },
  {
   "cell_type": "code",
   "execution_count": 97,
   "metadata": {},
   "outputs": [
    {
     "name": "stdout",
     "output_type": "stream",
     "text": [
      "1866/1866 [==============================] - 2s 944us/sample - loss: 0.6862 - acc: 0.5975\n",
      "Overall Accuracy: 0.85753484\n",
      "Overall Loss: 0.4262238354238284\n"
     ]
    }
   ],
   "source": [
    "test_loss, test_acc = net.test(model,data.X_test, data.y_test)\n",
    "\n",
    "print(\"Overall Accuracy:\", test_acc)\n",
    "print(\"Overall Loss:\", test_loss)"
   ]
  },
  {
   "cell_type": "code",
   "execution_count": 20,
   "metadata": {},
   "outputs": [],
   "source": [
    "y_pred = model.predict(data.X_test)"
   ]
  },
  {
   "cell_type": "code",
   "execution_count": 10,
   "metadata": {},
   "outputs": [
    {
     "data": {
      "image/png": "[encoded data removed]",
      "text/plain": [
       "<Figure size 360x360 with 1 Axes>"
      ]
     },
     "metadata": {
      "needs_background": "light"
     },
     "output_type": "display_data"
    }
   ],
   "source": [
    "y_pred = np.argmax(y_pred, axis=1)\n",
    "y_test = np.argmax(data.y_test, axis=1)\n",
    "cls_obj = LR()\n",
    "cls_obj.gen_confusion_matrix(y_test = y_test, y_pred = y_pred, classes = 2)"
   ]
  },
  {
   "cell_type": "markdown",
   "metadata": {},
   "source": [
    "The Hindi model perfectly identifies both Hate and non hate classes"
   ]
  },
  {
   "cell_type": "code",
   "execution_count": 21,
   "metadata": {},
   "outputs": [
    {
     "name": "stdout",
     "output_type": "stream",
     "text": [
      "              precision    recall  f1-score   support\n",
      "\n",
      "           0       0.84      0.80      0.86       893\n",
      "           1       0.88      0.90      0.86       973\n",
      "\n",
      "    accuracy                           0.86      1866\n",
      "   macro avg       0.87      0.85      0.86      1866\n",
      "weighted avg       0.86      0.87      0.86      1866\n",
      "\n"
     ]
    }
   ],
   "source": [
    "print(cls_obj.gen_report(y_test, y_pred)[1])"
   ]
  },
  {
   "cell_type": "code",
   "execution_count": 17,
   "metadata": {},
   "outputs": [],
   "source": [
    "parameters['epochs']=len(hist.history['acc'])\n",
    "parameters['test_acc']=test_acc\n",
    "parameters['test_loss']=test_loss\n",
    "parameters['timestamp']=tmp\n",
    "df = pd.DataFrame([parameters])\n",
    "df.to_csv('result.csv', mode='a', index=False, header=False)"
   ]
  },
  {
   "cell_type": "markdown",
   "metadata": {},
   "source": [
    "### Load Hi-Code Mix dataset"
   ]
  },
  {
   "cell_type": "code",
   "execution_count": 14,
   "metadata": {},
   "outputs": [
    {
     "name": "stdout",
     "output_type": "stream",
     "text": [
      "Index(['class', 'text_id', 'ekphrasis_clean_text', 'text'], dtype='object')\n"
     ]
    }
   ],
   "source": [
    "df_hi_cdmx = pd.read_csv('../data/dataset_hi_cdmx.csv')\n",
    "df_hi_cdmx[\"class\"] = df_hi_cdmx[\"class\"].astype(int)\n",
    "df_hi_cdmx = df_hi_cdmx.dropna() # drop any rotokenizer_testws with nans\n",
    "df_hi_cdmx = df_hi_cdmx.drop(['text'],axis=1)\n",
    "df_hi_cdmx = df_hi_cdmx.rename(columns={'basic_clean_text':'text'})\n",
    "print(df_hi_cdmx.columns)\n",
    "df_hi_cdmx.drop(df_hi_cdmx.loc[df_hi_cdmx['text_id'] == 'text_id'].index,inplace=True)\n",
    "df_hi_cdmx.drop(df_hi_cdmx.loc[df_hi_cdmx['class'] == 'HS'].index,inplace=True)\n",
    "df_hi_cdmx['text_len'] = df_hi_cdmx.apply(lambda x: len(x.text.split()), axis=1)\n",
    "df_hi_cdmx = df_hi_cdmx[df_hi_cdmx['text_len']<200]"
   ]
  },
  {
   "cell_type": "markdown",
   "metadata": {},
   "source": [
    "### Convert Text into Sequences"
   ]
  },
  {
   "cell_type": "code",
   "execution_count": 15,
   "metadata": {},
   "outputs": [
    {
     "name": "stdout",
     "output_type": "stream",
     "text": [
      "Reading twitter - 1grams ...\n",
      "Reading twitter - 2grams ...\n"
     ]
    },
    {
     "name": "stderr",
     "output_type": "stream",
     "text": [
      "  6%|▌         | 197/3161 [00:00<00:01, 1967.05it/s]"
     ]
    },
    {
     "name": "stdout",
     "output_type": "stream",
     "text": [
      "Reading twitter - 1grams ...\n"
     ]
    },
    {
     "name": "stderr",
     "output_type": "stream",
     "text": [
      "100%|██████████| 3161/3161 [00:01<00:00, 1960.58it/s]\n"
     ]
    },
    {
     "name": "stdout",
     "output_type": "stream",
     "text": [
      "Time Taken: 00:00:06\n"
     ]
    }
   ],
   "source": [
    "start_time = time.time()\n",
    "data = ProcessData(df_hi_cdmx, lang='en')\n",
    "seconds = time.time() - start_time\n",
    "print('Time Taken:', time.strftime(\"%H:%M:%S\",time.gmtime(seconds)))"
   ]
  },
  {
   "cell_type": "code",
   "execution_count": 16,
   "metadata": {},
   "outputs": [
    {
     "data": {
      "text/plain": [
       "(105, 6018, array([2, 0, 1]))"
      ]
     },
     "execution_count": 16,
     "metadata": {},
     "output_type": "execute_result"
    }
   ],
   "source": [
    "data.max_seq_len, data.vocab_size, data.classes"
   ]
  },
  {
   "cell_type": "code",
   "execution_count": 17,
   "metadata": {},
   "outputs": [],
   "source": [
    "# set model Parameters\n",
    "parameters={'lang':'en',\n",
    "       'seed':30,\n",
    "       'epochs':50, \n",
    "       'batch_size':30, \n",
    "       'optimiser':'adam', \n",
    "       'lr_rate':0.01, \n",
    "       'drop_out':0.2, \n",
    "       'hidden_size':64,\n",
    "            'val_split':0.2\n",
    "      }"
   ]
  },
  {
   "cell_type": "markdown",
   "metadata": {},
   "source": [
    "### Build Model for code-mix Hindi"
   ]
  },
  {
   "cell_type": "code",
   "execution_count": 18,
   "metadata": {},
   "outputs": [
    {
     "name": "stdout",
     "output_type": "stream",
     "text": [
      "__________________________________________________________________________________________________\n",
      "Layer (type)                    Output Shape         Param #     Connected to                     \n",
      "==================================================================================================\n",
      "input_3 (InputLayer)            (None, 105)          0                                            \n",
      "__________________________________________________________________________________________________\n",
      "embedding_2 (Embedding)         (None, 105, 100)     601800      input_3[0][0]                    \n",
      "__________________________________________________________________________________________________\n",
      "reshape_4 (Reshape)             (None, 105, 100, 1)  0           embedding_2[0][0]                \n",
      "__________________________________________________________________________________________________\n",
      "conv2d_6 (Conv2D)               (None, 103, 1, 64)   19264       reshape_4[0][0]                  \n",
      "__________________________________________________________________________________________________\n",
      "conv2d_7 (Conv2D)               (None, 102, 1, 64)   25664       reshape_4[0][0]                  \n",
      "__________________________________________________________________________________________________\n",
      "conv2d_8 (Conv2D)               (None, 101, 1, 64)   32064       reshape_4[0][0]                  \n",
      "__________________________________________________________________________________________________\n",
      "batch_normalization_v1_6 (Batch (None, 103, 1, 64)   256         conv2d_6[0][0]                   \n",
      "__________________________________________________________________________________________________\n",
      "batch_normalization_v1_7 (Batch (None, 102, 1, 64)   256         conv2d_7[0][0]                   \n",
      "__________________________________________________________________________________________________\n",
      "batch_normalization_v1_8 (Batch (None, 101, 1, 64)   256         conv2d_8[0][0]                   \n",
      "__________________________________________________________________________________________________\n",
      "max_pooling2d_6 (MaxPooling2D)  (None, 1, 1, 64)     0           batch_normalization_v1_6[0][0]   \n",
      "__________________________________________________________________________________________________\n",
      "max_pooling2d_7 (MaxPooling2D)  (None, 1, 1, 64)     0           batch_normalization_v1_7[0][0]   \n",
      "__________________________________________________________________________________________________\n",
      "max_pooling2d_8 (MaxPooling2D)  (None, 1, 1, 64)     0           batch_normalization_v1_8[0][0]   \n",
      "__________________________________________________________________________________________________\n",
      "concatenate_4 (Concatenate)     (None, 1, 1, 192)    0           max_pooling2d_6[0][0]            \n",
      "                                                                 max_pooling2d_7[0][0]            \n",
      "                                                                 max_pooling2d_8[0][0]            \n",
      "__________________________________________________________________________________________________\n",
      "time_distributed_2 (TimeDistrib (None, 1, 1, 64)     12352       concatenate_4[0][0]              \n",
      "__________________________________________________________________________________________________\n",
      "reshape_5 (Reshape)             (None, 1, 64)        0           time_distributed_2[0][0]         \n",
      "__________________________________________________________________________________________________\n",
      "bidirectional_4 (Bidirectional) (None, 1, 128)       66048       reshape_5[0][0]                  \n",
      "__________________________________________________________________________________________________\n",
      "flatten_2 (Flatten)             (None, 192)          0           concatenate_4[0][0]              \n",
      "__________________________________________________________________________________________________\n",
      "bidirectional_5 (Bidirectional) (None, 128)          98816       bidirectional_4[0][0]            \n",
      "__________________________________________________________________________________________________\n",
      "dense_8 (Dense)                 (None, 64)           12352       flatten_2[0][0]                  \n",
      "__________________________________________________________________________________________________\n",
      "dense_10 (Dense)                (None, 64)           8256        bidirectional_5[0][0]            \n",
      "__________________________________________________________________________________________________\n",
      "dropout_4 (Dropout)             (None, 64)           0           dense_8[0][0]                    \n",
      "__________________________________________________________________________________________________\n",
      "dropout_5 (Dropout)             (None, 64)           0           dense_10[0][0]                   \n",
      "__________________________________________________________________________________________________\n",
      "concatenate_5 (Concatenate)     (None, 128)          0           dropout_4[0][0]                  \n",
      "                                                                 dropout_5[0][0]                  \n",
      "__________________________________________________________________________________________________\n",
      "dense_11 (Dense)                (None, 3)            387         concatenate_5[0][0]              \n",
      "__________________________________________________________________________________________________\n",
      "activation_2 (Activation)       (None, 3)            0           dense_11[0][0]                   \n",
      "==================================================================================================\n",
      "Total params: 877,771\n",
      "Trainable params: 877,387\n",
      "Non-trainable params: 384\n",
      "__________________________________________________________________________________________________\n",
      "None\n"
     ]
    }
   ],
   "source": [
    "net = network(param=parameters)\n",
    "model = net.get_model_2(classes=len(data.classes),\n",
    "                        vocabulary_size=data.vocab_size,\n",
    "                        input_length=data.max_seq_len,\n",
    "                        param=parameters)"
   ]
  },
  {
   "cell_type": "code",
   "execution_count": 19,
   "metadata": {
    "scrolled": true
   },
   "outputs": [
    {
     "name": "stdout",
     "output_type": "stream",
     "text": [
      "Train on 2022 samples, validate on 506 samples\n",
      "Epoch 1/50\n",
      "1920/2022 [===========================>..] - ETA: 0s - loss: 1.0872 - acc: 0.3943\n",
      "Epoch 00001: val_acc improved from -inf to 0.47233, saving model to ../model/28-Aug-2020_20_04_38hi_cdmx_weights.best.hdf5\n",
      "2022/2022 [==============================] - 8s 4ms/sample - loss: 1.0841 - acc: 0.3961 - val_loss: 1.0935 - val_acc: 0.4723\n",
      "Epoch 2/50\n",
      "2010/2022 [============================>.] - ETA: 0s - loss: 0.9829 - acc: 0.5557\n",
      "Epoch 00002: val_acc improved from 0.47233 to 0.65415, saving model to ../model/28-Aug-2020_20_04_38hi_cdmx_weights.best.hdf5\n",
      "2022/2022 [==============================] - 1s 593us/sample - loss: 0.9825 - acc: 0.5569 - val_loss: 1.0840 - val_acc: 0.6542\n",
      "Epoch 3/50\n",
      "2010/2022 [============================>.] - ETA: 0s - loss: 0.8784 - acc: 0.6279\n",
      "Epoch 00003: val_acc improved from 0.65415 to 0.66008, saving model to ../model/28-Aug-2020_20_04_38hi_cdmx_weights.best.hdf5\n",
      "2022/2022 [==============================] - 1s 606us/sample - loss: 0.8776 - acc: 0.6281 - val_loss: 1.0696 - val_acc: 0.6601\n",
      "Epoch 4/50\n",
      "1920/2022 [===========================>..] - ETA: 0s - loss: 0.7626 - acc: 0.6792\n",
      "Epoch 00004: val_acc improved from 0.66008 to 0.69565, saving model to ../model/28-Aug-2020_20_04_38hi_cdmx_weights.best.hdf5\n",
      "2022/2022 [==============================] - 1s 581us/sample - loss: 0.7608 - acc: 0.6790 - val_loss: 1.0421 - val_acc: 0.6957\n",
      "Epoch 5/50\n",
      "2010/2022 [============================>.] - ETA: 0s - loss: 0.5982 - acc: 0.7677\n",
      "Epoch 00005: val_acc did not improve from 0.69565\n",
      "2022/2022 [==============================] - 1s 480us/sample - loss: 0.6012 - acc: 0.7671 - val_loss: 1.0199 - val_acc: 0.6087\n",
      "Epoch 6/50\n",
      "1920/2022 [===========================>..] - ETA: 0s - loss: 0.4734 - acc: 0.8203\n",
      "Epoch 00006: val_acc improved from 0.69565 to 0.75494, saving model to ../model/28-Aug-2020_20_04_38hi_cdmx_weights.best.hdf5\n",
      "2022/2022 [==============================] - 1s 528us/sample - loss: 0.4920 - acc: 0.8140 - val_loss: 0.9311 - val_acc: 0.7549\n",
      "Epoch 7/50\n",
      "1980/2022 [============================>.] - ETA: 0s - loss: 0.3678 - acc: 0.8545\n",
      "Epoch 00007: val_acc did not improve from 0.75494\n",
      "2022/2022 [==============================] - 1s 488us/sample - loss: 0.3695 - acc: 0.8536 - val_loss: 0.8337 - val_acc: 0.7312\n",
      "Epoch 8/50\n",
      "1950/2022 [===========================>..] - ETA: 0s - loss: 0.2922 - acc: 0.8810\n",
      "Epoch 00008: val_acc improved from 0.75494 to 0.79644, saving model to ../model/28-Aug-2020_20_04_38hi_cdmx_weights.best.hdf5\n",
      "2022/2022 [==============================] - 1s 499us/sample - loss: 0.2918 - acc: 0.8808 - val_loss: 0.7825 - val_acc: 0.7964\n",
      "Epoch 9/50\n",
      "1890/2022 [===========================>..] - ETA: 0s - loss: 0.2132 - acc: 0.9190\n",
      "Epoch 00009: val_acc did not improve from 0.79644\n",
      "2022/2022 [==============================] - 1s 468us/sample - loss: 0.2217 - acc: 0.9135 - val_loss: 0.8089 - val_acc: 0.7964\n",
      "Epoch 10/50\n",
      "1890/2022 [===========================>..] - ETA: 0s - loss: 0.1630 - acc: 0.9497\n",
      "Epoch 00010: val_acc improved from 0.79644 to 0.81621, saving model to ../model/28-Aug-2020_20_04_38hi_cdmx_weights.best.hdf5\n",
      "2022/2022 [==============================] - 1s 531us/sample - loss: 0.1630 - acc: 0.9486 - val_loss: 0.7067 - val_acc: 0.8162\n",
      "Epoch 11/50\n",
      "1890/2022 [===========================>..] - ETA: 0s - loss: 0.1229 - acc: 0.9614\n",
      "Epoch 00011: val_acc did not improve from 0.81621\n",
      "2022/2022 [==============================] - 1s 484us/sample - loss: 0.1250 - acc: 0.9609 - val_loss: 1.7109 - val_acc: 0.5731\n",
      "Epoch 12/50\n",
      "1980/2022 [============================>.] - ETA: 0s - loss: 0.1269 - acc: 0.9682\n",
      "Epoch 00012: val_acc did not improve from 0.81621\n",
      "2022/2022 [==============================] - 1s 469us/sample - loss: 0.1280 - acc: 0.9669 - val_loss: 0.9525 - val_acc: 0.7589\n",
      "Epoch 13/50\n",
      "1920/2022 [===========================>..] - ETA: 0s - loss: 0.0828 - acc: 0.9781\n",
      "Epoch 00013: val_acc did not improve from 0.81621\n",
      "2022/2022 [==============================] - 1s 471us/sample - loss: 0.0821 - acc: 0.9787 - val_loss: 0.8110 - val_acc: 0.8063\n",
      "Epoch 14/50\n",
      "2010/2022 [============================>.] - ETA: 0s - loss: 0.0575 - acc: 0.9881\n",
      "Epoch 00014: val_acc did not improve from 0.81621\n",
      "2022/2022 [==============================] - 1s 481us/sample - loss: 0.0575 - acc: 0.9881 - val_loss: 1.0345 - val_acc: 0.8103\n",
      "Epoch 15/50\n",
      "1950/2022 [===========================>..] - ETA: 0s - loss: 0.0569 - acc: 0.9856\n",
      "Epoch 00015: val_acc did not improve from 0.81621\n",
      "Restoring model weights from the end of the best epoch.\n",
      "2022/2022 [==============================] - 2s 821us/sample - loss: 0.0563 - acc: 0.9862 - val_loss: 0.9416 - val_acc: 0.8083\n",
      "Epoch 00015: early stopping\n",
      "Time Taken: 00:00:27\n"
     ]
    }
   ],
   "source": [
    "tmp=get_timestamp()\n",
    "start_time = time.time()\n",
    "model_path = '../model/'+tmp+'hi_cdmx_weights.best.hdf5'\n",
    "hist = net.train(data.X_train, data.y_train, model, model_path, data.class_weight)\n",
    "seconds = time.time() - start_time\n",
    "print('Time Taken:', time.strftime(\"%H:%M:%S\",time.gmtime(seconds)))"
   ]
  },
  {
   "cell_type": "code",
   "execution_count": 20,
   "metadata": {},
   "outputs": [
    {
     "data": {
      "image/png": "[encoded data removed]",
      "text/plain": [
       "<Figure size 432x288 with 1 Axes>"
      ]
     },
     "metadata": {
      "needs_background": "light"
     },
     "output_type": "display_data"
    },
    {
     "data": {
      "image/png": "[encoded data removed]",
      "text/plain": [
       "<Figure size 432x288 with 1 Axes>"
      ]
     },
     "metadata": {
      "needs_background": "light"
     },
     "output_type": "display_data"
    }
   ],
   "source": [
    "net.plot_taining_graphs(hist)"
   ]
  },
  {
   "cell_type": "code",
   "execution_count": 22,
   "metadata": {},
   "outputs": [
    {
     "name": "stdout",
     "output_type": "stream",
     "text": [
      "633/633 [==============================] - 0s 220us/sample - loss: 1.0032 - acc: 0.5624\n",
      "Overall Accuracy: 0.86240124\n",
      "Overall Loss: 0.3031736399890123\n"
     ]
    }
   ],
   "source": [
    "test_loss, test_acc = net.test(model,data.X_test, data.y_test)\n",
    "\n",
    "print(\"Overall Accuracy:\", test_acc)\n",
    "print(\"Overall Loss:\", test_loss)"
   ]
  },
  {
   "cell_type": "code",
   "execution_count": 30,
   "metadata": {},
   "outputs": [],
   "source": [
    "y_pred = model.predict(data.X_test)"
   ]
  },
  {
   "cell_type": "code",
   "execution_count": 18,
   "metadata": {},
   "outputs": [
    {
     "data": {
      "image/png": "[encoded data removed]",
      "text/plain": [
       "<Figure size 360x360 with 1 Axes>"
      ]
     },
     "metadata": {
      "needs_background": "light"
     },
     "output_type": "display_data"
    }
   ],
   "source": [
    "y_pred = np.argmax(y_pred, axis=1)\n",
    "y_test = np.argmax(data.y_test, axis=1)\n",
    "cls_obj = LR()\n",
    "cls_obj.gen_confusion_matrix(y_test = y_test, y_pred = y_pred, classes = 3)"
   ]
  },
  {
   "cell_type": "code",
   "execution_count": 31,
   "metadata": {},
   "outputs": [
    {
     "name": "stdout",
     "output_type": "stream",
     "text": [
      "              precision    recall  f1-score   support\n",
      "\n",
      "           0       0.85      0.82      0.83       231\n",
      "           1       0.62      0.69      0.62        60\n",
      "           2       0.73      0.71      0.70       342\n",
      "\n",
      "    accuracy                           0.79       633\n",
      "   macro avg       0.83      0.85      0.83       633\n",
      "weighted avg       0.85      0.82      0.85       633\n",
      "\n"
     ]
    }
   ],
   "source": [
    "y_pred = np.argmax(y_pred, axis=1)\n",
    "y_test = np.argmax(data.y_test, axis=1)\n",
    "cls_obj = LR()\n",
    "print(cls_obj.gen_report(y_test, y_pred)[1])"
   ]
  },
  {
   "cell_type": "code",
   "execution_count": 19,
   "metadata": {},
   "outputs": [],
   "source": [
    "parameters['epochs']=len(hist.history['acc'])\n",
    "parameters['test_acc']=test_acc\n",
    "parameters['test_loss']=test_loss\n",
    "parameters['timestamp']=tmp\n",
    "df = pd.DataFrame([parameters])\n",
    "df.to_csv('result.csv', mode='a', index=False)"
   ]
  },
  {
   "cell_type": "markdown",
   "metadata": {},
   "source": [
    "## Test Case\n",
    "\n",
    "Testing model for single instance sample"
   ]
  },
  {
   "cell_type": "code",
   "execution_count": 4,
   "metadata": {},
   "outputs": [
    {
     "name": "stdout",
     "output_type": "stream",
     "text": [
      "Reading twitter - 1grams ...\n",
      "Reading twitter - 2grams ...\n"
     ]
    },
    {
     "name": "stderr",
     "output_type": "stream",
     "text": [
      "100%|██████████| 1/1 [00:00<00:00, 1277.97it/s]"
     ]
    },
    {
     "name": "stdout",
     "output_type": "stream",
     "text": [
      "Reading twitter - 1grams ...\n",
      "WARNING:tensorflow:From /homes/nv304/virtpy3/lib/python3.6/site-packages/tensorflow/python/ops/resource_variable_ops.py:435: colocate_with (from tensorflow.python.framework.ops) is deprecated and will be removed in a future version.\n",
      "Instructions for updating:\n",
      "Colocations handled automatically by placer.\n"
     ]
    },
    {
     "name": "stderr",
     "output_type": "stream",
     "text": [
      "\n"
     ]
    },
    {
     "name": "stdout",
     "output_type": "stream",
     "text": [
      "WARNING:tensorflow:From /homes/nv304/virtpy3/lib/python3.6/site-packages/tensorflow/python/keras/layers/core.py:143: calling dropout (from tensorflow.python.ops.nn_ops) with keep_prob is deprecated and will be removed in a future version.\n",
      "Instructions for updating:\n",
      "Please use `rate` instead of `keep_prob`. Rate should be set to `rate = 1 - keep_prob`.\n",
      "WARNING:tensorflow:From /homes/nv304/virtpy3/lib/python3.6/site-packages/tensorflow/python/ops/math_ops.py:3066: to_int32 (from tensorflow.python.ops.math_ops) is deprecated and will be removed in a future version.\n",
      "Instructions for updating:\n",
      "Use tf.cast instead.\n",
      "[array([2]), array([[0.003038, 0.012554, 0.018429]], dtype=float32)]\n",
      "Time Taken: 00:00:13\n"
     ]
    }
   ],
   "source": [
    "start_time = time.time()\n",
    "text = ['@AvijitEmmi Bahenchod .... experienced lagte ho bhai bhot face with tears of joy']\n",
    "test_data = ProcessData(df=text, lang='en', max_seq_len=48)\n",
    "net = network(param=parameters)\n",
    "out = net.predict(model_path='../model/23-Aug-2020_18_08_51_hi_cdmx_weights.best.hdf5',x=test_data.X)\n",
    "seconds = time.time() - start_time\n",
    "print(out)\n",
    "print('Time Taken:', time.strftime(\"%H:%M:%S\",time.gmtime(seconds)))"
   ]
  },
  {
   "cell_type": "code",
   "execution_count": 6,
   "metadata": {},
   "outputs": [
    {
     "name": "stdout",
     "output_type": "stream",
     "text": [
      "Reading twitter - 1grams ...\n",
      "Reading twitter - 2grams ...\n"
     ]
    },
    {
     "name": "stderr",
     "output_type": "stream",
     "text": [
      "100%|██████████| 1/1 [00:00<00:00, 501.47it/s]"
     ]
    },
    {
     "name": "stdout",
     "output_type": "stream",
     "text": [
      "Reading twitter - 1grams ...\n"
     ]
    },
    {
     "name": "stderr",
     "output_type": "stream",
     "text": [
      "\n"
     ]
    },
    {
     "name": "stdout",
     "output_type": "stream",
     "text": [
      "[array([1]), array([[0.005687, 0.03995 , 0.015902]], dtype=float32)]\n",
      "Time Taken: 00:00:14\n"
     ]
    }
   ],
   "source": [
    "start_time = time.time()\n",
    "text = [\"A gangster sets out to fulfill his father’s dream of becoming a doctor.    Doctor's in #WestBengal be like #munna_bhai_MBBS    #DoctorsFightBack #DoctorsStrike #DoctorsUnderOppression   @MamataOfficial https://t.co/lZQcStQ2Md\"]\n",
    "test_data = ProcessData(df=text, lang='en', max_seq_len=89)\n",
    "net = network(param=parameters)\n",
    "out = net.predict(model_path='../model/28-Aug-2020_19_32_42_en_weights.best.hdf5',x=test_data.X)\n",
    "seconds = time.time() - start_time\n",
    "print(out)\n",
    "print('Time Taken:', time.strftime(\"%H:%M:%S\",time.gmtime(seconds)))"
   ]
  },
  {
   "cell_type": "code",
   "execution_count": 8,
   "metadata": {},
   "outputs": [
    {
     "data": {
      "text/html": [],
      "text/plain": [
       "<IPython.core.display.HTML object>"
      ]
     },
     "metadata": {},
     "output_type": "display_data"
    },
    {
     "data": {
      "text/html": [],
      "text/plain": [
       "<IPython.core.display.HTML object>"
      ]
     },
     "metadata": {},
     "output_type": "display_data"
    },
    {
     "name": "stdout",
     "output_type": "stream",
     "text": [
      "Reading english - 1grams ...\n"
     ]
    },
    {
     "name": "stderr",
     "output_type": "stream",
     "text": [
      "100%|██████████| 1/1 [00:00<00:00,  5.13it/s]\n"
     ]
    },
    {
     "name": "stdout",
     "output_type": "stream",
     "text": [
      "[array([0]), array([[0.096223, 0.024478]], dtype=float32)]\n",
      "Time Taken: 00:00:13\n"
     ]
    }
   ],
   "source": [
    "start_time = time.time()\n",
    "text = [\"ये लिटन की गाँड में लिप्टन की चाय डालता हूँ अभी विथ गर्म केतली\"]\n",
    "test_data = ProcessData(df=text, lang='hi', max_seq_len=104)\n",
    "net = network(param=parameters)\n",
    "out = net.predict(model_path='../model/28-Aug-2020_20_03_22_hi_weights.best.hdf5',x=test_data.X)\n",
    "seconds = time.time() - start_time\n",
    "print(out)\n",
    "print('Time Taken:', time.strftime(\"%H:%M:%S\",time.gmtime(seconds)))"
   ]
  },
  {
   "cell_type": "code",
   "execution_count": null,
   "metadata": {},
   "outputs": [],
   "source": []
  }
 ],
 "metadata": {
  "kernelspec": {
   "display_name": "Python 3",
   "language": "python",
   "name": "python3"
  },
  "language_info": {
   "codemirror_mode": {
    "name": "ipython",
    "version": 3
   },
   "file_extension": ".py",
   "mimetype": "text/x-python",
   "name": "python",
   "nbconvert_exporter": "python",
   "pygments_lexer": "ipython3",
   "version": "3.6.9"
  }
 },
 "nbformat": 4,
 "nbformat_minor": 4
}
